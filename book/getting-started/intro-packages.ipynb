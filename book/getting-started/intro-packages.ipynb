{
 "cells": [
  {
   "cell_type": "markdown",
   "metadata": {},
   "source": [
    "# Introduction to used libraries\n",
    "\n",
    "## CoolProp in 5 Minutes\n",
    "\n",
    "- Die wichtisten Funktionen, die wir hier brauchen sind: ...\n",
    "- Link zu [CoolProp Doku]()\n",
    "\n",
    "## TESPy in 5 Minutes\n",
    "\n",
    "- Die wichtisten Funktionen, die wir hier brauchen sind: ...\n",
    "- Link zu [TESPy Doku]()\n",
    "\n",
    "## Data handling and visualization\n",
    "\n",
    "- Links to Matplotlib/numpy/pandas/..."
   ]
  }
 ],
 "metadata": {
  "kernelspec": {
   "display_name": "Python 3 (ipykernel)",
   "language": "python",
   "name": "python3"
  },
  "language_info": {
   "codemirror_mode": {
    "name": "ipython",
    "version": 3
   },
   "file_extension": ".py",
   "mimetype": "text/x-python",
   "name": "python",
   "nbconvert_exporter": "python",
   "pygments_lexer": "ipython3",
   "version": "3.9.13"
  },
  "widgets": {
   "application/vnd.jupyter.widget-state+json": {
    "state": {},
    "version_major": 2,
    "version_minor": 0
   }
  }
 },
 "nbformat": 4,
 "nbformat_minor": 4
}
