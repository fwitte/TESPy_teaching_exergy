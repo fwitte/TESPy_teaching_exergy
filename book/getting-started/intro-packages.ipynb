{
 "cells": [
  {
   "cell_type": "markdown",
   "metadata": {},
   "source": [
    "# Introduction to used libraries\n",
    "\n",
    "This section will give a short introduction into the packages used for the course.\n",
    "\n",
    "## CoolProp in 5 Minutes\n",
    "\n",
    "CoolProp {cite}`Bell2014` is an open source package for the calculation of thermodynamic properties of many pure,\n",
    "pseudo-pure (e.g. air) and mixtures. The [online documentation](https://coolprop.org) contains all relevant information\n",
    "on the scope of the software and its usage for further read. In this course CoolProp is mainly accessed at the\n",
    "[High Level API](http://www.coolprop.org/coolprop/HighLevelAPI.html), specifically the `PropsSI` function.\n",
    "\n",
    "The `PropsSI` function can be imported as follows:"
   ]
  },
  {
   "cell_type": "code",
   "execution_count": null,
   "metadata": {},
   "outputs": [],
   "source": [
    "from CoolProp.CoolProp import PropsSI as PSI"
   ]
  },
  {
   "cell_type": "markdown",
   "metadata": {},
   "source": [
    "To access non-trivial[^trivials-coolprop] properties of a fluid at a defined state, we have to provide\n",
    "\n",
    "- the output property\n",
    "- the first input property,\n",
    "- the second input property and\n",
    "- the name of the fluid.\n",
    "\n",
    "```{note}\n",
    "All values returned by the function are given in SI unit systems.\n",
    "```\n",
    "\n",
    "For example, to get the **enthalpy** of **water** at a **pressure of 10 bar** and a **temperature of 250 °C**, `PropsSI`\n",
    "is called in the following way:"
   ]
  },
  {
   "cell_type": "code",
   "execution_count": null,
   "metadata": {},
   "outputs": [],
   "source": [
    "PSI(\"H\", \"P\", 10 * 1e5, \"T\", 250 + 273.15, \"water\")"
   ]
  },
  {
   "cell_type": "markdown",
   "metadata": {},
   "source": [
    "We will be working with entropy `S`, enthalpy `H`, temperature `T`, pressure `P` and vapor mass fraction `Q` in this\n",
    "course. All possible input variables are listed\n",
    "[here](http://www.coolprop.org/coolprop/HighLevelAPI.html#table-of-string-inputs-to-propssi-function)."
   ]
  },
  {
   "cell_type": "code",
   "execution_count": null,
   "metadata": {},
   "outputs": [],
   "source": [
    "PSI(\"S\", \"P\", 10 * 1e5, \"T\", 250 + 273.15, \"water\")  # entropy"
   ]
  },
  {
   "cell_type": "code",
   "execution_count": null,
   "metadata": {},
   "outputs": [],
   "source": [
    "PSI(\"T\", \"P\", 10 * 1e5, \"Q\", 0, \"water\")  # saturation temperature"
   ]
  },
  {
   "cell_type": "code",
   "execution_count": null,
   "metadata": {},
   "outputs": [],
   "source": [
    "PSI(\"P\", \"T\", 250 + 273.15, \"Q\", 0, \"water\")  # saturation pressure"
   ]
  },
  {
   "cell_type": "code",
   "execution_count": null,
   "metadata": {},
   "outputs": [],
   "source": [
    "PSI(\"H\", \"P\", 10 * 1e5, \"Q\", 0, \"water\")  # enthalpy of saturated liquid"
   ]
  },
  {
   "cell_type": "code",
   "execution_count": null,
   "metadata": {},
   "outputs": [],
   "source": [
    "PSI(\"H\", \"P\", 10 * 1e5, \"Q\", 1, \"water\")  # enthalpy of saturated gas"
   ]
  },
  {
   "cell_type": "markdown",
   "metadata": {},
   "source": [
    "It is also possible to call `PropsSI` on vectors calculating many states in a single function call. To do this, we need\n",
    "to pass a `numpy.array` to the function. For example calulate the enthalpy of water at a give pressure but variable\n",
    "temperature.\n",
    "\n",
    "```{tip}\n",
    "Find helpful links on the usage of `numpy` in the {ref}`last section <other-libraries-label>` of this chapter.\n",
    "```"
   ]
  },
  {
   "cell_type": "code",
   "execution_count": null,
   "metadata": {},
   "outputs": [],
   "source": [
    "import numpy as np\n",
    "\n",
    "\n",
    "temperature_range = np.arange(50, 251) + 273.15  # temperature range from 50 to 250 degrees\n",
    "\n",
    "enthalpy_range = PSI(\"H\", \"P\", 10 * 1e5, \"T\", temperature_range, \"water\")  # at 10 bar"
   ]
  },
  {
   "cell_type": "markdown",
   "metadata": {},
   "source": [
    "[^trivials-coolprop]: Trivial properties are those that do not depend on the state of the fluid, for example, critical\n",
    "point temperature or pressure and molar mass."
   ]
  },
  {
   "cell_type": "markdown",
   "metadata": {},
   "source": [
    "## TESPy in 5 Minutes\n",
    "\n",
    "[TESPy](https://tespy.readthedocs.io) is an open-source framework for the simulation of component based thermodynamic\n",
    "conversion processes. With the software you can used predefined components such as a pump, compressor, heat exhcanger,\n",
    "turbine or valve (and many more) to build thermodynamic systems. The system is set up by connecting the components in a\n",
    "generic way and then specifying respective process and component parameters.\n",
    "\n",
    "The software then performs a steady state simulation of your system by creating and solving a system of equations in the \n",
    "so called *equation oriented (EO)* approach (see {cite}`Witte2022` for more information). The system represents the\n",
    "individual topology and compoent and process specifications provided by you. TESPy accomplishes this by solving for\n",
    "\n",
    "- mass flow,\n",
    "- pressure and\n",
    "- enthalpy\n",
    "\n",
    "of every connections between two components[^fluid-variable]. After solving a model, missing component and process\n",
    "parameters - for example: efficiencies, temperatures, pressure losses - are determined based on these information. The\n",
    "EO approach lets the modeler choose, which parameters are inputs and which parameters are results: For instance, a\n",
    "compressor efficiency can be an input and the system variables are solved to meet that constraint, or it can be a result\n",
    "of other inputs.\n",
    "\n",
    "### Modeling a Compressor\n",
    "\n",
    "TESPy consists of three main building blocks:\n",
    "\n",
    "- class `Network` as container of the simulation\n",
    "- class `Component` (children of them: `Compressor`, `Valve`, ...), in which\n",
    "  thermodynamic conversion processes take place\n",
    "- class `Connection`, which define the topology of the `Network`\n",
    "  by connecting the individual components\n",
    "\n",
    "We are modeling a compressor, which compresses fully saturated steam to a higher pressure level. The\n",
    "{numref}`compressor-flowsheet` shows the abstract representation of the component. The table below summarizes the\n",
    "process parameters we are going to apply in our example.\n",
    "\n",
    "```{figure} /figures/Compressor.svg\n",
    "---\n",
    "name: compressor-flowsheet\n",
    "---\n",
    "Compressor model.\n",
    "```\n",
    "\n",
    "(table_mini_example_compressor)=\n",
    "\n",
    "| parameter description   | model location | model parameter | value | unit |\n",
    "|:----------------------- |:-------------- |:--------------- | -----:|:---- |\n",
    "| saturated gas state     | in             | `x`             |   100 | %    |\n",
    "| temperature             |                | `T`             |    10 | °C   |\n",
    "| mass flow               |                | `m`             |   0.1 | kg/s |\n",
    "| efficiency              | compressor     | `eta_s`         |    80 | %    |\n",
    "| pressure ratio          |                | `pr`            |     3 | -    |"
   ]
  },
  {
   "cell_type": "code",
   "execution_count": null,
   "metadata": {},
   "outputs": [],
   "source": [
    "from tespy.networks import Network\n",
    "from tespy.components import Source, Sink, Compressor\n",
    "from tespy.connections import Connection\n",
    "\n",
    "\n",
    "nwk = Network(fluids=[\"R290\"], p_unit=\"bar\", T_unit=\"C\")\n",
    "\n",
    "so = Source(\"source\")\n",
    "cp = Compressor(\"compressor\")\n",
    "si = Sink(\"sink\")\n",
    "\n",
    "c1 = Connection(so, \"out1\", cp, \"in1\", label=\"1\")\n",
    "c2 = Connection(cp, \"out1\", si, \"in1\", label=\"2\")\n",
    "\n",
    "nwk.add_conns(c1, c2)"
   ]
  },
  {
   "cell_type": "markdown",
   "metadata": {},
   "source": [
    "To make a simulation it is now necessary to specify relevant component and process parameters. We start with the values\n",
    "as provided in {ref}`Table 1 <table_mini_example_compressor>`."
   ]
  },
  {
   "cell_type": "code",
   "execution_count": null,
   "metadata": {},
   "outputs": [],
   "source": [
    "c1.set_attr(fluid={\"R290\": 1}, T=10, x=1, m=0.1)\n",
    "\n",
    "cp.set_attr(eta_s=0.8, pr=3)\n",
    "\n",
    "nwk.solve(\"design\")"
   ]
  },
  {
   "cell_type": "markdown",
   "metadata": {},
   "source": [
    "We can have a look at some of the results. An overview is provided by the `print_results` method of the\n",
    "`Network`."
   ]
  },
  {
   "cell_type": "code",
   "execution_count": null,
   "metadata": {},
   "outputs": [],
   "source": [
    "nwk.print_results()"
   ]
  },
  {
   "cell_type": "markdown",
   "metadata": {},
   "source": [
    "Since TESPy is working with an equation oriented solver, we can now change things up. For example, instead of providing\n",
    "the efficiency of the compressor, we could provide an outlet temperature. Given that temperature, the efficiency of the\n",
    "compressor will be a result of the calculation.\n",
    "\n",
    "```{note}\n",
    "With the equation oriented structure the user is not constraint in the inputs. As long as the network is well\n",
    "determined, the solver be able to find a result. One downside of the equation oriented approach is that the a initial\n",
    "guess for all variables is required. Bad starting values often lead to the solver being unable to find a solution. For\n",
    "more information please have a look at the TESPy documentation. Here in detail information and best practices are\n",
    "provided for this topic.\n",
    "```"
   ]
  },
  {
   "cell_type": "code",
   "execution_count": null,
   "metadata": {},
   "outputs": [],
   "source": [
    "cp.set_attr(eta_s=None)  # unset the isentropic efficiency\n",
    "c2.set_attr(T=70)\n",
    "nwk.set_attr(iterinfo=False)\n",
    "nwk.solve(\"design\")\n",
    "nwk.print_results()"
   ]
  },
  {
   "cell_type": "markdown",
   "metadata": {},
   "source": [
    "For example, we can make an invalid parameter specification by setting the mass flow at the inlet and at the outlet of\n",
    "the compressor. This overdetermines the system of equations and will result in an error when trying to solve."
   ]
  },
  {
   "cell_type": "code",
   "execution_count": null,
   "metadata": {},
   "outputs": [],
   "source": [
    "c2.set_attr(T=None, m=0.1)\n",
    "nwk.solve(\"design\")"
   ]
  },
  {
   "cell_type": "markdown",
   "metadata": {},
   "source": [
    "### Learn more\n",
    "\n",
    "TESPy relies on CoolProp to provide fluid property data for a large range of different fluids {cite}`Bell2014`. The\n",
    "online documentation of TESPy provides a large variety of examples and tutorials to learn using the software as well as\n",
    "extensive background information and code documentation:\n",
    "\n",
    "- online documentation [https://tespy.readthedocs.io](https://tespy.readthedocs.io)\n",
    "- github repository [https://github.com/oemof/tespy](https://github.com/oemof/tespy)\n",
    "- user forum [https://github.com/oemof/tespy/discussions](https://github.com/oemof/tespy/discussions)\n",
    "\n",
    "[^fluid-variable]: The fluid mass fractions of mixture components are system variables as well. They are relevant for\n",
    "e.g. combustion processes but not for pure-fluid processes.\n",
    "\n",
    "(other-libraries-label)=\n",
    "\n",
    "## Data handling and visualization\n",
    "\n",
    "The following Python packages are used within the course:\n",
    "\n",
    "- [NumPy](https://numpy.org/) is a mathematical comupation package, e.g. for vectorized function calls.\n",
    "- [pandas](https://pandas.pydata.org/) is a package building on NumPy with focus on data science.\n",
    "- [matplotlib](https://matplotlib.org/) is a library with a lot of methods for scientific data visualization.\n",
    "\n",
    "We do not provide a tutorial here, there are many examples and tutorials available through the respective online \n",
    "documentation as well as resources provided by the community, e.g.\n",
    "[Data Science for Energy System Modeling](https://fneum.github.io/data-science-for-esm/).\n"
   ]
  }
 ],
 "metadata": {
  "kernelspec": {
   "display_name": "Python 3 (ipykernel)",
   "language": "python",
   "name": "python3"
  },
  "language_info": {
   "codemirror_mode": {
    "name": "ipython",
    "version": 3
   },
   "file_extension": ".py",
   "mimetype": "text/x-python",
   "name": "python",
   "nbconvert_exporter": "python",
   "pygments_lexer": "ipython3",
   "version": "3.9.13"
  },
  "widgets": {
   "application/vnd.jupyter.widget-state+json": {
    "state": {},
    "version_major": 2,
    "version_minor": 0
   }
  }
 },
 "nbformat": 4,
 "nbformat_minor": 4
}
