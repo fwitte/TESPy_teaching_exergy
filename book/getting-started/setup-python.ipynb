{
 "cells": [
  {
   "cell_type": "markdown",
   "metadata": {},
   "source": [
    "# Introduction\n",
    "\n",
    "Ziel des Kapitels:\n",
    "- Welche Vorraussetzungen werden erwartet?\n",
    "- Verweise zu anderen Literaturstellen, die notwendige Grundlagen behandeln.\n",
    "- Was wird gelehrt?\n",
    "- Schaffung einer Basis, auf der der Kurs im Alleinstudium durchgezogen werden kann.\n",
    "\n",
    "In Kürze beschreiben:\n",
    "- Aufbau und Zielen des Kurses\n",
    "- Scope der genutzten Software (CoolProp, TESPy, ...)\n",
    "- Stoffwertedaten, Komponentenbasierte Simulation, Numerik\n",
    "- Kurzeinführung in Begriffe und grundlegende Gleichungen\n",
    "\n",
    "## Goals and Scope of the Course\n",
    "\n",
    "## Fluid Properties and Mathematical Description\n",
    "\n",
    "## Fundamentals of Exergy Analysis\n",
    "\n",
    "### Physical Exergy\n",
    "\n",
    "### Chemical Exergy"
   ]
  }
 ],
 "metadata": {
  "kernelspec": {
   "display_name": "Python 3 (ipykernel)",
   "language": "python",
   "name": "python3"
  },
  "language_info": {
   "codemirror_mode": {
    "name": "ipython",
    "version": 3
   },
   "file_extension": ".py",
   "mimetype": "text/x-python",
   "name": "python",
   "nbconvert_exporter": "python",
   "pygments_lexer": "ipython3",
   "version": "3.9.13"
  },
  "widgets": {
   "application/vnd.jupyter.widget-state+json": {
    "state": {},
    "version_major": 2,
    "version_minor": 0
   }
  }
 },
 "nbformat": 4,
 "nbformat_minor": 4
}
