{
 "cells": [
  {
   "cell_type": "markdown",
   "metadata": {},
   "source": [
    "# Setup your Python\n",
    "\n",
    "- Install Python\n",
    "- Create virtual environment\n",
    "- Activate + Install dependencies (-> requirements datei auf GH verlinken)\n",
    "\n",
    "- How can I run the scripts + create the exercises\n",
    "  - Variante a: Run notebooks (jupyter notebook, navigation in browser)\n",
    "  - Variante b: copy code to python scripts, run scripts\n"
   ]
  }
 ],
 "metadata": {
  "kernelspec": {
   "display_name": "Python 3 (ipykernel)",
   "language": "python",
   "name": "python3"
  },
  "language_info": {
   "codemirror_mode": {
    "name": "ipython",
    "version": 3
   },
   "file_extension": ".py",
   "mimetype": "text/x-python",
   "name": "python",
   "nbconvert_exporter": "python",
   "pygments_lexer": "ipython3",
   "version": "3.9.13"
  },
  "widgets": {
   "application/vnd.jupyter.widget-state+json": {
    "state": {},
    "version_major": 2,
    "version_minor": 0
   }
  }
 },
 "nbformat": 4,
 "nbformat_minor": 4
}
