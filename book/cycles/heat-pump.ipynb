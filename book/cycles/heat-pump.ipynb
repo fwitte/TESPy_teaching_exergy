{
 "cells": [
  {
   "attachments": {},
   "cell_type": "markdown",
   "metadata": {},
   "source": [
    "# Heat Pump\n",
    "\n",
    "- Theorie 2\n",
    "   - Verbesserung des COP -> Andere Topologie\n",
    "- Übung 2\n",
    "   - Bauen der WP\n",
    "   - Warum verbesser es den Wirkungsgrad?\n",
    "      - Verlgeich Aufwand und Nutzenströme bei gleichem Nennwärmestrom\n",
    "      - Vergleich der Komponentenverluste\n",
    "      - ..."
   ]
  },
  {
   "attachments": {},
   "cell_type": "markdown",
   "metadata": {},
   "source": [
    "## Introduction"
   ]
  },
  {
   "cell_type": "markdown",
   "metadata": {},
   "source": [
    "```{figure} /figures/heat_pump.svg\n",
    "---\n",
    "name: heat-pump-flowsheet\n",
    "---\n",
    "Flow sheet of the simplest implementation of a heat pump.\n",
    "```"
   ]
  },
  {
   "attachments": {},
   "cell_type": "markdown",
   "metadata": {},
   "source": [
    "As the final simple thermodynamic cycle, a heat pump will be subject of the exergy analysis. Heat pumps are a promising technology in the process of climate change mitigation, because they can replace conventional fossil fuel based heating plants. As heat pumps are scalable, they can be used in households and building, as well as whole neighbourhoods and in district heating systems. A heat pump employs the well known refrigeration cycle (see {numref}`heat-pump-flowsheet`), but instead uses the heat that is transfered out of the system. For the cycle to work, heat has to be transferred into the system at a lower temperature level and through the input of work can be transferred out on a higher temperature level. The resulting energy balance of a heat pump is displayed in Eq. {eq}`heat-pump-energy-balance`."
   ]
  },
  {
   "attachments": {},
   "cell_type": "markdown",
   "metadata": {},
   "source": [
    "```{math}\n",
    "    :label: heat-pump-energy-balance\n",
    "    0 = Q_{in} + Q_{out} + W_{in}\n",
    "```"
   ]
  },
  {
   "attachments": {},
   "cell_type": "markdown",
   "metadata": {},
   "source": [
    "As traditionally is done with heat engines, the benefit of a cycle can be put in to relation with the necessary input. Formalizing this expression yields the so called coefficient of performance of a heat pump, as is shown in Eq. {eq}`heat-pump-coefficient-of-performance`. From the energy balance {eq}`heat-pump-energy-balance` we can infer, that the outgoing heat is the sum of the work and heat put in. This means, that the $COP$ must be greater than {math}`1`, in contrast to the thermal efficiency of heat engines."
   ]
  },
  {
   "attachments": {},
   "cell_type": "markdown",
   "metadata": {},
   "source": [
    "```{math}\n",
    "    :label: heat-pump-coefficient-of-performance\n",
    "    COP = \\frac{Q_{out}}{W_{in}}\n",
    "```"
   ]
  },
  {
   "attachments": {},
   "cell_type": "markdown",
   "metadata": {},
   "source": [
    "Coming from thermal efficiencies of heat engines, this can seem to be in conflict the laws of thermodynamics. We get more heat from the cycle than work needs to be put in. There only has to be an ambient heat source supply heat at a lower temperature. To reveal the thermodynamic losses occuring in this process and to show that the cycle is no perpetuum mobile, we can analyze the exergy flows."
   ]
  },
  {
   "attachments": {},
   "cell_type": "markdown",
   "metadata": {},
   "source": [
    "At first, we have to define the fuel and the product of the heat pump cycle. As described above, the benefit of the cycle is the heat transfered out of the system, which makes it the product. The necessary fuels logically are the heat and work inputs. Added to the compressor work are necessary supplemental work inputs like recirculation pumps. With these defined, we can start to build the heat pump model."
   ]
  },
  {
   "attachments": {},
   "cell_type": "markdown",
   "metadata": {},
   "source": [
    "## Exercise 1\n",
    "\n",
    "1. Build a simple heat pump model using ammonia with TESPy according to the flowsheet in {numref}`heat-pump-flowsheet`, but add a water fed heat source (the hot side of the evaporator) and a consumer cycle as the heat sink (the cold side of the condenser). Parametrize the model according to the description as shown in {numref}`heat-pump-param`.\n",
    "2. Execute the exergy analysis for the heat pump model. Visualize how each component destroyes part of the fuel exergy through a waterfall diagram. Analyze the influence of the compressors isentropic efficiency, as well as that of the heat exchangers terminal temperature differences.\n",
    "3. Analyze the impact of the ambient temperature level on the components and total efficiency."
   ]
  },
  {
   "attachments": {},
   "cell_type": "markdown",
   "metadata": {},
   "source": [
    "```{list-table} Parametrization of the heat pump\n",
    ":header-rows: 1\n",
    ":name: heat-pump-param\n",
    "\n",
    "* - Description\n",
    "  - Parameter\n",
    "  - Value\n",
    "  - Unit\n",
    "* - Compressor\n",
    "  - Isentropic efficiency\n",
    "  - 75\n",
    "  - \\%\n",
    "* - \n",
    "  - Motor efficiency\n",
    "  - 96\n",
    "  - \\%\n",
    "* - Pumps\n",
    "  - Isentropic efficiency\n",
    "  - 80\n",
    "  - \\%\n",
    "* - \n",
    "  - Motor efficiency\n",
    "  - 96\n",
    "  - \\%\n",
    "* - All Heat Exchangers\n",
    "  - Pressure losses\n",
    "  - 2\n",
    "  - \\%\n",
    "* - \n",
    "  - Terminal temperature difference\n",
    "  - 2\n",
    "  - K\n",
    "* - Heat Sink\n",
    "  - Nominal heat demand\n",
    "  - -500\n",
    "  - kW\n",
    "* - \n",
    "  - Feed flow temperature\n",
    "  - 70\n",
    "  - °C\n",
    "* - \n",
    "  - Back flow temperature\n",
    "  - 50\n",
    "  - °C\n",
    "* - \n",
    "  - System pressure\n",
    "  - 10\n",
    "  - bar\n",
    "* - Heat Source\n",
    "  - Incoming temperature\n",
    "  - 10\n",
    "  - °C\n",
    "* - \n",
    "  - Temperature reduction\n",
    "  - 5\n",
    "  - K\n",
    "* - \n",
    "  - System pressure\n",
    "  - 1.013\n",
    "  - bar\n",
    "```"
   ]
  },
  {
   "attachments": {},
   "cell_type": "markdown",
   "metadata": {},
   "source": [
    "```{note}\n",
    "\n",
    "If you are heaving trouble with the simulation not converging, try setting best guesses for pressures instead of terminal temperature differences and only after a succesful simulation reset the intended values (see also the TESPy tutorial on \n",
    "<a href=\"https://tespy.readthedocs.io/en/dev/tutorials/starting_values.html#tespy-tutorial-starting-values-label\">How to Generate Stable Starting Values</a>).\n",
    "```"
   ]
  },
  {
   "attachments": {},
   "cell_type": "markdown",
   "metadata": {},
   "source": [
    "```{note}\n",
    "\n",
    "If you are encountering problems with specific components during the exergy analysis, try having a look at the individual components <a href=\"https://tespy.readthedocs.io/en/latest/api.html\">API documentation</a> and their respective implementation of the `exergy_balance` method.\n",
    "```"
   ]
  },
  {
   "attachments": {},
   "cell_type": "markdown",
   "metadata": {},
   "source": [
    "### Proposed solution 1.1\n",
    "\n",
    "**First step:** Build the heat pump model topology"
   ]
  },
  {
   "cell_type": "code",
   "execution_count": 1,
   "metadata": {
    "tags": [
     "hide-cell"
    ]
   },
   "outputs": [],
   "source": [
    "from tespy.networks import Network\n",
    "from tespy.connections import Connection, Bus\n",
    "from tespy.components import (\n",
    "    CycleCloser, Source, Sink, Pump, HeatExchanger, Condenser,\n",
    "    HeatExchangerSimple, Compressor, Valve\n",
    "    )\n",
    "\n",
    "# Network\n",
    "refrigerant = 'Ammonia'\n",
    "nw = Network(\n",
    "    fluids=[refrigerant, 'water'],\n",
    "    T_unit='C', p_unit='bar', h_unit='kJ / kg', m_unit='kg / s'\n",
    ")\n",
    "\n",
    "# Components\n",
    "cycle_closer = CycleCloser('Refrigerant Cycle Closer')\n",
    "\n",
    "heatsource_ff = Source('Heat Source Feed Flow')\n",
    "evaporator = HeatExchanger('Evaporator')\n",
    "heatsource_pump = Pump('Heat Source Recirculation Pump')\n",
    "heatsource_bf = Sink('Heat Source Back Flow')\n",
    "\n",
    "compressor = Compressor('Compressor')\n",
    "\n",
    "cons_cc = CycleCloser('Consumer Cycle Closer')\n",
    "cons_pump = Pump('Heat Sink Recirculation Pump')\n",
    "condenser = Condenser('Condenser')\n",
    "cons_heatsink = HeatExchangerSimple('Heat Consumer')\n",
    "\n",
    "valve = Valve('Expansion Valve')\n",
    "\n",
    "# Connections\n",
    "cc2evap = Connection(cycle_closer, 'out1', evaporator, 'in2', label='00')\n",
    "hs_ff2evap = Connection(heatsource_ff, 'out1', evaporator, 'in1', label='10')\n",
    "evap2hs_pump = Connection(evaporator, 'out1', heatsource_pump, 'in1', label='11')\n",
    "hs_pump2hs_bf = Connection(heatsource_pump, 'out1', heatsource_bf, 'in1', label='12')\n",
    "\n",
    "nw.add_conns(cc2evap, hs_ff2evap, evap2hs_pump, hs_pump2hs_bf)\n",
    "\n",
    "evap2comp = Connection(evaporator, 'out2', compressor, 'in1', label='01')\n",
    "comp2cond = Connection(compressor, 'out1', condenser, 'in1', label='02')\n",
    "\n",
    "nw.add_conns(evap2comp, comp2cond)\n",
    "\n",
    "cons_cc2cons_pump = Connection(cons_cc, 'out1', cons_pump, 'in1', label='20')\n",
    "cons_pump2cond = Connection(cons_pump, 'out1', condenser, 'in2', label='21')\n",
    "cond2cons_hs = Connection(condenser, 'out2', cons_heatsink, 'in1', label='22')\n",
    "cons_hs2cons_cc = Connection(cons_heatsink, 'out1', cons_cc, 'in1', label='23')\n",
    "\n",
    "nw.add_conns(cons_cc2cons_pump, cons_pump2cond, cond2cons_hs, cons_hs2cons_cc)\n",
    "\n",
    "cond2valve = Connection(condenser, 'out1', valve, 'in1', label='03')\n",
    "valve2cc = Connection(valve, 'out1', cycle_closer, 'in1', label='04')\n",
    "\n",
    "nw.add_conns(cond2valve, valve2cc)\n",
    "\n"
   ]
  },
  {
   "attachments": {},
   "cell_type": "markdown",
   "metadata": {},
   "source": [
    "**Second step:** Set the heat pumps process parameters and starting values and define the energy busses"
   ]
  },
  {
   "cell_type": "code",
   "execution_count": 2,
   "metadata": {
    "tags": [
     "hide-cell"
    ]
   },
   "outputs": [],
   "source": [
    "from CoolProp.CoolProp import PropsSI as PSI\n",
    "\n",
    "# Component parameters\n",
    "compressor.set_attr(eta_s=0.75)\n",
    "cons_pump.set_attr(eta_s=0.8)\n",
    "heatsource_pump.set_attr(eta_s=0.8)\n",
    "\n",
    "evaporator.set_attr(pr1=0.98, pr2=0.98)\n",
    "condenser.set_attr(pr1=0.98, pr2=0.98)\n",
    "cons_heatsink.set_attr(pr=0.98, Q=-500e3, dissipative=False)\n",
    "\n",
    "# Connection parameters\n",
    "cond2cons_hs.set_attr(T=70, p=10, fluid={refrigerant: 0, 'water': 1})\n",
    "cons_hs2cons_cc.set_attr(T=50)\n",
    "\n",
    "hs_ff2evap.set_attr(T=10, p=1.013, fluid={refrigerant: 0, 'water': 1})\n",
    "evap2hs_pump.set_attr(T=5)\n",
    "hs_pump2hs_bf.set_attr(p=1.013)\n",
    "\n",
    "evap2comp.set_attr(x=1, fluid={refrigerant: 1, 'water': 0})\n",
    "\n",
    "# Starting values\n",
    "p_evap = PSI('P', 'Q', 1, 'T', 5 - 2 + 273.15, refrigerant)\n",
    "evap2comp.set_attr(p=p_evap*1e-5)\n",
    "p_cond = PSI('P', 'Q', 0, 'T', 70 + 2 + 273.15, refrigerant)\n",
    "cond2valve.set_attr(p=p_cond*1e-5)\n",
    "\n",
    "# Busses\n",
    "heat_in = Bus('Heat Input')\n",
    "heat_in.add_comps(\n",
    "    {'comp': heatsource_ff, 'base': 'bus'},\n",
    "    {'comp': heatsource_bf, 'base': 'component'}\n",
    "    )\n",
    "\n",
    "heat_out = Bus('Heat Output')\n",
    "heat_out.add_comps(\n",
    "    {'comp': cons_heatsink, 'base': 'component'})\n",
    "\n",
    "power_in = Bus('Power Input')\n",
    "power_in.add_comps(\n",
    "    {'comp': compressor, 'char': 0.96, 'base': 'bus'},\n",
    "    {'comp': heatsource_pump, 'char': 0.96, 'base': 'bus'},\n",
    "    {'comp': cons_pump, 'char': 0.96, 'base': 'bus'}\n",
    "    )\n",
    "\n",
    "nw.add_busses(heat_in, heat_out, power_in)\n"
   ]
  },
  {
   "attachments": {},
   "cell_type": "markdown",
   "metadata": {},
   "source": [
    "**Third step:** Solve model with starting and final values"
   ]
  },
  {
   "cell_type": "code",
   "execution_count": 3,
   "metadata": {
    "tags": [
     "hide-cell"
    ]
   },
   "outputs": [
    {
     "name": "stdout",
     "output_type": "stream",
     "text": [
      "iter\t| residual | massflow | pressure | enthalpy | fluid\n",
      "--------+----------+----------+----------+----------+---------\n",
      "1\t| 8.50e+06 | 2.68e+02 | 6.77e+06 | 1.95e+06 | 0.00e+00\n",
      "2\t| 8.58e+06 | 2.44e+02 | 2.50e+06 | 2.40e+04 | 0.00e+00\n",
      "3\t| 1.09e+06 | 2.50e+00 | 7.95e+05 | 2.70e-01 | 0.00e+00\n",
      "4\t| 1.90e+05 | 9.88e-06 | 1.36e+05 | 2.08e-02 | 0.00e+00\n",
      "5\t| 3.69e-08 | 2.24e-10 | 0.00e+00 | 2.62e-07 | 0.00e+00\n",
      "--------+----------+----------+----------+----------+---------\n",
      "Total iterations: 5, Calculation time: 0.1 s, Iterations per second: 35.74\n",
      "iter\t| residual | massflow | pressure | enthalpy | fluid\n",
      "--------+----------+----------+----------+----------+---------\n",
      "1\t| 1.05e+00 | 4.84e-02 | 1.01e+05 | 8.46e+03 | 0.00e+00\n",
      "2\t| 2.94e+01 | 1.72e-04 | 7.61e+02 | 1.70e+01 | 0.00e+00\n",
      "3\t| 1.69e-03 | 3.35e-09 | 4.41e-02 | 9.71e-04 | 0.00e+00\n",
      "4\t| 8.39e-07 | 9.47e-11 | 1.75e-09 | 9.82e-07 | 0.00e+00\n",
      "5\t| 9.99e-07 | 9.89e-11 | 1.75e-09 | 1.32e-06 | 0.00e+00\n",
      "--------+----------+----------+----------+----------+---------\n",
      "Total iterations: 5, Calculation time: 0.2 s, Iterations per second: 21.34\n",
      "COP = 3.060\n"
     ]
    }
   ],
   "source": [
    "from tespy.tools import ExergyAnalysis\n",
    "\n",
    "# Initial solve with starting values\n",
    "nw.set_attr(iterinfo=False)\n",
    "nw.solve('design')\n",
    "\n",
    "# Final solve \n",
    "evap2comp.set_attr(p=None)\n",
    "cond2valve.set_attr(p=None)\n",
    "evaporator.set_attr(ttd_l=2)\n",
    "condenser.set_attr(ttd_u=2)\n",
    "\n",
    "nw.solve('design')\n",
    "print(f'COP = {abs(heat_out.P.val)/power_in.P.val:.3f}')\n"
   ]
  },
  {
   "attachments": {},
   "cell_type": "markdown",
   "metadata": {},
   "source": [
    "### Proposed solution 1.2\n",
    "\n",
    "**First step:** Create and execute `ExergyAnalysis` instance and prepare result data"
   ]
  },
  {
   "cell_type": "code",
   "execution_count": null,
   "metadata": {
    "tags": [
     "hide-cell"
    ]
   },
   "outputs": [],
   "source": [
    "from tespy.tools import ExergyAnalysis\n",
    "\n",
    "ean = ExergyAnalysis(network=nw, E_F=[heat_in, power_in], E_P=[heat_out])\n",
    "ean.analyse(pamb=1.013, Tamb=10)\n",
    "ean.print_results(groups=False, connections=False, aggregation=False)\n",
    "\n",
    "comps = ['Fuel Exergy']\n",
    "E_F = ean.network_data.E_F\n",
    "E_D = [0]\n",
    "E_P = [E_F]\n",
    "for comp in ean.component_data.index:\n",
    "    # only plot components with exergy destruction > 1 W\n",
    "    if ean.component_data.E_D[comp] > 1 :\n",
    "        comps.append(comp)\n",
    "        E_D.append(ean.component_data.E_D[comp])\n",
    "        E_F = E_F - ean.component_data.E_D[comp]\n",
    "        E_P.append(E_F)\n",
    "comps.append('Product Exergy')\n",
    "E_D.append(0)\n",
    "E_P.append(E_F)\n",
    "\n",
    "E_D = [E * 1e-3 for E in E_D]\n",
    "E_P = [E * 1e-3 for E in E_P]\n"
   ]
  },
  {
   "attachments": {},
   "cell_type": "markdown",
   "metadata": {},
   "source": [
    "**Second step:** Plot the waterfall diagram of the heat pump process"
   ]
  },
  {
   "cell_type": "code",
   "execution_count": null,
   "metadata": {
    "tags": [
     "hide-cell"
    ]
   },
   "outputs": [],
   "source": [
    "import matplotlib.pyplot as plt\n",
    "import numpy as np\n",
    "\n",
    "colors_E_P = ['#74ADC0'] * len(comps)\n",
    "colors_E_P[0] = '#00395B'\n",
    "colors_E_P[-1] = '#B54036'\n",
    "\n",
    "fig, ax = plt.subplots(figsize=(8, 6))\n",
    "\n",
    "ax.barh(np.arange(len(comps)), E_P, align='center', color=colors_E_P)\n",
    "ax.barh(np.arange(len(comps)), E_D, align='center', left=E_P, label='E_D', color='#EC6707')\n",
    "\n",
    "ax.legend()\n",
    "ax.annotate(\n",
    "    f'$\\epsilon_{{tot}} = ${E_P[-1]/E_P[0]:.3f}', (0.65, 0.05),\n",
    "    xycoords='axes fraction',\n",
    "    ha='left', va='center', color='k',\n",
    "    bbox=dict(boxstyle='round,pad=0.3', fc='white')\n",
    "    )\n",
    "ax.set_xlabel('Exergy in kW')\n",
    "ax.set_yticks(np.arange(len(comps)))\n",
    "ax.set_yticklabels(comps)\n",
    "ax.invert_yaxis()\n",
    "ax.grid(axis='x')\n",
    "ax.set_axisbelow(True)"
   ]
  },
  {
   "attachments": {},
   "cell_type": "markdown",
   "metadata": {},
   "source": [
    "**Third step:** Variate compressor isentropic efficiency and terminal temperature differences of evaporator and condenser"
   ]
  },
  {
   "cell_type": "code",
   "execution_count": 14,
   "metadata": {
    "tags": [
     "hide-cell"
    ]
   },
   "outputs": [
    {
     "data": {
      "text/plain": [
       "array([2, 4, 6, 8])"
      ]
     },
     "execution_count": 14,
     "metadata": {},
     "output_type": "execute_result"
    }
   ],
   "source": [
    "def get_ean_results(ean):\n",
    "    comps = ['Fuel Exergy', 'Expansion Valve', 'Evaporator', 'Compressor', 'Condenser', 'Product Exergy']\n",
    "    E_F = ean.network_data.E_F * 1e-3\n",
    "    E_D = [0]\n",
    "    E_P = [E_F]\n",
    "\n",
    "    for comp in comps[1:-1]:\n",
    "        E_D += [ean.component_data.E_D[comp] * 1e-3]\n",
    "        E_F -= E_D[-1]\n",
    "        E_P += [E_F]\n",
    "\n",
    "    E_D += [0]\n",
    "    E_P += [E_F]\n",
    "\n",
    "    return E_P, E_D, comps\n",
    "\n",
    "eta_s_range = np.linspace(0.65, 0.8, 4)\n",
    "ttd_range = np.arange(2, 10, 2)\n",
    "\n",
    "fig, axs = plt.subplots(\n",
    "    len(ttd_range), len(eta_s_range),\n",
    "    sharex=True, sharey=True, figsize=(14, 14)\n",
    "    )\n",
    "axs[0, 0].invert_yaxis()\n",
    "\n",
    "for col, eta_s in enumerate(eta_s_range):\n",
    "    compressor.set_attr(eta_s=eta_s)\n",
    "    for row, ttd in enumerate(ttd_range):\n",
    "        evaporator.set_attr(ttd_l=ttd)\n",
    "        condenser.set_attr(ttd_u=ttd)\n",
    "\n",
    "        nw.solve('design')\n",
    "        ean = ExergyAnalysis(network=nw, E_F=[heat_in, power_in], E_P=[heat_out])\n",
    "        ean.analyse(pamb=1.013, Tamb=10)\n",
    "\n",
    "        E_P, E_D, comps = get_ean_results(ean)\n",
    "\n",
    "        colors_E_P = ['#74ADC0'] * len(comps)\n",
    "        colors_E_P[0] = '#00395B'\n",
    "        colors_E_P[-1] = '#B54036'\n",
    "\n",
    "        axs[row, col].barh(\n",
    "            np.arange(len(comps)), E_P, align='center', color=colors_E_P\n",
    "            )\n",
    "        axs[row, col].barh(\n",
    "            np.arange(len(comps)), E_D, align='center', left=E_P, label='E_D', color='#EC6707'\n",
    "            )\n",
    "\n",
    "        axs[row, col].set_yticks(np.arange(len(comps)))\n",
    "        axs[row, col].set_yticklabels(comps)\n",
    "        axs[row, col].grid(axis='x')\n",
    "        axs[row, col].set_axisbelow(True)\n",
    "\n",
    "        axs[row, col].annotate(\n",
    "                    f'$\\epsilon_{{tot}} = ${E_P[-1]/E_P[0]:.3f}', (0.65, 0.05),\n",
    "                    xycoords='axes fraction',\n",
    "                    ha='left', va='center', color='k',\n",
    "                    bbox=dict(boxstyle='round,pad=0.3', fc='white')\n",
    "                    )\n",
    "\n",
    "        if row == len(ttd_range)-1:\n",
    "            axs[row, col].set_xlabel(f'Isentropic Efficiency {eta_s:.2f}')\n",
    "        if col == 0:\n",
    "            axs[row, col].set_ylabel(f'Terminal temperature difference {ttd} K')"
   ]
  }
 ],
 "metadata": {
  "kernelspec": {
   "display_name": "tespy_opt",
   "language": "python",
   "name": "python3"
  },
  "language_info": {
   "codemirror_mode": {
    "name": "ipython",
    "version": 3
   },
   "file_extension": ".py",
   "mimetype": "text/x-python",
   "name": "python",
   "nbconvert_exporter": "python",
   "pygments_lexer": "ipython3",
   "version": "3.9.15"
  },
  "vscode": {
   "interpreter": {
    "hash": "0f281374b50e679d88fcb4ad29fb1a86aa2bf4771de933c7e1627fe937943f09"
   }
  },
  "widgets": {
   "application/vnd.jupyter.widget-state+json": {
    "state": {},
    "version_major": 2,
    "version_minor": 0
   }
  }
 },
 "nbformat": 4,
 "nbformat_minor": 4
}
