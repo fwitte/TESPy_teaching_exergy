{
 "cells": [
  {
   "cell_type": "markdown",
   "metadata": {},
   "source": [
    "# Heat Pump\n",
    "\n",
    "- Einleitung, Anwendungsfälle, Topologien, ...\n",
    "- Definition von Aufwänden und Nutzen\n",
    "\n",
    "## Exercise\n",
    "\n",
    "- Bauen lassen der WP in TESPy mit Exergieanalyse\n",
    "- Erstellen einer Exergetischen Auswertung im Diagramm (z. B. Wasserfall), ermitteln der großen Brocken\n",
    "   - Analyse von Isentropenwirkungsgrad\n",
    "   - Analyse von Temperaturdifferenzen\n",
    "- Anheben/Absenken der Umgebungstemperaturniveaus -> Auswirkung auf Komponentenwirkungsgrade und Gesamtwirkungsgrad\n",
    "\n",
    "## Theorie 2\n",
    "\n",
    "- Verbesserung des COP -> Andere Topologie\n",
    "\n",
    "## Übung 2\n",
    "\n",
    "- Bauen der WP\n",
    "- Warum verbesser es den Wirkungsgrad?\n",
    "    - Verlgeich Aufwand und Nutzenströme bei gleichem Nennwärmestrom\n",
    "    - Vergleich der Komponentenverluste\n",
    "    - ...\n"
   ]
  },
  {
   "cell_type": "code",
   "execution_count": null,
   "metadata": {},
   "outputs": [],
   "source": []
  }
 ],
 "metadata": {
  "kernelspec": {
   "display_name": "Python 3 (ipykernel)",
   "language": "python",
   "name": "python3"
  },
  "language_info": {
   "codemirror_mode": {
    "name": "ipython",
    "version": 3
   },
   "file_extension": ".py",
   "mimetype": "text/x-python",
   "name": "python",
   "nbconvert_exporter": "python",
   "pygments_lexer": "ipython3",
   "version": "3.9.13"
  },
  "widgets": {
   "application/vnd.jupyter.widget-state+json": {
    "state": {},
    "version_major": 2,
    "version_minor": 0
   }
  }
 },
 "nbformat": 4,
 "nbformat_minor": 4
}
