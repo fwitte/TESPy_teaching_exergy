{
 "cells": [
  {
   "attachments": {},
   "cell_type": "markdown",
   "metadata": {},
   "source": [
    "# Clausius Rankine Cycle\n"
   ]
  },
  {
   "attachments": {},
   "cell_type": "markdown",
   "metadata": {},
   "source": [
    "## Introduction"
   ]
  },
  {
   "attachments": {},
   "cell_type": "markdown",
   "metadata": {},
   "source": [
    "The clausius rankine cycle serves as a comparative process for the steam power plant in its simplest constellation with steam turbine, condenser, feed water pump and steam generator shown in figure {numref}`rankine-cycle-dissipative-flowsheet`. This is based on the heat-power process occurring in a steam engine and is thus a clockwise rotationg cycle."
   ]
  },
  {
   "attachments": {},
   "cell_type": "markdown",
   "metadata": {},
   "source": [
    "```{figure} /figures/rankine_cycle_dissipative.svg\n",
    "---\n",
    "name: rankine-cycle-dissipative-flowsheet\n",
    "---\n",
    "Topology of the clausius rankine cycle.\n",
    "```"
   ]
  },
  {
   "attachments": {},
   "cell_type": "markdown",
   "metadata": {},
   "source": [
    "The live steam provided in the steam generator enters the turbine at high pressure and temperature, where it is expanded to a lower pressure level. The turbine releases power that can be used to drive a generator. The exhaust steam leaving the turbine is completely condensed out and leaves the condenser as saturated water. After that the feed water pump has to bring this condensate to a pressure level so that the steam generator can be supplied with feed water and the cycle can start again.\n",
    "\n",
    "The heat supplied to the process comes from the steam generator. In contrast, the power output of the turbine differentiated by the power input of the feedwater pump, is to be defined as power output of the process. The condensation of the refrigerant is to be regarded as heat output. Consequently, the thermal efficiency is displayed in Eq. {eq}`thermal-efficiency`."
   ]
  },
  {
   "attachments": {},
   "cell_type": "markdown",
   "metadata": {},
   "source": [
    "```{math}\n",
    "    :label: thermal-efficiency\n",
    "    \\eta_{th} = \\frac{W_{out}}{Q_{in}}\n",
    "```"
   ]
  },
  {
   "attachments": {},
   "cell_type": "markdown",
   "metadata": {},
   "source": [
    "## Excercise 1 \n",
    "\n",
    "Build the clausius rankine cycle in two variants:\n",
    "\n",
    "1. A cycle with a dissipative condenser (system boundaries are around the hot side of the heat exchanger)\n",
    "2. A condenser with the cold side, e.g. a river water cooling cycle, modelled (system boundaries are in and out flowing water)\n",
    "\n",
    "Make sure the cycles are the same by checking their respective thermal efficiencies. Perform and compare the exergy analysis of the two variants. Interprete the results and the implication on the condensers efficiency.\n",
    "\n",
    "Parametrize the model according to the description as shown in Table {numref}`clausius-rankine-param`."
   ]
  },
  {
   "attachments": {},
   "cell_type": "markdown",
   "metadata": {},
   "source": [
    "```{list-table} Parametrization of clausius rankine clcye\n",
    ":header-rows: 1\n",
    ":name: clausius-rankine-param\n",
    "\n",
    "* - Description\n",
    "  - Parameter\n",
    "  - Value\n",
    "  - Unit\n",
    "* - Network parameter\n",
    "  - Massflow\n",
    "  - 10\n",
    "  - kg / s\n",
    "* - Turbine\n",
    "  - Isentropic efficiency\n",
    "  - 90\n",
    "  - \\%\n",
    "* - \n",
    "  - Live steam temperature\n",
    "  - 600\n",
    "  - °C\n",
    "* - \n",
    "  - Live steam pressure\n",
    "  - 150\n",
    "  - bar\n",
    "* - \n",
    "  - exhaust steam pressure\n",
    "  - 0.1\n",
    "  - bar\n",
    "* - Feed water pump\n",
    "  - Isentropic efficiency\n",
    "  - 75\n",
    "  - \\%\n",
    "* - Steam generator\n",
    "  - Pressure losses\n",
    "  - 10\n",
    "  - \\%\n",
    "* - Condenser\n",
    "  - Pressure losses\n",
    "  - 0\n",
    "  - \\%\n",
    "* - Cooling Water Source\n",
    "  - Incoming Temperature\n",
    "  - 20\n",
    "  - °C\n",
    "* - \n",
    "  - Temperature increase\n",
    "  - 10\n",
    "  - K\n",
    "* - \n",
    "  - System pressure\n",
    "  - 1.2\n",
    "  - bar\n",
    "```\n"
   ]
  },
  {
   "attachments": {},
   "cell_type": "markdown",
   "metadata": {},
   "source": [
    "### Proposed solution 1.1\n",
    "\n",
    "**First step:** Build clausius rankine cycle with condenser using `HeatExchangerSimple` component"
   ]
  },
  {
   "cell_type": "code",
   "execution_count": 1,
   "metadata": {
    "tags": [
     "hide-cell"
    ]
   },
   "outputs": [],
   "source": [
    "from tespy.networks import Network\n",
    "from tespy.connections import Connection, Bus\n",
    "from tespy.components import CycleCloser, Pump, HeatExchangerSimple, Turbine\n",
    "\n",
    "# Network\n",
    "nw = Network(fluids=['water'])\n",
    "nw.set_attr(T_unit='C', p_unit='bar', h_unit='kJ / kg')\n",
    "\n",
    "# Components\n",
    "cycle_closer = CycleCloser('Cycle Closer')\n",
    "turbine = Turbine('Steam Turbine')\n",
    "condenser = HeatExchangerSimple('Condenser')\n",
    "fw_pump = Pump('Feed Water Pump')\n",
    "steam_generator = HeatExchangerSimple('Steam Generator')\n",
    "\n",
    "# Connections\n",
    "steamgen2cc = Connection(steam_generator, 'out1', cycle_closer, 'in1', label='0')\n",
    "cc2turb = Connection(cycle_closer, 'out1', turbine, 'in1', label='1')\n",
    "turb2cond = Connection(turbine, 'out1', condenser, 'in1', label='2')\n",
    "cond2pump = Connection(condenser, 'out1', fw_pump, 'in1', label='3')\n",
    "pump2steamgen = Connection(fw_pump, 'out1', steam_generator, 'in1', label='4')\n",
    "\n",
    "nw.add_conns(steamgen2cc, cc2turb, turb2cond, cond2pump, pump2steamgen)\n",
    "\n",
    "# Component Parametrization\n",
    "turbine.set_attr(eta_s=0.9)\n",
    "condenser.set_attr(pr=1)\n",
    "fw_pump.set_attr(eta_s=0.75)\n",
    "steam_generator.set_attr(pr=0.9)\n",
    "\n",
    "# Connection Parametrization\n",
    "cc2turb.set_attr(T=600, p=150, m=10, fluid={'water': 1})\n",
    "turb2cond.set_attr(p=0.1)\n",
    "cond2pump.set_attr(x=0)\n",
    "\n",
    "# Busses\n",
    "heat_in = Bus('Heat Input')\n",
    "heat_in.add_comps({'comp': steam_generator, 'base': 'bus'})\n",
    "\n",
    "power_out = Bus('Power Output')\n",
    "power_out.add_comps(\n",
    "    {'comp': turbine, 'char': 0.96, 'base': 'component'},\n",
    "    {'comp': fw_pump, 'char': 0.96, 'base': 'bus'}\n",
    "    )\n",
    "\n",
    "heat_out = Bus('Heat Output')\n",
    "heat_out.add_comps({'comp': condenser, 'base': 'component'})\n",
    "\n",
    "nw.add_busses(heat_in, power_out, heat_out)"
   ]
  },
  {
   "attachments": {},
   "cell_type": "markdown",
   "metadata": {},
   "source": [
    "**Second step:** Solve model with variant 1 and perform exergy analysis"
   ]
  },
  {
   "cell_type": "code",
   "execution_count": 2,
   "metadata": {
    "tags": [
     "hide-cell"
    ]
   },
   "outputs": [
    {
     "name": "stdout",
     "output_type": "stream",
     "text": [
      "eta_th = 0.370\n",
      "##### RESULTS: Component exergy analysis #####\n",
      "+-----------------+-------------+-------------+-------------+-------------+-------------+-------------+\n",
      "|                 |         E_F |         E_P |         E_D |     epsilon |        y_Dk |       y*_Dk |\n",
      "|-----------------+-------------+-------------+-------------+-------------+-------------+-------------|\n",
      "| Condenser       |   1.675e+06 | nan         |   1.675e+06 | nan         |   1.042e-01 |   4.615e-01 |\n",
      "| Steam Turbine   |   1.456e+07 |   1.321e+07 |   1.349e+06 |   9.073e-01 |   8.390e-02 |   3.717e-01 |\n",
      "| Feed Water Pump |   2.236e+05 |   1.724e+05 |   5.118e+04 |   7.711e-01 |   3.183e-03 |   1.410e-02 |\n",
      "| Steam Generator |   1.608e+07 |   1.606e+07 |   1.658e+04 |   9.990e-01 |   1.031e-03 |   4.568e-03 |\n",
      "| Cycle Closer    | nan         | nan         | nan         | nan         | nan         | nan         |\n",
      "+-----------------+-------------+-------------+-------------+-------------+-------------+-------------+\n",
      "##### RESULTS: Bus exergy analysis #####\n",
      "+-----------------+-------------+-------------+-------------+-------------+-------------+-------------+\n",
      "|                 |         E_F |         E_P |         E_D |     epsilon |        y_Dk |       y*_Dk |\n",
      "|-----------------+-------------+-------------+-------------+-------------+-------------+-------------|\n",
      "| Steam Turbine   |   1.321e+07 |   1.268e+07 |   5.284e+05 |   9.600e-01 |   3.286e-02 |   1.456e-01 |\n",
      "| Feed Water Pump |   2.329e+05 |   2.236e+05 |   9.316e+03 |   9.600e-01 |   5.794e-04 |   2.567e-03 |\n",
      "| Steam Generator |   1.608e+07 |   1.608e+07 |   0.000e+00 |   1.000e+00 |   0.000e+00 |   0.000e+00 |\n",
      "| Condenser       | nan         | nan         | nan         | nan         | nan         | nan         |\n",
      "+-----------------+-------------+-------------+-------------+-------------+-------------+-------------+\n",
      "##### RESULTS: Network exergy analysis #####\n",
      "+-----------+-----------+-----------+-------+-----------+\n",
      "|       E_F |       E_P |       E_D |   E_L |   epsilon |\n",
      "|-----------+-----------+-----------+-------+-----------|\n",
      "| 1.608e+07 | 1.245e+07 | 3.630e+06 |   nan | 7.743e-01 |\n",
      "+-----------+-----------+-----------+-------+-----------+\n"
     ]
    }
   ],
   "source": [
    "from tespy.tools import ExergyAnalysis\n",
    "\n",
    "# Solve model\n",
    "nw.set_attr(iterinfo=False)\n",
    "nw.solve(mode='design')\n",
    "eta_th = abs(power_out.P.val)/heat_in.P.val\n",
    "print(f'eta_th = {eta_th:.3f}')\n",
    "\n",
    "ean_var1 = ExergyAnalysis(network=nw, E_F=[heat_in], E_P=[power_out], E_L=[heat_out])\n",
    "ean_var1.analyse(pamb=1.013, Tamb=20)\n",
    "ean_var1.print_results(connections=False)"
   ]
  },
  {
   "attachments": {},
   "cell_type": "markdown",
   "metadata": {},
   "source": [
    "**Third step:** Replace `HeatExchangerSimple` with `Condenser` component"
   ]
  },
  {
   "cell_type": "code",
   "execution_count": 3,
   "metadata": {
    "tags": [
     "hide-cell"
    ]
   },
   "outputs": [],
   "source": [
    "from tespy.components import Condenser, Source, Sink\n",
    "    \n",
    "# Remove old connections\n",
    "nw.del_conns(turb2cond, cond2pump)\n",
    "\n",
    "# Replace condenser\n",
    "condenser = Condenser('Condenser')\n",
    "cw_source = Source('Cooling Water Source')\n",
    "cw_sink = Sink('Cooling Water Sink')\n",
    "\n",
    "# Reconnect condenser\n",
    "turb2cond = Connection(turbine, 'out1', condenser, 'in1', label='2')\n",
    "cond2pump = Connection(condenser, 'out1', fw_pump, 'in1', label='3')\n",
    "cw_source2cond = Connection(cw_source, 'out1', condenser, 'in2', label='11')\n",
    "cond2cw_sink = Connection(condenser, 'out2', cw_sink, 'in1', label='12')\n",
    "\n",
    "nw.add_conns(turb2cond, cond2pump, cw_source2cond, cond2cw_sink)\n",
    "\n",
    "# Parametrize condenser and cooling cycle\n",
    "turb2cond.set_attr(p=0.1)\n",
    "condenser.set_attr(pr1=1, pr2=1)\n",
    "cw_source2cond.set_attr(T=20, p=1.2, fluid={'water': 1})\n",
    "cond2cw_sink.set_attr(T=30)\n",
    "\n",
    "# Reset heat output bus\n",
    "nw.del_busses(heat_out)\n",
    "\n",
    "heat_out = Bus('Heat Output')\n",
    "heat_out.add_comps(\n",
    "    {'comp': cw_source, 'base': 'bus'},\n",
    "    {'comp': cw_sink, 'base': 'component'}\n",
    "    )\n",
    "\n",
    "nw.add_busses(heat_out)"
   ]
  },
  {
   "attachments": {},
   "cell_type": "markdown",
   "metadata": {},
   "source": [
    "**Forth step:** Solve model with variant 2 and perform exergy analysis"
   ]
  },
  {
   "cell_type": "code",
   "execution_count": 4,
   "metadata": {
    "tags": [
     "hide-cell"
    ]
   },
   "outputs": [
    {
     "name": "stdout",
     "output_type": "stream",
     "text": [
      "eta_th = 0.370\n",
      "##### RESULTS: Component exergy analysis #####\n",
      "+----------------------+-------------+-------------+-------------+-------------+-------------+-------------+\n",
      "|                      |         E_F |         E_P |         E_D |     epsilon |        y_Dk |       y*_Dk |\n",
      "|----------------------+-------------+-------------+-------------+-------------+-------------+-------------|\n",
      "| Steam Turbine        |   1.456e+07 |   1.321e+07 |   1.349e+06 |   9.073e-01 |   8.390e-02 |   4.108e-01 |\n",
      "| Condenser            |   1.675e+06 |   3.452e+05 |   1.330e+06 |   2.061e-01 |   8.270e-02 |   4.049e-01 |\n",
      "| Feed Water Pump      |   2.236e+05 |   1.724e+05 |   5.118e+04 |   7.711e-01 |   3.183e-03 |   1.558e-02 |\n",
      "| Steam Generator      |   1.608e+07 |   1.606e+07 |   1.658e+04 |   9.990e-01 |   1.031e-03 |   5.048e-03 |\n",
      "| Cycle Closer         | nan         | nan         | nan         | nan         | nan         | nan         |\n",
      "| Cooling Water Sink   | nan         | nan         | nan         | nan         | nan         | nan         |\n",
      "| Cooling Water Source | nan         | nan         | nan         | nan         | nan         | nan         |\n",
      "+----------------------+-------------+-------------+-------------+-------------+-------------+-------------+\n",
      "##### RESULTS: Bus exergy analysis #####\n",
      "+----------------------+-----------+-----------+-----------+-----------+-----------+-----------+\n",
      "|                      |       E_F |       E_P |       E_D |   epsilon |      y_Dk |     y*_Dk |\n",
      "|----------------------+-----------+-----------+-----------+-----------+-----------+-----------|\n",
      "| Steam Turbine        | 1.321e+07 | 1.268e+07 | 5.284e+05 | 9.600e-01 | 3.286e-02 | 1.609e-01 |\n",
      "| Feed Water Pump      | 2.329e+05 | 2.236e+05 | 9.316e+03 | 9.600e-01 | 5.794e-04 | 2.836e-03 |\n",
      "| Steam Generator      | 1.608e+07 | 1.608e+07 | 0.000e+00 | 1.000e+00 | 0.000e+00 | 0.000e+00 |\n",
      "| Cooling Water Sink   | 3.545e+05 | 3.545e+05 | 0.000e+00 | 1.000e+00 | 0.000e+00 | 0.000e+00 |\n",
      "| Cooling Water Source | 9.275e+03 | 9.275e+03 | 0.000e+00 | 1.000e+00 | 0.000e+00 | 0.000e+00 |\n",
      "+----------------------+-----------+-----------+-----------+-----------+-----------+-----------+\n",
      "##### RESULTS: Network exergy analysis #####\n",
      "+-----------+-----------+-----------+-----------+-----------+\n",
      "|       E_F |       E_P |       E_D |       E_L |   epsilon |\n",
      "|-----------+-----------+-----------+-----------+-----------|\n",
      "| 1.608e+07 | 1.245e+07 | 3.284e+06 | 3.452e+05 | 7.743e-01 |\n",
      "+-----------+-----------+-----------+-----------+-----------+\n"
     ]
    }
   ],
   "source": [
    "# Solve model\n",
    "nw.solve(mode='design')\n",
    "eta_th = abs(power_out.P.val)/heat_in.P.val\n",
    "print(f'eta_th = {eta_th:.3f}')\n",
    "\n",
    "ean_var2 = ExergyAnalysis(network=nw, E_F=[heat_in], E_P=[power_out], E_L=[heat_out])\n",
    "ean_var2.analyse(pamb=1.013, Tamb=20)\n",
    "ean_var2.print_results(groups=False, connections=False, aggregation=False)"
   ]
  },
  {
   "attachments": {},
   "cell_type": "markdown",
   "metadata": {},
   "source": [
    "```{admonition} Explanation\n",
    ":class: dropdown\n",
    "\n",
    "First variation makes Condenser look very inefficient, because all exergy is destroyed. Second variation highlights real losses of the condenser and dissipates heat through cooling water.\n",
    "```"
   ]
  },
  {
   "attachments": {},
   "cell_type": "markdown",
   "metadata": {},
   "source": [
    "```{attention}\n",
    "\n",
    "From this point onwards the second variant of the clausius rankine cycle containg the implementation of the condensers cooling cycle is used. \n",
    "```"
   ]
  },
  {
   "attachments": {},
   "cell_type": "markdown",
   "metadata": {},
   "source": [
    "## Efficiency improvements and exergy influence"
   ]
  },
  {
   "attachments": {},
   "cell_type": "markdown",
   "metadata": {},
   "source": [
    "As you should already know, thermal efficiency depends on component parameters. Especially the variations of live steam parameters have a positive effect on thermal efficiency. Thus, both high temperatures and high pressures improve the thermal efficiency. However, if the live steam pressure is increased without simultaneously increasing the live steam temperature, the last stages of the turbine may be damaged by droplet impingement. But how do these key parameter affect exergetic efficiency? Are there other factors that influence it as well?"
   ]
  },
  {
   "attachments": {},
   "cell_type": "markdown",
   "metadata": {},
   "source": [
    "## Excercise 2"
   ]
  },
  {
   "attachments": {},
   "cell_type": "markdown",
   "metadata": {},
   "source": [
    "1. Analyze the influence of key parameters on the exergy analysis, such as live steam pressure and temperature.\n",
    "2. What impact does the ambient state have on the results of the exergy analysis."
   ]
  },
  {
   "attachments": {},
   "cell_type": "markdown",
   "metadata": {},
   "source": [
    "### Proposed solution 2.1"
   ]
  },
  {
   "cell_type": "code",
   "execution_count": null,
   "metadata": {
    "tags": [
     "hide-cell"
    ]
   },
   "outputs": [],
   "source": [
    "import matplotlib.pyplot as plt\n",
    "\n",
    "T_ls_range = [*range(500, 750, 50)]\n",
    "p_ls_range = [*range(100, 225, 25)]\n",
    "\n",
    "fig, ax = plt.subplots(figsize=(8, 6))\n",
    "\n",
    "for p_ls in p_ls_range:\n",
    "    epsilon_tot = list()\n",
    "    for T_ls in T_ls_range:\n",
    "        cc2turb.set_attr(T=T_ls, p=p_ls)\n",
    "\n",
    "        nw.solve('design')\n",
    "        ean = ExergyAnalysis(network=nw, E_F=[heat_in], E_P=[power_out], E_L=[heat_out])\n",
    "        ean.analyse(pamb=1.013, Tamb=20)\n",
    "        epsilon_tot.append(ean.network_data['epsilon'])\n",
    "    ax.plot(T_ls_range, epsilon_tot, label=f'{p_ls} bar')\n",
    "\n",
    "ax.set_xlabel('Live steam temperature in °C')\n",
    "ax.set_ylabel('Exergetic efficiency $\\\\epsilon$')\n",
    "ax.legend(title='$p_{livesteam}$:') #, alignment='left')\n",
    "ax.grid()\n",
    "ax.set_axisbelow(True)"
   ]
  },
  {
   "attachments": {},
   "cell_type": "markdown",
   "metadata": {},
   "source": [
    "### Proposed solution 2.2"
   ]
  },
  {
   "cell_type": "code",
   "execution_count": null,
   "metadata": {
    "tags": [
     "hide-cell"
    ]
   },
   "outputs": [],
   "source": [
    "# Reset live steam parameters\n",
    "cc2turb.set_attr(T=600, p=150)\n",
    "nw.solve('design')\n",
    "ean = ExergyAnalysis(network=nw, E_F=[heat_in], E_P=[power_out], E_L=[heat_out])\n",
    "\n",
    "T_amb_range = [*range(5, 40, 5)]\n",
    "\n",
    "E_Fs = list()\n",
    "E_Ps = list()\n",
    "epsilons = list()\n",
    "for T_amb in T_amb_range:\n",
    "    ean.analyse(pamb=1.013, Tamb=T_amb)\n",
    "    E_Fs.append(ean.network_data['E_F'] * 1e-6)\n",
    "    E_Ps.append(ean.network_data['E_P'] * 1e-6)\n",
    "    epsilons.append(ean.network_data['epsilon'])\n",
    "\n",
    "fig, ax1 = plt.subplots(figsize=(8, 6))\n",
    "\n",
    "ax1.plot(T_amb_range, E_Fs, color='#00395B',  label='$\\\\dot{E}_{F}$')\n",
    "ax1.plot(T_amb_range, E_Ps, color='#B54036', label='$\\\\dot{E}_{P}$')\n",
    "\n",
    "ax2 = ax1.twinx()\n",
    "\n",
    "ax2.plot(T_amb_range, epsilons, color='#EC6707', ls=':', label='$\\\\epsilon$')\n",
    "\n",
    "ax1.set_xlabel('Ambient temperature in °C')\n",
    "ax1.set_ylabel('Total Exergies in MW')\n",
    "ax1.legend()\n",
    "ax1.grid()\n",
    "ax1.set_axisbelow(True)\n",
    "\n",
    "ax2.set_ylabel('Exergetic efficiency')\n",
    "ax2.legend()"
   ]
  },
  {
   "attachments": {},
   "cell_type": "markdown",
   "metadata": {
    "tags": [
     "hide-cell"
    ]
   },
   "source": [
    "```{admonition} Explanation\n",
    ":class: dropdown\n",
    "\n",
    "Hier könnte ihre Erklärung stehen\n",
    "```"
   ]
  },
  {
   "attachments": {},
   "cell_type": "markdown",
   "metadata": {},
   "source": [
    "## Process optimization"
   ]
  },
  {
   "attachments": {},
   "cell_type": "markdown",
   "metadata": {},
   "source": [
    "In addition to the approach of increasing the efficiency via parameter variation, there is also the approach of structural optimization. This involves modifying the circuitry of the process with the aim of increasing efficiency, exergy efficiency or other improvement.\n",
    "\n",
    "The regenerative feed water preheating is an often used structural optimization. Figure {numref}`rankine-cycle-preheating-flowsheet` shows the structure of such a process. Most of the live steam entering the turbine is expanded to the condenser, and from there it reaches the feedwater pump. However, the cold feedwater is now preheated before it enters the boiler. This is done by condensing steam taken from the turbine at a suitable pressure level in a feed water preheater. In the present case, the resulting extraction steam condensate is returned to the condenser of the steam power process. This requires throttling to balance the pressures."
   ]
  },
  {
   "cell_type": "markdown",
   "metadata": {},
   "source": [
    "```{figure} /figures/rankine_cycle_preheating.svg\n",
    "---\n",
    "name: rankine-cycle-preheating-flowsheet\n",
    "---\n",
    "Topology of the clausius rankine cycle with regenerative feed water preheating.\n",
    "```"
   ]
  },
  {
   "attachments": {},
   "cell_type": "markdown",
   "metadata": {},
   "source": [
    "A second way of increasing the efficiency of a clausius rankine process is superheating. This additionally influences the operating range of the turbines used, which on the one hand means a technical advantage, but on the other hand can also open up the scope for further parameter optimization. Figure {numref}`rankine-cycle-superheating-flowsheet` shows the structure of a Rankine Cycle with superheating. The live steam, coming from the steam generator, enters the turbine, which now consists of a high-pressure and a low-pressure section. After initial expansion has taken place in the high-pressure section, all the steam is removed from the turbine and fed to an intermediate superheater. The steam then flows into the low-pressure section of the turbine, from where the process continues as known from the simple process."
   ]
  },
  {
   "cell_type": "markdown",
   "metadata": {},
   "source": [
    "```{figure} /figures/rankine_cycle_superheating.svg\n",
    "---\n",
    "name: rankine-cycle-superheating-flowsheet\n",
    "---\n",
    "Topology of the clausius rankine cycle with intermediate superheating of steam.\n",
    "```"
   ]
  },
  {
   "attachments": {},
   "cell_type": "markdown",
   "metadata": {},
   "source": [
    "## Excercise 3"
   ]
  },
  {
   "attachments": {},
   "cell_type": "markdown",
   "metadata": {},
   "source": [
    "1. Implement the two topological improvements:\n",
    "    - Regenerative feed water preheating (see {numref}`rankine-cycle-preheating-flowsheet`)\n",
    "    - Intermediate superheating (see {numref}`rankine-cycle-superheating-flowsheet`)\n",
    "2. Explain the improvement of the cycles efficiency with the exergy analysis by investigating the exergy destruction of each component"
   ]
  },
  {
   "attachments": {},
   "cell_type": "markdown",
   "metadata": {},
   "source": [
    "### Proposed solution 3.1\n",
    "\n",
    "**First step:** Build clausius rankine cycle with regenerative feed water preheating"
   ]
  },
  {
   "cell_type": "code",
   "execution_count": null,
   "metadata": {
    "tags": [
     "hide-cell"
    ]
   },
   "outputs": [],
   "source": [
    "from tespy.connections import Ref\n",
    "from tespy.components import Splitter, Merge, HeatExchanger, Valve\n",
    "import numpy as np\n",
    "\n",
    "# Network\n",
    "nw_pre = Network(fluids=['water'])\n",
    "nw_pre.set_attr(T_unit='C', p_unit='bar', h_unit='kJ / kg')\n",
    "\n",
    "# Components\n",
    "cycle_closer = CycleCloser('Cycle Closer')\n",
    "hp_turbine = Turbine('High Pressure Steam Turbine')\n",
    "splitter = Splitter('Splitter')\n",
    "lp_turbine = Turbine('Low Pressure Steam Turbine')\n",
    "merge = Merge('Merge')\n",
    "\n",
    "condenser = Condenser('Condenser')\n",
    "cw_source = Source('Cooling Water Source')\n",
    "cw_sink = Sink('Cooling Water Sink')\n",
    "fw_pump = Pump('Feed Water Pump')\n",
    "steam_generator = HeatExchangerSimple('Steam Generator')\n",
    "\n",
    "valve = Valve('Expansion Valve')\n",
    "preheater = HeatExchanger('Preheater')\n",
    "\n",
    "# Connections\n",
    "steamgen2cc = Connection(steam_generator, 'out1', cycle_closer, 'in1', label='0')\n",
    "cc2hp_turb = Connection(cycle_closer, 'out1', hp_turbine, 'in1', label='1')\n",
    "hp_turb2split = Connection(hp_turbine, 'out1', splitter, 'in1', label='2')\n",
    "split2lp_turb = Connection(splitter, 'out1', lp_turbine, 'in1', label='3')\n",
    "lp_turb2merge = Connection(lp_turbine, 'out1', merge, 'in1', label='4')\n",
    "\n",
    "nw_pre.add_conns(steamgen2cc, cc2hp_turb, hp_turb2split, split2lp_turb, lp_turb2merge)\n",
    "\n",
    "merg2cond = Connection(merge, 'out1', condenser, 'in1', label='5')\n",
    "cond2pump = Connection(condenser, 'out1', fw_pump, 'in1', label='6')\n",
    "pump2preheat = Connection(fw_pump, 'out1', preheater, 'in2', label='7')\n",
    "preheat2steamgen = Connection(preheater, 'out2', steam_generator, 'in1', label='8')\n",
    "cw_source2cond = Connection(cw_source, 'out1', condenser, 'in2', label='21')\n",
    "cond2cw_sink = Connection(condenser, 'out2', cw_sink, 'in1', label='22')\n",
    "\n",
    "nw_pre.add_conns(merg2cond, cond2pump, pump2preheat, preheat2steamgen, cw_source2cond, cond2cw_sink)\n",
    "\n",
    "split2preheat = Connection(splitter, 'out2', preheater, 'in1', label='11')\n",
    "preheat2valve = Connection(preheater, 'out1', valve, 'in1', label='12')\n",
    "valve2merge = Connection(valve, 'out1', merge, 'in2', label='13')\n",
    "\n",
    "nw_pre.add_conns(split2preheat, preheat2valve, valve2merge)\n",
    "\n",
    "# Component Parametrization\n",
    "hp_turbine.set_attr(eta_s=0.9)\n",
    "lp_turbine.set_attr(eta_s=0.9)\n",
    "condenser.set_attr(pr1=1, pr2=1)\n",
    "fw_pump.set_attr(eta_s=0.75)\n",
    "preheater.set_attr(pr1=1, pr2=1, ttd_l=5)\n",
    "steam_generator.set_attr(pr=0.9)\n",
    "\n",
    "# Connection Parametrization\n",
    "cc2hp_turb.set_attr(T=600, p=150, m=10, fluid={'water': 1})\n",
    "split2lp_turb.set_attr(p=np.sqrt(150*0.1), m=Ref(cc2hp_turb, 0.85, 0))\n",
    "lp_turb2merge.set_attr(p=0.1)\n",
    "\n",
    "cw_source2cond.set_attr(T=20, p=1.2, fluid={'water': 1})\n",
    "cond2cw_sink.set_attr(T=30)\n",
    "\n",
    "# Busses\n",
    "heat_in = Bus('Heat Input')\n",
    "heat_in.add_comps({'comp': steam_generator, 'base': 'bus'})\n",
    "\n",
    "power_out = Bus('Power Output')\n",
    "power_out.add_comps(\n",
    "    {'comp': hp_turbine, 'char': 0.96, 'base': 'component'},\n",
    "    {'comp': lp_turbine, 'char': 0.96, 'base': 'component'},\n",
    "    {'comp': fw_pump, 'char': 0.96, 'base': 'bus'}\n",
    "    )\n",
    "\n",
    "heat_out = Bus('Heat Output')\n",
    "heat_out.add_comps(\n",
    "    {'comp': cw_source, 'base': 'bus'},\n",
    "    {'comp': cw_sink, 'base': 'component'}\n",
    "    )\n",
    "\n",
    "nw_pre.add_busses(heat_in, power_out, heat_out)\n"
   ]
  },
  {
   "attachments": {},
   "cell_type": "markdown",
   "metadata": {},
   "source": [
    "**Second step:** Solve model with regenerative feed water preheating and perform exergy analysis"
   ]
  },
  {
   "cell_type": "code",
   "execution_count": null,
   "metadata": {
    "tags": [
     "hide-cell"
    ]
   },
   "outputs": [],
   "source": [
    "# Solve model\n",
    "nw_pre.set_attr(iterinfo=False)\n",
    "nw_pre.solve(mode='design')\n",
    "eta_th = abs(power_out.P.val)/heat_in.P.val\n",
    "print(f'eta_th = {eta_th:.3f}')\n",
    "\n",
    "ean_pre = ExergyAnalysis(network=nw_pre, E_F=[heat_in], E_P=[power_out], E_L=[heat_out])\n",
    "ean_pre.analyse(pamb=1.013, Tamb=20)\n",
    "ean_pre.print_results(groups=False, connections=False, aggregation=False)"
   ]
  },
  {
   "attachments": {},
   "cell_type": "markdown",
   "metadata": {},
   "source": [
    "**Third step:** Build clausius rankine cycle with intermediate superheating of steam"
   ]
  },
  {
   "cell_type": "code",
   "execution_count": null,
   "metadata": {
    "tags": [
     "hide-cell"
    ]
   },
   "outputs": [],
   "source": [
    "nw_super = Network(fluids=['water'])\n",
    "nw_super.set_attr(T_unit='C', p_unit='bar', h_unit='kJ / kg')\n",
    "\n",
    "# Components\n",
    "cycle_closer = CycleCloser('Cycle Closer')\n",
    "hp_turbine = Turbine('High Pressure Steam Turbine')\n",
    "steam_superheater = HeatExchangerSimple('Steam Superheater')\n",
    "lp_turbine = Turbine('Low Pressure Steam Turbine')\n",
    "condenser = Condenser('Condenser')\n",
    "fw_pump = Pump('Feed Water Pump')\n",
    "steam_generator = HeatExchangerSimple('Steam Generator')\n",
    "\n",
    "cw_source = Source('Cooling Water Source')\n",
    "cw_sink = Sink('Cooling Water Sink')\n",
    "\n",
    "\n",
    "# Connections\n",
    "steamgen2cc = Connection(steam_generator, 'out1', cycle_closer, 'in1', label='0')\n",
    "cc2hp_turb = Connection(cycle_closer, 'out1', hp_turbine, 'in1', label='1')\n",
    "hp_turb2super = Connection(hp_turbine, 'out1', steam_superheater, 'in1', label='2')\n",
    "super2lp_turb = Connection(steam_superheater, 'out1', lp_turbine, 'in1', label='3')\n",
    "lp_turb2cond = Connection(lp_turbine, 'out1', condenser, 'in1', label='4')\n",
    "cond2pump = Connection(condenser, 'out1', fw_pump, 'in1', label='5')\n",
    "pump2steamgen = Connection(fw_pump, 'out1', steam_generator, 'in1', label='6')\n",
    "\n",
    "cw_source2cond = Connection(cw_source, 'out1', condenser, 'in2', label='11')\n",
    "cond2cw_sink = Connection(condenser, 'out2', cw_sink, 'in1', label='12')\n",
    "\n",
    "nw_super.add_conns(\n",
    "    steamgen2cc, cc2hp_turb, hp_turb2super, super2lp_turb, lp_turb2cond,\n",
    "    cond2pump, pump2steamgen, cw_source2cond, cond2cw_sink\n",
    "    )\n",
    "\n",
    "# Component Parametrization\n",
    "hp_turbine.set_attr(eta_s=0.9)\n",
    "lp_turbine.set_attr(eta_s=0.9)\n",
    "condenser.set_attr(pr1=1, pr2=1)\n",
    "fw_pump.set_attr(eta_s=0.75)\n",
    "steam_generator.set_attr(pr=0.9)\n",
    "steam_superheater.set_attr(pr=0.9)\n",
    "\n",
    "# Connection Parametrization\n",
    "cc2hp_turb.set_attr(T=600, p=150, m=10, fluid={'water': 1})\n",
    "hp_turb2super.set_attr(p=np.sqrt(150*0.1))\n",
    "super2lp_turb.set_attr(T=600)\n",
    "lp_turb2cond.set_attr(p=0.1)\n",
    "\n",
    "cw_source2cond.set_attr(T=20, p=1.2, fluid={'water': 1})\n",
    "cond2cw_sink.set_attr(T=30)\n",
    "\n",
    "# Busses\n",
    "heat_in = Bus('Heat Input')\n",
    "heat_in.add_comps(\n",
    "    {'comp': steam_generator, 'base': 'bus'},\n",
    "    {'comp': steam_superheater, 'base': 'bus'}\n",
    "    )\n",
    "\n",
    "power_out = Bus('Power Output')\n",
    "power_out.add_comps(\n",
    "    {'comp': hp_turbine, 'char': 0.96, 'base': 'component'},\n",
    "    {'comp': lp_turbine, 'char': 0.96, 'base': 'component'},\n",
    "    {'comp': fw_pump, 'char': 0.96, 'base': 'bus'}\n",
    "    )\n",
    "\n",
    "heat_out = Bus('Heat Output')\n",
    "heat_out.add_comps(\n",
    "    {'comp': cw_source, 'base': 'bus'},\n",
    "    {'comp': cw_sink, 'base': 'component'}\n",
    "    )\n",
    "\n",
    "nw_super.add_busses(heat_in, power_out, heat_out)"
   ]
  },
  {
   "attachments": {},
   "cell_type": "markdown",
   "metadata": {},
   "source": [
    "**Forth step:** Solve model with intermediate superheater and perform exergy analysis"
   ]
  },
  {
   "cell_type": "code",
   "execution_count": null,
   "metadata": {
    "tags": [
     "hide-cell"
    ]
   },
   "outputs": [],
   "source": [
    "# Solve model\n",
    "nw_super.set_attr(iterinfo=False)\n",
    "nw_super.solve(mode='design')\n",
    "eta_th = abs(power_out.P.val)/heat_in.P.val\n",
    "print(f'eta_th = {eta_th:.3f}')\n",
    "\n",
    "ean_super = ExergyAnalysis(network=nw_super, E_F=[heat_in], E_P=[power_out], E_L=[heat_out])\n",
    "ean_super.analyse(pamb=1.013, Tamb=20)\n",
    "ean_super.print_results(groups=False, connections=False, aggregation=False)"
   ]
  },
  {
   "attachments": {},
   "cell_type": "markdown",
   "metadata": {},
   "source": [
    "**Fifth step:** Compare the two topological improvements"
   ]
  },
  {
   "cell_type": "code",
   "execution_count": null,
   "metadata": {
    "tags": [
     "hide-cell"
    ]
   },
   "outputs": [],
   "source": [
    "# Compare the two topological improvements"
   ]
  },
  {
   "attachments": {},
   "cell_type": "markdown",
   "metadata": {
    "tags": [
     "hide-cell"
    ]
   },
   "source": [
    "```{admonition} Explanation\n",
    ":class: dropdown\n",
    "\n",
    "Hier könnte ihre Erklärung stehen\n",
    "```"
   ]
  },
  {
   "attachments": {},
   "cell_type": "markdown",
   "metadata": {},
   "source": [
    "## Lessons Learned\n",
    "\n",
    "- Lessons Learned 1\n",
    "- Lessons Learned 2\n",
    "- Lessons Learned 3"
   ]
  }
 ],
 "metadata": {
  "kernelspec": {
   "display_name": "Python 3 (ipykernel)",
   "language": "python",
   "name": "python3"
  },
  "language_info": {
   "codemirror_mode": {
    "name": "ipython",
    "version": 3
   },
   "file_extension": ".py",
   "mimetype": "text/x-python",
   "name": "python",
   "nbconvert_exporter": "python",
   "pygments_lexer": "ipython3",
   "version": "3.7.6"
  },
  "widgets": {
   "application/vnd.jupyter.widget-state+json": {
    "state": {},
    "version_major": 2,
    "version_minor": 0
   }
  }
 },
 "nbformat": 4,
 "nbformat_minor": 4
}
