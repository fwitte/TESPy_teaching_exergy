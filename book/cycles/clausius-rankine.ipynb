{
 "cells": [
  {
   "attachments": {},
   "cell_type": "markdown",
   "metadata": {},
   "source": [
    "# Clausius Rankine Cycle\n"
   ]
  },
  {
   "attachments": {},
   "cell_type": "markdown",
   "metadata": {},
   "source": [
    "```{figure} /figures/rankine_cycle_dissipative.svg\n",
    "---\n",
    "name: rankine-cycle-dissipative-flowsheet\n",
    "---\n",
    "Topology of the clausius rankine cycle.\n",
    "```"
   ]
  },
  {
   "attachments": {},
   "cell_type": "markdown",
   "metadata": {},
   "source": [
    "\n",
    "## Introduction\n",
    "\n",
    "The Clausius-Rankine cycle serves as a comparative process for the steam power plant in its simplest constellation with steam turbine, condenser, feed water pump and steam generator. The steam power process is based on the heat-power process taking place in a steam engine. In contrast to the first steam engines, the working medium is kept in a closed circuit. This means that the process is also a clockwise rotating cycle.\n",
    "\n",
    "The live steam provided in the steam generator enters the turbine at high pressure and temperature, where it is expanded to a lower pressure level. The turbine releases power that can be used to drive a generator. The exhaust steam leaving the turbine is completely condensed out and leaves the condenser as saturated water. After that the feed water pump has to bring this condensate to a pressure level so that the steam generator can be supplied with feed water and the cycle can start again.\n",
    "\n",
    "The heat supplied to the process comes from the steam generator and is to be regarded as fuel. In contrast, the power output of the turbine, differentiated by the power  input of the feedwater pump, is to be defined as the product of the process. The complete condensation of the refrigerant are to be considered as exergetic losses in the heat-power process."
   ]
  },
  {
   "attachments": {},
   "cell_type": "markdown",
   "metadata": {},
   "source": [
    "\n",
    "## Excercise 1 \n",
    "\n",
    "Build the clausius rankine cycle in two variants:\n",
    "\n",
    "1. A cycle with a dissipative condenser (system boundaries are around the hot side of the heat exchanger)\n",
    "2. A condenser with the cold side, e.g. a river water cooling cycle, modelled (system boundaries are in and out flowing water)\n",
    "\n",
    "Make sure the cycles are the same by checking their respective thermal efficiencies. Perform and compare the exergy analysis of the two variants. Interprete the results and the implication on the condensers efficiency. "
   ]
  },
  {
   "attachments": {},
   "cell_type": "markdown",
   "metadata": {},
   "source": [
    "### Proposed solution 1.1\n",
    "\n",
    "**First step:** Build clausius rankine cycle with condenser using `HeatExchangerSimple` component"
   ]
  },
  {
   "cell_type": "code",
   "execution_count": null,
   "metadata": {
    "tags": [
     "hide-cell"
    ]
   },
   "outputs": [],
   "source": [
    "from tespy.networks import Network\n",
    "from tespy.connections import Connection, Bus\n",
    "from tespy.components import CycleCloser, Pump, HeatExchangerSimple, Turbine\n",
    "\n",
    "# Network\n",
    "nw = Network(fluids=['water'])\n",
    "nw.set_attr(T_unit='C', p_unit='bar', h_unit='kJ / kg')\n",
    "\n",
    "# Components\n",
    "cycle_closer = CycleCloser('Cycle Closer')\n",
    "turbine = Turbine('Steam Turbine')\n",
    "condenser = HeatExchangerSimple('Condenser')\n",
    "fw_pump = Pump('Feed Water Pump')\n",
    "steam_generator = HeatExchangerSimple('Steam Generator')\n",
    "\n",
    "# Connections\n",
    "steamgen2turb = Connection(steam_generator, 'out1', cycle_closer, 'in1', label='0')\n",
    "cc2turb = Connection(cycle_closer, 'out1', turbine, 'in1', label='1')\n",
    "turb2cond = Connection(turbine, 'out1', condenser, 'in1', label='2')\n",
    "cond2pump = Connection(condenser, 'out1', fw_pump, 'in1', label='3')\n",
    "pump2steamgen = Connection(fw_pump, 'out1', steam_generator, 'in1', label='4')\n",
    "\n",
    "nw.add_conns(steamgen2turb, cc2turb, turb2cond, cond2pump, pump2steamgen)\n",
    "\n",
    "# Component Parametrization\n",
    "turbine.set_attr(eta_s=0.9)\n",
    "condenser.set_attr(pr=1)\n",
    "fw_pump.set_attr(eta_s=0.75)\n",
    "steam_generator.set_attr(pr=0.9)\n",
    "\n",
    "# Connection Parametrization\n",
    "cc2turb.set_attr(T=600, p=150, m=10, fluid={'water': 1})\n",
    "turb2cond.set_attr(p=0.1)\n",
    "cond2pump.set_attr(x=0)\n",
    "\n",
    "# Busses\n",
    "heat_in = Bus('Heat Input')\n",
    "heat_in.add_comps({'comp': steam_generator, 'base': 'bus'})\n",
    "\n",
    "power_out = Bus('Power Output')\n",
    "power_out.add_comps(\n",
    "    {'comp': turbine, 'char': 0.96, 'base': 'component'},\n",
    "    {'comp': fw_pump, 'char': 0.96, 'base': 'bus'}\n",
    "    )\n",
    "\n",
    "heat_out = Bus('Heat Output')\n",
    "heat_out.add_comps({'comp': condenser, 'base': 'component'})\n",
    "\n",
    "nw.add_busses(heat_in, power_out, heat_out)"
   ]
  },
  {
   "attachments": {},
   "cell_type": "markdown",
   "metadata": {},
   "source": [
    "**Second step:** Solve model with variant 1 and perform exergy analysis"
   ]
  },
  {
   "cell_type": "code",
   "execution_count": null,
   "metadata": {
    "tags": [
     "hide-cell"
    ]
   },
   "outputs": [],
   "source": [
    "from tespy.tools import ExergyAnalysis\n",
    "\n",
    "# Solve model\n",
    "nw.set_attr(iterinfo=False)\n",
    "nw.solve(mode='design')\n",
    "eta_th = abs(power_out.P.val)/heat_in.P.val\n",
    "print(f'eta_th = {eta_th:.3f}')\n",
    "\n",
    "ean_var1 = ExergyAnalysis(network=nw, E_F=[heat_in], E_P=[power_out], E_L=[heat_out])\n",
    "ean_var1.analyse(pamb=1.013, Tamb=20)\n",
    "ean_var1.print_results(groups=False, connections=False, aggregation=False)"
   ]
  },
  {
   "attachments": {},
   "cell_type": "markdown",
   "metadata": {},
   "source": [
    "**Third step:** Replace `HeatExchangerSimple` with `Condenser` component"
   ]
  },
  {
   "cell_type": "code",
   "execution_count": null,
   "metadata": {
    "tags": [
     "hide-cell"
    ]
   },
   "outputs": [],
   "source": [
    "from tespy.components import Condenser, Source, Sink\n",
    "    \n",
    "# Remove old connections\n",
    "nw.del_conns(turb2cond, cond2pump)\n",
    "\n",
    "# Replace condenser\n",
    "condenser = Condenser('Condenser')\n",
    "cw_source = Source('Cooling Water Source')\n",
    "cw_sink = Sink('Cooling Water Sink')\n",
    "\n",
    "# Reconnect condenser\n",
    "turb2cond = Connection(turbine, 'out1', condenser, 'in1', label='2')\n",
    "cond2pump = Connection(condenser, 'out1', fw_pump, 'in1', label='3')\n",
    "cw_source2cond = Connection(cw_source, 'out1', condenser, 'in2', label='11')\n",
    "cond2cw_sink = Connection(condenser, 'out2', cw_sink, 'in1', label='12')\n",
    "\n",
    "nw.add_conns(turb2cond, cond2pump, cw_source2cond, cond2cw_sink)\n",
    "\n",
    "# Parametrize condenser and cooling cycle\n",
    "turb2cond.set_attr(p=0.1)\n",
    "condenser.set_attr(pr1=1, pr2=1)\n",
    "cw_source2cond.set_attr(T=20, p=1.2, fluid={'water': 1})\n",
    "cond2cw_sink.set_attr(T=30)\n",
    "\n",
    "# Reset heat output bus\n",
    "nw.del_busses(heat_out)\n",
    "\n",
    "heat_out = Bus('Heat Output')\n",
    "heat_out.add_comps(\n",
    "    {'comp': cw_source, 'base': 'bus'},\n",
    "    {'comp': cw_sink, 'base': 'component'}\n",
    "    )\n",
    "\n",
    "nw.add_busses(heat_out)"
   ]
  },
  {
   "attachments": {},
   "cell_type": "markdown",
   "metadata": {},
   "source": [
    "**Forth step:** Solve model with variant 2 and perform exergy analysis"
   ]
  },
  {
   "cell_type": "code",
   "execution_count": null,
   "metadata": {
    "tags": [
     "hide-cell"
    ]
   },
   "outputs": [],
   "source": [
    "# Solve model\n",
    "nw.set_attr(iterinfo=False)\n",
    "nw.solve(mode='design')\n",
    "eta_th = abs(power_out.P.val)/heat_in.P.val\n",
    "print(f'eta_th = {eta_th:.3f}')\n",
    "\n",
    "ean_var2 = ExergyAnalysis(network=nw, E_F=[heat_in], E_P=[power_out], E_L=[heat_out])\n",
    "ean_var2.analyse(pamb=1.013, Tamb=20)\n",
    "ean_var2.print_results(groups=False, connections=False, aggregation=False)"
   ]
  },
  {
   "attachments": {},
   "cell_type": "markdown",
   "metadata": {},
   "source": [
    "```{admonition} Explanation\n",
    ":class: dropdown\n",
    "\n",
    "First variation makes Condenser look very inefficient, because all exergy is destroyed. Second variation highlights real losses of the condenser and dissipates heat through cooling water.\n",
    "```"
   ]
  },
  {
   "attachments": {},
   "cell_type": "markdown",
   "metadata": {},
   "source": [
    "\n",
    "## Excercise 2"
   ]
  },
  {
   "attachments": {},
   "cell_type": "markdown",
   "metadata": {},
   "source": [
    "```{attention}\n",
    "\n",
    "From this point onwards the second variant of the clausius rankine cycle containg the implementation of the condensers cooling cycle is used.\n",
    "```"
   ]
  },
  {
   "attachments": {},
   "cell_type": "markdown",
   "metadata": {},
   "source": [
    "1. Analyze the influence of key parameters on the exergy analysis, such as live steam pressure and temperature.\n",
    "2. What impact does the ambient state have on the results of the exergy analysis.\n",
    "3. Implement the following two topological improvements:\n",
    "    - Regenerative feed water preheating (see {numref}`rankine-cycle-preheating-flowsheet`)\n",
    "    - Intermediate superheating (see Figure XX)\n",
    "4. Explain the improvement of the cycles efficiency with the exergy analysis by investigating the exergy destruction of each component"
   ]
  },
  {
   "attachments": {},
   "cell_type": "markdown",
   "metadata": {},
   "source": [
    "```{figure} /figures/rankine_cycle_preheating.svg\n",
    "---\n",
    "name: rankine-cycle-preheating-flowsheet\n",
    "---\n",
    "Topology of the clausius rankine cycle with regenerative feed water pre heating.\n",
    "```"
   ]
  }
 ],
 "metadata": {
  "kernelspec": {
   "display_name": "Python 3 (ipykernel)",
   "language": "python",
   "name": "python3"
  },
  "language_info": {
   "codemirror_mode": {
    "name": "ipython",
    "version": 3
   },
   "file_extension": ".py",
   "mimetype": "text/x-python",
   "name": "python",
   "nbconvert_exporter": "python",
   "pygments_lexer": "ipython3",
   "version": "3.9.15"
  },
  "widgets": {
   "application/vnd.jupyter.widget-state+json": {
    "state": {},
    "version_major": 2,
    "version_minor": 0
   }
  }
 },
 "nbformat": 4,
 "nbformat_minor": 4
}
