{
 "cells": [
  {
   "cell_type": "markdown",
   "metadata": {},
   "source": [
    "# Clausius Rankine Cycle\n",
    "\n",
    "## Introduction\n",
    "\n",
    "- Aufbau des Cycles\n",
    "- Definition Aufwand, Nutzen, Verlust\n",
    "\n",
    "## Excercises 1 \n",
    "\n",
    "- Variante 1: dissipativer Kondensator (Bilanzgrenze)\n",
    "- Variante 2: Flusskühlung\n",
    "- Ergebnisvergleich + Erklärung\n",
    "\n",
    "## Excercise 2 (mit Variante 2)\n",
    "\n",
    "- Wie wirken sich aus\n",
    "  - Frischdampfdruck/-temperatur\n",
    "  - Umgebungstemperatur\n",
    "- Verbesserung des Kreislaufs\n",
    "  - regenerative Speisewassererwärmung\n",
    "  - ZÜ\n",
    "  - (Kombination)\n",
    "  - Wie kann man bei gleichen Frischdampfparametern mit der Exergieanalyse die Verbesserung begründen? Exergiezerstörung pro Komponente bei der Parametervariation"
   ]
  }
 ],
 "metadata": {
  "kernelspec": {
   "display_name": "Python 3 (ipykernel)",
   "language": "python",
   "name": "python3"
  },
  "language_info": {
   "codemirror_mode": {
    "name": "ipython",
    "version": 3
   },
   "file_extension": ".py",
   "mimetype": "text/x-python",
   "name": "python",
   "nbconvert_exporter": "python",
   "pygments_lexer": "ipython3",
   "version": "3.9.13"
  },
  "widgets": {
   "application/vnd.jupyter.widget-state+json": {
    "state": {},
    "version_major": 2,
    "version_minor": 0
   }
  }
 },
 "nbformat": 4,
 "nbformat_minor": 4
}
