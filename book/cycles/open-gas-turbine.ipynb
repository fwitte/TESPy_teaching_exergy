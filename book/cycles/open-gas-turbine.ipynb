{
 "cells": [
  {
   "cell_type": "markdown",
   "metadata": {},
   "source": [
    "# Gas Turbine\n",
    "\n",
    "## Introduction\n",
    "\n",
    "- Einführung in GT\n",
    "- Definition Aufwand, Nutzen, Verlust\n",
    "\n",
    "## Excercise\n",
    "\n",
    "- Baue TESPy Modell für einfache GT\n",
    "\n",
    "## More Theory\n",
    "\n",
    "- BK mit Verbrennung -> Chemical exergy\n",
    "- Wie funktioniert die chemische Exergie?\n",
    "\n",
    "## Excercise 2\n",
    "\n",
    "- Vergleich des Braytoncycle mit der realen GT\n",
    "- Wie wirken sich aus:\n",
    "  - Nicht isentrope Turbine/Kompressor,\n",
    "  - Druckverluste, Energieverluste BK\n",
    "- GT mit Brennstoffmix"
   ]
  },
  {
   "cell_type": "code",
   "execution_count": null,
   "metadata": {},
   "outputs": [],
   "source": []
  }
 ],
 "metadata": {
  "kernelspec": {
   "display_name": "Python 3 (ipykernel)",
   "language": "python",
   "name": "python3"
  },
  "language_info": {
   "codemirror_mode": {
    "name": "ipython",
    "version": 3
   },
   "file_extension": ".py",
   "mimetype": "text/x-python",
   "name": "python",
   "nbconvert_exporter": "python",
   "pygments_lexer": "ipython3",
   "version": "3.9.13"
  },
  "widgets": {
   "application/vnd.jupyter.widget-state+json": {
    "state": {},
    "version_major": 2,
    "version_minor": 0
   }
  }
 },
 "nbformat": 4,
 "nbformat_minor": 4
}
