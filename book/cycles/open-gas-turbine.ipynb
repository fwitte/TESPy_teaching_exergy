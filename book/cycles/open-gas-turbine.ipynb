{
 "cells": [
  {
   "cell_type": "markdown",
   "metadata": {},
   "source": [
    "(brayton-label)=\n",
    "\n",
    "# Gas Turbine\n",
    "\n",
    "In this section we will be investigating gas turbine cycles using TESPy. In the first step the ideal Brayton cycle is\n",
    "modeled. The ideal Brayton cycle consists of three subprocesses, i.e. isentropic compression, isobaric heat transfer\n",
    "and isentropic expansion (see {numref}`brayton-flowsheet`). Next, we are comparing the cycle to the open cycle gas \n",
    "turbine, which instead of isobaric heat transfer uses a combustion chamber.\n",
    "\n",
    "## Ideal Brayton Cycle\n",
    "\n",
    "The flowsheet of the Brayton cycle is shown in {numref}`brayton-flowsheet`. Based on the flowsheet we can calculate the\n",
    "thermal efficiency of the cycle using eq. {eq}`brayton-thermal-efficiency`. For the exergy analysis we have to define\n",
    "the plant's fuel and product exergy as well as the exergy losses in eqs. {eq}`brayton-fuel-exergy`,\n",
    "{eq}`brayton-product-exergy` and {eq}`brayton-exergy-loss`.\n",
    "\n",
    "```{math}\n",
    ":label: brayton-thermal-efficiency\n",
    "\\eta_\\text{th} = \\frac{|\\sum \\dot W|}{\\dot Q_\\text{heater}}\n",
    "```\n",
    "\n",
    "```{math}\n",
    ":label: brayton-fuel-exergy\n",
    "\\dot E_\\text{F,tot} = \\dot E_\\text{F,heater}\n",
    "```\n",
    "\n",
    "```{math}\n",
    ":label: brayton-product-exergy\n",
    "\\dot E_\\text{P,tot} = \\dot E_\\text{P,turbine} - \\dot E_\\text{F,compressor}\n",
    "```\n",
    " \n",
    "```{math}\n",
    ":label: brayton-exergy-loss\n",
    "\\dot E_\\text{L,tot} = \\dot m \\cdot e_\\text{4}\n",
    "```\n",
    "\n",
    "```{figure} /figures/brayton.svg\n",
    "---\n",
    "name: brayton-flowsheet\n",
    "---\n",
    "Flow sheet of the Brayton cycle.\n",
    "```\n",
    "\n",
    "{numref}`brayton-cycle-param` indicates the parameter settings for the Brayton cycle for the initial setup.\n",
    "\n",
    "```{list-table} Parametrization of the Brayton cycle\n",
    ":header-rows: 1\n",
    ":name: brayton-cycle-param\n",
    "\n",
    "* - Location\n",
    "  - Parameter\n",
    "  - Value\n",
    "  - Unit\n",
    "* - Compressor\n",
    "  - Isentropic efficiency\n",
    "  - 100\n",
    "  - \\%\n",
    "* - \n",
    "  - Pressure ratio\n",
    "  - 10\n",
    "  - \n",
    "* - Heater\n",
    "  - Pressure ratio\n",
    "  - 1\n",
    "  - \n",
    "* - Turbine\n",
    "  - Isentropic efficiency\n",
    "  - 100\n",
    "  - \\%\n",
    "* - Generator\n",
    "  - Total power output\n",
    "  - -100\n",
    "  - MW\n",
    "* - 1\n",
    "  - Pressure\n",
    "  - 1.013\n",
    "  - bar\n",
    "* - \n",
    "  - Temperature\n",
    "  - 25\n",
    "  - °C\n",
    "* - 3\n",
    "  - Temperature\n",
    "  - 1400\n",
    "  - °C\n",
    "* - 4\n",
    "  - Pressure\n",
    "  - 1.013\n",
    "  - bar\n",
    "```\n",
    "\n",
    "## Exercise 1\n",
    "\n",
    "1. Build the TESPy model according to the flowsheet of the ideal Brayton cycle and its specifications shown in\n",
    "   {numref}`brayton-cycle-param`:\n",
    "   - Calculate the thermal efficiency of the process.\n",
    "   - Add the setup for the exergy analysis and run it:\n",
    "     - What is the total exergy efficiency?\n",
    "     - What is the total exergy destruction?\n",
    "     - What are the exergy losses to the ambient?\n",
    "   - Why is it impossible to reach an exergy efficiency of 100 % even with ideal components?\n",
    "\n",
    "### Solution 1"
   ]
  },
  {
   "cell_type": "markdown",
   "metadata": {},
   "source": [
    "We can set up the plant with standard components. The heater of the Brayton cycle can be represented by the\n",
    "`HeatExchangerSimple` component. "
   ]
  },
  {
   "cell_type": "code",
   "execution_count": null,
   "metadata": {},
   "outputs": [],
   "source": [
    "from tespy.components import Source, Sink, Compressor, Turbine, HeatExchangerSimple\n",
    "from tespy.connections import Connection, Bus\n",
    "from tespy.networks import Network\n",
    "from tespy.tools import ExergyAnalysis\n",
    "\n",
    "\n",
    "nwk = Network(fluids=[\"Air\"], p_unit=\"bar\", T_unit=\"C\", iterinfo=False)\n",
    "\n",
    "p0 = 1.013\n",
    "T0 = 25\n",
    "\n",
    "so = Source(\"air intake\")\n",
    "cp = Compressor(\"compressor\")\n",
    "hi = HeatExchangerSimple(\"heater\")\n",
    "tu = Turbine(\"turbine\")\n",
    "si = Sink(\"air outlet\")\n",
    "\n",
    "c1 = Connection(so, \"out1\", cp, \"in1\", label=\"1\")\n",
    "c2 = Connection(cp, \"out1\", hi, \"in1\", label=\"2\")\n",
    "c3 = Connection(hi, \"out1\", tu, \"in1\", label=\"3\")\n",
    "c4 = Connection(tu, \"out1\", si, \"in1\", label=\"4\")\n",
    "\n",
    "nwk.add_conns(c1, c2, c3, c4)\n",
    "\n",
    "power_output = Bus(\"power output\")\n",
    "power_output.add_comps(\n",
    "    {\"comp\": cp, \"base\": \"bus\"},\n",
    "    {\"comp\": tu, \"base\": \"component\"}\n",
    ")\n",
    "\n",
    "heat_input = Bus(\"heat input\")\n",
    "heat_input.add_comps(\n",
    "    {\"comp\": hi, \"base\": \"bus\"},\n",
    ")\n",
    "\n",
    "chimney = Bus(\"chimney\")\n",
    "chimney.add_comps(\n",
    "    {\"comp\": si, \"base\": \"component\"}\n",
    ")\n",
    "nwk.add_busses(power_output, heat_input, chimney)\n",
    "\n",
    "c1.set_attr(fluid={\"Air\": 1}, p=p0, T=T0)\n",
    "c3.set_attr(T=1400)\n",
    "c4.set_attr(p=p0)\n",
    "\n",
    "cp.set_attr(eta_s=1, pr=10)\n",
    "hi.set_attr(pr=1)\n",
    "tu.set_attr(eta_s=1)\n",
    "\n",
    "power_output.set_attr(P=-100e6)\n",
    "\n",
    "nwk.solve(\"design\")\n",
    "\n",
    "thermal_efficiency = abs(power_output.P.val) / heat_input.P.val\n",
    "\n",
    "ean = ExergyAnalysis(nwk, E_F=[heat_input], E_P=[power_output], E_L=[chimney])\n",
    "\n",
    "ean.analyse(p0, T0)\n",
    "\n",
    "brayton_connections = nwk.results[\"Connection\"].copy()"
   ]
  },
  {
   "cell_type": "code",
   "execution_count": null,
   "metadata": {
    "tags": [
     "remove-cell"
    ]
   },
   "outputs": [],
   "source": [
    "from myst_nb import glue\n",
    "glue(\"brayton-thermal-efficiency\", thermal_efficiency * 100, display=False)\n",
    "glue(\"brayton-exergy-efficiency\", ean.network_data.loc[\"epsilon\"] * 100, display=False)"
   ]
  },
  {
   "cell_type": "markdown",
   "metadata": {},
   "source": [
    "The cycle's efficiency is at about {glue:text}`brayton-thermal-efficiency:.2f` %, with an exergy efficiency of \n",
    "{glue:text}`brayton-exergy-efficiency:.2f` %. We can extract the plant's overall exergy analysis results from the \n",
    "`network_data` attribute:"
   ]
  },
  {
   "cell_type": "code",
   "execution_count": null,
   "metadata": {},
   "outputs": [],
   "source": [
    "ean.network_data.to_frame().transpose().rename({0: \"value\"})"
   ]
  },
  {
   "cell_type": "markdown",
   "metadata": {},
   "source": [
    "As expected no exergy is destroyed in our setup, because the compressor and the turbine are isentropic components and\n",
    "the heat input is isobaric. However, our exergy efficiency is still not 100 %. The reason for this is, that the flue gas\n",
    "leaving the cycle to the ambient still contains exergy. The stream of physical exergs is therefore lost:"
   ]
  },
  {
   "cell_type": "code",
   "execution_count": null,
   "metadata": {},
   "outputs": [],
   "source": [
    "c4.Ex_physical"
   ]
  },
  {
   "cell_type": "markdown",
   "metadata": {},
   "source": [
    "## Open Cycle Gas Turbine\n",
    "\n",
    "In the second part of this section we are switching our investigation to an actual open cycle gas turbine system with\n",
    "combustion of fuel as indicated in {numref}`gas-turbine-flowsheet`. All relevant component and process parameters\n",
    "are indicated in {numref}`gas-turbine-param`. As fuel we are going to use pure methane. \n",
    "\n",
    "```{figure} /figures/gas_turbine.svg\n",
    "---\n",
    "name: gas-turbine-flowsheet\n",
    "---\n",
    "Flow sheet of the open cycle gas turbine.\n",
    "```\n",
    "\n",
    "```{list-table} Parametrization of the Brayton cycle\n",
    ":header-rows: 1\n",
    ":name: gas-turbine-param\n",
    "\n",
    "* - Location\n",
    "  - Parameter\n",
    "  - Value\n",
    "  - Unit\n",
    "* - Compressor\n",
    "  - Isentropic efficiency\n",
    "  - 100\n",
    "  - \\%\n",
    "* - \n",
    "  - Pressure ratio\n",
    "  - 10\n",
    "  - \n",
    "* - Heater\n",
    "  - Pressure ratio\n",
    "  - 1\n",
    "  - \n",
    "* - Turbine\n",
    "  - Isentropic efficiency\n",
    "  - 100\n",
    "  - \\%\n",
    "* - Generator\n",
    "  - Total power output\n",
    "  - -100\n",
    "  - MW\n",
    "* - Combustion Chamber\n",
    "  - Efficiency (thermal insulation)\n",
    "  - 100\n",
    "  - \\%\n",
    "* - \n",
    "  - Pressure losses\n",
    "  - 0\n",
    "  - \\%\n",
    "* - 1\n",
    "  - Pressure\n",
    "  - 1.013\n",
    "  - bar\n",
    "* - \n",
    "  - Temperature\n",
    "  - 25\n",
    "  - °C\n",
    "* - 3\n",
    "  - Temperature\n",
    "  - 1400\n",
    "  - °C\n",
    "* - 4\n",
    "  - Pressure\n",
    "  - 1.013\n",
    "  - bar\n",
    "* - 5\n",
    "  - Pressure\n",
    "  - {math}`p_\\text{3} + 1`\n",
    "  - bar\n",
    "```\n",
    "\n",
    "In constrast to the previous exercise we have to model the air composition component wise in this example. We are going\n",
    "to use an additional source for the fuel and the `DiabaticCombustionChamber` to make accounting of heat and pressure\n",
    "losses in the combustion process possible. The topology can be built according to the flowsheet. A power output bus is\n",
    "added to the network, which sums the power generation of the turbine with the power consumption of the compressor. The\n",
    "net power can then be specified to that bus."
   ]
  },
  {
   "cell_type": "code",
   "execution_count": null,
   "metadata": {},
   "outputs": [],
   "source": [
    "from tespy.components import Source, Sink, Compressor, Turbine, DiabaticCombustionChamber\n",
    "from tespy.connections import Connection, Bus, Ref\n",
    "from tespy.networks import Network\n",
    "from tespy.tools import ExergyAnalysis\n",
    "\n",
    "\n",
    "nwk = Network(fluids=[\"O2\", \"H2O\", \"CO2\", \"N2\", \"Ar\", \"CH4\"], p_unit=\"bar\", T_unit=\"C\", iterinfo=False)\n",
    "\n",
    "fuel = Source(\"methane source\")\n",
    "so = Source(\"air intake\")\n",
    "cp = Compressor(\"compressor\")\n",
    "dcc = DiabaticCombustionChamber(\"combustion chamber\")\n",
    "tu = Turbine(\"turbine\")\n",
    "si = Sink(\"air outlet\")\n",
    "\n",
    "c1 = Connection(so, \"out1\", cp, \"in1\", label=\"1\")\n",
    "c2 = Connection(cp, \"out1\", dcc, \"in1\", label=\"2\")\n",
    "c3 = Connection(dcc, \"out1\", tu, \"in1\", label=\"3\")\n",
    "c4 = Connection(tu, \"out1\", si, \"in1\", label=\"4\")\n",
    "\n",
    "c5 = Connection(fuel, \"out1\", dcc, \"in2\", label=\"5\")\n",
    "\n",
    "nwk.add_conns(c1, c2, c3, c4, c5)\n",
    "\n",
    "power_output = Bus(\"power output\")\n",
    "power_output.add_comps(\n",
    "    {\"comp\": cp, \"base\": \"bus\"},\n",
    "    {\"comp\": tu, \"base\": \"component\"}\n",
    ")\n",
    "nwk.add_busses(power_output)"
   ]
  },
  {
   "cell_type": "markdown",
   "metadata": {},
   "source": [
    "Then we make the parameter specifications. We have to provide component wise composition of the air, since the\n",
    "combustion process relies on the oxygen mass fraction in the ambient air. The same is then true for the fuel, here all\n",
    "mass fractions are zero except for the methane mass fraction. We can specify the total power output on the bus."
   ]
  },
  {
   "cell_type": "code",
   "execution_count": null,
   "metadata": {},
   "outputs": [],
   "source": [
    "c1.set_attr(fluid={\"N2\": 0.7551, \"O2\": 0.2314, \"Ar\": 0.0129, \"H2O\": 0, \"CO2\": 0.0006, \"CH4\": 0}, p=p0, T=T0)\n",
    "c3.set_attr(T=1400)\n",
    "c4.set_attr(p=p0)\n",
    "\n",
    "c5.set_attr(fluid={\"N2\": 0, \"O2\": 0, \"Ar\": 0, \"H2O\": 0, \"CO2\": 0, \"CH4\": 1}, p=Ref(c3, 1, 1), T=T0)\n",
    "\n",
    "cp.set_attr(eta_s=1, pr=10)\n",
    "dcc.set_attr(pr=1, eta=1)\n",
    "tu.set_attr(eta_s=1)\n",
    "\n",
    "power_output.set_attr(P=-100e6)"
   ]
  },
  {
   "cell_type": "markdown",
   "metadata": {},
   "source": [
    "We can run the simulation and calculate the thermal efficiency. It is at {glue:text}`gt-thermal-efficiency` %, thus a\n",
    "little bit lower than in the ideal brayton process."
   ]
  },
  {
   "cell_type": "code",
   "execution_count": null,
   "metadata": {},
   "outputs": [],
   "source": [
    "nwk.solve(\"design\")\n",
    "\n",
    "thermal_efficiency_gt = abs(power_output.P.val) / (c5.m.val_SI * dcc.fuels[\"CH4\"][\"LHV\"])"
   ]
  },
  {
   "cell_type": "code",
   "execution_count": null,
   "metadata": {},
   "outputs": [],
   "source": [
    "glue(\"gt-thermal-efficiency\", round(thermal_efficiency_gt * 100, 2), display=False)"
   ]
  },
  {
   "cell_type": "markdown",
   "metadata": {},
   "source": [
    "## Exercise 2\n",
    "\n",
    "Make a comparison of the results between the Brayton and gas turbine cycle:\n",
    "\n",
    "  - Air mass flow\n",
    "  - Compressor outlet temperature\n",
    "  - Turbine outlet temperature\n",
    "  - Total heat input and thermal efficiency\n",
    "\n",
    "How can the deviations be explained?\n",
    "\n",
    "## Solution 2\n",
    "\n",
    "For the comparison of the results between the two cycles, we have saved all connection information from the brayton\n",
    "cycle in a dataframe. We can then substract the results dataframes from each other. Rows and columns with missing values\n",
    "are dropped and only absolute properties (mass flow, temperature and pressure) are kept in the dataframe.\n",
    "\n",
    "The relative deviation can then be calculated by dividing the absolute deviation by the results of the gas turbine\n",
    "cycle simulation."
   ]
  },
  {
   "cell_type": "code",
   "execution_count": null,
   "metadata": {},
   "outputs": [],
   "source": [
    "deviation_abs = (brayton_connections - nwk.results[\"Connection\"]).dropna(axis=1, how=\"all\").dropna(how=\"all\")[[\"T\", \"m\", \"p\"]]\n",
    "(deviation_abs / nwk.results[\"Connection\"]).dropna(axis=1, how=\"all\").dropna(how=\"all\")"
   ]
  },
  {
   "cell_type": "markdown",
   "metadata": {},
   "source": [
    "We can see, that the temperature values deviate by a very small margin. The compressor inlet temperature is 0.06 %\n",
    "higher in the Brayton cycle than in the gas turbine cycle, the turbine outlet temperature is lower by about 4 %. Much\n",
    "higher deviation can be observed in the mass flow: Here the Brayton cycle requires 10 % more air mass flow and nearly\n",
    "7 % more flue gas mass flow. The pressure values do not deviate.\n",
    "\n",
    "Reasons for that..."
   ]
  },
  {
   "cell_type": "markdown",
   "metadata": {},
   "source": [
    "## Exercise 4\n",
    "\n",
    "Change the isentropic efficiency of\n",
    "\n",
    "- the turbine to 90 % and of\n",
    "- the compressor to 85 %.\n",
    "\n",
    "With the setup specified in the table and the above changes:\n",
    "\n",
    "- Calculate the thermal efficiency.\n",
    "- Run the exergy anlysis.\n",
    "- Calculate the exergy efficiency.\n",
    "  - How does it compare to the ideal Brayton cycle?\n",
    "  - Why is it so much lower?\n",
    "- Create a Grassmann diagram of the process.\n",
    "\n",
    "## Solution 4\n",
    "\n",
    "We can make the component specifications and rerun the simulation. The thermal efficiency drops considerably and is now\n",
    "at only {glue:text}`gt-thermal-efficiency-nonideal` %."
   ]
  },
  {
   "cell_type": "code",
   "execution_count": null,
   "metadata": {},
   "outputs": [],
   "source": [
    "tu.set_attr(eta_s=0.9)\n",
    "cp.set_attr(eta_s=0.85)\n",
    "\n",
    "nwk.solve(\"design\")\n",
    "\n",
    "thermal_efficiency_gt = abs(power_output.P.val) / (c5.m.val_SI * dcc.fuels[\"CH4\"][\"LHV\"])"
   ]
  },
  {
   "cell_type": "markdown",
   "metadata": {},
   "source": [
    "To run the exergy analysis we have to add more busses to the system to account for the exergy inputs and exergy losses.\n",
    "\n",
    "```{attention}\n",
    "The exergy of the ambient air, specifically the chemical exergy, is NOT equal to zero. That means we have to add the\n",
    "ambient air inlet to a bus as well, which will be part of the plant's overall fuel exergy.\n",
    "```"
   ]
  },
  {
   "cell_type": "code",
   "execution_count": null,
   "metadata": {},
   "outputs": [],
   "source": [
    "fuel_input = Bus(\"fuel input\")\n",
    "fuel_input.add_comps(\n",
    "    {\"comp\": fuel, \"base\": \"bus\"},\n",
    ")\n",
    "\n",
    "air_input = Bus(\"air input\")  # has chemical exergy!\n",
    "air_input.add_comps(\n",
    "    {\"comp\": so, \"base\": \"bus\"},\n",
    ")\n",
    "\n",
    "chimney = Bus(\"chimney\")\n",
    "chimney.add_comps(\n",
    "    {\"comp\": si, \"base\": \"component\"}\n",
    ")\n",
    "nwk.add_busses(fuel_input, air_input, chimney)"
   ]
  },
  {
   "cell_type": "markdown",
   "metadata": {},
   "source": [
    "Then we can import the `\"Ahrendts\"` chemical exergy library and run the exergy analysis."
   ]
  },
  {
   "cell_type": "code",
   "execution_count": null,
   "metadata": {},
   "outputs": [],
   "source": [
    "from tespy.tools.helpers import get_chem_ex_lib\n",
    "\n",
    "chemexlib = get_chem_ex_lib(\"Ahrendts\")\n",
    "\n",
    "ean_gt = ExergyAnalysis(nwk, E_F=[fuel_input, air_input], E_P=[power_output], E_L=[chimney])\n",
    "ean_gt.analyse(p0, T0, Chem_Ex=chemexlib)"
   ]
  },
  {
   "cell_type": "code",
   "execution_count": null,
   "metadata": {},
   "outputs": [],
   "source": [
    "glue(\"gt-thermal-efficiency-nonideal\", round(thermal_efficiency_gt * 100, 2), display=False)\n",
    "glue(\"gt-exergy-efficiency-nonideal\", round(ean_gt.network_data.loc[\"epsilon\"] * 100, 2), display=False)"
   ]
  },
  {
   "cell_type": "markdown",
   "metadata": {},
   "source": [
    "We find an overall exergy efficiency {glue:text}`gt-exergy-efficiency-nonideal` %. Compared to the ideal Brayton cycle\n",
    "this value is much lower. The reason for that can be found in the exergy destruction of the combustion chamber: When\n",
    "transferring heat to the air without combustion in the Brayton cycle, we do not see the exergy destruction of that\n",
    "component. The combustion process destroys about {glue:text}`gt-cc-exergy-destruction-ratio` % of the total fuel exergy.\n",
    "The information can be extracted from the `.component_data` attribute in the `\"y_Dk\"` column, which is the specific\n",
    "exergy destruction ratio with respect to the overall fuel exergy as defined in eq. {eq}`ex-koeff-y`."
   ]
  },
  {
   "cell_type": "code",
   "execution_count": null,
   "metadata": {},
   "outputs": [],
   "source": [
    "ean_gt.component_data.loc[\"combustion chamber\", \"y_Dk\"]"
   ]
  },
  {
   "cell_type": "code",
   "execution_count": null,
   "metadata": {},
   "outputs": [],
   "source": [
    "glue(\"gt-cc-exergy-destruction-ratio\", round(ean_gt.component_data.loc[\"combustion chamber\", \"y_Dk\"] * 100, 2), display=False)"
   ]
  },
  {
   "cell_type": "markdown",
   "metadata": {},
   "source": [
    "To create the grassmann diagram..."
   ]
  },
  {
   "cell_type": "markdown",
   "metadata": {},
   "source": [
    "## Exercise 5\n",
    "\n",
    "Make individual parameter variations for the compressor pressure ratio and the turbine inlet temperature:\n",
    "\n",
    "- Calculate thermal efficiency for every combination of values.\n",
    "- Plot the thermal efficiency as function of the total power generated grouped by turbine inlet temperature and by\n",
    "  the compressor pressure ratio.\n",
    "\n",
    "## Solution 5"
   ]
  },
  {
   "cell_type": "code",
   "execution_count": null,
   "metadata": {},
   "outputs": [],
   "source": [
    "import numpy as np\n",
    "import pandas as pd\n",
    "nwk.save(\"tmp\")\n",
    "# parameter study: pressure ratio and expander inlet temperature\n",
    "\n",
    "# create data ranges and frames\n",
    "pr_range = np.array([5, 10, 15, 20, 25, 30])\n",
    "temperature_range = np.array([900.0, 1000.0, 1110.0, 1200.0, 1300.0, 1400.0])\n",
    "df_eta = pd.DataFrame(columns=pr_range)\n",
    "df_swk = pd.DataFrame(columns=pr_range)\n",
    "\n",
    "# update parameter, solve all cases, results to csv data\n",
    "for T in temperature_range:\n",
    "    eta = []\n",
    "    swk = []\n",
    "\n",
    "    for pr in pr_range:\n",
    "        # update parameter\n",
    "        cp.set_attr(pr=pr)\n",
    "        c3.set_attr(T=T)\n",
    "\n",
    "        # solve case\n",
    "        if pr == pr_range[0]:\n",
    "            nwk.solve(mode='design', init_path=\"tmp\")\n",
    "        else:\n",
    "            nwk.solve(mode='design')\n",
    "\n",
    "        # calculate efficiency\n",
    "        eta.append(abs(power_output.P.val) / (c5.m.val_SI * dcc.fuels[\"CH4\"][\"LHV\"]))\n",
    "        # calculate specific work\n",
    "        swk.append(abs(power_output.P.val) / 1e3 / c1.m.val)\n",
    "\n",
    "    # results to csv data\n",
    "    df_eta.loc[T] = eta\n",
    "    df_swk.loc[T] = swk"
   ]
  },
  {
   "cell_type": "code",
   "execution_count": null,
   "metadata": {},
   "outputs": [],
   "source": [
    "from matplotlib import pyplot as plt\n",
    "\n",
    "\n",
    "fig, ax = plt.subplots(1)\n",
    "\n",
    "for pr in pr_range:\n",
    "    ax.plot(df_swk[pr], df_eta[pr], \"b-\")\n",
    "\n",
    "for T in temperature_range:\n",
    "    ax.plot(df_swk.loc[T], df_eta.loc[T], \"ro-\")\n",
    "\n",
    "ax.set_ylabel(\"Gas turbine efficiency\")\n",
    "ax.set_xlabel(\"Gas turbine specific work in kJ/kg\")\n",
    "ax.grid()\n",
    "ax.set_axisbelow(True)"
   ]
  }
 ],
 "metadata": {
  "kernelspec": {
   "display_name": "Python 3 (ipykernel)",
   "language": "python",
   "name": "python3"
  },
  "language_info": {
   "codemirror_mode": {
    "name": "ipython",
    "version": 3
   },
   "file_extension": ".py",
   "mimetype": "text/x-python",
   "name": "python",
   "nbconvert_exporter": "python",
   "pygments_lexer": "ipython3",
   "version": "3.9.13"
  },
  "widgets": {
   "application/vnd.jupyter.widget-state+json": {
    "state": {},
    "version_major": 2,
    "version_minor": 0
   }
  }
 },
 "nbformat": 4,
 "nbformat_minor": 4
}
