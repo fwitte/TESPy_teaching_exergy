{
 "cells": [
  {
   "cell_type": "markdown",
   "metadata": {},
   "source": [
    "(orc-chp-label)=\n",
    "\n",
    "# ORC Combined Heat and Power"
   ]
  },
  {
   "attachments": {},
   "cell_type": "markdown",
   "metadata": {},
   "source": [
    "## Introduction"
   ]
  },
  {
   "attachments": {},
   "cell_type": "markdown",
   "metadata": {},
   "source": [
    "Subject of the following example of a more complex thermodynamic process will be a combined geothermal heat and power plant. As even deep geothermal boreholes can not supply temperatures high enough to drice conventional powerplant processes, such as the aforementioned and thoroughly analyzed Clausius Rankine Cycle, adjustments are necessary. Organic process fluids whose vaporization temperature is lower than that of water allow the execution of a Rankine cycle at these lower heat source temperatures, resulting in the so called *Organic Rankine Cycle*.\n",
    "\n",
    "The following exercises are supposed to emulate a typical energy engineers workflow. The task is a process design study, where conditions of the surrundings and requirements of stakeholders are given. The proposed process design has to fulfill these constraints, which are displayed in {numref}`geothermal-chp-parameters`.\n",
    "\n",
    "```{figure} /figures/geothermal_chp_parameters.png\n",
    "---\n",
    "name: geothermal-chp-parameters\n",
    "---\n",
    "Boundary conditions of the geothermal plant with cogeneration of heat and power.\n",
    "```\n",
    "\n",
    "Additionally, {numref}`comp-approx` lists approximations of typical component parameters.\n",
    "\n",
    "```{list-table} Approximations of typical component parameters\n",
    ":header-rows: 1\n",
    ":name: comp-approx\n",
    "\n",
    "* - Component\n",
    "  - Parameter\n",
    "  - \n",
    "  - Value\n",
    "  - Unit\n",
    "* - Auxillary Installations\n",
    "  - Electrical power requirements\n",
    "  - \n",
    "  - 3\n",
    "  - MW\n",
    "* - Generators\n",
    "  - Mechanical-electrical efficiency\n",
    "  - \n",
    "  - 0.985\n",
    "  - \n",
    "* - Motors\n",
    "  - Electrical-mechanical efficiency\n",
    "  - \n",
    "  - 0.975\n",
    "  - \n",
    "* - Steam turbines\n",
    "  - Isentropic efficiency\n",
    "  - \n",
    "  - 0.9\n",
    "  - \n",
    "* - \n",
    "  - Mechanical efficiency\n",
    "  - \n",
    "  - 0.99\n",
    "  - \n",
    "* - \n",
    "  - Minimum steam quality\n",
    "  - \n",
    "  - 0.9\n",
    "  - \n",
    "* - Pumps\n",
    "  - Isentropic efficiency\n",
    "  - \n",
    "  - 0.8\n",
    "  - \n",
    "* - \n",
    "  - Mechanical efficiency\n",
    "  - \n",
    "  - 0.99\n",
    "  - \n",
    "* - Heat Exchangers\n",
    "  - Minimal temperature difference\n",
    "  - liquid-liquid\n",
    "  - 10\n",
    "  - K\n",
    "* - \n",
    "  - \n",
    "  - liquid-condensing\n",
    "  - 5\n",
    "  - K\n",
    "* - \n",
    "  - \n",
    "  - liquid-steam\n",
    "  - 20\n",
    "  - K\n",
    "* - \n",
    "  - \n",
    "  - liquid-gaseous\n",
    "  - 25\n",
    "  - K\n",
    "```\n",
    "\n",
    "The proposed process is to be evaluated both with an energy- and an exergy-based approach. This can be achieved via efficiency values, which put the benefit of the process in relation to the necessary input. The energy efficiency of the cobined heat and power process is defined according to Eq. {eq}`orc-chp-energy-efficiency` and the exergy efficiency according to Eq. {eq}`orc-chp-exergy-efficiency`.\n",
    "\n",
    "```{math}\n",
    "    :label: orc-chp-energy-efficiency\n",
    "    \\eta_{CHP} = \\frac{\\dot{W}_{net} + \\dot{Q}_{DH}}{\\dot{H}_1 - \\dot{H}_2}\n",
    "```\n",
    "\n",
    "```{math}\n",
    "    :label: orc-chp-exergy-efficiency\n",
    "    \\epsilon_{CHP} = \\frac{\\dot{W}_{net} + (\\dot{E}_{ff} - \\dot{E}_{bf})}{\\dot{E}_1 - \\dot{E}_2}\n",
    "```\n"
   ]
  },
  {
   "attachments": {},
   "cell_type": "markdown",
   "metadata": {},
   "source": [
    "## Exercise 1"
   ]
  },
  {
   "attachments": {},
   "cell_type": "markdown",
   "metadata": {},
   "source": [
    "1. Build a geothermal combined heat and power plant according to the boundary conditions in {numref}`geothermal-chp-parameters` and {numref}`comp-approx`.\n",
    "2. Build another geothermal plant based on the one before that replaces the heat output with another cycle extracting electrical power.\n",
    "3. Evaluate both processes according to Eqs. {eq}`orc-chp-energy-efficiency` and {eq}`orc-chp-exergy-efficiency` and compare each other."
   ]
  },
  {
   "attachments": {},
   "cell_type": "markdown",
   "metadata": {},
   "source": [
    "\n",
    "```{Note}\n",
    "\n",
    "This task is described very openly, so there is no single right solution. You have to be creative to find a working process that fulfills all requirements.\n",
    "\n",
    "At first, you can try to come up with components that are necessary to supply the desired outputs. You can build simple cycles and contemplate how they can be improved.\n",
    "\n",
    "Additionally, you can get inspiration through existing plants as described in the literature. A few examples are {cite:t}`DiPippo2015`, {cite:t}`Drbal1996`, {cite:t}`Kitto2005` and {cite:t}`Strauss2016` (german).\n",
    "\n",
    "```"
   ]
  },
  {
   "attachments": {},
   "cell_type": "markdown",
   "metadata": {},
   "source": [
    "```{note}\n",
    "\n",
    "Your model very likely will be quite complex and use a lot of components which need parametrization. Building the whole model at once likely results in too few or too many parameters, which can be hard to track down. Oftentimes, a better approach is to build parts of the model, e.g. inner cycles or outer strands, and make them work. Only then the parts are joined together to build the whole process.\n",
    "\n",
    "Also, you will probably encouter issues when setting terminal temperature differences without stable starting values. As mentioned in other examples, running the model with best-guess starting values before finalizing parametrization strengthens stability and can even be necessary. Besides the other examples, you are referred to the TESPy tutorial on <a href=\"https://tespy.readthedocs.io/en/dev/tutorials/starting_values.html#tespy-tutorial-starting-values-label\">How to Generate Stable Starting Values</a>.\n",
    "\n",
    "```"
   ]
  },
  {
   "attachments": {},
   "cell_type": "markdown",
   "metadata": {},
   "source": [
    "````{admonition} Proposed process designs (only use if necessary!)\n",
    ":class: dropdown\n",
    "\n",
    "If you are having trouble creating/finding a suitable process design that fulfills all the requirements, example designs are provided here. Definitly try to come up with your own process designs at first, as there is a lot to learn trying, failing and hopefully finally succeeding in solving the tasks.\n",
    "\n",
    "For the cogeneration of heat and power, an ORC using the liquid phase from the geothermal source will be employed to solely supply power. The gaseous mass fraction can be fed directly through a steam turbine and condensated to supply the district heating network with heat. The process diagram of the described CHP plant can be found in {numref}`orc-chp-flowsheet`. The heat outflow to close the Organic Rankine Cycle is realized through cooling with ambient air. Finally, the two streams from the geothermal source are combined again to be fed back into the geothermal sink.\n",
    "\n",
    "```{figure} /figures/geothermal_orc_chp.svg\n",
    "---\n",
    "name: orc-chp-flowsheet\n",
    "---\n",
    "Flow sheet of the geothermal plant with cogeneration of heat and power.\n",
    "```\n",
    "\n",
    "The second approach without the supply of heat is implemented with an additional Organic Rankinke Cycle replacing the district heating condenser. This second ORC is in principle of the same structure as the first one, as can be seen in {numref}`orc-full-elec-flowsheet`.\n",
    "\n",
    "```{figure} /figures/geothermal_orc_full_elec.svg\n",
    "---\n",
    "name: orc-full-elec-flowsheet\n",
    "---\n",
    "Flow sheet of the geothermal plant with sole power generation.\n",
    "```\n",
    "\n",
    "````"
   ]
  },
  {
   "attachments": {},
   "cell_type": "markdown",
   "metadata": {},
   "source": [
    "(orc-proposed-solution-1-label)=\n",
    "\n",
    "## Proposed solution 1\n",
    "\n",
    "**First Step**: Build the ORC as basis for geothermal combined heat and power plant and geothermal power plant"
   ]
  },
  {
   "cell_type": "code",
   "execution_count": 1,
   "metadata": {
    "tags": [
     "hide-cell"
    ]
   },
   "outputs": [],
   "source": [
    "from tespy.networks import Network\n",
    "from tespy.connections import Connection, Bus\n",
    "from tespy.components import (\n",
    "    CycleCloser, Source, Sink, Pump, Turbine, HeatExchanger,HeatExchangerSimple,\n",
    "    Condenser, Drum, DropletSeparator, Merge\n",
    "    )\n",
    "\n",
    "# Network\n",
    "nw = Network(fluids=['water', 'air', 'Isopentane'])\n",
    "nw.set_attr(T_unit='C', p_unit='bar', h_unit='kJ / kg')\n",
    "\n",
    "flu_vec_orc = {'water': 0, 'air': 0, 'Isopentane': 1}\n",
    "flu_vec_water = {'water': 1, 'air': 0, 'Isopentane': 0}\n",
    "flu_vec_air = {'water': 0, 'air': 1, 'Isopentane': 0}\n",
    "\n",
    "# Components\n",
    "# ORC\n",
    "orc_cc = CycleCloser('ORC Cycle Closer')\n",
    "orc_preheater = HeatExchanger('ORC Preheater')\n",
    "orc_drum = Drum('ORC Drum')\n",
    "orc_evaporator = HeatExchanger('ORC Evaporator')\n",
    "orc_turbine = Turbine('ORC Turbine')\n",
    "orc_condenser = Condenser('ORC Condenser')\n",
    "orc_pump = Pump('ORC Pump')\n",
    "\n",
    "# Condenser coolant cycle\n",
    "cool_source = Source('Coolant Source')\n",
    "cool_sink = Sink('Coolant Sink')\n",
    "\n",
    "# Auxiliary source and sink\n",
    "liquid_source = Source('Liquid Sep Source')\n",
    "geo_pump = Pump('Geothermal Pump')\n",
    "geo_sink1 = Sink('Geothermal Sink1')\n",
    "\n",
    "# Connections\n",
    "# ORC\n",
    "orc_pump2orc_cc = Connection(orc_pump, 'out1', orc_cc, 'in1', label='30')\n",
    "orc_cc2orc_preheater = Connection(orc_cc, 'out1', orc_preheater, 'in2', label='31')\n",
    "orc_preheat2orc_drum = Connection(orc_preheater, 'out2', orc_drum, 'in1', label='32')\n",
    "orc_drum2orc_eva = Connection(orc_drum, 'out1', orc_evaporator, 'in2', label='33')\n",
    "orc_eva2orc_drum = Connection(orc_evaporator, 'out2', orc_drum, 'in2', label='34')\n",
    "orc_drum2orc_turb = Connection(orc_drum, 'out2', orc_turbine, 'in1', label='35')\n",
    "orc_turb2orc_cond = Connection(orc_turbine, 'out1', orc_condenser, 'in1', label='36')\n",
    "orc_cond2orc_pump = Connection(orc_condenser, 'out1', orc_pump, 'in1', label='37')\n",
    "\n",
    "nw.add_conns(\n",
    "    orc_pump2orc_cc, orc_cc2orc_preheater, orc_preheat2orc_drum, orc_drum2orc_eva,\n",
    "    orc_eva2orc_drum, orc_drum2orc_turb, orc_turb2orc_cond, orc_cond2orc_pump\n",
    "    )\n",
    "\n",
    "# Condenser coolant strand\n",
    "cool_source2orc_cond = Connection(cool_source, 'out1', orc_condenser, 'in2', label='51')\n",
    "orc_cond2cool_sink = Connection(orc_condenser, 'out2', cool_sink, 'in1', label='52')\n",
    "\n",
    "nw.add_conns(cool_source2orc_cond, orc_cond2cool_sink)\n",
    "\n",
    "# Geothermal liquid strand\n",
    "liquid_source2orc_eva = Connection(liquid_source, 'out1', orc_evaporator, 'in1', label='17')\n",
    "orc_eva2orc_preheat = Connection(orc_evaporator, 'out1', orc_preheater, 'in1', label='18')\n",
    "orc_preheat2geo_pump = Connection(orc_preheater, 'out1', geo_pump, 'in1', label='19')\n",
    "geo_pump2geo_sink1 = Connection(geo_pump, 'out1', geo_sink1, 'in1', label='21')\n",
    "\n",
    "nw.add_conns(\n",
    "    liquid_source2orc_eva, orc_eva2orc_preheat, orc_preheat2geo_pump, geo_pump2geo_sink1\n",
    "    )"
   ]
  },
  {
   "attachments": {},
   "cell_type": "markdown",
   "metadata": {},
   "source": [
    "**Second Step**:  Set the process parameters and starting values. After that solve orc cycle with starting and final values"
   ]
  },
  {
   "cell_type": "code",
   "execution_count": 2,
   "metadata": {
    "tags": [
     "hide-cell"
    ]
   },
   "outputs": [
    {
     "name": "stderr",
     "output_type": "stream",
     "text": [
      "Invalid value for ttd_u: ttd_u = -14.956346618674218 below minimum value (0) at component ORC Preheater.\n",
      "Invalid value for ttd_l: ttd_l = -19.9563466186749 below minimum value (0) at component ORC Evaporator.\n"
     ]
    },
    {
     "name": "stdout",
     "output_type": "stream",
     "text": [
      "\n",
      " iter  | residual   | progress   | massflow   | pressure   | enthalpy   | fluid      |            \n",
      "-------+------------+------------+------------+------------+------------+------------+\n",
      " 1     | 3.06e+08   | 50 %       | 3.00e+05   | 7.93e+06   | 5.71e+06   | 0.00e+00   |            \n",
      " 2     | 5.89e+09   | 50 %       | 7.65e+06   | 3.09e+06   | 1.30e+08   | 0.00e+00   |            \n",
      " 3     | 3.66e+10   | 50 %       | 6.45e+06   | 1.27e+06   | 2.81e+07   | 0.00e+00   |            \n",
      " 4     | 1.78e+10   | 50 %       | 1.03e+06   | 5.57e+05   | 1.11e+06   | 0.00e+00   |            \n",
      " 5     | 3.16e+09   | 50 %       | 4.34e+05   | 2.13e+05   | 5.90e+06   | 0.00e+00   |            \n",
      " 6     | 1.42e+08   | 50 %       | 8.73e+03   | 5.50e+04   | 1.42e+05   | 0.00e+00   |            \n",
      " 7     | 2.90e+05   | 50 %       | 1.26e+01   | 4.04e-10   | 3.02e+02   | 0.00e+00   |            \n",
      " 8     | 1.58e+00   | 51 %       | 5.21e-04   | 4.04e-10   | 6.07e-04   | 0.00e+00   |            \n",
      " 9     | 2.85e-07   | 53 %       | 5.14e-09   | 4.04e-10   | 1.28e-08   | 0.00e+00   |            \n",
      "Total iterations: 9, Calculation time: 0.07 s, Iterations per second: 122.74\n",
      "\n",
      "##### RESULTS (Pump) #####\n",
      "+-----------------+----------+----------+----------+\n",
      "|                 |        P |    eta_s |       pr |\n",
      "|-----------------+----------+----------+----------|\n",
      "| ORC Pump        | 1.07e+06 | \u001b[94m8.00e-01\u001b[0m | 1.45e+01 |\n",
      "| Geothermal Pump | 6.69e+05 | \u001b[94m8.00e-01\u001b[0m | 2.78e+00 |\n",
      "+-----------------+----------+----------+----------+\n",
      "##### RESULTS (HeatExchanger) #####\n",
      "+----------------+-----------+------+----------+-----------+-----------+----------+----------+-----------+----------+\n",
      "|                |         Q |   kA |   td_log |     ttd_u |     ttd_l |      pr1 |      pr2 |     zeta1 |    zeta2 |\n",
      "|----------------+-----------+------+----------+-----------+-----------+----------+----------+-----------+----------|\n",
      "| ORC Preheater  | -8.71e+07 |  nan |      nan | \u001b[31m-1.50e+01\u001b[0m |  1.88e+01 | \u001b[94m1.00e+00\u001b[0m | \u001b[94m1.00e+00\u001b[0m | -3.65e-12 | 0.00e+00 |\n",
      "| ORC Evaporator | -6.33e+07 |  nan |      nan |  3.32e+01 | \u001b[31m-2.00e+01\u001b[0m | \u001b[94m1.00e+00\u001b[0m | 1.00e+00 |  0.00e+00 | 0.00e+00 |\n",
      "+----------------+-----------+------+----------+-----------+-----------+----------+----------+-----------+----------+\n",
      "##### RESULTS (Condenser) #####\n",
      "+---------------+-----------+----------+----------+----------+----------+----------+----------+----------+----------+\n",
      "|               |         Q |       kA |   td_log |    ttd_u |    ttd_l |      pr1 |      pr2 |    zeta1 |    zeta2 |\n",
      "|---------------+-----------+----------+----------+----------+----------+----------+----------+----------+----------|\n",
      "| ORC Condenser | -1.24e+08 | 1.72e+07 | 7.21e+00 | 5.00e+00 | 1.00e+01 | \u001b[94m1.00e+00\u001b[0m | \u001b[94m1.00e+00\u001b[0m | 0.00e+00 | 0.00e+00 |\n",
      "+---------------+-----------+----------+----------+----------+----------+----------+----------+----------+----------+\n",
      "##### RESULTS (Turbine) #####\n",
      "+-------------+-----------+----------+----------+\n",
      "|             |         P |    eta_s |       pr |\n",
      "|-------------+-----------+----------+----------|\n",
      "| ORC Turbine | -2.71e+07 | \u001b[94m9.00e-01\u001b[0m | 6.91e-02 |\n",
      "+-------------+-----------+----------+----------+\n",
      "##### RESULTS (CycleCloser) #####\n",
      "+------------------+------------------+-------------------+\n",
      "|                  |   mass_deviation |   fluid_deviation |\n",
      "|------------------+------------------+-------------------|\n",
      "| ORC Cycle Closer |         0.00e+00 |          0.00e+00 |\n",
      "+------------------+------------------+-------------------+\n",
      "##### RESULTS (Connection) #####\n",
      "+----+-----------+-----------+-----------+-----------+\n",
      "|    |         m |         p |         h |         T |\n",
      "|----+-----------+-----------+-----------+-----------|\n",
      "| 30 | 2.970e+02 | 1.868e+01 | 2.017e+01 | 3.596e+01 |\n",
      "| 31 | 2.970e+02 | 1.868e+01 | 2.017e+01 | 3.596e+01 |\n",
      "| 32 | 2.970e+02 | 1.868e+01 | 3.134e+02 | 1.450e+02 |\n",
      "| 33 | 4.602e+02 | 1.868e+01 | 3.300e+02 | 1.500e+02 |\n",
      "| 34 | 4.602e+02 | \u001b[94m1.868e+01\u001b[0m | 4.677e+02 | 1.500e+02 |\n",
      "| 35 | 2.970e+02 | 1.868e+01 | 5.266e+02 | 1.500e+02 |\n",
      "| 36 | 2.970e+02 | \u001b[94m1.290e+00\u001b[0m | 4.354e+02 | 7.900e+01 |\n",
      "| 37 | 2.970e+02 | 1.290e+00 | 1.658e+01 | 3.500e+01 |\n",
      "| 51 | 2.472e+04 | \u001b[94m1.013e+00\u001b[0m | 4.244e+02 | \u001b[94m2.500e+01\u001b[0m |\n",
      "| 52 | 2.472e+04 | 1.013e+00 | 4.295e+02 | \u001b[94m3.000e+01\u001b[0m |\n",
      "| 17 | \u001b[94m2.750e+02\u001b[0m | \u001b[94m1.080e+01\u001b[0m | 7.774e+02 | 1.832e+02 |\n",
      "| 18 | 2.750e+02 | 1.080e+01 | 5.471e+02 | 1.300e+02 |\n",
      "| 19 | 2.750e+02 | 1.080e+01 | 2.304e+02 | 5.481e+01 |\n",
      "| 21 | 2.750e+02 | \u001b[94m3.000e+01\u001b[0m | 2.328e+02 | \u001b[94m5.500e+01\u001b[0m |\n",
      "+----+-----------+-----------+-----------+-----------+\n",
      "\n",
      " iter  | residual   | progress   | massflow   | pressure   | enthalpy   | fluid      |            \n",
      "-------+------------+------------+------------+------------+------------+------------+\n",
      " 1     | 3.00e+01   | 51 %       | 2.21e+03   | 6.23e+06   | 4.63e+05   | 0.00e+00   |            \n",
      " 2     | 1.46e+07   | 50 %       | 1.00e+03   | 1.93e+06   | 5.16e+04   | 0.00e+00   |            \n",
      " 3     | 2.39e+06   | 50 %       | 8.29e+02   | 3.88e+05   | 1.47e+04   | 0.00e+00   |            \n",
      " 4     | 1.42e+05   | 50 %       | 2.01e+02   | 2.06e+04   | 6.34e+03   | 0.00e+00   |            \n",
      " 5     | 6.85e+03   | 50 %       | 3.17e+00   | 9.05e+01   | 8.46e+01   | 0.00e+00   |            \n",
      " 6     | 1.16e+00   | 51 %       | 3.77e-04   | 4.50e-02   | 1.43e-02   | 0.00e+00   |            \n",
      " 7     | 2.18e-06   | 53 %       | 3.15e-05   | 7.90e-03   | 2.06e-03   | 0.00e+00   |            \n",
      "Total iterations: 7, Calculation time: 0.09 s, Iterations per second: 78.20\n",
      "\n",
      "##### RESULTS (Pump) #####\n",
      "+-----------------+----------+----------+----------+\n",
      "|                 |        P |    eta_s |       pr |\n",
      "|-----------------+----------+----------+----------|\n",
      "| ORC Pump        | 1.52e+05 | \u001b[94m8.00e-01\u001b[0m | 2.46e+00 |\n",
      "| Geothermal Pump | 6.69e+05 | \u001b[94m8.00e-01\u001b[0m | 2.78e+00 |\n",
      "+-----------------+----------+----------+----------+\n",
      "##### RESULTS (HeatExchanger) #####\n",
      "+----------------+-----------+----------+----------+----------+----------+----------+----------+-----------+-----------+\n",
      "|                |         Q |       kA |   td_log |    ttd_u |    ttd_l |      pr1 |      pr2 |     zeta1 |     zeta2 |\n",
      "|----------------+-----------+----------+----------+----------+----------+----------+----------+-----------+-----------|\n",
      "| ORC Preheater  | -2.38e+07 | 1.38e+06 | 1.72e+01 | 1.50e+01 | 1.97e+01 | \u001b[94m1.00e+00\u001b[0m | \u001b[94m1.00e+00\u001b[0m | -3.72e-12 |  0.00e+00 |\n",
      "| ORC Evaporator | -1.27e+08 | 2.90e+06 | 4.37e+01 | 1.18e+02 | \u001b[94m1.00e+01\u001b[0m | \u001b[94m1.00e+00\u001b[0m | 1.00e+00 |  0.00e+00 | -5.32e-15 |\n",
      "+----------------+-----------+----------+----------+----------+----------+----------+----------+-----------+-----------+\n",
      "##### RESULTS (Condenser) #####\n",
      "+---------------+-----------+----------+----------+----------+----------+----------+----------+----------+----------+\n",
      "|               |         Q |       kA |   td_log |    ttd_u |    ttd_l |      pr1 |      pr2 |    zeta1 |    zeta2 |\n",
      "|---------------+-----------+----------+----------+----------+----------+----------+----------+----------+----------|\n",
      "| ORC Condenser | -1.39e+08 | 1.93e+07 | 7.21e+00 | \u001b[94m5.00e+00\u001b[0m | 1.00e+01 | \u001b[94m1.00e+00\u001b[0m | \u001b[94m1.00e+00\u001b[0m | 0.00e+00 | 0.00e+00 |\n",
      "+---------------+-----------+----------+----------+----------+----------+----------+----------+----------+----------+\n",
      "##### RESULTS (Turbine) #####\n",
      "+-------------+-----------+----------+----------+\n",
      "|             |         P |    eta_s |       pr |\n",
      "|-------------+-----------+----------+----------|\n",
      "| ORC Turbine | -1.11e+07 | \u001b[94m9.00e-01\u001b[0m | 4.07e-01 |\n",
      "+-------------+-----------+----------+----------+\n",
      "##### RESULTS (CycleCloser) #####\n",
      "+------------------+------------------+-------------------+\n",
      "|                  |   mass_deviation |   fluid_deviation |\n",
      "|------------------+------------------+-------------------|\n",
      "| ORC Cycle Closer |         5.68e-14 |          0.00e+00 |\n",
      "+------------------+------------------+-------------------+\n",
      "##### RESULTS (Connection) #####\n",
      "+----+-----------+-----------+-----------+-----------+\n",
      "|    |         m |         p |         h |         T |\n",
      "|----+-----------+-----------+-----------+-----------|\n",
      "| 30 | 3.910e+02 | 3.170e+00 | 1.697e+01 | 3.510e+01 |\n",
      "| 31 | 3.910e+02 | 3.170e+00 | 1.697e+01 | 3.510e+01 |\n",
      "| 32 | 3.910e+02 | 3.170e+00 | 7.793e+01 | 6.052e+01 |\n",
      "| 33 | 5.810e+02 | 3.170e+00 | 9.037e+01 | 6.552e+01 |\n",
      "| 34 | 5.810e+02 | 3.170e+00 | 3.083e+02 | 6.552e+01 |\n",
      "| 35 | 3.910e+02 | 3.170e+00 | 4.017e+02 | 6.552e+01 |\n",
      "| 36 | 3.910e+02 | 1.290e+00 | 3.732e+02 | 4.569e+01 |\n",
      "| 37 | 3.910e+02 | 1.290e+00 | 1.658e+01 | 3.500e+01 |\n",
      "| 51 | 2.772e+04 | \u001b[94m1.013e+00\u001b[0m | 4.244e+02 | \u001b[94m2.500e+01\u001b[0m |\n",
      "| 52 | 2.772e+04 | 1.013e+00 | 4.295e+02 | \u001b[94m3.000e+01\u001b[0m |\n",
      "| 17 | \u001b[94m2.750e+02\u001b[0m | \u001b[94m1.080e+01\u001b[0m | 7.774e+02 | 1.832e+02 |\n",
      "| 18 | 2.750e+02 | 1.080e+01 | 3.170e+02 | 7.552e+01 |\n",
      "| 19 | 2.750e+02 | 1.080e+01 | 2.304e+02 | 5.481e+01 |\n",
      "| 21 | 2.750e+02 | \u001b[94m3.000e+01\u001b[0m | 2.328e+02 | \u001b[94m5.500e+01\u001b[0m |\n",
      "+----+-----------+-----------+-----------+-----------+\n"
     ]
    }
   ],
   "source": [
    "from CoolProp.CoolProp import PropsSI as PSI\n",
    "\n",
    "# Parametrization\n",
    "# Component parameters\n",
    "orc_turbine.set_attr(eta_s=0.9)\n",
    "\n",
    "orc_pump.set_attr(eta_s=0.8)\n",
    "geo_pump.set_attr(eta_s=0.8)\n",
    "\n",
    "orc_preheater.set_attr(pr1=1, pr2=1)\n",
    "orc_evaporator.set_attr(pr1=1)\n",
    "orc_condenser.set_attr(pr1=1, pr2=1)\n",
    "\n",
    "# Connection parameter\n",
    "# ORC\n",
    "p_orc_condenser = PSI(\"P\", \"Q\", 0, \"T\", 35 + 273.15, 'Isopentane') * 1e-5\n",
    "orc_turb2orc_cond.set_attr(p=p_orc_condenser, fluid=flu_vec_orc)\n",
    "\n",
    "p_orc_evaporator = PSI(\"P\", \"Q\", 1, \"T\", 150 + 273.15, 'Isopentane') * 1e-5\n",
    "orc_eva2orc_drum.set_attr(p=p_orc_evaporator, x=0.7)\n",
    "\n",
    "orc_preheat2orc_drum.set_attr(Td_bp=-5)\n",
    "\n",
    "# Geothermal liquid strand\n",
    "liquid_source2orc_eva.set_attr(m=500*0.55, p=10.8, x=0, fluid=flu_vec_water)\n",
    "geo_pump2geo_sink1.set_attr(T=55, p=30)\n",
    "\n",
    "# Condenser coolant strand\n",
    "cool_source2orc_cond.set_attr(T=25, p=1.013, fluid=flu_vec_air)\n",
    "orc_cond2cool_sink.set_attr(T=30)\n",
    "\n",
    "# Initial solve with starting values\n",
    "nw.solve(\"design\")\n",
    "nw.print_results()\n",
    "\n",
    "# Final solve\n",
    "orc_eva2orc_drum.set_attr(p=None)\n",
    "orc_evaporator.set_attr(ttd_l=10)\n",
    "\n",
    "orc_turb2orc_cond.set_attr(p=None)\n",
    "orc_condenser.set_attr(ttd_u=5)\n",
    "\n",
    "nw.solve(\"design\")\n",
    "nw.print_results()"
   ]
  },
  {
   "attachments": {},
   "cell_type": "markdown",
   "metadata": {},
   "source": [
    "## Proposed solution 1.1\n",
    "\n",
    "### Geothermal combined heat and power plant\n",
    "\n",
    "**First Step**: Build the geothermal steam strand for the chp process design\n",
    "\n",
    "Be sure this one runs standalone first!"
   ]
  },
  {
   "cell_type": "code",
   "execution_count": 3,
   "metadata": {
    "tags": [
     "hide-cell"
    ]
   },
   "outputs": [
    {
     "name": "stdout",
     "output_type": "stream",
     "text": [
      "\n",
      " iter  | residual   | progress   | massflow   | pressure   | enthalpy   | fluid      |            \n",
      "-------+------------+------------+------------+------------+------------+------------+\n",
      " 1     | 8.89e+06   | 50 %       | 2.85e+03   | 7.91e+06   | 3.48e+08   | 0.00e+00   |            \n",
      " 2     | 1.23e+10   | 50 %       | 7.56e+03   | 3.39e+06   | 1.07e+07   | 0.00e+00   |            \n",
      " 3     | 2.13e+10   | 50 %       | 2.36e-03   | 1.29e+06   | 6.34e+06   | 0.00e+00   |            \n",
      " 4     | 5.92e+05   | 50 %       | 1.86e-04   | 5.42e+05   | 8.41e+04   | 0.00e+00   |            \n",
      " 5     | 2.47e+05   | 50 %       | 1.27e-05   | 1.95e+05   | 6.22e+04   | 0.00e+00   |            \n",
      " 6     | 5.02e+04   | 50 %       | 8.48e-06   | 3.53e+04   | 3.41e+04   | 0.00e+00   |            \n",
      " 7     | 3.09e+03   | 50 %       | 1.86e-09   | 4.53e-07   | 3.11e+03   | 0.00e+00   |            \n",
      " 8     | 8.68e-08   | 53 %       | 7.83e-09   | 1.96e-06   | 6.09e-07   | 0.00e+00   |            \n",
      "Total iterations: 8, Calculation time: 0.11 s, Iterations per second: 71.15\n",
      "\n",
      " iter  | residual   | progress   | massflow   | pressure   | enthalpy   | fluid      |            \n",
      "-------+------------+------------+------------+------------+------------+------------+\n",
      " 1     | 1.92e-07   | 53 %       | 9.55e-09   | 2.40e-06   | 7.67e-07   | 0.00e+00   |            \n",
      " 2     | 1.65e-06   | 53 %       | 1.11e-09   | 1.45e-07   | 3.84e-08   | 0.00e+00   |            \n",
      " 3     | 9.83e-08   | 53 %       | 2.41e-10   | 6.65e-08   | 2.85e-08   | 0.00e+00   |            \n",
      " 4     | 1.44e-07   | 53 %       | 1.46e-10   | 1.78e-08   | 3.18e-08   | 0.00e+00   |            \n",
      " 5     | 6.80e-08   | 53 %       | 1.54e-09   | 3.57e-07   | 1.04e-07   | 0.00e+00   |            \n",
      "Total iterations: 5, Calculation time: 0.10 s, Iterations per second: 50.59\n"
     ]
    }
   ],
   "source": [
    "# Geothermal steam strand with district heating system\n",
    "# Components\n",
    "steam_turbine = Turbine('Steam Turbine')\n",
    "dh_condenser = Condenser('District Heating Condenser')\n",
    "dh_preheater = HeatExchanger('District Heating Preheater')\n",
    "dh_cc = CycleCloser('District Heating Cycle Closer')\n",
    "dh_pump = Pump('District Heating Pump')\n",
    "dh_heatsink = HeatExchangerSimple('District Heating Consumer')\n",
    "steam_pump = Pump('Steam Pump')\n",
    "\n",
    "# Auxiliary source and sink\n",
    "steam_source = Source('Steam Sep Source')\n",
    "geo_sink2 = Sink('Geothermal Sink2')\n",
    "\n",
    "# Connection\n",
    "# Geothermal steam strand\n",
    "steam_source2steam_turb = Connection(steam_source, 'out1', steam_turbine, 'in1', label='12')\n",
    "steam_turb2dh_cond = Connection(steam_turbine, 'out1', dh_condenser, 'in1', label='13')\n",
    "dh_cond2dh_preheat = Connection(dh_condenser, 'out1', dh_preheater, 'in1', label='14')\n",
    "dh_preheat2steam_pump = Connection(dh_preheater, 'out1', steam_pump, 'in1', label='15')\n",
    "steam_pump2geo_sink2 = Connection(steam_pump, 'out1', geo_sink2, 'in1', label='16')\n",
    "\n",
    "nw.add_conns(\n",
    "    steam_source2steam_turb, steam_turb2dh_cond, dh_cond2dh_preheat,\n",
    "    dh_preheat2steam_pump, steam_pump2geo_sink2\n",
    "    )\n",
    "\n",
    "# District heating system\n",
    "dh_heatsink2dh_cc = Connection(dh_heatsink, 'out1', dh_cc, 'in1', label='60')\n",
    "dh_cc2dh_preheat = Connection(dh_cc, 'out1', dh_preheater, 'in2', label='61')\n",
    "dh_preheat2dh_cond = Connection(dh_preheater, 'out2', dh_condenser, 'in2', label='62')\n",
    "dh_cond2dh_heatsink = Connection(dh_condenser, 'out2', dh_heatsink, 'in1', label='63')\n",
    "\n",
    "nw.add_conns(\n",
    "    dh_heatsink2dh_cc, dh_cc2dh_preheat, dh_preheat2dh_cond,\n",
    "    dh_cond2dh_heatsink\n",
    "    )\n",
    "\n",
    "# Parametrization\n",
    "# Components parameter\n",
    "steam_turbine.set_attr(eta_s=0.9)\n",
    "steam_pump.set_attr(eta_s=0.8)\n",
    "\n",
    "dh_condenser.set_attr(pr1=1, pr2=1)\n",
    "dh_preheater.set_attr(pr1=1, pr2=1)\n",
    "\n",
    "# Connection parameter\n",
    "# Geothermal steam strand\n",
    "p_dh_condenser = PSI(\"P\", \"Q\", 0, \"T\", 105 + 273.15, 'water') * 1e-5\n",
    "steam_turb2dh_cond.set_attr(p=p_dh_condenser)\n",
    "\n",
    "steam_source2steam_turb.set_attr(m=500*0.45, p=10.8, x=1, fluid=flu_vec_water)\n",
    "steam_pump2geo_sink2.set_attr(T=55, p=30)\n",
    "\n",
    "# District heating system\n",
    "dh_cond2dh_heatsink.set_attr(T=100, p=10, fluid=flu_vec_water)\n",
    "dh_heatsink2dh_cc.set_attr(T=50)\n",
    "\n",
    "nw.solve('design')\n",
    "\n",
    "steam_turb2dh_cond.set_attr(p=None)\n",
    "dh_condenser.set_attr(ttd_u=5)\n",
    "\n",
    "nw.solve('design')"
   ]
  },
  {
   "attachments": {},
   "cell_type": "markdown",
   "metadata": {},
   "source": [
    "**Second Step**: Connecting ORC with Steam Cycle\n",
    "\n",
    "1. Build up the merge part\n",
    "2. Build up the seperator part\n",
    "3. Set busses und solve the geothermal combined heat and power plant\n",
    "4. Create and execute `ExergyAnalysis` instance"
   ]
  },
  {
   "cell_type": "code",
   "execution_count": 4,
   "metadata": {
    "tags": [
     "hide-cell"
    ]
   },
   "outputs": [
    {
     "name": "stdout",
     "output_type": "stream",
     "text": [
      "\n",
      " iter  | residual   | progress   | massflow   | pressure   | enthalpy   | fluid      |            \n",
      "-------+------------+------------+------------+------------+------------+------------+\n",
      " 1     | 6.48e+08   | 50 %       | 4.08e+03   | 2.87e+06   | 2.18e+07   | 2.56e-14   |            \n",
      " 2     | 1.25e+08   | 50 %       | 4.81e+03   | 4.78e+05   | 3.35e+05   | 8.88e-32   |            \n",
      " 3     | 1.35e+06   | 50 %       | 9.19e+02   | 7.41e+03   | 8.53e+03   | 0.00e+00   |            \n",
      " 4     | 1.95e+04   | 50 %       | 1.61e+00   | 8.80e+02   | 2.48e+02   | 1.61e-16   |            \n",
      " 5     | 7.64e+00   | 51 %       | 1.52e-03   | 2.01e-01   | 4.93e-02   | 4.40e-44   |            \n",
      " 6     | 1.82e-06   | 53 %       | 5.78e-04   | 1.48e-01   | 3.81e-02   | 2.49e-34   |            \n",
      "Total iterations: 6, Calculation time: 0.16 s, Iterations per second: 37.48\n",
      "\n",
      "##### RESULTS (Pump) #####\n",
      "+-----------------+----------+----------+----------+\n",
      "|                 |        P |    eta_s |       pr |\n",
      "|-----------------+----------+----------+----------|\n",
      "| ORC Pump        | 1.56e+05 | \u001b[94m8.00e-01\u001b[0m | 2.50e+00 |\n",
      "| Geothermal Pump | 1.22e+06 | \u001b[94m8.00e-01\u001b[0m | 2.78e+00 |\n",
      "| Steam Pump      | 2.74e+05 | \u001b[94m8.00e-01\u001b[0m | 8.93e+00 |\n",
      "+-----------------+----------+----------+----------+\n",
      "##### RESULTS (HeatExchanger) #####\n",
      "+----------------------------+-----------+----------+----------+----------+----------+----------+----------+-----------+-----------+\n",
      "|                            |         Q |       kA |   td_log |    ttd_u |    ttd_l |      pr1 |      pr2 |     zeta1 |     zeta2 |\n",
      "|----------------------------+-----------+----------+----------+----------+----------+----------+----------+-----------+-----------|\n",
      "| ORC Preheater              | -2.44e+07 | 1.41e+06 | 1.73e+01 | 1.50e+01 | 1.99e+01 | \u001b[94m1.00e+00\u001b[0m | \u001b[94m1.00e+00\u001b[0m |  0.00e+00 |  0.00e+00 |\n",
      "| ORC Evaporator             | -1.26e+08 | 2.89e+06 | 4.35e+01 | 1.17e+02 | \u001b[94m1.00e+01\u001b[0m | \u001b[94m1.00e+00\u001b[0m | 1.00e+00 |  0.00e+00 | -5.44e-15 |\n",
      "| District Heating Preheater | -4.72e+07 | 2.41e+06 | 1.96e+01 | 5.02e+01 | 5.00e+00 | \u001b[94m1.00e+00\u001b[0m | \u001b[94m1.00e+00\u001b[0m | -1.72e-12 |  0.00e+00 |\n",
      "+----------------------------+-----------+----------+----------+----------+----------+----------+----------+-----------+-----------+\n",
      "##### RESULTS (Condenser) #####\n",
      "+----------------------------+-----------+----------+----------+----------+----------+----------+----------+----------+----------+\n",
      "|                            |         Q |       kA |   td_log |    ttd_u |    ttd_l |      pr1 |      pr2 |    zeta1 |    zeta2 |\n",
      "|----------------------------+-----------+----------+----------+----------+----------+----------+----------+----------+----------|\n",
      "| ORC Condenser              | -1.39e+08 | 1.93e+07 | 7.21e+00 | \u001b[94m5.00e+00\u001b[0m | 1.00e+01 | \u001b[94m1.00e+00\u001b[0m | \u001b[94m1.00e+00\u001b[0m | 8.65e-16 | 0.00e+00 |\n",
      "| District Heating Condenser | -4.50e+08 | 2.30e+07 | 1.96e+01 | \u001b[94m5.00e+00\u001b[0m | 5.02e+01 | \u001b[94m1.00e+00\u001b[0m | \u001b[94m1.00e+00\u001b[0m | 1.12e-15 | 0.00e+00 |\n",
      "+----------------------------+-----------+----------+----------+----------+----------+----------+----------+----------+----------+\n",
      "##### RESULTS (Turbine) #####\n",
      "+---------------+-----------+----------+----------+\n",
      "|               |         P |    eta_s |       pr |\n",
      "|---------------+-----------+----------+----------|\n",
      "| ORC Turbine   | -1.13e+07 | \u001b[94m9.00e-01\u001b[0m | 4.00e-01 |\n",
      "| Steam Turbine | -7.60e+07 | \u001b[94m9.00e-01\u001b[0m | 1.12e-01 |\n",
      "+---------------+-----------+----------+----------+\n",
      "##### RESULTS (CycleCloser) #####\n",
      "+-------------------------------+------------------+-------------------+\n",
      "|                               |   mass_deviation |   fluid_deviation |\n",
      "|-------------------------------+------------------+-------------------|\n",
      "| ORC Cycle Closer              |         0.00e+00 |          0.00e+00 |\n",
      "| District Heating Cycle Closer |         0.00e+00 |          0.00e+00 |\n",
      "+-------------------------------+------------------+-------------------+\n",
      "##### RESULTS (HeatExchangerSimple) #####\n",
      "+---------------------------+-----------+----------+----------+-----+-----+------+------+--------+\n",
      "|                           |         Q |       pr |     zeta |   D |   L |   ks |   kA |   Tamb |\n",
      "|---------------------------+-----------+----------+----------+-----+-----+------+------+--------|\n",
      "| District Heating Consumer | -4.98e+08 | 1.00e+00 | 0.00e+00 | nan | nan |  nan |  nan |    nan |\n",
      "+---------------------------+-----------+----------+----------+-----+-----+------+------+--------+\n",
      "##### RESULTS (Connection) #####\n",
      "+----+-----------+-----------+-----------+-----------+\n",
      "|    |         m |         p |         h |         T |\n",
      "|----+-----------+-----------+-----------+-----------|\n",
      "| 30 | 3.895e+02 | 3.224e+00 | 1.698e+01 | 3.511e+01 |\n",
      "| 31 | 3.895e+02 | 3.224e+00 | 1.698e+01 | 3.511e+01 |\n",
      "| 32 | 3.895e+02 | 3.224e+00 | 7.951e+01 | 6.116e+01 |\n",
      "| 33 | 5.787e+02 | 3.224e+00 | 9.198e+01 | 6.616e+01 |\n",
      "| 34 | 5.787e+02 | 3.224e+00 | 3.095e+02 | 6.616e+01 |\n",
      "| 35 | 3.895e+02 | 3.224e+00 | 4.027e+02 | 6.616e+01 |\n",
      "| 36 | 3.895e+02 | 1.290e+00 | 3.737e+02 | 4.594e+01 |\n",
      "| 37 | 3.895e+02 | 1.290e+00 | 1.658e+01 | 3.500e+01 |\n",
      "| 51 | 2.764e+04 | \u001b[94m1.013e+00\u001b[0m | 4.244e+02 | \u001b[94m2.500e+01\u001b[0m |\n",
      "| 52 | 2.764e+04 | 1.013e+00 | 4.295e+02 | \u001b[94m3.000e+01\u001b[0m |\n",
      "| 18 | 2.750e+02 | 1.080e+01 | 3.197e+02 | 7.616e+01 |\n",
      "| 13 | 2.250e+02 | 1.209e+00 | 2.442e+03 | 1.050e+02 |\n",
      "| 14 | 2.250e+02 | 1.209e+00 | 4.403e+02 | 1.050e+02 |\n",
      "| 15 | 2.250e+02 | 1.209e+00 | 2.303e+02 | \u001b[94m5.500e+01\u001b[0m |\n",
      "| 60 | 2.374e+03 | 1.000e+01 | 2.102e+02 | \u001b[94m5.000e+01\u001b[0m |\n",
      "| 61 | 2.374e+03 | 1.000e+01 | 2.102e+02 | 5.000e+01 |\n",
      "| 62 | 2.374e+03 | 1.000e+01 | 2.301e+02 | 5.476e+01 |\n",
      "| 63 | 2.374e+03 | \u001b[94m1.000e+01\u001b[0m | 4.198e+02 | \u001b[94m1.000e+02\u001b[0m |\n",
      "| 16 | 2.250e+02 | 1.080e+01 | 2.316e+02 | 5.510e+01 |\n",
      "| 19 | 2.750e+02 | 1.080e+01 | 2.312e+02 | \u001b[94m5.500e+01\u001b[0m |\n",
      "| 20 | 5.000e+02 | 1.080e+01 | 2.313e+02 | 5.504e+01 |\n",
      "| 21 | 5.000e+02 | \u001b[94m3.000e+01\u001b[0m | 2.338e+02 | 5.523e+01 |\n",
      "| 11 | \u001b[94m5.000e+02\u001b[0m | \u001b[94m1.080e+01\u001b[0m | 1.679e+03 | 1.832e+02 |\n",
      "| 17 | 2.750e+02 | 1.080e+01 | 7.774e+02 | 1.832e+02 |\n",
      "| 12 | 2.250e+02 | 1.080e+01 | 2.780e+03 | 1.832e+02 |\n",
      "+----+-----------+-----------+-----------+-----------+\n",
      "##### RESULTS (Bus: Heat Input) #####\n",
      "+-------------------+-------------------+-------------+--------------+\n",
      "|                   |   component value |   bus value |   efficiency |\n",
      "|-------------------+-------------------+-------------+--------------|\n",
      "| Geothermal Source |         0.000e+00 |   0.000e+00 |    1.000e+00 |\n",
      "| Geothermal Sink   |         0.000e+00 |   0.000e+00 |    1.000e+00 |\n",
      "| total             |         0.000e+00 |   0.000e+00 |  nan         |\n",
      "+-------------------+-------------------+-------------+--------------+\n",
      "##### RESULTS (Bus: Power Output) #####\n",
      "+-----------------+-------------------+-------------+--------------+\n",
      "|                 |   component value |   bus value |   efficiency |\n",
      "|-----------------+-------------------+-------------+--------------|\n",
      "| Steam Turbine   |        -7.598e+07 |  -7.409e+07 |    9.751e-01 |\n",
      "| ORC Turbine     |        -1.130e+07 |  -1.102e+07 |    9.751e-01 |\n",
      "| Steam Pump      |         2.736e+05 |   2.835e+05 |    9.652e-01 |\n",
      "| ORC Pump        |         1.557e+05 |   1.613e+05 |    9.652e-01 |\n",
      "| Geothermal Pump |         1.216e+06 |   1.260e+06 |    9.652e-01 |\n",
      "| total           |        -8.563e+07 |  -8.340e+07 |  nan         |\n",
      "+-----------------+-------------------+-------------+--------------+\n",
      "##### RESULTS (Bus: Heat Output District Heating) #####\n",
      "+---------------------------+-------------------+-------------+--------------+\n",
      "|                           |   component value |   bus value |   efficiency |\n",
      "|---------------------------+-------------------+-------------+--------------|\n",
      "| District Heating Consumer |        -4.977e+08 |  -4.977e+08 |    1.000e+00 |\n",
      "| total                     |        -4.977e+08 |  -4.977e+08 |  nan         |\n",
      "+---------------------------+-------------------+-------------+--------------+\n",
      "##### RESULTS (Bus: Heat Output Cooling) #####\n",
      "+----------------+-------------------+-------------+--------------+\n",
      "|                |   component value |   bus value |   efficiency |\n",
      "|----------------+-------------------+-------------+--------------|\n",
      "| Coolant Source |         0.000e+00 |   0.000e+00 |    1.000e+00 |\n",
      "| Coolant Sink   |         0.000e+00 |   0.000e+00 |    1.000e+00 |\n",
      "| total          |         0.000e+00 |   0.000e+00 |  nan         |\n",
      "+----------------+-------------------+-------------+--------------+\n",
      "eta_el = 0.115\n",
      "eta_th = 0.688\n",
      "eta_chp = 0.804\n",
      "##### RESULTS: Aggregation of components and busses #####\n",
      "+-------------------------------+-------------+-------------+-------------+-------------+-------------+-------------+\n",
      "|                               |         E_F |         E_P |         E_D |     epsilon |        y_Dk |       y*_Dk |\n",
      "|-------------------------------+-------------+-------------+-------------+-------------+-------------+-------------|\n",
      "| District Heating Condenser    |   9.530e+07 |   6.681e+07 |   2.849e+07 |   7.011e-01 |   1.300e-01 |   4.462e-01 |\n",
      "| ORC Evaporator                |   3.226e+07 |   1.527e+07 |   1.700e+07 |   4.732e-01 |   7.755e-02 |   2.662e-01 |\n",
      "| Steam Turbine                 |   8.264e+07 |   7.409e+07 |   8.544e+06 |   8.966e-01 |   3.898e-02 |   1.338e-01 |\n",
      "| ORC Condenser                 |   4.641e+06 |   1.153e+06 |   3.488e+06 |   2.485e-01 |   1.591e-02 |   5.463e-02 |\n",
      "| District Heating Preheater    |   7.294e+06 |   3.972e+06 |   3.322e+06 |   5.446e-01 |   1.515e-02 |   5.203e-02 |\n",
      "| ORC Turbine                   |   1.247e+07 |   1.102e+07 |   1.457e+06 |   8.832e-01 |   6.646e-03 |   2.282e-02 |\n",
      "| ORC Preheater                 |   2.911e+06 |   1.751e+06 |   1.160e+06 |   6.014e-01 |   5.293e-03 |   1.817e-02 |\n",
      "| Geothermal Pump               |   1.260e+06 |   9.955e+05 |   2.647e+05 |   7.899e-01 |   1.208e-03 |   4.146e-03 |\n",
      "| Steam Pump                    |   2.835e+05 |   2.239e+05 |   5.956e+04 |   7.899e-01 |   2.717e-04 |   9.329e-04 |\n",
      "| ORC Pump                      |   1.613e+05 |   1.256e+05 |   3.573e+04 |   7.785e-01 |   1.630e-04 |   5.596e-04 |\n",
      "| ORC Drum                      |   2.117e+07 |   2.114e+07 |   3.168e+04 |   9.985e-01 |   1.445e-04 |   4.962e-04 |\n",
      "| Merge                         |   4.535e+03 |   4.528e+03 |   6.554e+00 |   9.986e-01 |   2.990e-08 |   1.026e-07 |\n",
      "| District Heating Consumer     |   7.078e+07 |   7.078e+07 |   0.000e+00 |   1.000e+00 |   0.000e+00 |   0.000e+00 |\n",
      "| ORC Cycle Closer              | nan         | nan         | nan         | nan         | nan         | nan         |\n",
      "| Coolant Sink                  | nan         | nan         | nan         | nan         | nan         | nan         |\n",
      "| Coolant Source                | nan         | nan         | nan         | nan         | nan         | nan         |\n",
      "| District Heating Cycle Closer | nan         | nan         | nan         | nan         | nan         | nan         |\n",
      "| Geothermal Sink               | nan         | nan         | nan         | nan         | nan         | nan         |\n",
      "| Geothermal Source             | nan         | nan         | nan         | nan         | nan         | nan         |\n",
      "| Seperator                     | nan         | nan         | nan         | nan         | nan         | nan         |\n",
      "+-------------------------------+-------------+-------------+-------------+-------------+-------------+-------------+\n",
      "##### RESULTS: Network exergy analysis #####\n",
      "+-----------+-----------+-----------+-----------+-----------+\n",
      "|       E_F |       E_P |       E_D |       E_L |   epsilon |\n",
      "|-----------+-----------+-----------+-----------+-----------|\n",
      "| 2.192e+08 | 1.542e+08 | 6.384e+07 | 1.153e+06 | 7.035e-01 |\n",
      "+-----------+-----------+-----------+-----------+-----------+\n",
      "epsilon_chp = 0.703\n"
     ]
    }
   ],
   "source": [
    "from tespy.tools import ExergyAnalysis\n",
    "\n",
    "# Components\n",
    "# Geothermal heat source with interfaces\n",
    "geo_source = Source('Geothermal Source')\n",
    "geo_sink = Sink('Geothermal Sink')\n",
    "seperator = DropletSeparator('Seperator')\n",
    "merge = Merge('Merge')\n",
    "\n",
    "# Build up the merge part\n",
    "# Delete old connections\n",
    "nw.del_conns(geo_pump2geo_sink1, steam_pump2geo_sink2, orc_preheat2geo_pump)\n",
    "\n",
    "# Set new connections\n",
    "steam_pump2merge = Connection(steam_pump, 'out1', merge, 'in1', label='16')\n",
    "orc_preheat2merge = Connection(orc_preheater, 'out1', merge, 'in2', label='19')\n",
    "merge2geo_pump = Connection(merge, 'out1', geo_pump, 'in1', label='20')\n",
    "geo_pump2geo_sink = Connection(geo_pump, 'out1', geo_sink, 'in1', label='21')\n",
    "\n",
    "nw.add_conns(steam_pump2merge, orc_preheat2merge, merge2geo_pump, geo_pump2geo_sink)\n",
    "\n",
    "# Parametrize new connections\n",
    "orc_preheat2merge.set_attr(T=55)\n",
    "geo_pump2geo_sink.set_attr(p=30)\n",
    "dh_preheat2steam_pump.set_attr(T=55)\n",
    "\n",
    "# Build up the seperator part\n",
    "# Delete old connections\n",
    "nw.del_conns(liquid_source2orc_eva, steam_source2steam_turb)\n",
    "\n",
    "# Set new connections\n",
    "geo_source2sep = Connection(geo_source,'out1', seperator, 'in1', label='11')\n",
    "sep2steam_turb = Connection(seperator, 'out2', steam_turbine, 'in1', label='12')\n",
    "sep2orc_eva = Connection(seperator,'out1', orc_evaporator, 'in1', label='17')\n",
    "\n",
    "nw.add_conns(geo_source2sep, sep2orc_eva, sep2steam_turb)\n",
    "\n",
    "# Parametrize new connections\n",
    "geo_source2sep.set_attr(m=500, p=10.8, x=0.45, fluid=flu_vec_water)\n",
    "sep2orc_eva.set_attr(m0=500*0.55)\n",
    "sep2steam_turb.set_attr(m0=500*0.45)\n",
    "\n",
    "# Busses\n",
    "heat_in = Bus('Heat Input')\n",
    "heat_in.add_comps(\n",
    "    {'comp': geo_source, 'base': 'bus'},\n",
    "    {'comp': geo_sink, 'base': 'component'}\n",
    "    )\n",
    "\n",
    "power_out = Bus('Power Output')\n",
    "power_out.add_comps(\n",
    "    {'comp': steam_turbine, 'char': 0.985*0.99, 'base': 'component'},\n",
    "    {'comp': orc_turbine, 'char': 0.985*0.99, 'base': 'component'},\n",
    "    {'comp': steam_pump, 'char': 0.975*0.99, 'base': 'bus'},\n",
    "    {'comp': orc_pump, 'char': 0.975*0.99, 'base': 'bus'},\n",
    "    {'comp': geo_pump, 'char': 0.975*0.99, 'base': 'bus'}\n",
    "    )\n",
    "\n",
    "heat_out_dh = Bus('Heat Output District Heating')\n",
    "heat_out_dh.add_comps({'comp': dh_heatsink, 'base': 'component'})\n",
    "\n",
    "heat_out_cool = Bus('Heat Output Cooling')\n",
    "heat_out_cool.add_comps(\n",
    "    {'comp': cool_source, 'base': 'bus'},\n",
    "    {'comp': cool_sink, 'base': 'component'}\n",
    "    )\n",
    "\n",
    "nw.add_busses(heat_in, power_out, heat_out_dh, heat_out_cool)\n",
    "\n",
    "# Solve model\n",
    "nw.solve(\"design\")\n",
    "nw.print_results()\n",
    "\n",
    "# Calculate thermal efficiency\n",
    "h_in = PSI('H', 'Q', 0.45, 'P', 10.8e5, 'water')\n",
    "h_out = PSI('H', 'T', 55 + 273.15, 'P', 30e5, 'water')\n",
    "delta_H = 500 * (h_in - h_out)\n",
    "eta_el = abs(power_out.P.val)/delta_H\n",
    "eta_th = abs(heat_out_dh.P.val)/delta_H\n",
    "eta_chp = (abs(power_out.P.val)+abs(heat_out_dh.P.val))/delta_H\n",
    "print(f'eta_el = {eta_el:.3f}')\n",
    "print(f'eta_th = {eta_th:.3f}')\n",
    "print(f'eta_chp = {eta_chp:.3f}')\n",
    "\n",
    "# # Create and execute exergy analysis\n",
    "dh_heatsink.set_attr(dissipative=False)\n",
    "ean = ExergyAnalysis(\n",
    "    network=nw, E_F=[heat_in], E_P=[heat_out_dh, power_out], E_L=[heat_out_cool])\n",
    "ean.analyse(pamb=1.013, Tamb=25)\n",
    "ean.print_results(components=False, connections=False, busses=False, groups=False)\n",
    "epsilon_chp = ean.network_data['epsilon']\n",
    "print(f'epsilon_chp = {epsilon_chp:.3f}')"
   ]
  },
  {
   "attachments": {},
   "cell_type": "markdown",
   "metadata": {},
   "source": [
    "## Proposed solution 1.2\n",
    "\n",
    "### Geothermal plant with only power generation\n",
    "\n",
    "**First Step**: Build low pressure ORC for complete condensation operation\n",
    "\n",
    "Be sure this one runs standalone first!"
   ]
  },
  {
   "cell_type": "code",
   "execution_count": 5,
   "metadata": {
    "tags": [
     "hide-cell"
    ]
   },
   "outputs": [],
   "source": [
    "nw_el = Network(fluids=['water', 'air', 'Isopentane'])\n",
    "nw_el.set_attr(T_unit='C', p_unit='bar', h_unit='kJ / kg')\n",
    "\n",
    "flu_vec_orc = {'water': 0, 'air': 0, 'Isopentane': 1}\n",
    "flu_vec_water = {'water': 1, 'air': 0, 'Isopentane': 0}\n",
    "flu_vec_air = {'water': 0, 'air': 1, 'Isopentane': 0}\n",
    "\n",
    "# Components\n",
    "# Low pressure ORC\n",
    "lp_orc_cc = CycleCloser('LP ORC Cycle Closer')\n",
    "lp_orc_preheater = HeatExchanger('LP ORC Preheater')\n",
    "lp_orc_drum = Drum('LP ORC Drum')\n",
    "lp_orc_evaporator = HeatExchanger('LP ORC Evaporator')\n",
    "lp_orc_turbine = Turbine('LP ORC Turbine')\n",
    "lp_orc_condenser = Condenser('LP ORC Condenser')\n",
    "lp_orc_pump = Pump('LP ORC Pump')\n",
    "\n",
    "# Condenser coolant cycle\n",
    "lp_cool_source = Source('LP Coolant Source')\n",
    "lp_cool_sink = Sink('LP Coolant Sink')\n",
    "\n",
    "# Geothermal steam Cycle\n",
    "steam_turbine = Turbine('Steam Turbine')\n",
    "steam_pump = Pump('Steam Pump')\n",
    "\n",
    "# Auxiliary source and sink\n",
    "steam_source = Source('Steam Sep Source')\n",
    "geo_sink2 = Sink('Geothermal Sink2')\n",
    "\n",
    "# Connections\n",
    "# Low pressure ORC\n",
    "lp_orc_pump2lp_orc_cc = Connection(lp_orc_pump, 'out1', lp_orc_cc, 'in1', label='40')\n",
    "lp_orc_cc2lp_orc_preheater = Connection(lp_orc_cc, 'out1', lp_orc_preheater, 'in2', label='41')\n",
    "lp_orc_preheat2lp_orc_drum = Connection(lp_orc_preheater, 'out2', lp_orc_drum, 'in1', label='42')\n",
    "lp_orc_drum2lp_orc_eva = Connection(lp_orc_drum, 'out1', lp_orc_evaporator, 'in2', label='43')\n",
    "lp_orc_eva2lp_orc_drum = Connection(lp_orc_evaporator, 'out2', lp_orc_drum, 'in2', label='44')\n",
    "lp_orc_drum2lp_orc_turb = Connection(lp_orc_drum, 'out2', lp_orc_turbine, 'in1', label='45')\n",
    "lp_orc_turb2lp_orc_cond = Connection(lp_orc_turbine, 'out1', lp_orc_condenser, 'in1', label='46')\n",
    "lp_orc_cond2lp_orc_pump = Connection(lp_orc_condenser, 'out1', lp_orc_pump, 'in1', label='47')\n",
    "\n",
    "nw_el.add_conns(\n",
    "    lp_orc_pump2lp_orc_cc, lp_orc_cc2lp_orc_preheater, lp_orc_preheat2lp_orc_drum, \n",
    "    lp_orc_drum2lp_orc_eva, lp_orc_eva2lp_orc_drum, lp_orc_drum2lp_orc_turb, \n",
    "    lp_orc_turb2lp_orc_cond, lp_orc_cond2lp_orc_pump\n",
    "    )\n",
    "\n",
    "# Condenser coolant cycle\n",
    "lp_cool_source2lp_orc_cond = Connection(lp_cool_source, 'out1', lp_orc_condenser, 'in2', label='71')\n",
    "lp_orc_cond2lp_cool_sink = Connection(lp_orc_condenser, 'out2', lp_cool_sink, 'in1', label='72')\n",
    "\n",
    "nw_el.add_conns(lp_cool_source2lp_orc_cond, lp_orc_cond2lp_cool_sink)\n",
    "\n",
    "# Steam cyclye\n",
    "steam_source2steam_turb = Connection(steam_source, 'out1', steam_turbine, 'in1', label='12')\n",
    "steam_turb2lp_orc_eva = Connection(steam_turbine, 'out1', lp_orc_evaporator, 'in1', label='13')\n",
    "lp_orc_eva2lp_orc_preheat = Connection(lp_orc_evaporator, 'out1', lp_orc_preheater, 'in1', label='14')\n",
    "lp_orc_preheat2steam_pump = Connection(lp_orc_preheater, 'out1', steam_pump, 'in1', label='15')\n",
    "steam_pump2geo_sink2 = Connection(steam_pump, 'out1', geo_sink2, 'in1', label='16')\n",
    "\n",
    "nw_el.add_conns(\n",
    "    steam_source2steam_turb, steam_turb2lp_orc_eva, lp_orc_eva2lp_orc_preheat,\n",
    "    lp_orc_preheat2steam_pump, steam_pump2geo_sink2\n",
    "    )"
   ]
  },
  {
   "attachments": {},
   "cell_type": "markdown",
   "metadata": {},
   "source": [
    "**Second Step**: Set the process parameters and starting values. After that solve orc cycle with starting and final values"
   ]
  },
  {
   "cell_type": "code",
   "execution_count": 6,
   "metadata": {
    "tags": [
     "hide-cell"
    ]
   },
   "outputs": [
    {
     "name": "stderr",
     "output_type": "stream",
     "text": [
      "Invalid value for ttd_l: ttd_l = -2.214791294038264 below minimum value (0) at component LP ORC Evaporator.\n"
     ]
    },
    {
     "name": "stdout",
     "output_type": "stream",
     "text": [
      "\n",
      " iter  | residual   | progress   | massflow   | pressure   | enthalpy   | fluid      |            \n",
      "-------+------------+------------+------------+------------+------------+------------+\n",
      " 1     | 1.06e+07   | 50 %       | 1.52e+05   | 9.41e+06   | 4.06e+08   | 0.00e+00   |            \n",
      " 2     | 1.48e+09   | 50 %       | 1.75e+05   | 4.29e+06   | 1.62e+06   | 0.00e+00   |            \n",
      " 3     | 4.08e+08   | 50 %       | 6.25e+03   | 1.78e+06   | 1.21e+06   | 0.00e+00   |            \n",
      " 4     | 7.47e+07   | 50 %       | 7.12e+02   | 7.12e+05   | 3.96e+05   | 0.00e+00   |            \n",
      " 5     | 4.81e+06   | 50 %       | 2.71e+02   | 2.42e+05   | 3.02e+04   | 0.00e+00   |            \n",
      " 6     | 5.72e+05   | 50 %       | 3.77e+01   | 5.50e+04   | 1.88e+03   | 0.00e+00   |            \n",
      " 7     | 2.90e+02   | 51 %       | 9.06e-01   | 1.46e-11   | 1.48e+00   | 0.00e+00   |            \n",
      " 8     | 1.10e-01   | 52 %       | 3.10e-05   | 1.46e-11   | 6.89e-07   | 0.00e+00   |            \n",
      " 9     | 2.16e-07   | 53 %       | 1.45e-09   | 1.46e-11   | 4.97e-08   | 0.00e+00   |            \n",
      "Total iterations: 9, Calculation time: 0.09 s, Iterations per second: 96.80\n",
      "\n",
      " iter  | residual   | progress   | massflow   | pressure   | enthalpy   | fluid      |            \n",
      "-------+------------+------------+------------+------------+------------+------------+\n",
      " 1     | 1.22e+01   | 51 %       | 1.35e+03   | 1.22e+06   | 1.74e+05   | 0.00e+00   |            \n",
      " 2     | 2.92e+06   | 50 %       | 5.98e+02   | 1.67e+05   | 2.59e+04   | 0.00e+00   |            \n",
      " 3     | 8.82e+04   | 50 %       | 5.96e+01   | 2.24e+03   | 2.61e+03   | 0.00e+00   |            \n",
      " 4     | 9.97e+02   | 50 %       | 3.23e-01   | 4.98e+01   | 1.60e+01   | 0.00e+00   |            \n",
      " 5     | 3.32e-02   | 52 %       | 2.76e-06   | 1.75e-03   | 1.33e-04   | 0.00e+00   |            \n",
      " 6     | 1.76e-06   | 53 %       | 7.60e-06   | 2.18e-03   | 6.04e-04   | 0.00e+00   |            \n",
      "Total iterations: 6, Calculation time: 0.09 s, Iterations per second: 70.35\n"
     ]
    }
   ],
   "source": [
    "from CoolProp.CoolProp import PropsSI as PSI\n",
    "\n",
    "# Parametrization\n",
    "# Component parameters\n",
    "steam_turbine.set_attr(eta_s=0.9)\n",
    "lp_orc_turbine.set_attr(eta_s=0.9)\n",
    "\n",
    "lp_orc_pump.set_attr(eta_s=0.8)\n",
    "steam_pump.set_attr(eta_s=0.8)\n",
    "\n",
    "lp_orc_preheater.set_attr(pr1=1, pr2=1)\n",
    "lp_orc_evaporator.set_attr(pr1=1)\n",
    "lp_orc_condenser.set_attr(pr1=1, pr2=1)\n",
    "\n",
    "# Connection parameter\n",
    "# Low pressure ORC\n",
    "p_lp_orc_condenser = PSI(\"P\", \"Q\", 0, \"T\",  35 + 273.15, 'Isopentane') * 1e-5\n",
    "lp_orc_turb2lp_orc_cond.set_attr(p=p_lp_orc_condenser, fluid=flu_vec_orc)\n",
    "\n",
    "p_lp_orc_evaporator = PSI(\"P\", \"Q\", 1, \"T\", 100 + 273.15, 'Isopentane') * 1e-5\n",
    "lp_orc_eva2lp_orc_drum.set_attr(p=p_lp_orc_evaporator, x=0.5)\n",
    "\n",
    "lp_orc_preheat2lp_orc_drum.set_attr(Td_bp=-5)\n",
    "\n",
    "# Geothermal steam cyclye\n",
    "steam_source2steam_turb.set_attr(m=500*0.45, p=10.8, x=0, fluid=flu_vec_water)\n",
    "p_steam_lp_orc_evap = PSI(\"P\", \"Q\", 0, \"T\",  120 + 273.15, 'water') * 1e-5\n",
    "steam_turb2lp_orc_eva.set_attr(p=p_steam_lp_orc_evap)\n",
    "# lp_orc_eva2lp_orc_preheat.set_attr(x0=0)\n",
    "steam_pump2geo_sink2.set_attr(T=55, p=30)\n",
    "\n",
    "# Condenser coolant cycle\n",
    "lp_cool_source2lp_orc_cond.set_attr(T=25, p=1.013, fluid=flu_vec_air)\n",
    "lp_orc_cond2lp_cool_sink.set_attr(T=30)\n",
    "\n",
    "# Initial solve with starting values\n",
    "nw_el.solve(\"design\")\n",
    "\n",
    "# Final solve\n",
    "lp_orc_eva2lp_orc_drum.set_attr(p=None)\n",
    "lp_orc_evaporator.set_attr(ttd_l=10)\n",
    "\n",
    "lp_orc_turb2lp_orc_cond.set_attr(p=None)\n",
    "lp_orc_condenser.set_attr(ttd_u=5)\n",
    "\n",
    "nw_el.solve(\"design\")"
   ]
  },
  {
   "attachments": {},
   "cell_type": "markdown",
   "metadata": {},
   "source": [
    "**Third Step**: *Identically* build the ORC as in {ref}`orc-proposed-solution-1-label`"
   ]
  },
  {
   "cell_type": "code",
   "execution_count": 7,
   "metadata": {
    "tags": [
     "hide-cell"
    ]
   },
   "outputs": [
    {
     "name": "stderr",
     "output_type": "stream",
     "text": [
      "Invalid value for ttd_l: ttd_l = -19.95634661866586 below minimum value (0) at component ORC Evaporator.\n",
      "Invalid value for ttd_u: ttd_u = -14.956346618662621 below minimum value (0) at component ORC Preheater.\n"
     ]
    },
    {
     "name": "stdout",
     "output_type": "stream",
     "text": [
      "\n",
      " iter  | residual   | progress   | massflow   | pressure   | enthalpy   | fluid      |            \n",
      "-------+------------+------------+------------+------------+------------+------------+\n",
      " 1     | 3.06e+08   | 50 %       | 2.99e+05   | 7.93e+06   | 5.70e+06   | 0.00e+00   |            \n",
      " 2     | 5.88e+09   | 50 %       | 7.65e+06   | 3.09e+06   | 1.29e+08   | 0.00e+00   |            \n",
      " 3     | 3.66e+10   | 50 %       | 6.44e+06   | 1.27e+06   | 2.81e+07   | 0.00e+00   |            \n",
      " 4     | 1.78e+10   | 50 %       | 1.03e+06   | 5.57e+05   | 1.10e+06   | 0.00e+00   |            \n",
      " 5     | 3.16e+09   | 50 %       | 4.34e+05   | 2.13e+05   | 5.90e+06   | 0.00e+00   |            \n",
      " 6     | 1.42e+08   | 50 %       | 8.72e+03   | 5.50e+04   | 1.42e+05   | 0.00e+00   |            \n",
      " 7     | 2.89e+05   | 50 %       | 1.26e+01   | 1.05e-05   | 3.02e+02   | 0.00e+00   |            \n",
      " 8     | 1.57e+00   | 51 %       | 5.20e-04   | 1.51e-06   | 6.07e-04   | 0.00e+00   |            \n",
      " 9     | 2.76e-07   | 53 %       | 2.21e-08   | 6.24e-06   | 2.07e-06   | 0.00e+00   |            \n",
      "Total iterations: 9, Calculation time: 0.15 s, Iterations per second: 59.35\n",
      "\n",
      " iter  | residual   | progress   | massflow   | pressure   | enthalpy   | fluid      |            \n",
      "-------+------------+------------+------------+------------+------------+------------+\n",
      " 1     | 3.00e+01   | 51 %       | 2.21e+03   | 6.23e+06   | 4.63e+05   | 0.00e+00   |            \n",
      " 2     | 1.46e+07   | 50 %       | 1.00e+03   | 1.93e+06   | 5.16e+04   | 0.00e+00   |            \n",
      " 3     | 2.39e+06   | 50 %       | 8.29e+02   | 3.88e+05   | 1.47e+04   | 0.00e+00   |            \n",
      " 4     | 1.42e+05   | 50 %       | 2.01e+02   | 2.06e+04   | 6.34e+03   | 0.00e+00   |            \n",
      " 5     | 6.85e+03   | 50 %       | 3.17e+00   | 9.05e+01   | 8.46e+01   | 0.00e+00   |            \n",
      " 6     | 1.16e+00   | 51 %       | 3.76e-04   | 4.46e-02   | 1.43e-02   | 0.00e+00   |            \n",
      " 7     | 1.09e-07   | 53 %       | 3.15e-05   | 7.89e-03   | 2.05e-03   | 0.00e+00   |            \n",
      "Total iterations: 7, Calculation time: 0.16 s, Iterations per second: 44.69\n"
     ]
    }
   ],
   "source": [
    "# Components\n",
    "# ORC\n",
    "orc_cc = CycleCloser('ORC Cycle Closer')\n",
    "orc_preheater = HeatExchanger('ORC Preheater')\n",
    "orc_drum = Drum('ORC Drum')\n",
    "orc_evaporator = HeatExchanger('ORC Evaporator')\n",
    "orc_turbine = Turbine('ORC Turbine')\n",
    "orc_condenser = Condenser('ORC Condenser')\n",
    "orc_pump = Pump('ORC Pump')\n",
    "\n",
    "# Condenser coolant cycle\n",
    "cool_source = Source('Coolant Source')\n",
    "cool_sink = Sink('Coolant Sink')\n",
    "\n",
    "# Auxiliary source and sink\n",
    "liquid_source = Source('Liquid Sep Source')\n",
    "geo_pump = Pump('Geothermal Pump')\n",
    "geo_sink1 = Sink('Geothermal Sink1')\n",
    "\n",
    "# Connections\n",
    "# ORC\n",
    "orc_pump2orc_cc = Connection(orc_pump, 'out1', orc_cc, 'in1', label='30')\n",
    "orc_cc2orc_preheater = Connection(orc_cc, 'out1', orc_preheater, 'in2', label='31')\n",
    "orc_preheat2orc_drum = Connection(orc_preheater, 'out2', orc_drum, 'in1', label='32')\n",
    "orc_drum2orc_eva = Connection(orc_drum, 'out1', orc_evaporator, 'in2', label='33')\n",
    "orc_eva2orc_drum = Connection(orc_evaporator, 'out2', orc_drum, 'in2', label='34')\n",
    "orc_drum2orc_turb = Connection(orc_drum, 'out2', orc_turbine, 'in1', label='35')\n",
    "orc_turb2orc_cond = Connection(orc_turbine, 'out1', orc_condenser, 'in1', label='36')\n",
    "orc_cond2orc_pump = Connection(orc_condenser, 'out1', orc_pump, 'in1', label='37')\n",
    "\n",
    "nw_el.add_conns(\n",
    "    orc_pump2orc_cc, orc_cc2orc_preheater, orc_preheat2orc_drum, orc_drum2orc_eva,\n",
    "    orc_eva2orc_drum, orc_drum2orc_turb, orc_turb2orc_cond, orc_cond2orc_pump\n",
    "    )\n",
    "\n",
    "# Condenser coolant cycle\n",
    "cool_source2orc_cond = Connection(cool_source, 'out1', orc_condenser, 'in2', label='51')\n",
    "orc_cond2cool_sink = Connection(orc_condenser, 'out2', cool_sink, 'in1', label='52')\n",
    "\n",
    "nw_el.add_conns(cool_source2orc_cond, orc_cond2cool_sink)\n",
    "\n",
    "# Geothermal liquid cyclye\n",
    "liquid_source2orc_eva = Connection(liquid_source, 'out1', orc_evaporator, 'in1', label='17')\n",
    "orc_eva2orc_preheat = Connection(orc_evaporator, 'out1', orc_preheater, 'in1', label='18')\n",
    "orc_preheat2geo_pump = Connection(orc_preheater, 'out1', geo_pump, 'in1', label='19')\n",
    "geo_pump2geo_sink1 = Connection(geo_pump, 'out1', geo_sink1, 'in1', label='21')\n",
    "\n",
    "nw_el.add_conns(\n",
    "    liquid_source2orc_eva, orc_eva2orc_preheat, orc_preheat2geo_pump, geo_pump2geo_sink1\n",
    "    )\n",
    "\n",
    "# Parametrization\n",
    "# Component parameters\n",
    "orc_turbine.set_attr(eta_s=0.9)\n",
    "\n",
    "orc_pump.set_attr(eta_s=0.8)\n",
    "geo_pump.set_attr(eta_s=0.8)\n",
    "\n",
    "orc_preheater.set_attr(pr1=1, pr2=1)\n",
    "orc_evaporator.set_attr(pr1=1)\n",
    "orc_condenser.set_attr(pr1=1, pr2=1)\n",
    "\n",
    "# Connection parameter\n",
    "# ORC\n",
    "p_orc_condenser = PSI(\"P\", \"Q\", 0, \"T\", 35 + 273.15, 'Isopentane') * 1e-5\n",
    "orc_turb2orc_cond.set_attr(p=p_orc_condenser, fluid=flu_vec_orc)\n",
    "\n",
    "p_orc_evaporator = PSI(\"P\", \"Q\", 1, \"T\", 150 + 273.15, 'Isopentane') * 1e-5\n",
    "orc_eva2orc_drum.set_attr(p=p_orc_evaporator, x=0.7)\n",
    "\n",
    "orc_preheat2orc_drum.set_attr(Td_bp=-5)\n",
    "\n",
    "# Geothermal liquid cyclye\n",
    "liquid_source2orc_eva.set_attr(m=500*0.55, p=10.8, x=0, fluid=flu_vec_water)\n",
    "geo_pump2geo_sink1.set_attr(T=55, p=30)\n",
    "\n",
    "# Condenser coolant cycle\n",
    "cool_source2orc_cond.set_attr(T=25, p=1.013, fluid=flu_vec_air)\n",
    "orc_cond2cool_sink.set_attr(T=30)\n",
    "\n",
    "# Initial solve with starting values\n",
    "nw_el.solve(\"design\")\n",
    "\n",
    "# Final solve\n",
    "orc_eva2orc_drum.set_attr(p=None)\n",
    "orc_evaporator.set_attr(ttd_l=10)\n",
    "\n",
    "orc_turb2orc_cond.set_attr(p=None)\n",
    "orc_condenser.set_attr(ttd_u=5)\n",
    "\n",
    "nw_el.solve(\"design\")"
   ]
  },
  {
   "attachments": {},
   "cell_type": "markdown",
   "metadata": {},
   "source": [
    "**Fourth Step**: Connecting ORC with low pressure ORC\n",
    "\n",
    "1. Build the merge part\n",
    "2. Build the seperator part\n",
    "3. Set busses und solve the geothermal combined heat and power plant\n",
    "4. Create and execute `ExergyAnalysis` instance"
   ]
  },
  {
   "cell_type": "code",
   "execution_count": 8,
   "metadata": {
    "tags": [
     "hide-cell"
    ]
   },
   "outputs": [
    {
     "name": "stdout",
     "output_type": "stream",
     "text": [
      "\n",
      " iter  | residual   | progress   | massflow   | pressure   | enthalpy   | fluid      |            \n",
      "-------+------------+------------+------------+------------+------------+------------+\n",
      " 1     | 6.48e+08   | 50 %       | 8.73e+04   | 5.17e+06   | 1.68e+07   | 2.72e-14   |            \n",
      " 2     | 3.89e+08   | 50 %       | 5.19e+03   | 1.30e+06   | 7.57e+05   | 3.46e-17   |            \n",
      " 3     | 2.41e+07   | 50 %       | 5.38e+03   | 5.80e+06   | 8.95e+05   | 1.44e-19   |            \n",
      " 4     | 2.45e+07   | 50 %       | 2.15e+03   | 1.04e+06   | 1.53e+05   | 1.61e-16   |            \n",
      " 5     | 6.75e+06   | 50 %       | 2.97e+02   | 1.08e+05   | 1.65e+04   | 9.22e-30   |            \n",
      " 6     | 4.65e+04   | 50 %       | 1.02e+01   | 2.10e+03   | 4.14e+01   | 7.84e-34   |            \n",
      " 7     | 1.45e+01   | 51 %       | 3.40e-03   | 7.12e-01   | 1.03e-02   | 4.36e-31   |            \n",
      " 8     | 1.19e-05   | 53 %       | 1.21e-04   | 3.50e-02   | 9.40e-03   | 7.84e-34   |            \n",
      "Total iterations: 8, Calculation time: 0.24 s, Iterations per second: 32.91\n",
      "\n",
      "##### RESULTS (Pump) #####\n",
      "+-----------------+----------+----------+----------+\n",
      "|                 |        P |    eta_s |       pr |\n",
      "|-----------------+----------+----------+----------|\n",
      "| LP ORC Pump     | 1.78e+06 | \u001b[94m8.00e-01\u001b[0m | 6.90e+00 |\n",
      "| Steam Pump      | 2.51e+05 | \u001b[94m8.00e-01\u001b[0m | 5.44e+00 |\n",
      "| ORC Pump        | 1.56e+05 | \u001b[94m8.00e-01\u001b[0m | 2.50e+00 |\n",
      "| Geothermal Pump | 1.22e+06 | \u001b[94m8.00e-01\u001b[0m | 2.78e+00 |\n",
      "+-----------------+----------+----------+----------+\n",
      "##### RESULTS (HeatExchanger) #####\n",
      "+-------------------+-----------+----------+----------+----------+----------+----------+----------+-----------+----------+\n",
      "|                   |         Q |       kA |   td_log |    ttd_u |    ttd_l |      pr1 |      pr2 |     zeta1 |    zeta2 |\n",
      "|-------------------+-----------+----------+----------+----------+----------+----------+----------+-----------+----------|\n",
      "| LP ORC Preheater  | -2.00e+08 | 1.16e+07 | 1.72e+01 | 1.50e+01 | 1.96e+01 | \u001b[94m1.00e+00\u001b[0m | \u001b[94m1.00e+00\u001b[0m |  0.00e+00 | 0.00e+00 |\n",
      "| LP ORC Evaporator | -3.13e+08 | 3.12e+07 | 1.00e+01 | 1.00e+01 | \u001b[94m1.00e+01\u001b[0m | \u001b[94m1.00e+00\u001b[0m | 1.00e+00 |  0.00e+00 | 0.00e+00 |\n",
      "| ORC Evaporator    | -1.26e+08 | 2.89e+06 | 4.35e+01 | 1.17e+02 | \u001b[94m1.00e+01\u001b[0m | \u001b[94m1.00e+00\u001b[0m | 1.00e+00 |  0.00e+00 | 0.00e+00 |\n",
      "| ORC Preheater     | -2.44e+07 | 1.41e+06 | 1.73e+01 | 1.50e+01 | 1.99e+01 | \u001b[94m1.00e+00\u001b[0m | \u001b[94m1.00e+00\u001b[0m | -7.45e-12 | 0.00e+00 |\n",
      "+-------------------+-----------+----------+----------+----------+----------+----------+----------+-----------+----------+\n",
      "##### RESULTS (Condenser) #####\n",
      "+------------------+-----------+----------+----------+----------+----------+----------+----------+-----------+----------+\n",
      "|                  |         Q |       kA |   td_log |    ttd_u |    ttd_l |      pr1 |      pr2 |     zeta1 |    zeta2 |\n",
      "|------------------+-----------+----------+----------+----------+----------+----------+----------+-----------+----------|\n",
      "| LP ORC Condenser | -4.42e+08 | 6.13e+07 | 7.21e+00 | \u001b[94m5.00e+00\u001b[0m | 1.00e+01 | \u001b[94m1.00e+00\u001b[0m | \u001b[94m1.00e+00\u001b[0m |  9.59e-17 | 0.00e+00 |\n",
      "| ORC Condenser    | -1.39e+08 | 1.93e+07 | 7.21e+00 | \u001b[94m5.00e+00\u001b[0m | 1.00e+01 | \u001b[94m1.00e+00\u001b[0m | \u001b[94m1.00e+00\u001b[0m | -8.65e-16 | 0.00e+00 |\n",
      "+------------------+-----------+----------+----------+----------+----------+----------+----------+-----------+----------+\n",
      "##### RESULTS (Turbine) #####\n",
      "+----------------+-----------+----------+----------+\n",
      "|                |         P |    eta_s |       pr |\n",
      "|----------------+-----------+----------+----------|\n",
      "| LP ORC Turbine | -7.30e+07 | \u001b[94m9.00e-01\u001b[0m | 1.45e-01 |\n",
      "| Steam Turbine  | -6.04e+07 | \u001b[94m9.00e-01\u001b[0m | 1.84e-01 |\n",
      "| ORC Turbine    | -1.13e+07 | \u001b[94m9.00e-01\u001b[0m | 4.00e-01 |\n",
      "+----------------+-----------+----------+----------+\n",
      "##### RESULTS (CycleCloser) #####\n",
      "+---------------------+------------------+-------------------+\n",
      "|                     |   mass_deviation |   fluid_deviation |\n",
      "|---------------------+------------------+-------------------|\n",
      "| LP ORC Cycle Closer |         0.00e+00 |          0.00e+00 |\n",
      "| ORC Cycle Closer    |         5.68e-14 |          0.00e+00 |\n",
      "+---------------------+------------------+-------------------+\n",
      "##### RESULTS (Connection) #####\n",
      "+----+-----------+-----------+-----------+-----------+\n",
      "|    |         m |         p |         h |         T |\n",
      "|----+-----------+-----------+-----------+-----------|\n",
      "| 40 | 1.133e+03 | 8.905e+00 | 1.815e+01 | 3.542e+01 |\n",
      "| 41 | 1.133e+03 | 8.905e+00 | 1.815e+01 | 3.542e+01 |\n",
      "| 42 | 1.133e+03 | 8.905e+00 | 1.947e+02 | 1.050e+02 |\n",
      "| 43 | 2.388e+03 | 8.905e+00 | 2.088e+02 | 1.100e+02 |\n",
      "| 44 | 2.388e+03 | 8.905e+00 | 3.399e+02 | 1.100e+02 |\n",
      "| 45 | 1.133e+03 | 8.905e+00 | 4.710e+02 | 1.100e+02 |\n",
      "| 46 | 1.133e+03 | 1.290e+00 | 4.066e+02 | 6.387e+01 |\n",
      "| 47 | 1.133e+03 | 1.290e+00 | 1.658e+01 | 3.500e+01 |\n",
      "| 71 | 8.784e+04 | \u001b[94m1.013e+00\u001b[0m | 4.244e+02 | \u001b[94m2.500e+01\u001b[0m |\n",
      "| 72 | 8.784e+04 | 1.013e+00 | 4.295e+02 | \u001b[94m3.000e+01\u001b[0m |\n",
      "| 13 | 2.250e+02 | \u001b[94m1.987e+00\u001b[0m | 2.511e+03 | 1.200e+02 |\n",
      "| 14 | 2.250e+02 | 1.987e+00 | 1.120e+03 | 1.200e+02 |\n",
      "| 15 | 2.250e+02 | 1.987e+00 | 2.304e+02 | \u001b[94m5.500e+01\u001b[0m |\n",
      "| 30 | 3.895e+02 | 3.224e+00 | 1.698e+01 | 3.511e+01 |\n",
      "| 31 | 3.895e+02 | 3.224e+00 | 1.698e+01 | 3.511e+01 |\n",
      "| 32 | 3.895e+02 | 3.224e+00 | 7.951e+01 | 6.116e+01 |\n",
      "| 33 | 5.787e+02 | 3.224e+00 | 9.198e+01 | 6.616e+01 |\n",
      "| 34 | 5.787e+02 | 3.224e+00 | 3.095e+02 | 6.616e+01 |\n",
      "| 35 | 3.895e+02 | 3.224e+00 | 4.027e+02 | 6.616e+01 |\n",
      "| 36 | 3.895e+02 | 1.290e+00 | 3.737e+02 | 4.594e+01 |\n",
      "| 37 | 3.895e+02 | 1.290e+00 | 1.658e+01 | 3.500e+01 |\n",
      "| 51 | 2.764e+04 | \u001b[94m1.013e+00\u001b[0m | 4.244e+02 | \u001b[94m2.500e+01\u001b[0m |\n",
      "| 52 | 2.764e+04 | 1.013e+00 | 4.295e+02 | \u001b[94m3.000e+01\u001b[0m |\n",
      "| 18 | 2.750e+02 | 1.080e+01 | 3.197e+02 | 7.616e+01 |\n",
      "| 16 | 2.250e+02 | 1.080e+01 | 2.315e+02 | 5.509e+01 |\n",
      "| 19 | 2.750e+02 | 1.080e+01 | 2.312e+02 | \u001b[94m5.500e+01\u001b[0m |\n",
      "| 20 | 5.000e+02 | 1.080e+01 | 2.313e+02 | 5.504e+01 |\n",
      "| 21 | 5.000e+02 | \u001b[94m3.000e+01\u001b[0m | 2.338e+02 | 5.523e+01 |\n",
      "| 11 | \u001b[94m5.000e+02\u001b[0m | \u001b[94m1.080e+01\u001b[0m | 1.679e+03 | 1.832e+02 |\n",
      "| 12 | 2.250e+02 | 1.080e+01 | 2.780e+03 | 1.832e+02 |\n",
      "| 17 | 2.750e+02 | 1.080e+01 | 7.774e+02 | 1.832e+02 |\n",
      "+----+-----------+-----------+-----------+-----------+\n",
      "##### RESULTS (Bus: Heat Input) #####\n",
      "+-------------------+-------------------+-------------+--------------+\n",
      "|                   |   component value |   bus value |   efficiency |\n",
      "|-------------------+-------------------+-------------+--------------|\n",
      "| Geothermal Source |         0.000e+00 |   0.000e+00 |    1.000e+00 |\n",
      "| Geothermal Sink   |         0.000e+00 |   0.000e+00 |    1.000e+00 |\n",
      "| total             |         0.000e+00 |   0.000e+00 |  nan         |\n",
      "+-------------------+-------------------+-------------+--------------+\n",
      "##### RESULTS (Bus: Power Output) #####\n",
      "+-----------------+-------------------+-------------+--------------+\n",
      "|                 |   component value |   bus value |   efficiency |\n",
      "|-----------------+-------------------+-------------+--------------|\n",
      "| Steam Turbine   |        -6.043e+07 |  -5.893e+07 |    9.751e-01 |\n",
      "| ORC Turbine     |        -1.130e+07 |  -1.102e+07 |    9.751e-01 |\n",
      "| LP ORC Turbine  |        -7.298e+07 |  -7.117e+07 |    9.751e-01 |\n",
      "| Steam Pump      |         2.514e+05 |   2.605e+05 |    9.652e-01 |\n",
      "| ORC Pump        |         1.557e+05 |   1.613e+05 |    9.652e-01 |\n",
      "| LP ORC Pump     |         1.783e+06 |   1.847e+06 |    9.652e-01 |\n",
      "| Geothermal Pump |         1.216e+06 |   1.260e+06 |    9.652e-01 |\n",
      "| total           |        -1.413e+08 |  -1.376e+08 |  nan         |\n",
      "+-----------------+-------------------+-------------+--------------+\n",
      "##### RESULTS (Bus: Heat Output Cooling) #####\n",
      "+-------------------+-------------------+-------------+--------------+\n",
      "|                   |   component value |   bus value |   efficiency |\n",
      "|-------------------+-------------------+-------------+--------------|\n",
      "| Coolant Source    |         0.000e+00 |   0.000e+00 |    1.000e+00 |\n",
      "| Coolant Sink      |         0.000e+00 |   0.000e+00 |    1.000e+00 |\n",
      "| LP Coolant Source |         0.000e+00 |   0.000e+00 |    1.000e+00 |\n",
      "| LP Coolant Sink   |         0.000e+00 |   0.000e+00 |    1.000e+00 |\n",
      "| total             |         0.000e+00 |   0.000e+00 |  nan         |\n",
      "+-------------------+-------------------+-------------+--------------+\n",
      "eta_el = 0.190\n",
      "##### RESULTS: Aggregation of components and busses #####\n",
      "+---------------------+-------------+-------------+-------------+-------------+-------------+-------------+\n",
      "|                     |         E_F |         E_P |         E_D |     epsilon |        y_Dk |       y*_Dk |\n",
      "|---------------------+-------------+-------------+-------------+-------------+-------------+-------------|\n",
      "| LP ORC Preheater    |   4.402e+07 |   2.628e+07 |   1.774e+07 |   5.970e-01 |   8.094e-02 |   2.311e-01 |\n",
      "| ORC Evaporator      |   3.226e+07 |   1.527e+07 |   1.700e+07 |   4.732e-01 |   7.754e-02 |   2.214e-01 |\n",
      "| LP ORC Condenser    |   1.690e+07 |   3.666e+06 |   1.324e+07 |   2.169e-01 |   6.039e-02 |   1.724e-01 |\n",
      "| LP ORC Turbine      |   8.020e+07 |   7.117e+07 |   9.029e+06 |   8.874e-01 |   4.119e-02 |   1.176e-01 |\n",
      "| Steam Turbine       |   6.553e+07 |   5.893e+07 |   6.594e+06 |   8.994e-01 |   3.008e-02 |   8.589e-02 |\n",
      "| LP ORC Evaporator   |   7.566e+07 |   6.947e+07 |   6.198e+06 |   9.181e-01 |   2.828e-02 |   8.072e-02 |\n",
      "| ORC Condenser       |   4.641e+06 |   1.153e+06 |   3.488e+06 |   2.485e-01 |   1.591e-02 |   4.543e-02 |\n",
      "| ORC Turbine         |   1.247e+07 |   1.102e+07 |   1.457e+06 |   8.832e-01 |   6.646e-03 |   1.897e-02 |\n",
      "| ORC Preheater       |   2.911e+06 |   1.751e+06 |   1.160e+06 |   6.014e-01 |   5.293e-03 |   1.511e-02 |\n",
      "| LP ORC Pump         |   1.847e+06 |   1.438e+06 |   4.088e+05 |   7.787e-01 |   1.865e-03 |   5.325e-03 |\n",
      "| Geothermal Pump     |   1.260e+06 |   9.955e+05 |   2.647e+05 |   7.899e-01 |   1.208e-03 |   3.448e-03 |\n",
      "| LP ORC Drum         |   1.644e+08 |   1.643e+08 |   8.136e+04 |   9.995e-01 |   3.712e-04 |   1.060e-03 |\n",
      "| Steam Pump          |   2.605e+05 |   2.057e+05 |   5.473e+04 |   7.899e-01 |   2.497e-04 |   7.128e-04 |\n",
      "| ORC Pump            |   1.613e+05 |   1.256e+05 |   3.573e+04 |   7.785e-01 |   1.630e-04 |   4.654e-04 |\n",
      "| ORC Drum            |   2.117e+07 |   2.114e+07 |   3.168e+04 |   9.985e-01 |   1.445e-04 |   4.126e-04 |\n",
      "| Merge               |   4.166e+03 |   4.160e+03 |   5.534e+00 |   9.987e-01 |   2.525e-08 |   7.207e-08 |\n",
      "| LP ORC Cycle Closer | nan         | nan         | nan         | nan         | nan         | nan         |\n",
      "| LP Coolant Source   | nan         | nan         | nan         | nan         | nan         | nan         |\n",
      "| LP Coolant Sink     | nan         | nan         | nan         | nan         | nan         | nan         |\n",
      "| ORC Cycle Closer    | nan         | nan         | nan         | nan         | nan         | nan         |\n",
      "| Coolant Source      | nan         | nan         | nan         | nan         | nan         | nan         |\n",
      "| Coolant Sink        | nan         | nan         | nan         | nan         | nan         | nan         |\n",
      "| Geothermal Sink     | nan         | nan         | nan         | nan         | nan         | nan         |\n",
      "| Geothermal Source   | nan         | nan         | nan         | nan         | nan         | nan         |\n",
      "| Seperator           | nan         | nan         | nan         | nan         | nan         | nan         |\n",
      "+---------------------+-------------+-------------+-------------+-------------+-------------+-------------+\n",
      "##### RESULTS: Network exergy analysis #####\n",
      "+-----------+-----------+-----------+-----------+-----------+\n",
      "|       E_F |       E_P |       E_D |       E_L |   epsilon |\n",
      "|-----------+-----------+-----------+-----------+-----------|\n",
      "| 2.192e+08 | 1.376e+08 | 7.678e+07 | 4.819e+06 | 6.277e-01 |\n",
      "+-----------+-----------+-----------+-----------+-----------+\n",
      "epsilon_el = 0.628\n"
     ]
    }
   ],
   "source": [
    "# Components\n",
    "# Geothermal heat source with interfaces\n",
    "geo_source = Source('Geothermal Source')\n",
    "geo_sink = Sink('Geothermal Sink')\n",
    "seperator = DropletSeparator('Seperator')\n",
    "merge = Merge('Merge')\n",
    "\n",
    "# Build up the merge part\n",
    "# Delete old connections\n",
    "nw_el.del_conns(geo_pump2geo_sink1, steam_pump2geo_sink2, orc_preheat2geo_pump)\n",
    "\n",
    "# Set new connections\n",
    "steam_pump2merge = Connection(steam_pump, 'out1', merge, 'in1', label='16')\n",
    "orc_preheat2merge = Connection(orc_preheater, 'out1', merge, 'in2', label='19')\n",
    "merge2geo_pump = Connection(merge, 'out1', geo_pump, 'in1', label='20')\n",
    "geo_pump2geo_sink = Connection(geo_pump, 'out1', geo_sink, 'in1', label='21')\n",
    "\n",
    "nw_el.add_conns(steam_pump2merge, orc_preheat2merge, merge2geo_pump, geo_pump2geo_sink)\n",
    "\n",
    "# Parametrize new connections\n",
    "orc_preheat2merge.set_attr(T=55)\n",
    "geo_pump2geo_sink.set_attr(p=30)\n",
    "lp_orc_preheat2steam_pump.set_attr(T=55)\n",
    "\n",
    "# Build up the seperator part\n",
    "# Delete old connections\n",
    "nw_el.del_conns(liquid_source2orc_eva, steam_source2steam_turb)\n",
    "\n",
    "# Set new connections\n",
    "geo_source2sep = Connection(geo_source,'out1', seperator, 'in1', label='11')\n",
    "sep2steam_turb = Connection(seperator, 'out2', steam_turbine, 'in1', label='12')\n",
    "sep2orc_eva = Connection(seperator,'out1', orc_evaporator, 'in1', label='17')\n",
    "\n",
    "nw_el.add_conns(geo_source2sep, sep2steam_turb, sep2orc_eva)\n",
    "\n",
    "# Parametrize new connections\n",
    "geo_source2sep.set_attr(m=500, p=10.8, x=0.45, fluid=flu_vec_water)\n",
    "sep2orc_eva.set_attr(m0=500*0.55)\n",
    "sep2steam_turb.set_attr(m0=500*0.45)\n",
    "\n",
    "# Busses\n",
    "heat_in = Bus('Heat Input')\n",
    "heat_in.add_comps(\n",
    "    {'comp': geo_source, 'base': 'bus'},\n",
    "    {'comp': geo_sink, 'base': 'component'}\n",
    "    )\n",
    "\n",
    "power_out = Bus('Power Output')\n",
    "power_out.add_comps(\n",
    "    {'comp': steam_turbine, 'char': 0.985*0.99, 'base': 'component'},\n",
    "    {'comp': orc_turbine, 'char': 0.985*0.99, 'base': 'component'},\n",
    "    {'comp': lp_orc_turbine, 'char': 0.985*0.99, 'base': 'component'},\n",
    "    {'comp': steam_pump, 'char': 0.975*0.99, 'base': 'bus'},\n",
    "    {'comp': orc_pump, 'char': 0.975*0.99, 'base': 'bus'},\n",
    "    {'comp': lp_orc_pump, 'char': 0.975*0.99, 'base': 'bus'},\n",
    "    {'comp': geo_pump, 'char': 0.975*0.99, 'base': 'bus'}\n",
    "    )\n",
    "\n",
    "heat_out_cool = Bus('Heat Output Cooling')\n",
    "heat_out_cool.add_comps(\n",
    "    {'comp': cool_source, 'base': 'bus'},\n",
    "    {'comp': cool_sink, 'base': 'component'},\n",
    "    {'comp': lp_cool_source, 'base': 'bus'},\n",
    "    {'comp': lp_cool_sink, 'base': 'component'}\n",
    "    )\n",
    "\n",
    "nw_el.add_busses(heat_in, power_out, heat_out_cool)\n",
    "\n",
    "# Solve model\n",
    "nw_el.solve(\"design\")\n",
    "nw_el.print_results()\n",
    "\n",
    "# Calculate thermal efficiency\n",
    "eta_el = abs(power_out.P.val)/delta_H\n",
    "print(f'eta_el = {eta_el:.3f}')\n",
    "\n",
    "# Create and execute exergy analysis\n",
    "ean_el = ExergyAnalysis(\n",
    "    network=nw_el, E_F=[heat_in], E_P=[power_out], E_L=[heat_out_cool])\n",
    "ean_el.analyse(pamb=1.013, Tamb=25)\n",
    "ean_el.print_results(components=False, connections=False, busses=False, groups=False)\n",
    "epsilon_el = ean_el.network_data['epsilon']\n",
    "print(f'epsilon_el = {epsilon_el:.3f}')"
   ]
  },
  {
   "attachments": {},
   "cell_type": "markdown",
   "metadata": {},
   "source": [
    "## Proposed solution 1.3\n",
    "\n",
    "**First Step**: Evaluate both processes according to Eqs. {eq}`orc-chp-energy-efficiency` and {eq}`orc-chp-exergy-efficiency`"
   ]
  },
  {
   "attachments": {},
   "cell_type": "markdown",
   "metadata": {
    "tags": []
   },
   "source": [
    "````{admonition} Comparison of energy and exergy efficiency\n",
    ":class: dropdown\n",
    "\n",
    "```{list-table} Comparison of energy and exergy efficiency of geothermal plants\n",
    ":header-rows: 1\n",
    ":name: result-comparison\n",
    "\n",
    "* - \n",
    "  - Combined heat and power\n",
    "  - Only power generation\n",
    "* - $\\eta_{CHP}$\n",
    "  - 80.4 %\n",
    "  - 19.0 %\n",
    "* - $\\epsilon_{CHP}$\n",
    "  - 70.3 %\n",
    "  - 62.8 %\n",
    "```\n",
    "\n",
    "````"
   ]
  },
  {
   "attachments": {},
   "cell_type": "markdown",
   "metadata": {},
   "source": [
    "**Second Step**: Compare both processes with a grassmann diagramm"
   ]
  },
  {
   "cell_type": "code",
   "execution_count": 9,
   "metadata": {
    "tags": [
     "hide-cell"
    ]
   },
   "outputs": [
    {
     "data": {
      "application/vnd.plotly.v1+json": {
       "config": {
        "plotlyServerURL": "https://plot.ly"
       },
       "data": [
        {
         "arrangement": "snap",
         "link": {
          "color": [
           "rgba(55.0, 126.0, 184.0, 0.75)",
           "rgba(166.0, 86.0, 40.0, 0.75)",
           "rgba(228.0, 26.0, 28.0, 0.75)",
           "rgba(228.0, 26.0, 28.0, 0.75)",
           "rgba(228.0, 26.0, 28.0, 0.75)",
           "rgba(228.0, 26.0, 28.0, 0.75)",
           "rgba(77.0, 175.0, 74.0, 0.75)",
           "rgba(255.0, 127.0, 0.0, 0.75)",
           "rgba(255.0, 127.0, 0.0, 0.75)",
           "rgba(77.0, 175.0, 74.0, 0.75)",
           "rgba(255.0, 127.0, 0.0, 0.75)",
           "rgba(77.0, 175.0, 74.0, 0.75)",
           "rgba(255.0, 127.0, 0.0, 0.75)",
           "rgba(166.0, 86.0, 40.0, 0.75)",
           "rgba(77.0, 175.0, 74.0, 0.75)",
           "rgba(255.0, 127.0, 0.0, 0.75)",
           "rgba(152.0, 78.0, 163.0, 0.75)",
           "rgba(77.0, 175.0, 74.0, 0.75)",
           "rgba(255.0, 127.0, 0.0, 0.75)",
           "rgba(166.0, 86.0, 40.0, 0.75)",
           "rgba(228.0, 26.0, 28.0, 0.75)",
           "rgba(77.0, 175.0, 74.0, 0.75)",
           "rgba(255.0, 127.0, 0.0, 0.75)",
           "rgba(77.0, 175.0, 74.0, 0.75)",
           "rgba(166.0, 86.0, 40.0, 0.75)",
           "rgba(166.0, 86.0, 40.0, 0.75)",
           "rgba(77.0, 175.0, 74.0, 0.75)",
           "rgba(166.0, 86.0, 40.0, 0.75)",
           "rgba(166.0, 86.0, 40.0, 0.75)",
           "rgba(228.0, 26.0, 28.0, 0.75)",
           "rgba(77.0, 175.0, 74.0, 0.75)",
           "rgba(166.0, 86.0, 40.0, 0.75)",
           "rgba(77.0, 175.0, 74.0, 0.75)",
           "rgba(166.0, 86.0, 40.0, 0.75)",
           "rgba(228.0, 26.0, 28.0, 0.75)",
           "rgba(166.0, 86.0, 40.0, 0.75)",
           "rgba(77.0, 175.0, 74.0, 0.75)",
           "rgba(166.0, 86.0, 40.0, 0.75)",
           "rgba(77.0, 175.0, 74.0, 0.75)",
           "rgba(55.0, 126.0, 184.0, 0.75)",
           "rgba(166.0, 86.0, 40.0, 0.75)",
           "rgba(166.0, 86.0, 40.0, 0.75)"
          ],
          "source": [
           0,
           1,
           23,
           23,
           23,
           23,
           2,
           2,
           2,
           3,
           3,
           4,
           4,
           4,
           5,
           5,
           5,
           6,
           6,
           6,
           7,
           7,
           7,
           11,
           11,
           11,
           12,
           12,
           12,
           13,
           13,
           13,
           14,
           14,
           15,
           15,
           17,
           17,
           18,
           18,
           21,
           21
          ],
          "target": [
           1,
           21,
           3,
           14,
           18,
           25,
           27,
           6,
           7,
           27,
           4,
           27,
           2,
           17,
           27,
           3,
           26,
           27,
           2,
           4,
           23,
           27,
           5,
           27,
           14,
           12,
           27,
           11,
           15,
           23,
           27,
           12,
           27,
           17,
           25,
           11,
           27,
           18,
           27,
           1,
           6,
           13
          ],
          "value": [
           219181714.52657914,
           223632556.30056858,
           161319.62462921476,
           283453.3414275168,
           1260216.250776576,
           83401136.33035575,
           31677.337547659874,
           3861539.402970847,
           17277956.0522361,
           35729.098868843284,
           290660.1958188522,
           1160236.1822267743,
           2041564.8513900144,
           1895910.4221453215,
           3487685.6708999453,
           165069.67005848075,
           1153377.2725406527,
           16996455.43101115,
           19129607.94136459,
           4807051.259943258,
           11015090.011162143,
           1456733.4275748767,
           4806132.613499078,
           3321685.253746041,
           1335543.2803589415,
           15959622.855713991,
           28486013.961465582,
           8629267.564210346,
           82770065.95322675,
           74091035.53602691,
           8544220.912004843,
           103925724.62318867,
           59557.93401971308,
           1559438.6877667452,
           70782482.12761812,
           11987583.825608628,
           6.553627917312042,
           3455342.556284149,
           264717.03307127696,
           4450841.773989448,
           37071575.22934815,
           186560981.07122043
          ]
         },
         "node": {
          "color": "orange",
          "label": [
           "E_F",
           "Heat Input",
           "ORC Drum",
           "ORC Pump",
           "ORC Preheater",
           "ORC Condenser",
           "ORC Evaporator",
           "ORC Turbine",
           "ORC Cycle Closer",
           "Coolant Sink",
           "Coolant Source",
           "District Heating Preheater",
           "District Heating Condenser",
           "Steam Turbine",
           "Steam Pump",
           "District Heating Consumer",
           "District Heating Cycle Closer",
           "Merge",
           "Geothermal Pump",
           "Geothermal Sink",
           "Geothermal Source",
           "Seperator",
           "Heat Output District Heating",
           "Power Output",
           "Heat Output Cooling",
           "E_P",
           "E_L",
           "E_D"
          ],
          "pad": 11
         },
         "type": "sankey"
        }
       ],
       "layout": {
        "template": {
         "data": {
          "bar": [
           {
            "error_x": {
             "color": "#2a3f5f"
            },
            "error_y": {
             "color": "#2a3f5f"
            },
            "marker": {
             "line": {
              "color": "#E5ECF6",
              "width": 0.5
             },
             "pattern": {
              "fillmode": "overlay",
              "size": 10,
              "solidity": 0.2
             }
            },
            "type": "bar"
           }
          ],
          "barpolar": [
           {
            "marker": {
             "line": {
              "color": "#E5ECF6",
              "width": 0.5
             },
             "pattern": {
              "fillmode": "overlay",
              "size": 10,
              "solidity": 0.2
             }
            },
            "type": "barpolar"
           }
          ],
          "carpet": [
           {
            "aaxis": {
             "endlinecolor": "#2a3f5f",
             "gridcolor": "white",
             "linecolor": "white",
             "minorgridcolor": "white",
             "startlinecolor": "#2a3f5f"
            },
            "baxis": {
             "endlinecolor": "#2a3f5f",
             "gridcolor": "white",
             "linecolor": "white",
             "minorgridcolor": "white",
             "startlinecolor": "#2a3f5f"
            },
            "type": "carpet"
           }
          ],
          "choropleth": [
           {
            "colorbar": {
             "outlinewidth": 0,
             "ticks": ""
            },
            "type": "choropleth"
           }
          ],
          "contour": [
           {
            "colorbar": {
             "outlinewidth": 0,
             "ticks": ""
            },
            "colorscale": [
             [
              0,
              "#0d0887"
             ],
             [
              0.1111111111111111,
              "#46039f"
             ],
             [
              0.2222222222222222,
              "#7201a8"
             ],
             [
              0.3333333333333333,
              "#9c179e"
             ],
             [
              0.4444444444444444,
              "#bd3786"
             ],
             [
              0.5555555555555556,
              "#d8576b"
             ],
             [
              0.6666666666666666,
              "#ed7953"
             ],
             [
              0.7777777777777778,
              "#fb9f3a"
             ],
             [
              0.8888888888888888,
              "#fdca26"
             ],
             [
              1,
              "#f0f921"
             ]
            ],
            "type": "contour"
           }
          ],
          "contourcarpet": [
           {
            "colorbar": {
             "outlinewidth": 0,
             "ticks": ""
            },
            "type": "contourcarpet"
           }
          ],
          "heatmap": [
           {
            "colorbar": {
             "outlinewidth": 0,
             "ticks": ""
            },
            "colorscale": [
             [
              0,
              "#0d0887"
             ],
             [
              0.1111111111111111,
              "#46039f"
             ],
             [
              0.2222222222222222,
              "#7201a8"
             ],
             [
              0.3333333333333333,
              "#9c179e"
             ],
             [
              0.4444444444444444,
              "#bd3786"
             ],
             [
              0.5555555555555556,
              "#d8576b"
             ],
             [
              0.6666666666666666,
              "#ed7953"
             ],
             [
              0.7777777777777778,
              "#fb9f3a"
             ],
             [
              0.8888888888888888,
              "#fdca26"
             ],
             [
              1,
              "#f0f921"
             ]
            ],
            "type": "heatmap"
           }
          ],
          "heatmapgl": [
           {
            "colorbar": {
             "outlinewidth": 0,
             "ticks": ""
            },
            "colorscale": [
             [
              0,
              "#0d0887"
             ],
             [
              0.1111111111111111,
              "#46039f"
             ],
             [
              0.2222222222222222,
              "#7201a8"
             ],
             [
              0.3333333333333333,
              "#9c179e"
             ],
             [
              0.4444444444444444,
              "#bd3786"
             ],
             [
              0.5555555555555556,
              "#d8576b"
             ],
             [
              0.6666666666666666,
              "#ed7953"
             ],
             [
              0.7777777777777778,
              "#fb9f3a"
             ],
             [
              0.8888888888888888,
              "#fdca26"
             ],
             [
              1,
              "#f0f921"
             ]
            ],
            "type": "heatmapgl"
           }
          ],
          "histogram": [
           {
            "marker": {
             "pattern": {
              "fillmode": "overlay",
              "size": 10,
              "solidity": 0.2
             }
            },
            "type": "histogram"
           }
          ],
          "histogram2d": [
           {
            "colorbar": {
             "outlinewidth": 0,
             "ticks": ""
            },
            "colorscale": [
             [
              0,
              "#0d0887"
             ],
             [
              0.1111111111111111,
              "#46039f"
             ],
             [
              0.2222222222222222,
              "#7201a8"
             ],
             [
              0.3333333333333333,
              "#9c179e"
             ],
             [
              0.4444444444444444,
              "#bd3786"
             ],
             [
              0.5555555555555556,
              "#d8576b"
             ],
             [
              0.6666666666666666,
              "#ed7953"
             ],
             [
              0.7777777777777778,
              "#fb9f3a"
             ],
             [
              0.8888888888888888,
              "#fdca26"
             ],
             [
              1,
              "#f0f921"
             ]
            ],
            "type": "histogram2d"
           }
          ],
          "histogram2dcontour": [
           {
            "colorbar": {
             "outlinewidth": 0,
             "ticks": ""
            },
            "colorscale": [
             [
              0,
              "#0d0887"
             ],
             [
              0.1111111111111111,
              "#46039f"
             ],
             [
              0.2222222222222222,
              "#7201a8"
             ],
             [
              0.3333333333333333,
              "#9c179e"
             ],
             [
              0.4444444444444444,
              "#bd3786"
             ],
             [
              0.5555555555555556,
              "#d8576b"
             ],
             [
              0.6666666666666666,
              "#ed7953"
             ],
             [
              0.7777777777777778,
              "#fb9f3a"
             ],
             [
              0.8888888888888888,
              "#fdca26"
             ],
             [
              1,
              "#f0f921"
             ]
            ],
            "type": "histogram2dcontour"
           }
          ],
          "mesh3d": [
           {
            "colorbar": {
             "outlinewidth": 0,
             "ticks": ""
            },
            "type": "mesh3d"
           }
          ],
          "parcoords": [
           {
            "line": {
             "colorbar": {
              "outlinewidth": 0,
              "ticks": ""
             }
            },
            "type": "parcoords"
           }
          ],
          "pie": [
           {
            "automargin": true,
            "type": "pie"
           }
          ],
          "scatter": [
           {
            "fillpattern": {
             "fillmode": "overlay",
             "size": 10,
             "solidity": 0.2
            },
            "type": "scatter"
           }
          ],
          "scatter3d": [
           {
            "line": {
             "colorbar": {
              "outlinewidth": 0,
              "ticks": ""
             }
            },
            "marker": {
             "colorbar": {
              "outlinewidth": 0,
              "ticks": ""
             }
            },
            "type": "scatter3d"
           }
          ],
          "scattercarpet": [
           {
            "marker": {
             "colorbar": {
              "outlinewidth": 0,
              "ticks": ""
             }
            },
            "type": "scattercarpet"
           }
          ],
          "scattergeo": [
           {
            "marker": {
             "colorbar": {
              "outlinewidth": 0,
              "ticks": ""
             }
            },
            "type": "scattergeo"
           }
          ],
          "scattergl": [
           {
            "marker": {
             "colorbar": {
              "outlinewidth": 0,
              "ticks": ""
             }
            },
            "type": "scattergl"
           }
          ],
          "scattermapbox": [
           {
            "marker": {
             "colorbar": {
              "outlinewidth": 0,
              "ticks": ""
             }
            },
            "type": "scattermapbox"
           }
          ],
          "scatterpolar": [
           {
            "marker": {
             "colorbar": {
              "outlinewidth": 0,
              "ticks": ""
             }
            },
            "type": "scatterpolar"
           }
          ],
          "scatterpolargl": [
           {
            "marker": {
             "colorbar": {
              "outlinewidth": 0,
              "ticks": ""
             }
            },
            "type": "scatterpolargl"
           }
          ],
          "scatterternary": [
           {
            "marker": {
             "colorbar": {
              "outlinewidth": 0,
              "ticks": ""
             }
            },
            "type": "scatterternary"
           }
          ],
          "surface": [
           {
            "colorbar": {
             "outlinewidth": 0,
             "ticks": ""
            },
            "colorscale": [
             [
              0,
              "#0d0887"
             ],
             [
              0.1111111111111111,
              "#46039f"
             ],
             [
              0.2222222222222222,
              "#7201a8"
             ],
             [
              0.3333333333333333,
              "#9c179e"
             ],
             [
              0.4444444444444444,
              "#bd3786"
             ],
             [
              0.5555555555555556,
              "#d8576b"
             ],
             [
              0.6666666666666666,
              "#ed7953"
             ],
             [
              0.7777777777777778,
              "#fb9f3a"
             ],
             [
              0.8888888888888888,
              "#fdca26"
             ],
             [
              1,
              "#f0f921"
             ]
            ],
            "type": "surface"
           }
          ],
          "table": [
           {
            "cells": {
             "fill": {
              "color": "#EBF0F8"
             },
             "line": {
              "color": "white"
             }
            },
            "header": {
             "fill": {
              "color": "#C8D4E3"
             },
             "line": {
              "color": "white"
             }
            },
            "type": "table"
           }
          ]
         },
         "layout": {
          "annotationdefaults": {
           "arrowcolor": "#2a3f5f",
           "arrowhead": 0,
           "arrowwidth": 1
          },
          "autotypenumbers": "strict",
          "coloraxis": {
           "colorbar": {
            "outlinewidth": 0,
            "ticks": ""
           }
          },
          "colorscale": {
           "diverging": [
            [
             0,
             "#8e0152"
            ],
            [
             0.1,
             "#c51b7d"
            ],
            [
             0.2,
             "#de77ae"
            ],
            [
             0.3,
             "#f1b6da"
            ],
            [
             0.4,
             "#fde0ef"
            ],
            [
             0.5,
             "#f7f7f7"
            ],
            [
             0.6,
             "#e6f5d0"
            ],
            [
             0.7,
             "#b8e186"
            ],
            [
             0.8,
             "#7fbc41"
            ],
            [
             0.9,
             "#4d9221"
            ],
            [
             1,
             "#276419"
            ]
           ],
           "sequential": [
            [
             0,
             "#0d0887"
            ],
            [
             0.1111111111111111,
             "#46039f"
            ],
            [
             0.2222222222222222,
             "#7201a8"
            ],
            [
             0.3333333333333333,
             "#9c179e"
            ],
            [
             0.4444444444444444,
             "#bd3786"
            ],
            [
             0.5555555555555556,
             "#d8576b"
            ],
            [
             0.6666666666666666,
             "#ed7953"
            ],
            [
             0.7777777777777778,
             "#fb9f3a"
            ],
            [
             0.8888888888888888,
             "#fdca26"
            ],
            [
             1,
             "#f0f921"
            ]
           ],
           "sequentialminus": [
            [
             0,
             "#0d0887"
            ],
            [
             0.1111111111111111,
             "#46039f"
            ],
            [
             0.2222222222222222,
             "#7201a8"
            ],
            [
             0.3333333333333333,
             "#9c179e"
            ],
            [
             0.4444444444444444,
             "#bd3786"
            ],
            [
             0.5555555555555556,
             "#d8576b"
            ],
            [
             0.6666666666666666,
             "#ed7953"
            ],
            [
             0.7777777777777778,
             "#fb9f3a"
            ],
            [
             0.8888888888888888,
             "#fdca26"
            ],
            [
             1,
             "#f0f921"
            ]
           ]
          },
          "colorway": [
           "#636efa",
           "#EF553B",
           "#00cc96",
           "#ab63fa",
           "#FFA15A",
           "#19d3f3",
           "#FF6692",
           "#B6E880",
           "#FF97FF",
           "#FECB52"
          ],
          "font": {
           "color": "#2a3f5f"
          },
          "geo": {
           "bgcolor": "white",
           "lakecolor": "white",
           "landcolor": "#E5ECF6",
           "showlakes": true,
           "showland": true,
           "subunitcolor": "white"
          },
          "hoverlabel": {
           "align": "left"
          },
          "hovermode": "closest",
          "mapbox": {
           "style": "light"
          },
          "paper_bgcolor": "white",
          "plot_bgcolor": "#E5ECF6",
          "polar": {
           "angularaxis": {
            "gridcolor": "white",
            "linecolor": "white",
            "ticks": ""
           },
           "bgcolor": "#E5ECF6",
           "radialaxis": {
            "gridcolor": "white",
            "linecolor": "white",
            "ticks": ""
           }
          },
          "scene": {
           "xaxis": {
            "backgroundcolor": "#E5ECF6",
            "gridcolor": "white",
            "gridwidth": 2,
            "linecolor": "white",
            "showbackground": true,
            "ticks": "",
            "zerolinecolor": "white"
           },
           "yaxis": {
            "backgroundcolor": "#E5ECF6",
            "gridcolor": "white",
            "gridwidth": 2,
            "linecolor": "white",
            "showbackground": true,
            "ticks": "",
            "zerolinecolor": "white"
           },
           "zaxis": {
            "backgroundcolor": "#E5ECF6",
            "gridcolor": "white",
            "gridwidth": 2,
            "linecolor": "white",
            "showbackground": true,
            "ticks": "",
            "zerolinecolor": "white"
           }
          },
          "shapedefaults": {
           "line": {
            "color": "#2a3f5f"
           }
          },
          "ternary": {
           "aaxis": {
            "gridcolor": "white",
            "linecolor": "white",
            "ticks": ""
           },
           "baxis": {
            "gridcolor": "white",
            "linecolor": "white",
            "ticks": ""
           },
           "bgcolor": "#E5ECF6",
           "caxis": {
            "gridcolor": "white",
            "linecolor": "white",
            "ticks": ""
           }
          },
          "title": {
           "x": 0.05
          },
          "xaxis": {
           "automargin": true,
           "gridcolor": "white",
           "linecolor": "white",
           "ticks": "",
           "title": {
            "standoff": 15
           },
           "zerolinecolor": "white",
           "zerolinewidth": 2
          },
          "yaxis": {
           "automargin": true,
           "gridcolor": "white",
           "linecolor": "white",
           "ticks": "",
           "title": {
            "standoff": 15
           },
           "zerolinecolor": "white",
           "zerolinewidth": 2
          }
         }
        },
        "width": 1200
       }
      }
     },
     "metadata": {},
     "output_type": "display_data"
    },
    {
     "data": {
      "application/vnd.plotly.v1+json": {
       "config": {
        "plotlyServerURL": "https://plot.ly"
       },
       "data": [
        {
         "arrangement": "snap",
         "link": {
          "color": [
           "rgba(55.0, 126.0, 184.0, 0.75)",
           "rgba(166.0, 86.0, 40.0, 0.75)",
           "rgba(228.0, 26.0, 28.0, 0.75)",
           "rgba(228.0, 26.0, 28.0, 0.75)",
           "rgba(228.0, 26.0, 28.0, 0.75)",
           "rgba(228.0, 26.0, 28.0, 0.75)",
           "rgba(228.0, 26.0, 28.0, 0.75)",
           "rgba(152.0, 78.0, 163.0, 0.75)",
           "rgba(77.0, 175.0, 74.0, 0.75)",
           "rgba(255.0, 127.0, 0.0, 0.75)",
           "rgba(77.0, 175.0, 74.0, 0.75)",
           "rgba(255.0, 127.0, 0.0, 0.75)",
           "rgba(166.0, 86.0, 40.0, 0.75)",
           "rgba(77.0, 175.0, 74.0, 0.75)",
           "rgba(255.0, 127.0, 0.0, 0.75)",
           "rgba(152.0, 78.0, 163.0, 0.75)",
           "rgba(77.0, 175.0, 74.0, 0.75)",
           "rgba(255.0, 127.0, 0.0, 0.75)",
           "rgba(255.0, 127.0, 0.0, 0.75)",
           "rgba(77.0, 175.0, 74.0, 0.75)",
           "rgba(255.0, 127.0, 0.0, 0.75)",
           "rgba(166.0, 86.0, 40.0, 0.75)",
           "rgba(228.0, 26.0, 28.0, 0.75)",
           "rgba(77.0, 175.0, 74.0, 0.75)",
           "rgba(255.0, 127.0, 0.0, 0.75)",
           "rgba(228.0, 26.0, 28.0, 0.75)",
           "rgba(77.0, 175.0, 74.0, 0.75)",
           "rgba(166.0, 86.0, 40.0, 0.75)",
           "rgba(77.0, 175.0, 74.0, 0.75)",
           "rgba(166.0, 86.0, 40.0, 0.75)",
           "rgba(77.0, 175.0, 74.0, 0.75)",
           "rgba(255.0, 127.0, 0.0, 0.75)",
           "rgba(152.0, 78.0, 163.0, 0.75)",
           "rgba(77.0, 175.0, 74.0, 0.75)",
           "rgba(255.0, 127.0, 0.0, 0.75)",
           "rgba(77.0, 175.0, 74.0, 0.75)",
           "rgba(255.0, 127.0, 0.0, 0.75)",
           "rgba(166.0, 86.0, 40.0, 0.75)",
           "rgba(228.0, 26.0, 28.0, 0.75)",
           "rgba(77.0, 175.0, 74.0, 0.75)",
           "rgba(255.0, 127.0, 0.0, 0.75)",
           "rgba(77.0, 175.0, 74.0, 0.75)",
           "rgba(255.0, 127.0, 0.0, 0.75)",
           "rgba(255.0, 127.0, 0.0, 0.75)",
           "rgba(77.0, 175.0, 74.0, 0.75)",
           "rgba(255.0, 127.0, 0.0, 0.75)",
           "rgba(166.0, 86.0, 40.0, 0.75)",
           "rgba(77.0, 175.0, 74.0, 0.75)",
           "rgba(55.0, 126.0, 184.0, 0.75)",
           "rgba(77.0, 175.0, 74.0, 0.75)",
           "rgba(166.0, 86.0, 40.0, 0.75)",
           "rgba(166.0, 86.0, 40.0, 0.75)",
           "rgba(166.0, 86.0, 40.0, 0.75)"
          ],
          "source": [
           0,
           1,
           27,
           27,
           27,
           27,
           27,
           28,
           2,
           2,
           3,
           3,
           3,
           4,
           4,
           4,
           5,
           5,
           5,
           6,
           6,
           6,
           7,
           7,
           7,
           11,
           11,
           11,
           12,
           12,
           13,
           13,
           13,
           14,
           14,
           15,
           15,
           15,
           16,
           16,
           16,
           17,
           17,
           17,
           18,
           18,
           18,
           22,
           22,
           24,
           24,
           26,
           26
          ],
          "target": [
           1,
           26,
           2,
           12,
           14,
           22,
           29,
           30,
           31,
           3,
           31,
           5,
           12,
           31,
           2,
           28,
           31,
           6,
           7,
           31,
           5,
           3,
           27,
           31,
           4,
           27,
           31,
           6,
           31,
           24,
           31,
           14,
           28,
           31,
           18,
           31,
           17,
           18,
           27,
           31,
           13,
           31,
           15,
           16,
           31,
           17,
           24,
           31,
           1,
           31,
           22,
           11,
           15
          ],
          "value": [
           219182386.78483948,
           223632556.30056858,
           1847105.0060444928,
           260463.9773136388,
           161319.62462979453,
           1260214.0881640583,
           137586847.89241427,
           4818914.315584919,
           408800.45678249234,
           1918653.6785715127,
           17741181.2725583,
           28195720.751880303,
           1353033.7577938,
           13237016.953339629,
           480349.1293095122,
           3665537.042879558,
           81362.58780506253,
           66689106.279127814,
           97580111.57092576,
           6197668.717564002,
           136154859.68597835,
           45371282.10366089,
           71168680.89240989,
           9028527.552987158,
           17382903.1255287,
           58932179.684989646,
           6594097.158155352,
           121034704.22807543,
           54728.26446387163,
           1558769.4706435672,
           3487685.67073563,
           165069.67005944587,
           1153377.272703753,
           35729.098871132184,
           290660.1958181082,
           16996455.43099778,
           19129607.941383027,
           4807051.2599460995,
           11015090.011166709,
           1456733.427584799,
           4806132.613500438,
           31677.33754761517,
           3861539.402978749,
           17277956.052251946,
           1160236.1822224697,
           2041564.8513952838,
           1895910.422146454,
           264718.9315537249,
           4450169.515729094,
           5.533671260493065,
           3454674.3591187606,
           186560981.07122043,
           37071575.22934815
          ]
         },
         "node": {
          "color": "orange",
          "label": [
           "E_F",
           "Heat Input",
           "LP ORC Pump",
           "LP ORC Preheater",
           "LP ORC Condenser",
           "LP ORC Drum",
           "LP ORC Evaporator",
           "LP ORC Turbine",
           "LP ORC Cycle Closer",
           "LP Coolant Source",
           "LP Coolant Sink",
           "Steam Turbine",
           "Steam Pump",
           "ORC Condenser",
           "ORC Pump",
           "ORC Evaporator",
           "ORC Turbine",
           "ORC Drum",
           "ORC Preheater",
           "ORC Cycle Closer",
           "Coolant Source",
           "Coolant Sink",
           "Geothermal Pump",
           "Geothermal Sink",
           "Merge",
           "Geothermal Source",
           "Seperator",
           "Power Output",
           "Heat Output Cooling",
           "E_P",
           "E_L",
           "E_D"
          ],
          "pad": 11
         },
         "type": "sankey"
        }
       ],
       "layout": {
        "template": {
         "data": {
          "bar": [
           {
            "error_x": {
             "color": "#2a3f5f"
            },
            "error_y": {
             "color": "#2a3f5f"
            },
            "marker": {
             "line": {
              "color": "#E5ECF6",
              "width": 0.5
             },
             "pattern": {
              "fillmode": "overlay",
              "size": 10,
              "solidity": 0.2
             }
            },
            "type": "bar"
           }
          ],
          "barpolar": [
           {
            "marker": {
             "line": {
              "color": "#E5ECF6",
              "width": 0.5
             },
             "pattern": {
              "fillmode": "overlay",
              "size": 10,
              "solidity": 0.2
             }
            },
            "type": "barpolar"
           }
          ],
          "carpet": [
           {
            "aaxis": {
             "endlinecolor": "#2a3f5f",
             "gridcolor": "white",
             "linecolor": "white",
             "minorgridcolor": "white",
             "startlinecolor": "#2a3f5f"
            },
            "baxis": {
             "endlinecolor": "#2a3f5f",
             "gridcolor": "white",
             "linecolor": "white",
             "minorgridcolor": "white",
             "startlinecolor": "#2a3f5f"
            },
            "type": "carpet"
           }
          ],
          "choropleth": [
           {
            "colorbar": {
             "outlinewidth": 0,
             "ticks": ""
            },
            "type": "choropleth"
           }
          ],
          "contour": [
           {
            "colorbar": {
             "outlinewidth": 0,
             "ticks": ""
            },
            "colorscale": [
             [
              0,
              "#0d0887"
             ],
             [
              0.1111111111111111,
              "#46039f"
             ],
             [
              0.2222222222222222,
              "#7201a8"
             ],
             [
              0.3333333333333333,
              "#9c179e"
             ],
             [
              0.4444444444444444,
              "#bd3786"
             ],
             [
              0.5555555555555556,
              "#d8576b"
             ],
             [
              0.6666666666666666,
              "#ed7953"
             ],
             [
              0.7777777777777778,
              "#fb9f3a"
             ],
             [
              0.8888888888888888,
              "#fdca26"
             ],
             [
              1,
              "#f0f921"
             ]
            ],
            "type": "contour"
           }
          ],
          "contourcarpet": [
           {
            "colorbar": {
             "outlinewidth": 0,
             "ticks": ""
            },
            "type": "contourcarpet"
           }
          ],
          "heatmap": [
           {
            "colorbar": {
             "outlinewidth": 0,
             "ticks": ""
            },
            "colorscale": [
             [
              0,
              "#0d0887"
             ],
             [
              0.1111111111111111,
              "#46039f"
             ],
             [
              0.2222222222222222,
              "#7201a8"
             ],
             [
              0.3333333333333333,
              "#9c179e"
             ],
             [
              0.4444444444444444,
              "#bd3786"
             ],
             [
              0.5555555555555556,
              "#d8576b"
             ],
             [
              0.6666666666666666,
              "#ed7953"
             ],
             [
              0.7777777777777778,
              "#fb9f3a"
             ],
             [
              0.8888888888888888,
              "#fdca26"
             ],
             [
              1,
              "#f0f921"
             ]
            ],
            "type": "heatmap"
           }
          ],
          "heatmapgl": [
           {
            "colorbar": {
             "outlinewidth": 0,
             "ticks": ""
            },
            "colorscale": [
             [
              0,
              "#0d0887"
             ],
             [
              0.1111111111111111,
              "#46039f"
             ],
             [
              0.2222222222222222,
              "#7201a8"
             ],
             [
              0.3333333333333333,
              "#9c179e"
             ],
             [
              0.4444444444444444,
              "#bd3786"
             ],
             [
              0.5555555555555556,
              "#d8576b"
             ],
             [
              0.6666666666666666,
              "#ed7953"
             ],
             [
              0.7777777777777778,
              "#fb9f3a"
             ],
             [
              0.8888888888888888,
              "#fdca26"
             ],
             [
              1,
              "#f0f921"
             ]
            ],
            "type": "heatmapgl"
           }
          ],
          "histogram": [
           {
            "marker": {
             "pattern": {
              "fillmode": "overlay",
              "size": 10,
              "solidity": 0.2
             }
            },
            "type": "histogram"
           }
          ],
          "histogram2d": [
           {
            "colorbar": {
             "outlinewidth": 0,
             "ticks": ""
            },
            "colorscale": [
             [
              0,
              "#0d0887"
             ],
             [
              0.1111111111111111,
              "#46039f"
             ],
             [
              0.2222222222222222,
              "#7201a8"
             ],
             [
              0.3333333333333333,
              "#9c179e"
             ],
             [
              0.4444444444444444,
              "#bd3786"
             ],
             [
              0.5555555555555556,
              "#d8576b"
             ],
             [
              0.6666666666666666,
              "#ed7953"
             ],
             [
              0.7777777777777778,
              "#fb9f3a"
             ],
             [
              0.8888888888888888,
              "#fdca26"
             ],
             [
              1,
              "#f0f921"
             ]
            ],
            "type": "histogram2d"
           }
          ],
          "histogram2dcontour": [
           {
            "colorbar": {
             "outlinewidth": 0,
             "ticks": ""
            },
            "colorscale": [
             [
              0,
              "#0d0887"
             ],
             [
              0.1111111111111111,
              "#46039f"
             ],
             [
              0.2222222222222222,
              "#7201a8"
             ],
             [
              0.3333333333333333,
              "#9c179e"
             ],
             [
              0.4444444444444444,
              "#bd3786"
             ],
             [
              0.5555555555555556,
              "#d8576b"
             ],
             [
              0.6666666666666666,
              "#ed7953"
             ],
             [
              0.7777777777777778,
              "#fb9f3a"
             ],
             [
              0.8888888888888888,
              "#fdca26"
             ],
             [
              1,
              "#f0f921"
             ]
            ],
            "type": "histogram2dcontour"
           }
          ],
          "mesh3d": [
           {
            "colorbar": {
             "outlinewidth": 0,
             "ticks": ""
            },
            "type": "mesh3d"
           }
          ],
          "parcoords": [
           {
            "line": {
             "colorbar": {
              "outlinewidth": 0,
              "ticks": ""
             }
            },
            "type": "parcoords"
           }
          ],
          "pie": [
           {
            "automargin": true,
            "type": "pie"
           }
          ],
          "scatter": [
           {
            "fillpattern": {
             "fillmode": "overlay",
             "size": 10,
             "solidity": 0.2
            },
            "type": "scatter"
           }
          ],
          "scatter3d": [
           {
            "line": {
             "colorbar": {
              "outlinewidth": 0,
              "ticks": ""
             }
            },
            "marker": {
             "colorbar": {
              "outlinewidth": 0,
              "ticks": ""
             }
            },
            "type": "scatter3d"
           }
          ],
          "scattercarpet": [
           {
            "marker": {
             "colorbar": {
              "outlinewidth": 0,
              "ticks": ""
             }
            },
            "type": "scattercarpet"
           }
          ],
          "scattergeo": [
           {
            "marker": {
             "colorbar": {
              "outlinewidth": 0,
              "ticks": ""
             }
            },
            "type": "scattergeo"
           }
          ],
          "scattergl": [
           {
            "marker": {
             "colorbar": {
              "outlinewidth": 0,
              "ticks": ""
             }
            },
            "type": "scattergl"
           }
          ],
          "scattermapbox": [
           {
            "marker": {
             "colorbar": {
              "outlinewidth": 0,
              "ticks": ""
             }
            },
            "type": "scattermapbox"
           }
          ],
          "scatterpolar": [
           {
            "marker": {
             "colorbar": {
              "outlinewidth": 0,
              "ticks": ""
             }
            },
            "type": "scatterpolar"
           }
          ],
          "scatterpolargl": [
           {
            "marker": {
             "colorbar": {
              "outlinewidth": 0,
              "ticks": ""
             }
            },
            "type": "scatterpolargl"
           }
          ],
          "scatterternary": [
           {
            "marker": {
             "colorbar": {
              "outlinewidth": 0,
              "ticks": ""
             }
            },
            "type": "scatterternary"
           }
          ],
          "surface": [
           {
            "colorbar": {
             "outlinewidth": 0,
             "ticks": ""
            },
            "colorscale": [
             [
              0,
              "#0d0887"
             ],
             [
              0.1111111111111111,
              "#46039f"
             ],
             [
              0.2222222222222222,
              "#7201a8"
             ],
             [
              0.3333333333333333,
              "#9c179e"
             ],
             [
              0.4444444444444444,
              "#bd3786"
             ],
             [
              0.5555555555555556,
              "#d8576b"
             ],
             [
              0.6666666666666666,
              "#ed7953"
             ],
             [
              0.7777777777777778,
              "#fb9f3a"
             ],
             [
              0.8888888888888888,
              "#fdca26"
             ],
             [
              1,
              "#f0f921"
             ]
            ],
            "type": "surface"
           }
          ],
          "table": [
           {
            "cells": {
             "fill": {
              "color": "#EBF0F8"
             },
             "line": {
              "color": "white"
             }
            },
            "header": {
             "fill": {
              "color": "#C8D4E3"
             },
             "line": {
              "color": "white"
             }
            },
            "type": "table"
           }
          ]
         },
         "layout": {
          "annotationdefaults": {
           "arrowcolor": "#2a3f5f",
           "arrowhead": 0,
           "arrowwidth": 1
          },
          "autotypenumbers": "strict",
          "coloraxis": {
           "colorbar": {
            "outlinewidth": 0,
            "ticks": ""
           }
          },
          "colorscale": {
           "diverging": [
            [
             0,
             "#8e0152"
            ],
            [
             0.1,
             "#c51b7d"
            ],
            [
             0.2,
             "#de77ae"
            ],
            [
             0.3,
             "#f1b6da"
            ],
            [
             0.4,
             "#fde0ef"
            ],
            [
             0.5,
             "#f7f7f7"
            ],
            [
             0.6,
             "#e6f5d0"
            ],
            [
             0.7,
             "#b8e186"
            ],
            [
             0.8,
             "#7fbc41"
            ],
            [
             0.9,
             "#4d9221"
            ],
            [
             1,
             "#276419"
            ]
           ],
           "sequential": [
            [
             0,
             "#0d0887"
            ],
            [
             0.1111111111111111,
             "#46039f"
            ],
            [
             0.2222222222222222,
             "#7201a8"
            ],
            [
             0.3333333333333333,
             "#9c179e"
            ],
            [
             0.4444444444444444,
             "#bd3786"
            ],
            [
             0.5555555555555556,
             "#d8576b"
            ],
            [
             0.6666666666666666,
             "#ed7953"
            ],
            [
             0.7777777777777778,
             "#fb9f3a"
            ],
            [
             0.8888888888888888,
             "#fdca26"
            ],
            [
             1,
             "#f0f921"
            ]
           ],
           "sequentialminus": [
            [
             0,
             "#0d0887"
            ],
            [
             0.1111111111111111,
             "#46039f"
            ],
            [
             0.2222222222222222,
             "#7201a8"
            ],
            [
             0.3333333333333333,
             "#9c179e"
            ],
            [
             0.4444444444444444,
             "#bd3786"
            ],
            [
             0.5555555555555556,
             "#d8576b"
            ],
            [
             0.6666666666666666,
             "#ed7953"
            ],
            [
             0.7777777777777778,
             "#fb9f3a"
            ],
            [
             0.8888888888888888,
             "#fdca26"
            ],
            [
             1,
             "#f0f921"
            ]
           ]
          },
          "colorway": [
           "#636efa",
           "#EF553B",
           "#00cc96",
           "#ab63fa",
           "#FFA15A",
           "#19d3f3",
           "#FF6692",
           "#B6E880",
           "#FF97FF",
           "#FECB52"
          ],
          "font": {
           "color": "#2a3f5f"
          },
          "geo": {
           "bgcolor": "white",
           "lakecolor": "white",
           "landcolor": "#E5ECF6",
           "showlakes": true,
           "showland": true,
           "subunitcolor": "white"
          },
          "hoverlabel": {
           "align": "left"
          },
          "hovermode": "closest",
          "mapbox": {
           "style": "light"
          },
          "paper_bgcolor": "white",
          "plot_bgcolor": "#E5ECF6",
          "polar": {
           "angularaxis": {
            "gridcolor": "white",
            "linecolor": "white",
            "ticks": ""
           },
           "bgcolor": "#E5ECF6",
           "radialaxis": {
            "gridcolor": "white",
            "linecolor": "white",
            "ticks": ""
           }
          },
          "scene": {
           "xaxis": {
            "backgroundcolor": "#E5ECF6",
            "gridcolor": "white",
            "gridwidth": 2,
            "linecolor": "white",
            "showbackground": true,
            "ticks": "",
            "zerolinecolor": "white"
           },
           "yaxis": {
            "backgroundcolor": "#E5ECF6",
            "gridcolor": "white",
            "gridwidth": 2,
            "linecolor": "white",
            "showbackground": true,
            "ticks": "",
            "zerolinecolor": "white"
           },
           "zaxis": {
            "backgroundcolor": "#E5ECF6",
            "gridcolor": "white",
            "gridwidth": 2,
            "linecolor": "white",
            "showbackground": true,
            "ticks": "",
            "zerolinecolor": "white"
           }
          },
          "shapedefaults": {
           "line": {
            "color": "#2a3f5f"
           }
          },
          "ternary": {
           "aaxis": {
            "gridcolor": "white",
            "linecolor": "white",
            "ticks": ""
           },
           "baxis": {
            "gridcolor": "white",
            "linecolor": "white",
            "ticks": ""
           },
           "bgcolor": "#E5ECF6",
           "caxis": {
            "gridcolor": "white",
            "linecolor": "white",
            "ticks": ""
           }
          },
          "title": {
           "x": 0.05
          },
          "xaxis": {
           "automargin": true,
           "gridcolor": "white",
           "linecolor": "white",
           "ticks": "",
           "title": {
            "standoff": 15
           },
           "zerolinecolor": "white",
           "zerolinewidth": 2
          },
          "yaxis": {
           "automargin": true,
           "gridcolor": "white",
           "linecolor": "white",
           "ticks": "",
           "title": {
            "standoff": 15
           },
           "zerolinecolor": "white",
           "zerolinewidth": 2
          }
         }
        },
        "width": 800
       }
      }
     },
     "metadata": {},
     "output_type": "display_data"
    }
   ],
   "source": [
    "import plotly.graph_objects as go\n",
    "\n",
    "links, nodes = ean.generate_plotly_sankey_input()\n",
    "\n",
    "fig = go.Figure(\n",
    "    go.Sankey(\n",
    "        arrangement=\"snap\",\n",
    "        node={\"label\": nodes, 'pad': 11, 'color': 'orange'},\n",
    "        link=links\n",
    "        ),\n",
    "    layout=go.Layout({'width': 1200})\n",
    "    )\n",
    "# plot(fig, filename='chp_grassmann')\n",
    "fig.show()\n",
    "\n",
    "links_el, nodes_el = ean_el.generate_plotly_sankey_input()\n",
    "\n",
    "fig_el = go.Figure(\n",
    "    go.Sankey(\n",
    "        arrangement=\"snap\",\n",
    "        node={\"label\": nodes_el, 'pad': 11, 'color': 'orange'},\n",
    "        link=links_el\n",
    "        ),\n",
    "    layout=go.Layout({'width': 1200})\n",
    "    )\n",
    "\n",
    "fig_el.show()"
   ]
  },
  {
   "attachments": {},
   "cell_type": "markdown",
   "metadata": {
    "tags": [
     "hide-cell"
    ]
   },
   "source": [
    "```{admonition} Explanation\n",
    ":class: dropdown\n",
    "\n",
    "Hier könnte ihre Erklärung stehen\n",
    "\n",
    "- Weitere Übung. Analyse der Exergie bei den einzlnen Prozessen\n",
    "```"
   ]
  },
  {
   "attachments": {},
   "cell_type": "markdown",
   "metadata": {},
   "source": [
    "## Lessons Learned\n",
    "\n",
    "- Lessons Learned 1\n",
    "- Lessons Learned 2\n",
    "- Lessons Learned 3"
   ]
  }
 ],
 "metadata": {
  "kernelspec": {
   "display_name": "Python 3 (ipykernel)",
   "language": "python",
   "name": "python3"
  },
  "language_info": {
   "codemirror_mode": {
    "name": "ipython",
    "version": 3
   },
   "file_extension": ".py",
   "mimetype": "text/x-python",
   "name": "python",
   "nbconvert_exporter": "python",
   "pygments_lexer": "ipython3",
   "version": "3.7.6"
  },
  "widgets": {
   "application/vnd.jupyter.widget-state+json": {
    "state": {},
    "version_major": 2,
    "version_minor": 0
   }
  }
 },
 "nbformat": 4,
 "nbformat_minor": 4
}
