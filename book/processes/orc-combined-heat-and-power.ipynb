{
 "cells": [
  {
   "cell_type": "markdown",
   "metadata": {},
   "source": [
    "(orc-chp-label)=\n",
    "\n",
    "# ORC Combined Heat and Power"
   ]
  },
  {
   "attachments": {},
   "cell_type": "markdown",
   "metadata": {},
   "source": [
    "## Introduction"
   ]
  },
  {
   "attachments": {},
   "cell_type": "markdown",
   "metadata": {},
   "source": [
    "Subject of the following example of a more complex thermodynamic process will be a combined geothermal heat and power plant. As even deep geothermal boreholes can not supply temperatures high enough to drice conventional powerplant processes, such as the aforementioned and thoroughly analyzed Clausius Rankine Cycle, adjustments are necessary. Organic process fluids whose vaporization temperature is lower than that of water allow the execution of a Rankine cycle at these lower heat source temperatures, resulting in the so called *Organic Rankine Cycle*.\n",
    "\n",
    "The main focus of this example is the comparison of a geothermal plant with cogeneration of heat and power with one that only supplies electricity. This comparision is achieved through the analysis of energy, as well as exergy flows, so as to magnify the shortcomings of a solely energy-based approach. Therefore, the key parameters of an evaluation of a chp process are defined in Eq. {eq}`orc-chp-energy-efficiency` and Eq. {eq}`orc-chp-exergy-efficiency`, with the respective equations of a pure powerplant process missing the district heating parts.\n",
    "\n",
    "```{math}\n",
    "    :label: orc-chp-energy-efficiency\n",
    "    \\eta_{CHP} = \\frac{\\dot{W}_{net} + \\dot{Q}_{DH}}{\\dot{H}_1 - \\dot{H}_2}\n",
    "```\n",
    "\n",
    "```{math}\n",
    "    :label: orc-chp-exergy-efficiency\n",
    "    \\epsilon_{CHP} = \\frac{\\dot{W}_{net} + (\\dot{E}_{ff} - \\dot{E}_{bf})}{\\dot{E}_1 - \\dot{E}_2}\n",
    "```\n",
    "\n",
    "For the cogeneration of heat and power, the ORC will be employed to solely supply power. The gaseous mass fraction of the geothermal source can be fed directly through a steam turbine and condensated to supply the district heating network with heat. The process diagram of the described CHP plant can be found in Figure {numref}`orc-chp-flowsheet`. The heat outflow to close the Organic Rankine Cycle is realized through cooling with ambient air. Finally, the two streams from the geothermal source are combined again to be fed back into the geothermal sink.\n",
    "\n",
    "```{figure} /figures/geothermal_orc_chp.svg\n",
    "---\n",
    "name: orc-chp-flowsheet\n",
    "---\n",
    "Flow sheet of the geothermal plant with cogeneration of heat and power.\n",
    "```\n",
    "\n",
    "The second approach without the supply of heat is implemented with an additional Organic Rankinke Cycle replacing the district heating condenser. This second ORC is in principle of the same structure as the first one, as can be seen in Figure {numref}`orc-full-elec-flowsheet`.\n",
    "\n",
    "```{figure} /figures/geothermal_orc_full_elec.svg\n",
    "---\n",
    "name: orc-full-elec-flowsheet\n",
    "---\n",
    "Flow sheet of the geothermal plant with sole power generation.\n",
    "```\n"
   ]
  },
  {
   "attachments": {},
   "cell_type": "markdown",
   "metadata": {},
   "source": [
    "## Exercise 1"
   ]
  },
  {
   "attachments": {},
   "cell_type": "markdown",
   "metadata": {},
   "source": [
    "Build a power plant working combined heat and power. The heat source is a geothermal field.\n",
    "\n",
    "- Erstelle ein Modell und simuliere dieses in TESPy\n",
    "- Beide Modelle aufbauen\n",
    "\n",
    "- Erstelle "
   ]
  },
  {
   "cell_type": "markdown",
   "metadata": {},
   "source": []
  },
  {
   "cell_type": "markdown",
   "metadata": {},
   "source": []
  },
  {
   "cell_type": "markdown",
   "metadata": {},
   "source": []
  },
  {
   "cell_type": "markdown",
   "metadata": {},
   "source": []
  },
  {
   "cell_type": "markdown",
   "metadata": {},
   "source": []
  },
  {
   "attachments": {},
   "cell_type": "markdown",
   "metadata": {
    "tags": []
   },
   "source": [
    "## Proposed solution 1.1\n",
    "\n",
    "**First Step**: Build the model topology of geothermal combined heat and power plan"
   ]
  },
  {
   "cell_type": "code",
   "execution_count": 131,
   "metadata": {
    "tags": [
     "hide-cell"
    ]
   },
   "outputs": [],
   "source": [
    "# from tespy.networks import Network\n",
    "# from tespy.connections import Connection, Bus\n",
    "# from tespy.components import (\n",
    "#     CycleCloser, Source, Sink, Pump, Turbine, HeatExchanger,HeatExchangerSimple,\n",
    "#     Condenser, Drum, DropletSeparator, Merge\n",
    "#     )\n",
    "\n",
    "# # Network\n",
    "# nw = Network(fluids=['water', 'air', 'Isopentane'])\n",
    "# nw.set_attr(T_unit='C', p_unit='bar', h_unit='kJ / kg')\n",
    "\n",
    "# flu_vec_orc = {'water': 0, 'air': 0, 'Isopentane': 1}\n",
    "# flu_vec_water = {'water': 1, 'air': 0, 'Isopentane': 0}\n",
    "# flu_vec_air = {'water': 0, 'air': 1, 'Isopentane': 0}\n",
    "\n",
    "# # Components\n",
    "# # ORC cycle with condenser coolant cycle\n",
    "# orc_cc = CycleCloser('ORC Cycle Closer')\n",
    "# orc_preheater = HeatExchanger('ORC Preheater')\n",
    "# orc_drum = Drum('ORC Drum')\n",
    "# orc_evaporator = HeatExchanger('ORC Evaporator')\n",
    "# orc_turbine = Turbine('ORC Turbine')\n",
    "# orc_condenser = Condenser('ORC Condenser')\n",
    "# cool_source = Source('Coolant Source')\n",
    "# cool_sink = Sink('Coolant Sink')\n",
    "# orc_pump = Pump('ORC Pump')\n",
    "\n",
    "# # Steam cycle with district heating system\n",
    "# steam_turbine = Turbine('Steam Turbine')\n",
    "# dh_condenser = Condenser('District Heating Condenser')\n",
    "# dh_preheater = HeatExchanger('District Heating Preheater')\n",
    "# dh_cc = CycleCloser('District Heating Cycle Closer')\n",
    "# dh_pump = Pump('District Heating Pump')\n",
    "# dh_heatsink = HeatExchangerSimple('District Heating Consumer')\n",
    "# steam_pump = Pump('Steam Pump')\n",
    "\n",
    "# # Geothermal heat source with interfaces\n",
    "# geo_source = Source('Geothermal Source')\n",
    "# seperator = DropletSeparator('Seperator')\n",
    "# merge = Merge('Merge')\n",
    "# geo_pump = Pump('Geothermal Pump')\n",
    "# geo_sink = Sink('Geothermal Sink')\n",
    "\n",
    "# # Connections\n",
    "# # ORC cycle\n",
    "# orc_pump2orc_cc = Connection(orc_pump, 'out1', orc_cc, 'in1', label='0')\n",
    "# orc_cc2orc_preheater = Connection(orc_cc, 'out1', orc_preheater, 'in2', label='1')\n",
    "# orc_preheat2orc_drum = Connection(orc_preheater, 'out2', orc_drum, 'in1', label='2')\n",
    "# orc_drum2orc_eva = Connection(orc_drum, 'out1', orc_evaporator, 'in2', label='3')\n",
    "# orc_eva2orc_drum = Connection(orc_evaporator, 'out2', orc_drum, 'in2', label='4')\n",
    "# orc_drum2orc_turb = Connection(orc_drum, 'out2', orc_turbine, 'in1', label='5')\n",
    "# orc_turb2orc_cond = Connection(orc_turbine, 'out1', orc_condenser, 'in1', label='6')\n",
    "# orc_cond2orc_pump = Connection(orc_condenser, 'out1', orc_pump, 'in1', label='7')\n",
    "\n",
    "# nw.add_conns(\n",
    "#     orc_pump2orc_cc, orc_cc2orc_preheater, orc_preheat2orc_drum, orc_drum2orc_eva, \n",
    "#     orc_eva2orc_drum, orc_drum2orc_turb, orc_turb2orc_cond, orc_cond2orc_pump\n",
    "#     )\n",
    "\n",
    "# # Condenser coolant cycle\n",
    "# cool_source2orc_cond = Connection(cool_source, 'out1', orc_condenser, 'in2', label='41')\n",
    "# orc_cond2cool_sink = Connection(orc_condenser, 'out2', cool_sink, 'in1', label='42')\n",
    "\n",
    "# nw.add_conns(cool_source2orc_cond, orc_cond2cool_sink)\n",
    "\n",
    "# # Steam cycle\n",
    "# sep2steam_turb = Connection(seperator, 'out1', steam_turbine, 'in1', label='11')\n",
    "# steam_turb2dh_cond = Connection(steam_turbine, 'out1', dh_condenser, 'in1', label='12')\n",
    "# dh_cond2dh_preheat = Connection(dh_condenser, 'out1', dh_preheater, 'in1', label='13')\n",
    "# dh_preheat2steam_pump = Connection(dh_preheater, 'out1', steam_pump, 'in1', label='14')\n",
    "# steam_pump2merge = Connection(steam_pump, 'out1', merge, 'in1', label='15')\n",
    "\n",
    "# nw.add_conns(\n",
    "#     sep2steam_turb, steam_turb2dh_cond, dh_cond2dh_preheat, dh_preheat2steam_pump, \n",
    "#     steam_pump2merge\n",
    "#     )\n",
    "\n",
    "# # District heating system\n",
    "# dh_heatsink2dh_cc = Connection(dh_heatsink, 'out1', dh_cc, 'in1', label='30')\n",
    "# dh_cc2dh_pump = Connection(dh_cc, 'out1', dh_pump, 'in1', label='31')\n",
    "# dh_pump2dh_preheat = Connection(dh_pump, 'out1', dh_preheater, 'in2', label='32')\n",
    "# dh_preheat2dh_cond = Connection(dh_preheater, 'out2', dh_condenser, 'in2', label='33')\n",
    "# dh_cond2dh_heatsink = Connection(dh_condenser, 'out2', dh_heatsink, 'in1', label='34')\n",
    "\n",
    "# nw.add_conns(\n",
    "#     dh_heatsink2dh_cc, dh_cc2dh_pump, dh_pump2dh_preheat, dh_preheat2dh_cond,\n",
    "#     dh_cond2dh_heatsink\n",
    "#     )\n",
    "\n",
    "# # Geothermal heat source\n",
    "# geo_source2sep = Connection(geo_source,'out1', seperator, 'in1', label='21')\n",
    "# sep2orc_eva = Connection(seperator,'out2', orc_evaporator, 'in1', label='22')\n",
    "# orc_eva2orc_preheat = Connection(orc_evaporator,'out1', orc_preheater, 'in1', label='23')\n",
    "# orc_preheat2merge = Connection(orc_preheater,'out1', merge, 'in2', label='24')\n",
    "# merge2geo_pump = Connection(merge,'out1', geo_pump, 'in1', label='25')\n",
    "# geo_pump2geo_sink = Connection(geo_pump,'out1', geo_sink, 'in1', label='26')\n",
    "\n",
    "# nw.add_conns(\n",
    "#     geo_source2sep, sep2orc_eva, orc_eva2orc_preheat, orc_preheat2merge,\n",
    "#     merge2geo_pump, geo_pump2geo_sink\n",
    "#     )"
   ]
  },
  {
   "attachments": {},
   "cell_type": "markdown",
   "metadata": {},
   "source": [
    "**Second Step**:  Set the process parameters and starting values and define the energy busses"
   ]
  },
  {
   "cell_type": "code",
   "execution_count": 132,
   "metadata": {},
   "outputs": [],
   "source": [
    "# from CoolProp.CoolProp import PropsSI as PSI\n",
    "\n",
    "# # Component Parametrization\n",
    "# orc_turbine.set_attr(eta_s=0.9)\n",
    "# steam_turbine.set_attr(eta_s=0.9)\n",
    "\n",
    "# steam_pump.set_attr(eta_s=0.8)\n",
    "# orc_pump.set_attr(eta_s=0.8)\n",
    "# geo_pump.set_attr(eta_s=0.8)\n",
    "# dh_pump.set_attr(eta_s=0.8)\n",
    "\n",
    "# orc_preheater.set_attr(pr1=1, pr2=1) #, ttd_l=10)\n",
    "# orc_evaporator.set_attr(pr1=1, pr2=1) #, ttd_l=20)\n",
    "# orc_condenser.set_attr(pr1=1, pr2=1) #, ttd_u=5)\n",
    "# dh_condenser.set_attr(pr1=1, pr2=1) #, ttd_u=5)\n",
    "# dh_preheater.set_attr(pr1=1, pr2=1) #, ttd_l=10)\n",
    "# dh_heatsink.set_attr(pr=1)\n",
    "\n",
    "# # Connection Parametrization\n",
    "# # ORC cycle\n",
    "# orc_pump2orc_cc.set_attr(fluid=flu_vec_orc)\n",
    "\n",
    "# orc_turb2orc_cond.set_attr(p=0.1)\n",
    "# orc_preheat2orc_drum.set_attr(T=50)\n",
    "\n",
    "# # Geothermal heat source\n",
    "# geo_source2sep.set_attr(m=500, p=10.8, x=0.45, fluid=flu_vec_water)\n",
    "# geo_pump2geo_sink.set_attr(T=55, p=30)\n",
    "\n",
    "# # District heating system\n",
    "# dh_cond2dh_heatsink.set_attr(T=100, p=10, fluid=flu_vec_water)\n",
    "# dh_heatsink2dh_cc.set_attr(T=50)\n",
    "\n",
    "# # Cooling cycle\n",
    "# cool_source2orc_cond.set_attr(T=15, p=1.013, fluid=flu_vec_air)\n",
    "# orc_cond2cool_sink.set_attr(T=30)\n",
    "\n",
    "# # Starting Values\n",
    "# p_orc_evaporator = PSI(\"P\", \"Q\", 1, \"T\", 80 + 273.15, 'Isopentane') * 1e-5\n",
    "# orc_eva2orc_drum.set_attr(p=p_orc_evaporator)\n",
    "\n",
    "# # p_orc_preheater = PSI(\"P\", \"Q\", 0, \"T\",  + 273.15, 'Isopentane') * 1e-5\n",
    "# # .set_attr(p=p_orc_preheater)\n",
    "\n",
    "# p_orc_condenser = PSI(\"P\", \"Q\", 0, \"T\", 35 + 273.15, 'Isopentane') * 1e-5\n",
    "# orc_turb2orc_cond.set_attr(p=p_orc_condenser)\n",
    "\n",
    "# p_dh_condenser = PSI(\"P\", \"Q\", 0, \"T\", 105 + 273.15, 'water') * 1e-5\n",
    "# steam_turb2dh_cond.set_attr(p=p_dh_condenser)\n",
    "\n",
    "# # p_dh_preheater = PSI(\"P\", \"Q\", 0, \"T\", T_cons_ff + 5 + 273.15, wf) * 1e-5\n",
    "# # c4.set_attr(p=p_orc_preheater)\n",
    "\n",
    "# # Busses\n",
    "# heat_in = Bus('Heat Input')\n",
    "# heat_in.add_comps(\n",
    "#     {'comp': geo_source, 'base': 'bus'},\n",
    "#     {'comp': geo_sink, 'base': 'component'}\n",
    "#     )\n",
    "\n",
    "# power_out = Bus('Power Output')\n",
    "# power_out.add_comps(\n",
    "#     {'comp': steam_turbine, 'char': 0.985*0.99, 'base': 'component'},\n",
    "#     {'comp': orc_turbine, 'char': 0.985*0.99, 'base': 'component'},\n",
    "#     {'comp': steam_pump, 'char': 0.975*0.99, 'base': 'bus'},\n",
    "#     {'comp': orc_pump, 'char': 0.975*0.99, 'base': 'bus'},\n",
    "#     {'comp': geo_pump, 'char': 0.975*0.99, 'base': 'bus'},\n",
    "#     {'comp': dh_pump, 'char': 0.975*0.99, 'base': 'bus'}\n",
    "#     )\n",
    "\n",
    "# heat_out_dh = Bus('Heat Output District Heating')\n",
    "# heat_out_dh.add_comps({'comp': dh_heatsink, 'base': 'component'})\n",
    "\n",
    "# heat_out_cool = Bus('Heat Output Cooling')\n",
    "# heat_out_cool.add_comps(\n",
    "#     {'comp': cool_source, 'base': 'bus'},\n",
    "#     {'comp': cool_sink, 'base': 'component'}\n",
    "#     )\n",
    "\n",
    "# nw.add_busses(heat_in, power_out, heat_out_dh, heat_out_cool)\n",
    "\n",
    "# heat_out_dh.set_attr(P=-400e6)"
   ]
  },
  {
   "cell_type": "markdown",
   "metadata": {},
   "source": [
    "**Third step**: Solve model with starting and final values"
   ]
  },
  {
   "cell_type": "code",
   "execution_count": 133,
   "metadata": {},
   "outputs": [],
   "source": [
    "# # Solve model\n",
    "\n",
    "# nw.set_attr(iterinfo=False)\n",
    "# nw.solve(mode='design')\n",
    "# # eta_th = abs(power_out.P.val)/heat_in.P.val\n",
    "# # print(f'eta_th = {eta_th:.3f}')"
   ]
  },
  {
   "attachments": {},
   "cell_type": "markdown",
   "metadata": {},
   "source": [
    "## Proposed solution 1\n",
    "\n",
    "**First Step**: Build up the ORC cycle as basis for geothermal combined heat and power plant and geothermal power plant"
   ]
  },
  {
   "cell_type": "code",
   "execution_count": 134,
   "metadata": {
    "tags": [
     "hide-cell"
    ]
   },
   "outputs": [],
   "source": [
    "from tespy.networks import Network\n",
    "from tespy.connections import Connection, Bus\n",
    "from tespy.components import (\n",
    "    CycleCloser, Source, Sink, Pump, Turbine, HeatExchanger,HeatExchangerSimple,\n",
    "    Condenser, Drum, DropletSeparator, Merge\n",
    "    )\n",
    "\n",
    "# Network\n",
    "nw = Network(fluids=['water', 'air', 'Isopentane'])\n",
    "nw.set_attr(T_unit='C', p_unit='bar', h_unit='kJ / kg')\n",
    "\n",
    "flu_vec_orc = {'water': 0, 'air': 0, 'Isopentane': 1}\n",
    "flu_vec_water = {'water': 1, 'air': 0, 'Isopentane': 0}\n",
    "flu_vec_air = {'water': 0, 'air': 1, 'Isopentane': 0}\n",
    "\n",
    "# Components\n",
    "# ORC cycle\n",
    "orc_cc = CycleCloser('ORC Cycle Closer')\n",
    "orc_preheater = HeatExchanger('ORC Preheater')\n",
    "orc_drum = Drum('ORC Drum')\n",
    "orc_evaporator = HeatExchanger('ORC Evaporator')\n",
    "orc_turbine = Turbine('ORC Turbine')\n",
    "orc_condenser = Condenser('ORC Condenser')\n",
    "orc_pump = Pump('ORC Pump')\n",
    "\n",
    "# Condenser coolant cycle\n",
    "cool_source = Source('Coolant Source')\n",
    "cool_sink = Sink('Coolant Sink')\n",
    "\n",
    "# Auxiliary source and sink\n",
    "liquid_source = Source('Liquid Sep Source')\n",
    "geo_pump = Pump('Geothermal Pump')\n",
    "geo_sink1 = Sink('Geothermal Sink1')\n",
    "\n",
    "# Connections\n",
    "# ORC cycle\n",
    "orc_pump2orc_cc = Connection(orc_pump, 'out1', orc_cc, 'in1', label='0')\n",
    "orc_cc2orc_preheater = Connection(orc_cc, 'out1', orc_preheater, 'in2', label='1')\n",
    "orc_preheat2orc_drum = Connection(orc_preheater, 'out2', orc_drum, 'in1', label='2')\n",
    "orc_drum2orc_eva = Connection(orc_drum, 'out1', orc_evaporator, 'in2', label='3')\n",
    "orc_eva2orc_drum = Connection(orc_evaporator, 'out2', orc_drum, 'in2', label='4')\n",
    "orc_drum2orc_turb = Connection(orc_drum, 'out2', orc_turbine, 'in1', label='5')\n",
    "orc_turb2orc_cond = Connection(orc_turbine, 'out1', orc_condenser, 'in1', label='6')\n",
    "orc_cond2orc_pump = Connection(orc_condenser, 'out1', orc_pump, 'in1', label='7')\n",
    "\n",
    "nw.add_conns(\n",
    "    orc_pump2orc_cc, orc_cc2orc_preheater, orc_preheat2orc_drum, orc_drum2orc_eva,\n",
    "    orc_eva2orc_drum, orc_drum2orc_turb, orc_turb2orc_cond, orc_cond2orc_pump\n",
    "    )\n",
    "\n",
    "# Condenser coolant cycle\n",
    "cool_source2orc_cond = Connection(cool_source, 'out1', orc_condenser, 'in2', label='41')\n",
    "orc_cond2cool_sink = Connection(orc_condenser, 'out2', cool_sink, 'in1', label='42')\n",
    "\n",
    "nw.add_conns(cool_source2orc_cond, orc_cond2cool_sink)\n",
    "\n",
    "# Geothermal liquid cyclye\n",
    "liquid_source2orc_eva = Connection(liquid_source, 'out1', orc_evaporator, 'in1', label='22')\n",
    "orc_eva2orc_preheat = Connection(orc_evaporator, 'out1', orc_preheater, 'in1', label='23')\n",
    "orc_preheat2geo_pump = Connection(orc_preheater, 'out1', geo_pump, 'in1', label='24')\n",
    "geo_pump2geo_sink1 = Connection(geo_pump, 'out1', geo_sink1, 'in1', label='26')\n",
    "\n",
    "nw.add_conns(\n",
    "    liquid_source2orc_eva, orc_eva2orc_preheat, orc_preheat2geo_pump, geo_pump2geo_sink1\n",
    "    )"
   ]
  },
  {
   "attachments": {},
   "cell_type": "markdown",
   "metadata": {},
   "source": [
    "**Second Step**:  Set the process parameters and starting values. After that solve orc cycle with starting and final values"
   ]
  },
  {
   "cell_type": "code",
   "execution_count": 135,
   "metadata": {
    "tags": [
     "hide-cell"
    ]
   },
   "outputs": [
    {
     "name": "stderr",
     "output_type": "stream",
     "text": [
      "WARNING:root:Invalid value for ttd_l: ttd_l = -19.956346618676264 below minimum value (0) at component ORC Evaporator.\n",
      "WARNING:root:Invalid value for ttd_u: ttd_u = -14.956346618675582 below minimum value (0) at component ORC Preheater.\n"
     ]
    },
    {
     "name": "stdout",
     "output_type": "stream",
     "text": [
      "iter\t| residual | massflow | pressure | enthalpy | fluid\n",
      "--------+----------+----------+----------+----------+---------\n",
      "1\t| 3.06e+08 | 3.29e+05 | 7.93e+06 | 5.69e+06 | 0.00e+00\n",
      "2\t| 6.22e+09 | 2.81e+06 | 3.09e+06 | 1.29e+08 | 0.00e+00\n",
      "3\t| 3.66e+10 | 1.94e+06 | 1.27e+06 | 2.81e+07 | 0.00e+00\n",
      "4\t| 1.76e+10 | 4.10e+05 | 5.57e+05 | 1.09e+06 | 0.00e+00\n",
      "5\t| 3.15e+09 | 1.48e+05 | 2.13e+05 | 5.90e+06 | 0.00e+00\n",
      "6\t| 1.44e+08 | 3.19e+03 | 5.50e+04 | 1.42e+05 | 0.00e+00\n",
      "7\t| 2.82e+05 | 3.80e+00 | 4.04e-10 | 3.01e+02 | 0.00e+00\n",
      "8\t| 5.88e-01 | 7.14e-05 | 4.04e-10 | 6.06e-04 | 0.00e+00\n",
      "9\t| 7.53e-08 | 1.14e-09 | 4.04e-10 | 3.85e-08 | 0.00e+00\n",
      "--------+----------+----------+----------+----------+---------\n",
      "Total iterations: 9, Calculation time: 0.1 s, Iterations per second: 65.81\n",
      "iter\t| residual | massflow | pressure | enthalpy | fluid\n",
      "--------+----------+----------+----------+----------+---------\n",
      "1\t| 3.00e+01 | 7.49e+02 | 6.23e+06 | 4.63e+05 | 0.00e+00\n",
      "2\t| 1.46e+07 | 3.50e+02 | 1.93e+06 | 5.16e+04 | 0.00e+00\n",
      "3\t| 2.39e+06 | 2.79e+02 | 3.88e+05 | 1.47e+04 | 0.00e+00\n",
      "4\t| 1.42e+05 | 6.76e+01 | 2.06e+04 | 6.34e+03 | 0.00e+00\n",
      "5\t| 6.85e+03 | 1.06e+00 | 9.05e+01 | 8.46e+01 | 0.00e+00\n",
      "6\t| 1.16e+00 | 1.26e-04 | 4.48e-02 | 1.43e-02 | 0.00e+00\n",
      "7\t| 6.93e-07 | 1.07e-05 | 7.89e-03 | 2.05e-03 | 0.00e+00\n",
      "--------+----------+----------+----------+----------+---------\n",
      "Total iterations: 7, Calculation time: 0.2 s, Iterations per second: 43.82\n"
     ]
    }
   ],
   "source": [
    "from CoolProp.CoolProp import PropsSI as PSI\n",
    "\n",
    "# Parametrization\n",
    "# Component parameters\n",
    "orc_turbine.set_attr(eta_s=0.9)\n",
    "\n",
    "orc_pump.set_attr(eta_s=0.8)\n",
    "geo_pump.set_attr(eta_s=0.8)\n",
    "\n",
    "orc_preheater.set_attr(pr1=1, pr2=1)\n",
    "orc_evaporator.set_attr(pr1=1)\n",
    "orc_condenser.set_attr(pr1=1, pr2=1)\n",
    "\n",
    "# Connection parameter\n",
    "# ORC cycle\n",
    "p_orc_condenser = PSI(\"P\", \"Q\", 0, \"T\", 35 + 273.15, 'Isopentane') * 1e-5\n",
    "orc_turb2orc_cond.set_attr(p=p_orc_condenser, fluid=flu_vec_orc)\n",
    "\n",
    "p_orc_evaporator = PSI(\"P\", \"Q\", 1, \"T\", 150 + 273.15, 'Isopentane') * 1e-5\n",
    "orc_eva2orc_drum.set_attr(p=p_orc_evaporator, x=0.7)\n",
    "\n",
    "orc_preheat2orc_drum.set_attr(Td_bp=-5)\n",
    "\n",
    "# Geothermal liquid cyclye\n",
    "liquid_source2orc_eva.set_attr(m=500*0.55, p=10.8, x=0, fluid=flu_vec_water)\n",
    "geo_pump2geo_sink1.set_attr(T=55, p=30)\n",
    "\n",
    "# Condenser coolant cycle\n",
    "cool_source2orc_cond.set_attr(T=15, p=1.013, fluid=flu_vec_air)\n",
    "orc_cond2cool_sink.set_attr(T=30)\n",
    "\n",
    "# Initial solve with starting values\n",
    "nw.solve(\"design\")\n",
    "\n",
    "# Final solve \n",
    "orc_eva2orc_drum.set_attr(p=None)\n",
    "orc_evaporator.set_attr(ttd_l=10)\n",
    "\n",
    "orc_turb2orc_cond.set_attr(p=None)\n",
    "orc_condenser.set_attr(ttd_u=5)\n",
    "\n",
    "nw.solve(\"design\")"
   ]
  },
  {
   "attachments": {},
   "cell_type": "markdown",
   "metadata": {},
   "source": [
    "## Proposed solution 1.1\n",
    "\n",
    "### Geothermal combined heat and power plant\n",
    "\n",
    "**First Step**: Build up the steam cycle for the chp process design\n",
    "\n",
    "Be sure this one runs standalone first!"
   ]
  },
  {
   "cell_type": "code",
   "execution_count": 136,
   "metadata": {
    "tags": [
     "hide-cell"
    ]
   },
   "outputs": [
    {
     "name": "stdout",
     "output_type": "stream",
     "text": [
      "iter\t| residual | massflow | pressure | enthalpy | fluid\n",
      "--------+----------+----------+----------+----------+---------\n",
      "1\t| 9.06e+06 | 2.16e+03 | 7.91e+06 | 2.36e+08 | 0.00e+00\n",
      "2\t| 9.24e+09 | 6.87e+03 | 3.39e+06 | 1.42e+07 | 0.00e+00\n",
      "3\t| 2.13e+10 | 3.11e-03 | 1.29e+06 | 6.34e+06 | 0.00e+00\n",
      "4\t| 5.92e+05 | 1.11e-04 | 5.42e+05 | 8.41e+04 | 0.00e+00\n",
      "5\t| 2.47e+05 | 7.93e-05 | 1.95e+05 | 6.22e+04 | 0.00e+00\n",
      "6\t| 5.02e+04 | 5.57e-06 | 3.53e+04 | 3.41e+04 | 0.00e+00\n",
      "7\t| 3.09e+03 | 7.47e-09 | 5.47e-06 | 3.11e+03 | 0.00e+00\n",
      "8\t| 1.19e-07 | 9.60e-10 | 6.71e-07 | 2.09e-07 | 0.00e+00\n",
      "--------+----------+----------+----------+----------+---------\n",
      "Total iterations: 8, Calculation time: 0.2 s, Iterations per second: 41.48\n"
     ]
    }
   ],
   "source": [
    "# Steam cycle with district heating system\n",
    "# Components\n",
    "steam_turbine = Turbine('Steam Turbine')\n",
    "dh_condenser = Condenser('District Heating Condenser')\n",
    "dh_preheater = HeatExchanger('District Heating Preheater')\n",
    "dh_cc = CycleCloser('District Heating Cycle Closer')\n",
    "dh_pump = Pump('District Heating Pump')\n",
    "dh_heatsink = HeatExchangerSimple('District Heating Consumer')\n",
    "steam_pump = Pump('Steam Pump')\n",
    "\n",
    "# Auxiliary - Source and Sink\n",
    "steam_source = Source('Steam Sep Source')\n",
    "geo_sink2 = Sink('Geothermal Sink2')\n",
    "\n",
    "# Connection\n",
    "# Steam system\n",
    "steam_source2steam_turb = Connection(steam_source, 'out1', steam_turbine, 'in1', label='11')\n",
    "steam_turb2dh_cond = Connection(steam_turbine, 'out1', dh_condenser, 'in1', label='12')\n",
    "dh_cond2dh_preheat = Connection(dh_condenser, 'out1', dh_preheater, 'in1', label='13')\n",
    "dh_preheat2dh_cond = Connection(dh_preheater, 'out1', steam_pump, 'in1', label='14')\n",
    "steam_pump2geo_sink2 = Connection(steam_pump, 'out1', geo_sink2, 'in1', label='15')\n",
    "\n",
    "nw.add_conns(\n",
    "    steam_source2steam_turb, steam_turb2dh_cond, dh_cond2dh_preheat,\n",
    "    dh_preheat2dh_cond, steam_pump2geo_sink2\n",
    "    )\n",
    "\n",
    "# District heating system\n",
    "dh_heatsink2dh_cc = Connection(dh_heatsink, 'out1', dh_cc, 'in1', label='30')\n",
    "dh_cc2dh_preheat = Connection(dh_cc, 'out1', dh_preheater, 'in2', label='31')\n",
    "dh_preheat2dh_cond = Connection(dh_preheater, 'out2', dh_condenser, 'in2', label='33')\n",
    "dh_cond2dh_heatsink = Connection(dh_condenser, 'out2', dh_heatsink, 'in1', label='34')\n",
    "\n",
    "nw.add_conns(\n",
    "    dh_heatsink2dh_cc, dh_cc2dh_preheat, dh_preheat2dh_cond,\n",
    "    dh_cond2dh_heatsink\n",
    "    )\n",
    "\n",
    "# Parametrization\n",
    "# Components parameter\n",
    "steam_turbine.set_attr(eta_s=0.9)\n",
    "steam_pump.set_attr(eta_s=0.8)\n",
    "\n",
    "dh_condenser.set_attr(pr1=1, pr2=1)\n",
    "dh_preheater.set_attr(pr1=1, pr2=1)\n",
    "\n",
    "# Connection parameter\n",
    "# Steam system\n",
    "p_dh_condenser = PSI(\"P\", \"Q\", 0, \"T\", 105 + 273.15, 'water') * 1e-5\n",
    "steam_turb2dh_cond.set_attr(p=p_dh_condenser)\n",
    "\n",
    "steam_source2steam_turb.set_attr(m=500*0.45, p=10.8, x=1, fluid=flu_vec_water)\n",
    "steam_pump2geo_sink2.set_attr(T=55, p=30)\n",
    "\n",
    "# District heating system\n",
    "dh_cond2dh_heatsink.set_attr(T=100, p=10, fluid=flu_vec_water)\n",
    "dh_heatsink2dh_cc.set_attr(T=50)\n",
    "\n",
    "nw.solve('design')"
   ]
  },
  {
   "attachments": {},
   "cell_type": "markdown",
   "metadata": {},
   "source": [
    "**Second Step**: Connecting ORC Cycle with Steam Cycle\n",
    "\n",
    "1. Build up the merge part\n",
    "2. Build up the seperator part\n",
    "3. Set busses und solve the geothermal combined heat and power plant "
   ]
  },
  {
   "cell_type": "code",
   "execution_count": 137,
   "metadata": {
    "tags": [
     "hide-cell"
    ]
   },
   "outputs": [
    {
     "name": "stderr",
     "output_type": "stream",
     "text": [
      "ERROR:root:Singularity in jacobian matrix, calculation aborted! Make sure your network does not have any linear dependencies in the parametrisation. Other reasons might be\n",
      "-> given temperature with given pressure in two phase region, try setting enthalpy instead or provide accurate starting value for pressure.\n",
      "-> given logarithmic temperature differences or kA-values for heat exchangers, \n",
      "-> support better starting values.\n",
      "-> bad starting value for fuel mass flow of combustion chamber, provide small (near to zero, but not zero) starting value.\n"
     ]
    },
    {
     "name": "stdout",
     "output_type": "stream",
     "text": [
      "iter\t| residual | massflow | pressure | enthalpy | fluid\n",
      "--------+----------+----------+----------+----------+---------\n",
      "1\t| 8.41e+08 | 2.49e+04 | 6.05e+06 | 3.58e+07 | 9.60e-14\n",
      "2\t| 3.23e+09 |      nan |      nan |      nan |      nan\n",
      "--------+----------+----------+----------+----------+---------\n",
      "Total iterations: 2, Calculation time: 0.1 s, Iterations per second: 22.6\n",
      "##### RESULTS (Turbine) #####\n",
      "+---------------+-----------+----------+----------+\n",
      "|               |         P |    eta_s |       pr |\n",
      "|---------------+-----------+----------+----------|\n",
      "| ORC Turbine   | -1.11e+07 | \u001b[94m9.00e-01\u001b[0m | 4.07e-01 |\n",
      "| Steam Turbine | -7.60e+07 | \u001b[94m9.00e-01\u001b[0m | 1.12e-01 |\n",
      "+---------------+-----------+----------+----------+\n",
      "##### RESULTS (Pump) #####\n",
      "+-----------------+----------+----------+----------+\n",
      "|                 |        P |    eta_s |       pr |\n",
      "|-----------------+----------+----------+----------|\n",
      "| ORC Pump        | 1.52e+05 | \u001b[94m8.00e-01\u001b[0m | 2.46e+00 |\n",
      "| Geothermal Pump | 6.69e+05 | \u001b[94m8.00e-01\u001b[0m | 2.78e+00 |\n",
      "| Steam Pump      | 8.21e+05 | \u001b[94m8.00e-01\u001b[0m | 2.48e+01 |\n",
      "+-----------------+----------+----------+----------+\n",
      "##### RESULTS (Condenser) #####\n",
      "+----------------------------+-----------+----------+----------+----------+----------+----------+----------+----------+----------+\n",
      "|                            |         Q |       kA |   td_log |    ttd_u |    ttd_l |      pr1 |      pr2 |    zeta1 |    zeta2 |\n",
      "|----------------------------+-----------+----------+----------+----------+----------+----------+----------+----------+----------|\n",
      "| ORC Condenser              | -1.39e+08 | 1.29e+07 | 1.08e+01 | \u001b[94m5.00e+00\u001b[0m | 2.00e+01 | \u001b[94m1.00e+00\u001b[0m | \u001b[94m1.00e+00\u001b[0m | 0.00e+00 | 0.00e+00 |\n",
      "| District Heating Condenser | -4.50e+08 | 2.30e+07 | 1.96e+01 | 5.00e+00 | 5.02e+01 | \u001b[94m1.00e+00\u001b[0m | \u001b[94m1.00e+00\u001b[0m | 0.00e+00 | 0.00e+00 |\n",
      "+----------------------------+-----------+----------+----------+----------+----------+----------+----------+----------+----------+\n",
      "##### RESULTS (HeatExchanger) #####\n",
      "+----------------------------+-----------+----------+----------+----------+----------+----------+----------+-----------+----------+\n",
      "|                            |         Q |       kA |   td_log |    ttd_u |    ttd_l |      pr1 |      pr2 |     zeta1 |    zeta2 |\n",
      "|----------------------------+-----------+----------+----------+----------+----------+----------+----------+-----------+----------|\n",
      "| ORC Evaporator             | -1.27e+08 | 2.90e+06 | 4.37e+01 | 1.18e+02 | \u001b[94m1.00e+01\u001b[0m | \u001b[94m1.00e+00\u001b[0m | 1.00e+00 |  0.00e+00 | 0.00e+00 |\n",
      "| ORC Preheater              | -2.38e+07 | 1.38e+06 | 1.72e+01 | 1.50e+01 | 1.97e+01 | \u001b[94m1.00e+00\u001b[0m | \u001b[94m1.00e+00\u001b[0m | -7.45e-12 | 0.00e+00 |\n",
      "| District Heating Preheater | -4.75e+07 | 2.47e+06 | 1.92e+01 | 5.02e+01 | \u001b[94m4.71e+00\u001b[0m | \u001b[94m1.00e+00\u001b[0m | \u001b[94m1.00e+00\u001b[0m |  0.00e+00 | 0.00e+00 |\n",
      "+----------------------------+-----------+----------+----------+----------+----------+----------+----------+-----------+----------+\n",
      "##### RESULTS (CycleCloser) #####\n",
      "+-------------------------------+------------------+-------------------+\n",
      "|                               |   mass_deviation |   fluid_deviation |\n",
      "|-------------------------------+------------------+-------------------|\n",
      "| ORC Cycle Closer              |         0.00e+00 |          0.00e+00 |\n",
      "| District Heating Cycle Closer |         0.00e+00 |          0.00e+00 |\n",
      "+-------------------------------+------------------+-------------------+\n",
      "##### RESULTS (HeatExchangerSimple) #####\n",
      "+---------------------------+-----------+----------+----------+-----+-----+------+------+--------+\n",
      "|                           |         Q |       pr |     zeta |   D |   L |   ks |   kA |   Tamb |\n",
      "|---------------------------+-----------+----------+----------+-----+-----+------+------+--------|\n",
      "| District Heating Consumer | -4.98e+08 | 1.00e+00 | 0.00e+00 | nan | nan |  nan |  nan |    nan |\n",
      "+---------------------------+-----------+----------+----------+-----+-----+------+------+--------+\n",
      "##### RESULTS (Connection) #####\n",
      "+----+-------------+-------------+-------------+-------------+\n",
      "|    |           m |           p |           h |           T |\n",
      "|----+-------------+-------------+-------------+-------------|\n",
      "|  0 |   3.910e+02 |   3.170e+00 |   1.697e+01 |   3.510e+01 |\n",
      "|  1 |   3.910e+02 |   3.170e+00 |   1.697e+01 |   3.510e+01 |\n",
      "|  2 |   3.910e+02 |   3.170e+00 |   7.793e+01 |   6.052e+01 |\n",
      "|  3 |   5.810e+02 |   3.170e+00 |   9.037e+01 |   6.552e+01 |\n",
      "|  4 |   5.810e+02 |   3.170e+00 |   3.083e+02 |   6.552e+01 |\n",
      "|  5 |   3.910e+02 |   3.170e+00 |   4.017e+02 |   6.552e+01 |\n",
      "|  6 |   3.910e+02 |   1.290e+00 |   3.732e+02 |   4.569e+01 |\n",
      "|  7 |   3.910e+02 |   1.290e+00 |   1.658e+01 |   3.500e+01 |\n",
      "| 41 |   9.241e+03 |   \u001b[94m1.013e+00\u001b[0m |   4.144e+02 |   \u001b[94m1.500e+01\u001b[0m |\n",
      "| 42 |   9.241e+03 |   1.013e+00 |   4.295e+02 |   \u001b[94m3.000e+01\u001b[0m |\n",
      "| 23 |   2.750e+02 |   1.080e+01 |   3.170e+02 |   7.552e+01 |\n",
      "| 12 |   2.250e+02 |   \u001b[94m1.209e+00\u001b[0m |   2.442e+03 |   1.050e+02 |\n",
      "| 13 |   2.250e+02 |   1.209e+00 |   4.403e+02 |   1.050e+02 |\n",
      "| 14 |   2.250e+02 |   1.209e+00 |   2.291e+02 |   5.471e+01 |\n",
      "| 30 |   2.375e+03 |   1.000e+01 |   2.102e+02 |   \u001b[94m5.000e+01\u001b[0m |\n",
      "| 31 |   2.375e+03 |   1.000e+01 |   2.102e+02 |   5.000e+01 |\n",
      "| 33 |   2.375e+03 |   1.000e+01 |   2.302e+02 |   5.478e+01 |\n",
      "| 34 |   2.375e+03 |   \u001b[94m1.000e+01\u001b[0m |   4.198e+02 |   \u001b[94m1.000e+02\u001b[0m |\n",
      "| 15 | nan         | nan         | nan         | nan         |\n",
      "| 24 | nan         | nan         | nan         |   \u001b[94m5.500e+01\u001b[0m |\n",
      "| 25 | nan         | nan         | nan         | nan         |\n",
      "| 26 | nan         |   \u001b[94m3.000e+01\u001b[0m | nan         | nan         |\n",
      "| 21 |   \u001b[94m5.000e+02\u001b[0m |   \u001b[94m1.080e+01\u001b[0m | nan         | nan         |\n",
      "| 22 | nan         | nan         | nan         | nan         |\n",
      "| 11 | nan         | nan         | nan         | nan         |\n",
      "+----+-------------+-------------+-------------+-------------+\n",
      "##### RESULTS (Bus: Heat Input) #####\n",
      "+-------+-------------------+-------------+--------------+\n",
      "|       |   component value |   bus value |   efficiency |\n",
      "|-------+-------------------+-------------+--------------|\n",
      "| total |         0.000e+00 |   0.000e+00 |          nan |\n",
      "+-------+-------------------+-------------+--------------+\n",
      "##### RESULTS (Bus: Power Output) #####\n",
      "+-------+-------------------+-------------+--------------+\n",
      "|       |   component value |   bus value |   efficiency |\n",
      "|-------+-------------------+-------------+--------------|\n",
      "| total |         0.000e+00 |   0.000e+00 |          nan |\n",
      "+-------+-------------------+-------------+--------------+\n",
      "##### RESULTS (Bus: Heat Output District Heating) #####\n",
      "+-------+-------------------+-------------+--------------+\n",
      "|       |   component value |   bus value |   efficiency |\n",
      "|-------+-------------------+-------------+--------------|\n",
      "| total |         0.000e+00 |   0.000e+00 |          nan |\n",
      "+-------+-------------------+-------------+--------------+\n",
      "##### RESULTS (Bus: Heat Output Cooling) #####\n",
      "+-------+-------------------+-------------+--------------+\n",
      "|       |   component value |   bus value |   efficiency |\n",
      "|-------+-------------------+-------------+--------------|\n",
      "| total |         0.000e+00 |   0.000e+00 |          nan |\n",
      "+-------+-------------------+-------------+--------------+\n"
     ]
    }
   ],
   "source": [
    "# Components\n",
    "# Geothermal heat source with interfaces\n",
    "geo_source = Source('Geothermal Source')\n",
    "geo_sink = Sink('Geothermal Sink')\n",
    "seperator = DropletSeparator('Seperator')\n",
    "merge = Merge('Merge')\n",
    "\n",
    "# Build up the merge part\n",
    "# Delete old connections\n",
    "nw.del_conns(geo_pump2geo_sink1, steam_pump2geo_sink2, orc_preheat2geo_pump)\n",
    "\n",
    "# Set new connections\n",
    "steam_pump2merge = Connection(steam_pump, 'out1', merge, 'in1', label='15')\n",
    "orc_preheat2merge = Connection(orc_preheater, 'out1', merge, 'in2', label='24')\n",
    "merge2geo_pump = Connection(merge, 'out1', geo_pump, 'in1', label='25')\n",
    "geo_pump2geo_sink = Connection(geo_pump, 'out1', geo_sink, 'in1', label='26')\n",
    "\n",
    "nw.add_conns(steam_pump2merge, orc_preheat2merge, merge2geo_pump, geo_pump2geo_sink)\n",
    "\n",
    "# Parametrize new connections\n",
    "orc_preheat2merge.set_attr(T=55)\n",
    "geo_pump2geo_sink.set_attr(p=30)\n",
    "dh_preheater.set_attr(ttd_l=5)\n",
    "\n",
    "# Build up the seperator part\n",
    "# Delete old connections\n",
    "nw.del_conns(liquid_source2orc_eva, steam_source2steam_turb)\n",
    "\n",
    "# Set new connections\n",
    "geo_source2sep = Connection(geo_source,'out1', seperator, 'in1', label='21')\n",
    "sep2orc_eva = Connection(seperator,'out1', orc_evaporator, 'in1', label='22')\n",
    "sep2steam_turb = Connection(seperator, 'out2', steam_turbine, 'in1', label='11')\n",
    "\n",
    "nw.add_conns(geo_source2sep, sep2orc_eva, sep2steam_turb)\n",
    "\n",
    "# Parametrize new connections\n",
    "geo_source2sep.set_attr(m=500, p=10.8, x=0.45, fluid=flu_vec_water)\n",
    "sep2orc_eva.set_attr(m0=500*0.55)\n",
    "sep2steam_turb.set_attr(m0=500*0.45)\n",
    "\n",
    "# Busses\n",
    "heat_in = Bus('Heat Input')\n",
    "heat_in.add_comps(\n",
    "    {'comp': geo_source, 'base': 'bus'},\n",
    "    {'comp': geo_sink, 'base': 'component'}\n",
    "    )\n",
    "\n",
    "power_out = Bus('Power Output')\n",
    "power_out.add_comps(\n",
    "    {'comp': steam_turbine, 'char': 0.985*0.99, 'base': 'component'},\n",
    "    {'comp': orc_turbine, 'char': 0.985*0.99, 'base': 'component'},\n",
    "    {'comp': steam_pump, 'char': 0.975*0.99, 'base': 'bus'},\n",
    "    {'comp': orc_pump, 'char': 0.975*0.99, 'base': 'bus'},\n",
    "    {'comp': geo_pump, 'char': 0.975*0.99, 'base': 'bus'}\n",
    "    )\n",
    "\n",
    "heat_out_dh = Bus('Heat Output District Heating')\n",
    "heat_out_dh.add_comps({'comp': dh_heatsink, 'base': 'component'})\n",
    "\n",
    "heat_out_cool = Bus('Heat Output Cooling')\n",
    "heat_out_cool.add_comps(\n",
    "    {'comp': cool_source, 'base': 'bus'},\n",
    "    {'comp': cool_sink, 'base': 'component'}\n",
    "    )\n",
    "\n",
    "nw.add_busses(heat_in, power_out, heat_out_dh, heat_out_cool)\n",
    "\n",
    "nw.solve(\"design\")\n",
    "nw.print_results()\n"
   ]
  },
  {
   "attachments": {},
   "cell_type": "markdown",
   "metadata": {},
   "source": [
    "## Proposed solution 2.1\n",
    "\n",
    "### Geothermal power plant with complete condensation operation\n",
    "\n",
    "**First Step**: Build up the low pressure ORC cycle for complete condensation operation\n",
    "\n",
    "Be sure this one runs standalone first!"
   ]
  },
  {
   "attachments": {},
   "cell_type": "markdown",
   "metadata": {
    "tags": [
     "hide-cell"
    ]
   },
   "source": [
    "```{admonition} Explanation\n",
    ":class: dropdown\n",
    "\n",
    "Hier könnte ihre Erklärung stehen\n",
    "```"
   ]
  },
  {
   "attachments": {},
   "cell_type": "markdown",
   "metadata": {},
   "source": [
    "## Exercise 2"
   ]
  },
  {
   "attachments": {},
   "cell_type": "markdown",
   "metadata": {},
   "source": [
    "- Energetische\n",
    "\n",
    "- Treffe eine Auswahl von geeigneten Arbeitsmedien \n",
    "- Auswahl und Begründung der Nutzung thermodynamischer Stoffdatenmodelle für die Simulation."
   ]
  },
  {
   "cell_type": "code",
   "execution_count": null,
   "metadata": {
    "tags": [
     "hide-cell"
    ]
   },
   "outputs": [],
   "source": [
    "# code of solution"
   ]
  },
  {
   "cell_type": "markdown",
   "metadata": {
    "tags": [
     "hide-cell"
    ]
   },
   "source": [
    "```{admonition} Explanation\n",
    ":class: dropdown\n",
    "\n",
    "Hier könnte ihre Erklärung stehen\n",
    "```"
   ]
  },
  {
   "attachments": {},
   "cell_type": "markdown",
   "metadata": {},
   "source": [
    "## Exercise 3"
   ]
  },
  {
   "attachments": {},
   "cell_type": "markdown",
   "metadata": {},
   "source": [
    "- Definition und Nutzung geeigneter Größen zur Bewertung der Prozessentwürfe\n",
    "- anschließender Vergleich sowie Diskussion."
   ]
  },
  {
   "cell_type": "code",
   "execution_count": null,
   "metadata": {
    "tags": [
     "hide-cell"
    ]
   },
   "outputs": [],
   "source": [
    "# code of solution"
   ]
  },
  {
   "cell_type": "markdown",
   "metadata": {
    "tags": [
     "hide-cell"
    ]
   },
   "source": [
    "```{admonition} Explanation\n",
    ":class: dropdown\n",
    "\n",
    "Hier könnte ihre Erklärung stehen\n",
    "```"
   ]
  },
  {
   "attachments": {},
   "cell_type": "markdown",
   "metadata": {},
   "source": [
    "## Lessons Learned\n",
    "\n",
    "- Lessons Learned 1\n",
    "- Lessons Learned 2\n",
    "- Lessons Learned 3"
   ]
  }
 ],
 "metadata": {
  "kernelspec": {
   "display_name": "Python 3 (ipykernel)",
   "language": "python",
   "name": "python3"
  },
  "language_info": {
   "codemirror_mode": {
    "name": "ipython",
    "version": 3
   },
   "file_extension": ".py",
   "mimetype": "text/x-python",
   "name": "python",
   "nbconvert_exporter": "python",
   "pygments_lexer": "ipython3",
   "version": "3.7.6"
  },
  "widgets": {
   "application/vnd.jupyter.widget-state+json": {
    "state": {},
    "version_major": 2,
    "version_minor": 0
   }
  }
 },
 "nbformat": 4,
 "nbformat_minor": 4
}
