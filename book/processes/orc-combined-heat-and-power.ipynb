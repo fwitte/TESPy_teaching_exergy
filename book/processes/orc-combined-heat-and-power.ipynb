{
 "cells": [
  {
   "cell_type": "markdown",
   "metadata": {},
   "source": [
    "(orc-chp-label)=\n",
    "\n",
    "# ORC Combined Heat and Power"
   ]
  },
  {
   "attachments": {},
   "cell_type": "markdown",
   "metadata": {},
   "source": [
    "## Introduction"
   ]
  },
  {
   "attachments": {},
   "cell_type": "markdown",
   "metadata": {},
   "source": [
    "Einführungstext"
   ]
  },
  {
   "attachments": {},
   "cell_type": "markdown",
   "metadata": {},
   "source": [
    "## Excercise 1"
   ]
  },
  {
   "attachments": {},
   "cell_type": "markdown",
   "metadata": {},
   "source": [
    "Build a power plant working combined heat and power. The heat source is a geothermal field.\n",
    "\n",
    "- Erstelle ein Modell und simuliere dieses in TESPy\n",
    "- Beide Modelle aufbauen"
   ]
  },
  {
   "attachments": {},
   "cell_type": "markdown",
   "metadata": {
    "tags": []
   },
   "source": [
    "## Proposed solution 1.1\n",
    "\n",
    "**First Step**: Build the model topology of geothermal combined heat and power plan"
   ]
  },
  {
   "cell_type": "code",
   "execution_count": null,
   "metadata": {
    "tags": [
     "hide-cell"
    ]
   },
   "outputs": [],
   "source": [
    "from tespy.networks import Network\n",
    "from tespy.connections import Connection, Bus\n",
    "from tespy.components import (\n",
    "    CycleCloser, Source, Sink, Pump, Turbine, HeatExchanger,HeatExchangerSimple,\n",
    "    Condenser, Drum, DropletSeparator, Merge\n",
    "    )\n",
    "\n",
    "# Network\n",
    "nw = Network(fluids=['water', 'air', 'Isopentane'])\n",
    "nw.set_attr(T_unit='C', p_unit='bar', h_unit='kJ / kg')\n",
    "\n",
    "flu_vec_orc = {'water': 0, 'air': 0, 'Isopentane': 1}\n",
    "flu_vec_water = {'water': 1, 'air': 0, 'Isopentane': 0}\n",
    "flu_vec_air = {'water': 0, 'air': 1, 'Isopentane': 0}\n",
    "\n",
    "# Components\n",
    "# ORC cycle with condenser coolant cycle\n",
    "orc_cc = CycleCloser('ORC Cycle Closer')\n",
    "orc_preheater = HeatExchanger('ORC Preheater')\n",
    "orc_drum = Drum('ORC Drum')\n",
    "orc_evaporator = HeatExchanger('ORC Evaporator')\n",
    "orc_turbine = Turbine('ORC Turbine')\n",
    "orc_condenser = Condenser('ORC Condenser')\n",
    "cool_source = Source('Coolant Source')\n",
    "cool_sink = Sink('Coolant Sink')\n",
    "orc_pump = Pump('ORC Pump')\n",
    "\n",
    "# Steam cycle with district heating system\n",
    "steam_turbine = Turbine('Steam Turbine')\n",
    "dh_condenser = Condenser('District Heating Condenser')\n",
    "dh_preheater = HeatExchanger('District Heating Preheater')\n",
    "dh_cc = CycleCloser('District Heating Cycle Closer')\n",
    "dh_pump = Pump('District Heating Pump')\n",
    "dh_heatsink = HeatExchangerSimple('District Heating Consumer')\n",
    "steam_pump = Pump('Steam Pump')\n",
    "\n",
    "# Geothermal heat source with interfaces\n",
    "geo_source = Source('Geothermal Source')\n",
    "seperator = DropletSeparator('Seperator')\n",
    "merge = Merge('Merge')\n",
    "geo_pump = Pump('Geothermal Pump')\n",
    "geo_sink = Sink('Geothermal Sink')\n",
    "\n",
    "# Connections\n",
    "# ORC cycle\n",
    "orc_pump2orc_cc = Connection(orc_pump, 'out1', orc_cc, 'in1', label='0')\n",
    "orc_cc2orc_preheater = Connection(orc_cc, 'out1', orc_preheater, 'in2', label='1')\n",
    "orc_preheat2orc_drum = Connection(orc_preheater, 'out2', orc_drum, 'in1', label='2')\n",
    "orc_drum2orc_eva = Connection(orc_drum, 'out1', orc_evaporator, 'in2', label='3')\n",
    "orc_eva2orc_drum = Connection(orc_evaporator, 'out2', orc_drum, 'in2', label='4')\n",
    "orc_drum2orc_turb = Connection(orc_drum, 'out2', orc_turbine, 'in1', label='5')\n",
    "orc_turb2orc_cond = Connection(orc_turbine, 'out1', orc_condenser, 'in1', label='6')\n",
    "orc_cond2orc_pump = Connection(orc_condenser, 'out1', orc_pump, 'in1', label='7')\n",
    "\n",
    "nw.add_conns(\n",
    "    orc_pump2orc_cc, orc_cc2orc_preheater, orc_preheat2orc_drum, orc_drum2orc_eva, \n",
    "    orc_eva2orc_drum, orc_drum2orc_turb, orc_turb2orc_cond, orc_cond2orc_pump\n",
    "    )\n",
    "\n",
    "# Condenser coolant cycle\n",
    "cool_source2orc_cond = Connection(cool_source, 'out1', orc_condenser, 'in2', label='41')\n",
    "orc_cond2cool_sink = Connection(orc_condenser, 'out2', cool_sink, 'in1', label='42')\n",
    "\n",
    "nw.add_conns(cool_source2orc_cond, orc_cond2cool_sink)\n",
    "\n",
    "# Steam cycle\n",
    "sep2steam_turb = Connection(seperator, 'out1', steam_turbine, 'in1', label='11')\n",
    "steam_turb2dh_cond = Connection(steam_turbine, 'out1', dh_condenser, 'in1', label='12')\n",
    "dh_cond2dh_preheat = Connection(dh_condenser, 'out1', dh_preheater, 'in1', label='13')\n",
    "dh_preheat2steam_pump = Connection(dh_preheater, 'out1', steam_pump, 'in1', label='14')\n",
    "steam_pump2merge = Connection(steam_pump, 'out1', merge, 'in1', label='15')\n",
    "\n",
    "nw.add_conns(\n",
    "    sep2steam_turb, steam_turb2dh_cond, dh_cond2dh_preheat, dh_preheat2steam_pump, \n",
    "    steam_pump2merge\n",
    "    )\n",
    "\n",
    "# District heating system\n",
    "dh_heatsink2dh_cc = Connection(dh_heatsink, 'out1', dh_cc, 'in1', label='30')\n",
    "dh_cc2dh_pump = Connection(dh_cc, 'out1', dh_pump, 'in1', label='31')\n",
    "dh_pump2dh_preheat = Connection(dh_pump, 'out1', dh_preheater, 'in2', label='32')\n",
    "dh_preheat2dh_cond = Connection(dh_preheater, 'out2', dh_condenser, 'in2', label='33')\n",
    "dh_cond2dh_heatsink = Connection(dh_condenser, 'out2', dh_heatsink, 'in1', label='34')\n",
    "\n",
    "nw.add_conns(\n",
    "    dh_heatsink2dh_cc, dh_cc2dh_pump, dh_pump2dh_preheat, dh_preheat2dh_cond,\n",
    "    dh_cond2dh_heatsink\n",
    "    )\n",
    "\n",
    "# Geothermal Heat Source\n",
    "geo_source2sep = Connection(geo_source,'out1', seperator, 'in1', label='21')\n",
    "sep2orc_eva = Connection(seperator,'out2', orc_evaporator, 'in1', label='22')\n",
    "orc_eva2orc_preheat = Connection(orc_evaporator,'out1', orc_preheater, 'in1', label='23')\n",
    "orc_preheat2merge = Connection(orc_preheater,'out1', merge, 'in2', label='24')\n",
    "merge2geo_pump = Connection(merge,'out1', geo_pump, 'in1', label='25')\n",
    "geo_pump2geo_sink = Connection(geo_pump,'out1', geo_sink, 'in1', label='26')\n",
    "\n",
    "nw.add_conns(\n",
    "    geo_source2sep, sep2orc_eva, orc_eva2orc_preheat, orc_preheat2merge,\n",
    "    merge2geo_pump, geo_pump2geo_sink\n",
    "    )"
   ]
  },
  {
   "attachments": {},
   "cell_type": "markdown",
   "metadata": {},
   "source": [
    "**Second Step**:  Set the process parameters and starting values and define the energy busses"
   ]
  },
  {
   "cell_type": "code",
   "execution_count": null,
   "metadata": {},
   "outputs": [],
   "source": [
    "from CoolProp.CoolProp import PropsSI as PSI\n",
    "\n",
    "# Component Parametrization\n",
    "orc_turbine.set_attr(eta_s=0.9)\n",
    "steam_turbine.set_attr(eta_s=0.9)\n",
    "\n",
    "steam_pump.set_attr(eta_s=0.8)\n",
    "orc_pump.set_attr(eta_s=0.8)\n",
    "geo_pump.set_attr(eta_s=0.8)\n",
    "dh_pump.set_attr(eta_s=0.8)\n",
    "\n",
    "orc_preheater.set_attr(pr1=1, pr2=1)\n",
    "orc_evaporator.set_attr(pr1=1, pr2=1)\n",
    "orc_condenser.set_attr(pr1=1, pr2=1)\n",
    "dh_condenser.set_attr(pr1=1, pr2=1)\n",
    "dh_preheater.set_attr(pr1=1, pr2=1)\n",
    "dh_heatsink.set_attr(pr=1)\n",
    "\n",
    "# Connection Parametrization\n",
    "# Geothermal Heat source\n",
    "geo_source2sep.set_attr(m=500, p=10.8, x=0.45, fluid=flu_vec_water)\n",
    "geo_pump2geo_sink.set_attr(T=55, p=30)\n",
    "\n",
    "# District Heating Network\n",
    "dh_cond2dh_heatsink.set_attr(T=100, p=10, fluid=flu_vec_water)\n",
    "dh_heatsink2dh_cc.set_attr(T=50)\n",
    "\n",
    "# Cooling Cycle\n",
    "cool_source2orc_cond.set_attr(T=15, p=1.013)\n",
    "\n",
    "# Starting Values\n",
    "\n",
    "# Busses\n",
    "heat_in = Bus('Heat Input')\n",
    "heat_in.add_comps(\n",
    "    {'comp': geo_source, 'base': 'bus'},\n",
    "    {'comp': geo_sink, 'base': 'component'}\n",
    "    )\n",
    "\n",
    "power_out = Bus('Power Output')\n",
    "power_out.add_comps(\n",
    "    {'comp': steam_turbine, 'char': 0.985*0.99, 'base': 'component'},\n",
    "    {'comp': orc_turbine, 'char': 0.985*0.99, 'base': 'component'},\n",
    "    {'comp': steam_pump, 'char': 0.975*0.99, 'base': 'bus'},\n",
    "    {'comp': orc_pump, 'char': 0.975*0.99, 'base': 'bus'},\n",
    "    {'comp': geo_pump, 'char': 0.975*0.99, 'base': 'bus'},\n",
    "    {'comp': dh_pump, 'char': 0.975*0.99, 'base': 'bus'}\n",
    "    )\n",
    "\n",
    "heat_out_dh = Bus('Heat Output District Heating')\n",
    "heat_out_dh.add_comps({'comp': dh_heatsink, 'base': 'component'})\n",
    "\n",
    "heat_out_cool = Bus('Heat Output Cooling')\n",
    "heat_out_cool.add_comps(\n",
    "    {'comp': cool_source, 'base': 'bus'},\n",
    "    {'comp': cool_sink, 'base': 'component'}\n",
    "    )\n",
    "\n",
    "nw.add_busses(heat_in, power_out, heat_out_dh, heat_out_cool)"
   ]
  },
  {
   "cell_type": "markdown",
   "metadata": {},
   "source": [
    "**Third step**: Solve model with starting and final values"
   ]
  },
  {
   "cell_type": "code",
   "execution_count": null,
   "metadata": {},
   "outputs": [],
   "source": [
    "# Solve model\n",
    "nw.set_attr(iterinfo=False)\n",
    "nw.solve(mode='design')\n",
    "# eta_th = abs(power_out.P.val)/heat_in.P.val\n",
    "# print(f'eta_th = {eta_th:.3f}')"
   ]
  },
  {
   "attachments": {},
   "cell_type": "markdown",
   "metadata": {},
   "source": [
    "## Proposed solution 1.2\n",
    "\n",
    "**First Step**: Build the model topology of geothermal power plant"
   ]
  },
  {
   "cell_type": "code",
   "execution_count": null,
   "metadata": {},
   "outputs": [],
   "source": []
  },
  {
   "attachments": {},
   "cell_type": "markdown",
   "metadata": {},
   "source": [
    "**Second Step**:  Set the process parameters and starting values and define the energy busses"
   ]
  },
  {
   "cell_type": "code",
   "execution_count": null,
   "metadata": {},
   "outputs": [],
   "source": []
  },
  {
   "cell_type": "markdown",
   "metadata": {},
   "source": [
    "**Third step**: Solve model with starting and final values"
   ]
  },
  {
   "cell_type": "code",
   "execution_count": null,
   "metadata": {},
   "outputs": [],
   "source": []
  },
  {
   "attachments": {},
   "cell_type": "markdown",
   "metadata": {
    "tags": [
     "hide-cell"
    ]
   },
   "source": [
    "```{admonition} Explanation\n",
    ":class: dropdown\n",
    "\n",
    "Hier könnte ihre Erklärung stehen\n",
    "```"
   ]
  },
  {
   "attachments": {},
   "cell_type": "markdown",
   "metadata": {},
   "source": [
    "## Excercise 2"
   ]
  },
  {
   "attachments": {},
   "cell_type": "markdown",
   "metadata": {},
   "source": [
    "- Energetische\n",
    "\n",
    "- Treffe eine Auswahl von geeigneten Arbeitsmedien \n",
    "- Auswahl und Begründung der Nutzung thermodynamischer Stoffdatenmodelle für die Simulation."
   ]
  },
  {
   "cell_type": "code",
   "execution_count": null,
   "metadata": {
    "tags": [
     "hide-cell"
    ]
   },
   "outputs": [],
   "source": [
    "# code of solution"
   ]
  },
  {
   "cell_type": "markdown",
   "metadata": {
    "tags": [
     "hide-cell"
    ]
   },
   "source": [
    "```{admonition} Explanation\n",
    ":class: dropdown\n",
    "\n",
    "Hier könnte ihre Erklärung stehen\n",
    "```"
   ]
  },
  {
   "attachments": {},
   "cell_type": "markdown",
   "metadata": {},
   "source": [
    "## Excercise 3"
   ]
  },
  {
   "attachments": {},
   "cell_type": "markdown",
   "metadata": {},
   "source": [
    "- Definition und Nutzung geeigneter Größen zur Bewertung der Prozessentwürfe\n",
    "- anschließender Vergleich sowie Diskussion."
   ]
  },
  {
   "cell_type": "code",
   "execution_count": null,
   "metadata": {
    "tags": [
     "hide-cell"
    ]
   },
   "outputs": [],
   "source": [
    "# code of solution"
   ]
  },
  {
   "cell_type": "markdown",
   "metadata": {
    "tags": [
     "hide-cell"
    ]
   },
   "source": [
    "```{admonition} Explanation\n",
    ":class: dropdown\n",
    "\n",
    "Hier könnte ihre Erklärung stehen\n",
    "```"
   ]
  },
  {
   "attachments": {},
   "cell_type": "markdown",
   "metadata": {},
   "source": [
    "## Lessons Learned\n",
    "\n",
    "- Lessons Learned 1\n",
    "- Lessons Learned 2\n",
    "- Lessons Learned 3"
   ]
  }
 ],
 "metadata": {
  "kernelspec": {
   "display_name": "Python 3 (ipykernel)",
   "language": "python",
   "name": "python3"
  },
  "language_info": {
   "codemirror_mode": {
    "name": "ipython",
    "version": 3
   },
   "file_extension": ".py",
   "mimetype": "text/x-python",
   "name": "python",
   "nbconvert_exporter": "python",
   "pygments_lexer": "ipython3",
   "version": "3.9.13"
  },
  "widgets": {
   "application/vnd.jupyter.widget-state+json": {
    "state": {},
    "version_major": 2,
    "version_minor": 0
   }
  }
 },
 "nbformat": 4,
 "nbformat_minor": 4
}
