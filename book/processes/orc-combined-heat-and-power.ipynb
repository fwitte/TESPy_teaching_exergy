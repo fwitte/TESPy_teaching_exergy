{
 "cells": [
  {
   "cell_type": "markdown",
   "metadata": {},
   "source": [
    "(orc-chp-label)=\n",
    "\n",
    "# ORC Combined Heat and Power"
   ]
  },
  {
   "attachments": {},
   "cell_type": "markdown",
   "metadata": {},
   "source": [
    "## Introduction"
   ]
  },
  {
   "attachments": {},
   "cell_type": "markdown",
   "metadata": {},
   "source": [
    "Subject of the following example of a more complex thermodynamic process will be a combined geothermal heat and power plant. As even deep geothermal boreholes can not supply temperatures high enough to drice conventional powerplant processes, such as the aforementioned and thoroughly analyzed Clausius Rankine Cycle, adjustments are necessary. Organic process fluids whose vaporization temperature is lower than that of water allow the execution of a Rankine cycle at these lower heat source temperatures, resulting in the so called *Organic Rankine Cycle*.\n",
    "\n",
    "The following exercises are supposed to emulate a typical energy engineers workflow. The task is a process design study, where conditions of the surrundings and requirements of stakeholders are given. The proposed process design has to fulfill these constraints, which are displayed in {numref}`geothermal-chp-parameters`.\n",
    "\n",
    "```{figure} /figures/geothermal_chp_parameters.png\n",
    "---\n",
    "name: geothermal-chp-parameters\n",
    "---\n",
    "Boundary conditions of the geothermal plant with cogeneration of heat and power.\n",
    "```\n",
    "\n",
    "Additionally, {numref}`comp-approx` lists approximations of typical component parameters.\n",
    "\n",
    "```{list-table} Approximations of typical component parameters\n",
    ":header-rows: 1\n",
    ":name: comp-approx\n",
    "\n",
    "* - Component\n",
    "  - Parameter\n",
    "  - \n",
    "  - Value\n",
    "  - Unit\n",
    "* - Auxillary Installations\n",
    "  - Electrical power requirements\n",
    "  - \n",
    "  - 3\n",
    "  - MW\n",
    "* - Generators\n",
    "  - Mechanical-electrical efficiency\n",
    "  - \n",
    "  - 0.985\n",
    "  - \n",
    "* - Motors\n",
    "  - Electrical-mechanical efficiency\n",
    "  - \n",
    "  - 0.975\n",
    "  - \n",
    "* - Steam turbines\n",
    "  - Isentropic efficiency\n",
    "  - \n",
    "  - 0.9\n",
    "  - \n",
    "* - \n",
    "  - Mechanical efficiency\n",
    "  - \n",
    "  - 0.99\n",
    "  - \n",
    "* - \n",
    "  - Minimum steam quality\n",
    "  - \n",
    "  - 0.9\n",
    "  - \n",
    "* - Pumps\n",
    "  - Isentropic efficiency\n",
    "  - \n",
    "  - 0.8\n",
    "  - \n",
    "* - \n",
    "  - Mechanical efficiency\n",
    "  - \n",
    "  - 0.99\n",
    "  - \n",
    "* - Heat Exchangers\n",
    "  - Minimal temperature difference\n",
    "  - liquid-liquid\n",
    "  - 10\n",
    "  - K\n",
    "* - \n",
    "  - \n",
    "  - liquid-condensing\n",
    "  - 5\n",
    "  - K\n",
    "* - \n",
    "  - \n",
    "  - liquid-steam\n",
    "  - 20\n",
    "  - K\n",
    "* - \n",
    "  - \n",
    "  - liquid-gaseous\n",
    "  - 25\n",
    "  - K\n",
    "```\n",
    "\n",
    "The proposed process is to be evaluated both with an energy- and an exergy-based approach. This can be achieved via efficiency values, which put the benefit of the process in relation to the necessary input. The energy efficiency of the cobined heat and power process is defined according to Eq. {eq}`orc-chp-energy-efficiency` and the exergy efficiency according to Eq. {eq}`orc-chp-exergy-efficiency`.\n",
    "\n",
    "```{math}\n",
    "    :label: orc-chp-energy-efficiency\n",
    "    \\eta_{CHP} = \\frac{\\dot{W}_{net} + \\dot{Q}_{DH}}{\\dot{H}_1 - \\dot{H}_2}\n",
    "```\n",
    "\n",
    "```{math}\n",
    "    :label: orc-chp-exergy-efficiency\n",
    "    \\epsilon_{CHP} = \\frac{\\dot{W}_{net} + (\\dot{E}_{ff} - \\dot{E}_{bf})}{\\dot{E}_1 - \\dot{E}_2}\n",
    "```\n"
   ]
  },
  {
   "attachments": {},
   "cell_type": "markdown",
   "metadata": {},
   "source": [
    "## Exercise 1"
   ]
  },
  {
   "attachments": {},
   "cell_type": "markdown",
   "metadata": {},
   "source": [
    "1. Build a geothermal combined heat and power plant according to the boundary conditions in {numref}`geothermal-chp-parameters` and {numref}`comp-approx`.\n",
    "2. Build another geothermal plant based on the one before that replaces the heat output with another cycle extracting electrical power.\n",
    "3. Evaluate both processes according to Eqs. {eq}`orc-chp-energy-efficiency` and {eq}`orc-chp-exergy-efficiency` and compare each other."
   ]
  },
  {
   "attachments": {},
   "cell_type": "markdown",
   "metadata": {},
   "source": [
    "\n",
    "```{Note}\n",
    "\n",
    "This task is described very openly, so there is no single right solution. You have to be creative to find a working process that fulfills all requirements.\n",
    "\n",
    "At first, you can try to come up with components that are necessary to supply the desired outputs. You can build simple cycles and contemplate how they can be improved.\n",
    "\n",
    "Additionally, you can get inspiration through existing plants as described in the literature. A few examples are {cite:t}`DiPippo2015`, {cite:t}`Drbal1996`, {cite:t}`Kitto2005` and {cite:t}`Strauss2016` (german).\n",
    "\n",
    "```"
   ]
  },
  {
   "attachments": {},
   "cell_type": "markdown",
   "metadata": {},
   "source": [
    "```{note}\n",
    "\n",
    "Your model very likely will be quite complex and use a lot of components which need parametrization. Building the whole model at once likely results in too few or too many parameters, which can be hard to track down. Oftentimes, a better approach is to build parts of the model, e.g. inner cycles or outer strands, and make them work. Only then the parts are joined together to build the whole process.\n",
    "\n",
    "Also, you will probably encouter issues when setting terminal temperature differences without stable starting values. As mentioned in other examples, running the model with best-guess starting values before finalizing parametrization strengthens stability and can even be necessary. Besides the other examples, you are referred to the TESPy tutorial on <a href=\"https://tespy.readthedocs.io/en/dev/tutorials/starting_values.html#tespy-tutorial-starting-values-label\">How to Generate Stable Starting Values</a>.\n",
    "\n",
    "```"
   ]
  },
  {
   "attachments": {},
   "cell_type": "markdown",
   "metadata": {},
   "source": [
    "````{admonition} Proposed process designs (only use if necessary!)\n",
    ":class: dropdown\n",
    "\n",
    "If you are having trouble creating/finding a suitable process design that fulfills all the requirements, example designs are provided here. Definitly try to come up with your own process designs at first, as there is a lot to learn trying, failing and hopefully finally succeeding in solving the tasks.\n",
    "\n",
    "For the cogeneration of heat and power, an ORC using the liquid phase from the geothermal source will be employed to solely supply power. The gaseous mass fraction can be fed directly through a steam turbine and condensated to supply the district heating network with heat. The process diagram of the described CHP plant can be found in {numref}`orc-chp-flowsheet`. The heat outflow to close the Organic Rankine Cycle is realized through cooling with ambient air. Finally, the two streams from the geothermal source are combined again to be fed back into the geothermal sink.\n",
    "\n",
    "```{figure} /figures/geothermal_orc_chp.svg\n",
    "---\n",
    "name: orc-chp-flowsheet\n",
    "---\n",
    "Flow sheet of the geothermal plant with cogeneration of heat and power.\n",
    "```\n",
    "\n",
    "The second approach without the supply of heat is implemented with an additional Organic Rankinke Cycle replacing the district heating condenser. This second ORC is in principle of the same structure as the first one, as can be seen in {numref}`orc-full-elec-flowsheet`.\n",
    "\n",
    "```{figure} /figures/geothermal_orc_full_elec.svg\n",
    "---\n",
    "name: orc-full-elec-flowsheet\n",
    "---\n",
    "Flow sheet of the geothermal plant with sole power generation.\n",
    "```\n",
    "\n",
    "````"
   ]
  },
  {
   "attachments": {},
   "cell_type": "markdown",
   "metadata": {},
   "source": [
    "(orc-proposed-solution-1-label)=\n",
    "\n",
    "## Proposed solution 1\n",
    "\n",
    "**First Step**: Build the ORC as basis for geothermal combined heat and power plant and geothermal power plant"
   ]
  },
  {
   "cell_type": "code",
   "execution_count": 46,
   "metadata": {
    "tags": [
     "hide-cell"
    ]
   },
   "outputs": [],
   "source": [
    "from tespy.networks import Network\n",
    "from tespy.connections import Connection, Bus\n",
    "from tespy.components import (\n",
    "    CycleCloser, Source, Sink, Pump, Turbine, HeatExchanger,HeatExchangerSimple,\n",
    "    Condenser, Drum, DropletSeparator, Merge\n",
    "    )\n",
    "\n",
    "# Network\n",
    "nw = Network(fluids=['water', 'air', 'Isopentane'])\n",
    "nw.set_attr(T_unit='C', p_unit='bar', h_unit='kJ / kg')\n",
    "\n",
    "flu_vec_orc = {'water': 0, 'air': 0, 'Isopentane': 1}\n",
    "flu_vec_water = {'water': 1, 'air': 0, 'Isopentane': 0}\n",
    "flu_vec_air = {'water': 0, 'air': 1, 'Isopentane': 0}\n",
    "\n",
    "# Components\n",
    "# ORC\n",
    "orc_cc = CycleCloser('ORC Cycle Closer')\n",
    "orc_preheater = HeatExchanger('ORC Preheater')\n",
    "orc_drum = Drum('ORC Drum')\n",
    "orc_evaporator = HeatExchanger('ORC Evaporator')\n",
    "orc_turbine = Turbine('ORC Turbine')\n",
    "orc_condenser = Condenser('ORC Condenser')\n",
    "orc_pump = Pump('ORC Pump')\n",
    "\n",
    "# Condenser coolant cycle\n",
    "cool_source = Source('Coolant Source')\n",
    "cool_sink = Sink('Coolant Sink')\n",
    "\n",
    "# Auxiliary source and sink\n",
    "liquid_source = Source('Liquid Sep Source')\n",
    "geo_pump = Pump('Geothermal Pump')\n",
    "geo_sink1 = Sink('Geothermal Sink1')\n",
    "\n",
    "# Connections\n",
    "# ORC\n",
    "orc_pump2orc_cc = Connection(orc_pump, 'out1', orc_cc, 'in1', label='30')\n",
    "orc_cc2orc_preheater = Connection(orc_cc, 'out1', orc_preheater, 'in2', label='31')\n",
    "orc_preheat2orc_drum = Connection(orc_preheater, 'out2', orc_drum, 'in1', label='32')\n",
    "orc_drum2orc_eva = Connection(orc_drum, 'out1', orc_evaporator, 'in2', label='33')\n",
    "orc_eva2orc_drum = Connection(orc_evaporator, 'out2', orc_drum, 'in2', label='34')\n",
    "orc_drum2orc_turb = Connection(orc_drum, 'out2', orc_turbine, 'in1', label='35')\n",
    "orc_turb2orc_cond = Connection(orc_turbine, 'out1', orc_condenser, 'in1', label='36')\n",
    "orc_cond2orc_pump = Connection(orc_condenser, 'out1', orc_pump, 'in1', label='37')\n",
    "\n",
    "nw.add_conns(\n",
    "    orc_pump2orc_cc, orc_cc2orc_preheater, orc_preheat2orc_drum, orc_drum2orc_eva,\n",
    "    orc_eva2orc_drum, orc_drum2orc_turb, orc_turb2orc_cond, orc_cond2orc_pump\n",
    "    )\n",
    "\n",
    "# Condenser coolant strand\n",
    "cool_source2orc_cond = Connection(cool_source, 'out1', orc_condenser, 'in2', label='51')\n",
    "orc_cond2cool_sink = Connection(orc_condenser, 'out2', cool_sink, 'in1', label='52')\n",
    "\n",
    "nw.add_conns(cool_source2orc_cond, orc_cond2cool_sink)\n",
    "\n",
    "# Geothermal liquid strand\n",
    "liquid_source2orc_eva = Connection(liquid_source, 'out1', orc_evaporator, 'in1', label='17')\n",
    "orc_eva2orc_preheat = Connection(orc_evaporator, 'out1', orc_preheater, 'in1', label='18')\n",
    "orc_preheat2geo_pump = Connection(orc_preheater, 'out1', geo_pump, 'in1', label='19')\n",
    "geo_pump2geo_sink1 = Connection(geo_pump, 'out1', geo_sink1, 'in1', label='21')\n",
    "\n",
    "nw.add_conns(\n",
    "    liquid_source2orc_eva, orc_eva2orc_preheat, orc_preheat2geo_pump, geo_pump2geo_sink1\n",
    "    )"
   ]
  },
  {
   "attachments": {},
   "cell_type": "markdown",
   "metadata": {},
   "source": [
    "**Second Step**:  Set the process parameters and starting values. After that solve orc cycle with starting and final values"
   ]
  },
  {
   "cell_type": "code",
   "execution_count": 47,
   "metadata": {
    "tags": [
     "hide-cell"
    ]
   },
   "outputs": [
    {
     "name": "stdout",
     "output_type": "stream",
     "text": [
      "\n",
      " iter  | residual   | progress   | massflow   | pressure   | enthalpy   | fluid      |            \n",
      "-------+------------+------------+------------+------------+------------+------------+\n",
      " 1     | 3.06e+08   | 50 %       | 3.28e+05   | 7.93e+06   | 5.67e+06   | 0.00e+00   |            \n",
      " 2     | 6.20e+09   | 50 %       | 2.80e+06   | 3.09e+06   | 1.29e+08   | 0.00e+00   |            \n",
      " 3     | 3.65e+10   | 50 %       | 1.93e+06   | 1.27e+06   | 2.80e+07   | 0.00e+00   |            \n",
      " 4     | 1.76e+10   | 50 %       | 4.08e+05   | 5.57e+05   | 1.07e+06   | 0.00e+00   |            \n",
      " 5     | 3.14e+09   | 50 %       | 1.47e+05   | 2.13e+05   | 5.90e+06   | 0.00e+00   |            \n",
      " 6     | 1.43e+08   | 50 %       | 3.18e+03   | 5.50e+04   | 1.41e+05   | 0.00e+00   |            \n",
      " 7     | 2.82e+05   | 50 %       | 3.79e+00   | 4.04e-10   | 3.00e+02   | 0.00e+00   |            \n",
      " 8     | 5.86e-01   | 51 %       | 7.12e-05   | 4.03e-10   | 6.04e-04   | 0.00e+00   |            \n",
      " 9     | 9.61e-08   | 53 %       | 6.31e-10   | 4.04e-10   | 1.42e-08   | 0.00e+00   |            \n",
      "Total iterations: 9, Calculation time: 0.16 s, Iterations per second: 56.60\n"
     ]
    },
    {
     "name": "stderr",
     "output_type": "stream",
     "text": [
      "Invalid value for ttd_u: ttd_u = -14.956346618671489 below minimum value (0) at component ORC Preheater.\n",
      "Invalid value for ttd_l: ttd_l = -19.956346618672683 below minimum value (0) at component ORC Evaporator.\n"
     ]
    },
    {
     "name": "stdout",
     "output_type": "stream",
     "text": [
      "\n",
      " iter  | residual   | progress   | massflow   | pressure   | enthalpy   | fluid      |            \n",
      "-------+------------+------------+------------+------------+------------+------------+\n",
      " 1     | 3.00e+01   | 51 %       | 7.49e+02   | 6.23e+06   | 4.63e+05   | 0.00e+00   |            \n",
      " 2     | 1.46e+07   | 50 %       | 3.50e+02   | 1.93e+06   | 5.16e+04   | 0.00e+00   |            \n",
      " 3     | 2.39e+06   | 50 %       | 2.79e+02   | 3.88e+05   | 1.47e+04   | 0.00e+00   |            \n",
      " 4     | 1.42e+05   | 50 %       | 6.76e+01   | 2.06e+04   | 6.34e+03   | 0.00e+00   |            \n",
      " 5     | 6.85e+03   | 50 %       | 1.06e+00   | 9.05e+01   | 8.46e+01   | 0.00e+00   |            \n",
      " 6     | 1.16e+00   | 51 %       | 1.27e-04   | 4.50e-02   | 1.44e-02   | 0.00e+00   |            \n",
      " 7     | 7.23e-07   | 53 %       | 1.07e-05   | 7.90e-03   | 2.06e-03   | 0.00e+00   |            \n",
      "Total iterations: 7, Calculation time: 0.27 s, Iterations per second: 26.21\n"
     ]
    }
   ],
   "source": [
    "from CoolProp.CoolProp import PropsSI as PSI\n",
    "\n",
    "# Parametrization\n",
    "# Component parameters\n",
    "orc_turbine.set_attr(eta_s=0.9)\n",
    "\n",
    "orc_pump.set_attr(eta_s=0.8)\n",
    "geo_pump.set_attr(eta_s=0.8)\n",
    "\n",
    "orc_preheater.set_attr(pr1=1, pr2=1)\n",
    "orc_evaporator.set_attr(pr1=1)\n",
    "orc_condenser.set_attr(pr1=1, pr2=1)\n",
    "\n",
    "# Connection parameter\n",
    "# ORC\n",
    "p_orc_condenser = PSI(\"P\", \"Q\", 0, \"T\", 35 + 273.15, 'Isopentane') * 1e-5\n",
    "orc_turb2orc_cond.set_attr(p=p_orc_condenser, fluid=flu_vec_orc)\n",
    "\n",
    "p_orc_evaporator = PSI(\"P\", \"Q\", 1, \"T\", 150 + 273.15, 'Isopentane') * 1e-5\n",
    "orc_eva2orc_drum.set_attr(p=p_orc_evaporator, x=0.7)\n",
    "\n",
    "orc_preheat2orc_drum.set_attr(Td_bp=-5)\n",
    "\n",
    "# Geothermal liquid strand\n",
    "liquid_source2orc_eva.set_attr(m=500*0.55, p=10.8, x=0, fluid=flu_vec_water)\n",
    "geo_pump2geo_sink1.set_attr(T=55, p=30)\n",
    "\n",
    "# Condenser coolant strand\n",
    "cool_source2orc_cond.set_attr(T=15, p=1.013, fluid=flu_vec_air)\n",
    "orc_cond2cool_sink.set_attr(T=30)\n",
    "\n",
    "# Initial solve with starting values\n",
    "nw.solve(\"design\")\n",
    "\n",
    "# Final solve\n",
    "orc_eva2orc_drum.set_attr(p=None)\n",
    "orc_evaporator.set_attr(ttd_l=10)\n",
    "\n",
    "orc_turb2orc_cond.set_attr(p=None)\n",
    "orc_condenser.set_attr(ttd_u=5)\n",
    "\n",
    "nw.solve(\"design\")"
   ]
  },
  {
   "attachments": {},
   "cell_type": "markdown",
   "metadata": {},
   "source": [
    "## Proposed solution 1.1\n",
    "\n",
    "### Geothermal combined heat and power plant\n",
    "\n",
    "**First Step**: Build the geothermal steam strand for the chp process design\n",
    "\n",
    "Be sure this one runs standalone first!"
   ]
  },
  {
   "cell_type": "code",
   "execution_count": 48,
   "metadata": {
    "tags": [
     "hide-cell"
    ]
   },
   "outputs": [
    {
     "name": "stdout",
     "output_type": "stream",
     "text": [
      "\n",
      " iter  | residual   | progress   | massflow   | pressure   | enthalpy   | fluid      |            \n",
      "-------+------------+------------+------------+------------+------------+------------+\n",
      " 1     | 8.94e+06   | 50 %       | 2.61e+03   | 7.91e+06   | 3.53e+08   | 0.00e+00   |            \n",
      " 2     | 1.12e+10   | 50 %       | 7.32e+03   | 3.39e+06   | 1.17e+07   | 0.00e+00   |            \n",
      " 3     | 2.13e+10   | 50 %       | 3.32e-03   | 1.29e+06   | 6.34e+06   | 0.00e+00   |            \n",
      " 4     | 5.93e+05   | 50 %       | 1.06e-04   | 5.42e+05   | 8.41e+04   | 0.00e+00   |            \n",
      " 5     | 2.47e+05   | 50 %       | 6.42e-05   | 1.95e+05   | 6.22e+04   | 0.00e+00   |            \n",
      " 6     | 5.02e+04   | 50 %       | 3.79e-06   | 3.53e+04   | 3.41e+04   | 0.00e+00   |            \n",
      " 7     | 3.09e+03   | 50 %       | 1.11e-08   | 8.15e-06   | 3.11e+03   | 0.00e+00   |            \n",
      " 8     | 2.11e-07   | 53 %       | 3.46e-10   | 9.20e-08   | 4.50e-08   | 0.00e+00   |            \n",
      "Total iterations: 8, Calculation time: 0.12 s, Iterations per second: 65.18\n",
      "\n",
      " iter  | residual   | progress   | massflow   | pressure   | enthalpy   | fluid      |            \n",
      "-------+------------+------------+------------+------------+------------+------------+\n",
      " 1     | 7.03e-08   | 53 %       | 6.52e-10   | 4.78e-07   | 2.43e-07   | 0.00e+00   |            \n",
      " 2     | 5.23e-07   | 53 %       | 2.46e-09   | 1.79e-06   | 5.55e-07   | 0.00e+00   |            \n",
      " 3     | 1.19e-07   | 53 %       | 1.07e-08   | 7.85e-06   | 2.43e-06   | 0.00e+00   |            \n",
      " 4     | 8.46e-08   | 53 %       | 1.36e-08   | 1.00e-05   | 3.10e-06   | 0.00e+00   |            \n",
      " 5     | 9.48e-08   | 53 %       | 6.82e-10   | 5.02e-07   | 1.74e-07   | 0.00e+00   |            \n",
      "Total iterations: 5, Calculation time: 0.10 s, Iterations per second: 48.42\n"
     ]
    }
   ],
   "source": [
    "# Geothermal steam strand with district heating system\n",
    "# Components\n",
    "steam_turbine = Turbine('Steam Turbine')\n",
    "dh_condenser = Condenser('District Heating Condenser')\n",
    "dh_preheater = HeatExchanger('District Heating Preheater')\n",
    "dh_cc = CycleCloser('District Heating Cycle Closer')\n",
    "dh_pump = Pump('District Heating Pump')\n",
    "dh_heatsink = HeatExchangerSimple('District Heating Consumer')\n",
    "steam_pump = Pump('Steam Pump')\n",
    "\n",
    "# Auxiliary source and sink\n",
    "steam_source = Source('Steam Sep Source')\n",
    "geo_sink2 = Sink('Geothermal Sink2')\n",
    "\n",
    "# Connection\n",
    "# Geothermal steam strand\n",
    "steam_source2steam_turb = Connection(steam_source, 'out1', steam_turbine, 'in1', label='12')\n",
    "steam_turb2dh_cond = Connection(steam_turbine, 'out1', dh_condenser, 'in1', label='13')\n",
    "dh_cond2dh_preheat = Connection(dh_condenser, 'out1', dh_preheater, 'in1', label='14')\n",
    "dh_preheat2steam_pump = Connection(dh_preheater, 'out1', steam_pump, 'in1', label='15')\n",
    "steam_pump2geo_sink2 = Connection(steam_pump, 'out1', geo_sink2, 'in1', label='16')\n",
    "\n",
    "nw.add_conns(\n",
    "    steam_source2steam_turb, steam_turb2dh_cond, dh_cond2dh_preheat,\n",
    "    dh_preheat2steam_pump, steam_pump2geo_sink2\n",
    "    )\n",
    "\n",
    "# District heating system\n",
    "dh_heatsink2dh_cc = Connection(dh_heatsink, 'out1', dh_cc, 'in1', label='60')\n",
    "dh_cc2dh_preheat = Connection(dh_cc, 'out1', dh_preheater, 'in2', label='61')\n",
    "dh_preheat2dh_cond = Connection(dh_preheater, 'out2', dh_condenser, 'in2', label='62')\n",
    "dh_cond2dh_heatsink = Connection(dh_condenser, 'out2', dh_heatsink, 'in1', label='63')\n",
    "\n",
    "nw.add_conns(\n",
    "    dh_heatsink2dh_cc, dh_cc2dh_preheat, dh_preheat2dh_cond,\n",
    "    dh_cond2dh_heatsink\n",
    "    )\n",
    "\n",
    "# Parametrization\n",
    "# Components parameter\n",
    "steam_turbine.set_attr(eta_s=0.9)\n",
    "steam_pump.set_attr(eta_s=0.8)\n",
    "\n",
    "dh_condenser.set_attr(pr1=1, pr2=1)\n",
    "dh_preheater.set_attr(pr1=1, pr2=1)\n",
    "\n",
    "# Connection parameter\n",
    "# Geothermal steam strand\n",
    "p_dh_condenser = PSI(\"P\", \"Q\", 0, \"T\", 105 + 273.15, 'water') * 1e-5\n",
    "steam_turb2dh_cond.set_attr(p=p_dh_condenser)\n",
    "\n",
    "steam_source2steam_turb.set_attr(m=500*0.45, p=10.8, x=1, fluid=flu_vec_water)\n",
    "steam_pump2geo_sink2.set_attr(T=55, p=30)\n",
    "\n",
    "# District heating system\n",
    "dh_cond2dh_heatsink.set_attr(T=100, p=10, fluid=flu_vec_water)\n",
    "dh_heatsink2dh_cc.set_attr(T=50)\n",
    "\n",
    "nw.solve('design')\n",
    "\n",
    "steam_turb2dh_cond.set_attr(p=None)\n",
    "dh_condenser.set_attr(ttd_u=5)\n",
    "\n",
    "nw.solve('design')\n",
    "\n"
   ]
  },
  {
   "attachments": {},
   "cell_type": "markdown",
   "metadata": {},
   "source": [
    "**Second Step**: Connecting ORC with Steam Cycle\n",
    "\n",
    "1. Build up the merge part\n",
    "2. Build up the seperator part\n",
    "3. Set busses und solve the geothermal combined heat and power plant\n",
    "4. Create and execute `ExergyAnalysis` instance"
   ]
  },
  {
   "cell_type": "code",
   "execution_count": 49,
   "metadata": {
    "tags": [
     "hide-cell"
    ]
   },
   "outputs": [
    {
     "name": "stdout",
     "output_type": "stream",
     "text": [
      "\n",
      " iter  | residual   | progress   | massflow   | pressure   | enthalpy   | fluid      |            \n",
      "-------+------------+------------+------------+------------+------------+------------+\n",
      " 1     | 6.48e+08   | 50 %       | 1.56e+03   | 2.87e+06   | 1.82e+07   | 1.33e-14   |            \n",
      " 2     | 1.25e+08   | 50 %       | 1.62e+03   | 4.78e+05   | 3.35e+05   | 1.61e-16   |            \n",
      " 3     | 1.35e+06   | 50 %       | 3.08e+02   | 7.41e+03   | 8.53e+03   | 1.61e-16   |            \n",
      " 4     | 1.95e+04   | 50 %       | 5.73e-01   | 8.80e+02   | 2.48e+02   | 1.61e-16   |            \n",
      " 5     | 7.64e+00   | 51 %       | 5.13e-04   | 2.01e-01   | 4.93e-02   | 1.89e-29   |            \n",
      " 6     | 1.83e-06   | 53 %       | 1.95e-04   | 1.48e-01   | 3.80e-02   | 1.88e-31   |            \n",
      "Total iterations: 6, Calculation time: 0.13 s, Iterations per second: 46.52\n",
      "\n",
      "##### RESULTS (Condenser) #####\n",
      "+----------------------------+-----------+----------+----------+----------+----------+----------+----------+-----------+----------+\n",
      "|                            |         Q |       kA |   td_log |    ttd_u |    ttd_l |      pr1 |      pr2 |     zeta1 |    zeta2 |\n",
      "|----------------------------+-----------+----------+----------+----------+----------+----------+----------+-----------+----------|\n",
      "| ORC Condenser              | -1.39e+08 | 1.29e+07 | 1.08e+01 | \u001b[94m5.00e+00\u001b[0m | 2.00e+01 | \u001b[94m1.00e+00\u001b[0m | \u001b[94m1.00e+00\u001b[0m | -2.60e-15 | 0.00e+00 |\n",
      "| District Heating Condenser | -4.50e+08 | 2.30e+07 | 1.96e+01 | \u001b[94m5.00e+00\u001b[0m | 5.02e+01 | \u001b[94m1.00e+00\u001b[0m | \u001b[94m1.00e+00\u001b[0m |  1.12e-15 | 0.00e+00 |\n",
      "+----------------------------+-----------+----------+----------+----------+----------+----------+----------+-----------+----------+\n",
      "##### RESULTS (Pump) #####\n",
      "+-----------------+----------+----------+----------+\n",
      "|                 |        P |    eta_s |       pr |\n",
      "|-----------------+----------+----------+----------|\n",
      "| ORC Pump        | 1.56e+05 | \u001b[94m8.00e-01\u001b[0m | 2.50e+00 |\n",
      "| Geothermal Pump | 1.22e+06 | \u001b[94m8.00e-01\u001b[0m | 2.78e+00 |\n",
      "| Steam Pump      | 2.74e+05 | \u001b[94m8.00e-01\u001b[0m | 8.93e+00 |\n",
      "+-----------------+----------+----------+----------+\n",
      "##### RESULTS (HeatExchanger) #####\n",
      "+----------------------------+-----------+----------+----------+----------+----------+----------+----------+----------+-----------+\n",
      "|                            |         Q |       kA |   td_log |    ttd_u |    ttd_l |      pr1 |      pr2 |    zeta1 |     zeta2 |\n",
      "|----------------------------+-----------+----------+----------+----------+----------+----------+----------+----------+-----------|\n",
      "| ORC Preheater              | -2.44e+07 | 1.41e+06 | 1.73e+01 | 1.50e+01 | 1.99e+01 | \u001b[94m1.00e+00\u001b[0m | \u001b[94m1.00e+00\u001b[0m | 0.00e+00 |  0.00e+00 |\n",
      "| ORC Evaporator             | -1.26e+08 | 2.89e+06 | 4.35e+01 | 1.17e+02 | \u001b[94m1.00e+01\u001b[0m | \u001b[94m1.00e+00\u001b[0m | 1.00e+00 | 0.00e+00 | -5.44e-15 |\n",
      "| District Heating Preheater | -4.72e+07 | 2.41e+06 | 1.96e+01 | 5.02e+01 | 5.00e+00 | \u001b[94m1.00e+00\u001b[0m | \u001b[94m1.00e+00\u001b[0m | 0.00e+00 |  0.00e+00 |\n",
      "+----------------------------+-----------+----------+----------+----------+----------+----------+----------+----------+-----------+\n",
      "##### RESULTS (Turbine) #####\n",
      "+---------------+-----------+----------+----------+\n",
      "|               |         P |    eta_s |       pr |\n",
      "|---------------+-----------+----------+----------|\n",
      "| ORC Turbine   | -1.13e+07 | \u001b[94m9.00e-01\u001b[0m | 4.00e-01 |\n",
      "| Steam Turbine | -7.60e+07 | \u001b[94m9.00e-01\u001b[0m | 1.12e-01 |\n",
      "+---------------+-----------+----------+----------+\n",
      "##### RESULTS (CycleCloser) #####\n",
      "+-------------------------------+------------------+-------------------+\n",
      "|                               |   mass_deviation |   fluid_deviation |\n",
      "|-------------------------------+------------------+-------------------|\n",
      "| ORC Cycle Closer              |         0.00e+00 |          0.00e+00 |\n",
      "| District Heating Cycle Closer |         0.00e+00 |          0.00e+00 |\n",
      "+-------------------------------+------------------+-------------------+\n",
      "##### RESULTS (HeatExchangerSimple) #####\n",
      "+---------------------------+-----------+----------+----------+-----+-----+------+------+--------+\n",
      "|                           |         Q |       pr |     zeta |   D |   L |   ks |   kA |   Tamb |\n",
      "|---------------------------+-----------+----------+----------+-----+-----+------+------+--------|\n",
      "| District Heating Consumer | -4.98e+08 | 1.00e+00 | 0.00e+00 | nan | nan |  nan |  nan |    nan |\n",
      "+---------------------------+-----------+----------+----------+-----+-----+------+------+--------+\n",
      "##### RESULTS (Connection) #####\n",
      "+----+-----------+-----------+-----------+-----------+\n",
      "|    |         m |         p |         h |         T |\n",
      "|----+-----------+-----------+-----------+-----------|\n",
      "| 30 | 3.895e+02 | 3.224e+00 | 1.698e+01 | 3.511e+01 |\n",
      "| 31 | 3.895e+02 | 3.224e+00 | 1.698e+01 | 3.511e+01 |\n",
      "| 32 | 3.895e+02 | 3.224e+00 | 7.951e+01 | 6.116e+01 |\n",
      "| 33 | 5.787e+02 | 3.224e+00 | 9.198e+01 | 6.616e+01 |\n",
      "| 34 | 5.787e+02 | 3.224e+00 | 3.095e+02 | 6.616e+01 |\n",
      "| 35 | 3.895e+02 | 3.224e+00 | 4.027e+02 | 6.616e+01 |\n",
      "| 36 | 3.895e+02 | 1.290e+00 | 3.737e+02 | 4.594e+01 |\n",
      "| 37 | 3.895e+02 | 1.290e+00 | 1.658e+01 | 3.500e+01 |\n",
      "| 51 | 9.215e+03 | \u001b[94m1.013e+00\u001b[0m | 4.144e+02 | \u001b[94m1.500e+01\u001b[0m |\n",
      "| 52 | 9.215e+03 | 1.013e+00 | 4.295e+02 | \u001b[94m3.000e+01\u001b[0m |\n",
      "| 18 | 2.750e+02 | 1.080e+01 | 3.197e+02 | 7.616e+01 |\n",
      "| 13 | 2.250e+02 | 1.209e+00 | 2.442e+03 | 1.050e+02 |\n",
      "| 14 | 2.250e+02 | 1.209e+00 | 4.403e+02 | 1.050e+02 |\n",
      "| 15 | 2.250e+02 | 1.209e+00 | 2.303e+02 | \u001b[94m5.500e+01\u001b[0m |\n",
      "| 60 | 2.374e+03 | 1.000e+01 | 2.102e+02 | \u001b[94m5.000e+01\u001b[0m |\n",
      "| 61 | 2.374e+03 | 1.000e+01 | 2.102e+02 | 5.000e+01 |\n",
      "| 62 | 2.374e+03 | 1.000e+01 | 2.301e+02 | 5.476e+01 |\n",
      "| 63 | 2.374e+03 | \u001b[94m1.000e+01\u001b[0m | 4.198e+02 | \u001b[94m1.000e+02\u001b[0m |\n",
      "| 16 | 2.250e+02 | 1.080e+01 | 2.316e+02 | 5.510e+01 |\n",
      "| 19 | 2.750e+02 | 1.080e+01 | 2.312e+02 | \u001b[94m5.500e+01\u001b[0m |\n",
      "| 20 | 5.000e+02 | 1.080e+01 | 2.313e+02 | 5.504e+01 |\n",
      "| 21 | 5.000e+02 | \u001b[94m3.000e+01\u001b[0m | 2.338e+02 | 5.523e+01 |\n",
      "| 11 | \u001b[94m5.000e+02\u001b[0m | \u001b[94m1.080e+01\u001b[0m | 1.679e+03 | 1.832e+02 |\n",
      "| 17 | 2.750e+02 | 1.080e+01 | 7.774e+02 | 1.832e+02 |\n",
      "| 12 | 2.250e+02 | 1.080e+01 | 2.780e+03 | 1.832e+02 |\n",
      "+----+-----------+-----------+-----------+-----------+\n",
      "##### RESULTS (Bus: Heat Input) #####\n",
      "+-------------------+-------------------+-------------+--------------+\n",
      "|                   |   component value |   bus value |   efficiency |\n",
      "|-------------------+-------------------+-------------+--------------|\n",
      "| Geothermal Source |         0.000e+00 |   0.000e+00 |    1.000e+00 |\n",
      "| Geothermal Sink   |         0.000e+00 |   0.000e+00 |    1.000e+00 |\n",
      "| total             |         0.000e+00 |   0.000e+00 |  nan         |\n",
      "+-------------------+-------------------+-------------+--------------+\n",
      "##### RESULTS (Bus: Power Output) #####\n",
      "+-----------------+-------------------+-------------+--------------+\n",
      "|                 |   component value |   bus value |   efficiency |\n",
      "|-----------------+-------------------+-------------+--------------|\n",
      "| Steam Turbine   |        -7.598e+07 |  -7.409e+07 |    9.751e-01 |\n",
      "| ORC Turbine     |        -1.130e+07 |  -1.102e+07 |    9.751e-01 |\n",
      "| Steam Pump      |         2.736e+05 |   2.835e+05 |    9.652e-01 |\n",
      "| ORC Pump        |         1.557e+05 |   1.613e+05 |    9.652e-01 |\n",
      "| Geothermal Pump |         1.216e+06 |   1.260e+06 |    9.652e-01 |\n",
      "| total           |        -8.563e+07 |  -8.340e+07 |  nan         |\n",
      "+-----------------+-------------------+-------------+--------------+\n",
      "##### RESULTS (Bus: Heat Output District Heating) #####\n",
      "+---------------------------+-------------------+-------------+--------------+\n",
      "|                           |   component value |   bus value |   efficiency |\n",
      "|---------------------------+-------------------+-------------+--------------|\n",
      "| District Heating Consumer |        -4.977e+08 |  -4.977e+08 |    1.000e+00 |\n",
      "| total                     |        -4.977e+08 |  -4.977e+08 |  nan         |\n",
      "+---------------------------+-------------------+-------------+--------------+\n",
      "##### RESULTS (Bus: Heat Output Cooling) #####\n",
      "+----------------+-------------------+-------------+--------------+\n",
      "|                |   component value |   bus value |   efficiency |\n",
      "|----------------+-------------------+-------------+--------------|\n",
      "| Coolant Source |         0.000e+00 |   0.000e+00 |    1.000e+00 |\n",
      "| Coolant Sink   |         0.000e+00 |   0.000e+00 |    1.000e+00 |\n",
      "| total          |         0.000e+00 |   0.000e+00 |  nan         |\n",
      "+----------------+-------------------+-------------+--------------+\n",
      "eta_el = 0.115\n",
      "eta_th = 0.688\n",
      "eta_chp = 0.804\n",
      "##### RESULTS: Aggregation of components and busses #####\n",
      "+-------------------------------+-------------+-------------+-------------+-------------+-------------+-------------+\n",
      "|                               |         E_F |         E_P |         E_D |     epsilon |        y_Dk |       y*_Dk |\n",
      "|-------------------------------+-------------+-------------+-------------+-------------+-------------+-------------|\n",
      "| District Heating Condenser    |   1.072e+08 |   7.968e+07 |   2.753e+07 |   7.432e-01 |   1.166e-01 |   4.298e-01 |\n",
      "| ORC Evaporator                |   3.540e+07 |   1.898e+07 |   1.643e+07 |   5.360e-01 |   6.959e-02 |   2.564e-01 |\n",
      "| Steam Turbine                 |   8.241e+07 |   7.409e+07 |   8.321e+06 |   8.990e-01 |   3.525e-02 |   1.299e-01 |\n",
      "| ORC Condenser                 |   9.150e+06 |   3.499e+06 |   5.651e+06 |   3.824e-01 |   2.394e-02 |   8.821e-02 |\n",
      "| District Heating Preheater    |   8.633e+06 |   5.423e+06 |   3.210e+06 |   6.282e-01 |   1.360e-02 |   5.011e-02 |\n",
      "| ORC Turbine                   |   1.243e+07 |   1.102e+07 |   1.417e+06 |   8.860e-01 |   6.004e-03 |   2.213e-02 |\n",
      "| ORC Preheater                 |   3.630e+06 |   2.509e+06 |   1.121e+06 |   6.911e-01 |   4.750e-03 |   1.750e-02 |\n",
      "| Geothermal Pump               |   1.260e+06 |   1.003e+06 |   2.573e+05 |   7.958e-01 |   1.090e-03 |   4.017e-03 |\n",
      "| Steam Pump                    |   2.835e+05 |   2.256e+05 |   5.789e+04 |   7.958e-01 |   2.452e-04 |   9.037e-04 |\n",
      "| ORC Pump                      |   1.613e+05 |   1.266e+05 |   3.472e+04 |   7.848e-01 |   1.471e-04 |   5.420e-04 |\n",
      "| ORC Drum                      |   2.809e+07 |   2.806e+07 |   3.061e+04 |   9.989e-01 |   1.297e-04 |   4.779e-04 |\n",
      "| Merge                         |   6.043e+03 |   6.036e+03 |   6.334e+00 |   9.990e-01 |   2.683e-08 |   9.888e-08 |\n",
      "| District Heating Consumer     |   8.510e+07 |   8.510e+07 |  -1.490e-08 |   1.000e+00 |  -6.312e-17 |  -2.326e-16 |\n",
      "| ORC Cycle Closer              | nan         | nan         | nan         | nan         | nan         | nan         |\n",
      "| Coolant Source                | nan         | nan         | nan         | nan         | nan         | nan         |\n",
      "| Coolant Sink                  | nan         | nan         | nan         | nan         | nan         | nan         |\n",
      "| District Heating Cycle Closer | nan         | nan         | nan         | nan         | nan         | nan         |\n",
      "| Geothermal Sink               | nan         | nan         | nan         | nan         | nan         | nan         |\n",
      "| Seperator                     | nan         | nan         | nan         | nan         | nan         | nan         |\n",
      "| Geothermal Source             | nan         | nan         | nan         | nan         | nan         | nan         |\n",
      "+-------------------------------+-------------+-------------+-------------+-------------+-------------+-------------+\n",
      "##### RESULTS: Network exergy analysis #####\n",
      "+-----------+-----------+-----------+-----------+-----------+\n",
      "|       E_F |       E_P |       E_D |       E_L |   epsilon |\n",
      "|-----------+-----------+-----------+-----------+-----------|\n",
      "| 2.361e+08 | 1.685e+08 | 6.406e+07 | 3.499e+06 | 7.138e-01 |\n",
      "+-----------+-----------+-----------+-----------+-----------+\n",
      "epsilon_chp = 0.714\n"
     ]
    }
   ],
   "source": [
    "from tespy.tools import ExergyAnalysis\n",
    "\n",
    "# Components\n",
    "# Geothermal heat source with interfaces\n",
    "geo_source = Source('Geothermal Source')\n",
    "geo_sink = Sink('Geothermal Sink')\n",
    "seperator = DropletSeparator('Seperator')\n",
    "merge = Merge('Merge')\n",
    "\n",
    "# Build up the merge part\n",
    "# Delete old connections\n",
    "nw.del_conns(geo_pump2geo_sink1, steam_pump2geo_sink2, orc_preheat2geo_pump)\n",
    "\n",
    "# Set new connections\n",
    "steam_pump2merge = Connection(steam_pump, 'out1', merge, 'in1', label='16')\n",
    "orc_preheat2merge = Connection(orc_preheater, 'out1', merge, 'in2', label='19')\n",
    "merge2geo_pump = Connection(merge, 'out1', geo_pump, 'in1', label='20')\n",
    "geo_pump2geo_sink = Connection(geo_pump, 'out1', geo_sink, 'in1', label='21')\n",
    "\n",
    "nw.add_conns(steam_pump2merge, orc_preheat2merge, merge2geo_pump, geo_pump2geo_sink)\n",
    "\n",
    "# Parametrize new connections\n",
    "orc_preheat2merge.set_attr(T=55)\n",
    "geo_pump2geo_sink.set_attr(p=30)\n",
    "dh_preheat2steam_pump.set_attr(T=55)\n",
    "\n",
    "# Build up the seperator part\n",
    "# Delete old connections\n",
    "nw.del_conns(liquid_source2orc_eva, steam_source2steam_turb)\n",
    "\n",
    "# Set new connections\n",
    "geo_source2sep = Connection(geo_source,'out1', seperator, 'in1', label='11')\n",
    "sep2steam_turb = Connection(seperator, 'out2', steam_turbine, 'in1', label='12')\n",
    "sep2orc_eva = Connection(seperator,'out1', orc_evaporator, 'in1', label='17')\n",
    "\n",
    "nw.add_conns(geo_source2sep, sep2orc_eva, sep2steam_turb)\n",
    "\n",
    "# Parametrize new connections\n",
    "geo_source2sep.set_attr(m=500, p=10.8, x=0.45, fluid=flu_vec_water)\n",
    "sep2orc_eva.set_attr(m0=500*0.55)\n",
    "sep2steam_turb.set_attr(m0=500*0.45)\n",
    "\n",
    "# Busses\n",
    "heat_in = Bus('Heat Input')\n",
    "heat_in.add_comps(\n",
    "    {'comp': geo_source, 'base': 'bus'},\n",
    "    {'comp': geo_sink, 'base': 'component'}\n",
    "    )\n",
    "\n",
    "power_out = Bus('Power Output')\n",
    "power_out.add_comps(\n",
    "    {'comp': steam_turbine, 'char': 0.985*0.99, 'base': 'component'},\n",
    "    {'comp': orc_turbine, 'char': 0.985*0.99, 'base': 'component'},\n",
    "    {'comp': steam_pump, 'char': 0.975*0.99, 'base': 'bus'},\n",
    "    {'comp': orc_pump, 'char': 0.975*0.99, 'base': 'bus'},\n",
    "    {'comp': geo_pump, 'char': 0.975*0.99, 'base': 'bus'}\n",
    "    )\n",
    "\n",
    "heat_out_dh = Bus('Heat Output District Heating')\n",
    "heat_out_dh.add_comps({'comp': dh_heatsink, 'base': 'component'})\n",
    "\n",
    "heat_out_cool = Bus('Heat Output Cooling')\n",
    "heat_out_cool.add_comps(\n",
    "    {'comp': cool_source, 'base': 'bus'},\n",
    "    {'comp': cool_sink, 'base': 'component'}\n",
    "    )\n",
    "\n",
    "nw.add_busses(heat_in, power_out, heat_out_dh, heat_out_cool)\n",
    "\n",
    "# Solve model\n",
    "nw.solve(\"design\")\n",
    "nw.print_results()\n",
    "\n",
    "# Calculate thermal efficiency\n",
    "h_in = PSI('H', 'Q', 0.45, 'P', 10.8e5, 'water')\n",
    "h_out = PSI('H', 'T', 55 + 273.15, 'P', 30e5, 'water')\n",
    "delta_H = 500 * (h_in - h_out)\n",
    "eta_el = abs(power_out.P.val)/delta_H\n",
    "eta_th = abs(heat_out_dh.P.val)/delta_H\n",
    "eta_chp = (abs(power_out.P.val)+abs(heat_out_dh.P.val))/delta_H\n",
    "print(f'eta_el = {eta_el:.3f}')\n",
    "print(f'eta_th = {eta_th:.3f}')\n",
    "print(f'eta_chp = {eta_chp:.3f}')\n",
    "\n",
    "# # Create and execute exergy analysis\n",
    "dh_heatsink.set_attr(dissipative=False)\n",
    "ean = ExergyAnalysis(\n",
    "    network=nw, E_F=[heat_in], E_P=[heat_out_dh, power_out], E_L=[heat_out_cool])\n",
    "ean.analyse(pamb=1.013, Tamb=15)\n",
    "ean.print_results(components=False, connections=False, busses=False, groups=False)\n",
    "epsilon_chp = ean.network_data['epsilon']\n",
    "print(f'epsilon_chp = {epsilon_chp:.3f}')"
   ]
  },
  {
   "attachments": {},
   "cell_type": "markdown",
   "metadata": {},
   "source": [
    "## Proposed solution 1.2\n",
    "\n",
    "### Geothermal plant with only power generation\n",
    "\n",
    "**First Step**: Build low pressure ORC for complete condensation operation\n",
    "\n",
    "Be sure this one runs standalone first!"
   ]
  },
  {
   "cell_type": "code",
   "execution_count": 50,
   "metadata": {
    "tags": [
     "hide-cell"
    ]
   },
   "outputs": [],
   "source": [
    "nw_el = Network(fluids=['water', 'air', 'Isopentane'])\n",
    "nw_el.set_attr(T_unit='C', p_unit='bar', h_unit='kJ / kg')\n",
    "\n",
    "flu_vec_orc = {'water': 0, 'air': 0, 'Isopentane': 1}\n",
    "flu_vec_water = {'water': 1, 'air': 0, 'Isopentane': 0}\n",
    "flu_vec_air = {'water': 0, 'air': 1, 'Isopentane': 0}\n",
    "\n",
    "# Components\n",
    "# Low pressure ORC\n",
    "lp_orc_cc = CycleCloser('LP ORC Cycle Closer')\n",
    "lp_orc_preheater = HeatExchanger('LP ORC Preheater')\n",
    "lp_orc_drum = Drum('LP ORC Drum')\n",
    "lp_orc_evaporator = HeatExchanger('LP ORC Evaporator')\n",
    "lp_orc_turbine = Turbine('LP ORC Turbine')\n",
    "lp_orc_condenser = Condenser('LP ORC Condenser')\n",
    "lp_orc_pump = Pump('LP ORC Pump')\n",
    "\n",
    "# Condenser coolant cycle\n",
    "lp_cool_source = Source('LP Coolant Source')\n",
    "lp_cool_sink = Sink('LP Coolant Sink')\n",
    "\n",
    "# Geothermal steam Cycle\n",
    "steam_turbine = Turbine('Steam Turbine')\n",
    "steam_pump = Pump('Steam Pump')\n",
    "\n",
    "# Auxiliary source and sink\n",
    "steam_source = Source('Steam Sep Source')\n",
    "geo_sink2 = Sink('Geothermal Sink2')\n",
    "\n",
    "# Connections\n",
    "# Low pressure ORC\n",
    "lp_orc_pump2lp_orc_cc = Connection(lp_orc_pump, 'out1', lp_orc_cc, 'in1', label='40')\n",
    "lp_orc_cc2lp_orc_preheater = Connection(lp_orc_cc, 'out1', lp_orc_preheater, 'in2', label='41')\n",
    "lp_orc_preheat2lp_orc_drum = Connection(lp_orc_preheater, 'out2', lp_orc_drum, 'in1', label='42')\n",
    "lp_orc_drum2lp_orc_eva = Connection(lp_orc_drum, 'out1', lp_orc_evaporator, 'in2', label='43')\n",
    "lp_orc_eva2lp_orc_drum = Connection(lp_orc_evaporator, 'out2', lp_orc_drum, 'in2', label='44')\n",
    "lp_orc_drum2lp_orc_turb = Connection(lp_orc_drum, 'out2', lp_orc_turbine, 'in1', label='45')\n",
    "lp_orc_turb2lp_orc_cond = Connection(lp_orc_turbine, 'out1', lp_orc_condenser, 'in1', label='46')\n",
    "lp_orc_cond2lp_orc_pump = Connection(lp_orc_condenser, 'out1', lp_orc_pump, 'in1', label='47')\n",
    "\n",
    "nw_el.add_conns(\n",
    "    lp_orc_pump2lp_orc_cc, lp_orc_cc2lp_orc_preheater, lp_orc_preheat2lp_orc_drum, \n",
    "    lp_orc_drum2lp_orc_eva, lp_orc_eva2lp_orc_drum, lp_orc_drum2lp_orc_turb, \n",
    "    lp_orc_turb2lp_orc_cond, lp_orc_cond2lp_orc_pump\n",
    "    )\n",
    "\n",
    "# Condenser coolant cycle\n",
    "lp_cool_source2lp_orc_cond = Connection(lp_cool_source, 'out1', lp_orc_condenser, 'in2', label='71')\n",
    "lp_orc_cond2lp_cool_sink = Connection(lp_orc_condenser, 'out2', lp_cool_sink, 'in1', label='72')\n",
    "\n",
    "nw_el.add_conns(lp_cool_source2lp_orc_cond, lp_orc_cond2lp_cool_sink)\n",
    "\n",
    "# Steam cyclye\n",
    "steam_source2steam_turb = Connection(steam_source, 'out1', steam_turbine, 'in1', label='12')\n",
    "steam_turb2lp_orc_eva = Connection(steam_turbine, 'out1', lp_orc_evaporator, 'in1', label='13')\n",
    "lp_orc_eva2lp_orc_preheat = Connection(lp_orc_evaporator, 'out1', lp_orc_preheater, 'in1', label='14')\n",
    "lp_orc_preheat2steam_pump = Connection(lp_orc_preheater, 'out1', steam_pump, 'in1', label='15')\n",
    "steam_pump2geo_sink2 = Connection(steam_pump, 'out1', geo_sink2, 'in1', label='16')\n",
    "\n",
    "nw_el.add_conns(\n",
    "    steam_source2steam_turb, steam_turb2lp_orc_eva, lp_orc_eva2lp_orc_preheat,\n",
    "    lp_orc_preheat2steam_pump, steam_pump2geo_sink2\n",
    "    )"
   ]
  },
  {
   "attachments": {},
   "cell_type": "markdown",
   "metadata": {},
   "source": [
    "**Second Step**: Set the process parameters and starting values. After that solve orc cycle with starting and final values"
   ]
  },
  {
   "cell_type": "code",
   "execution_count": 51,
   "metadata": {
    "tags": [
     "hide-cell"
    ]
   },
   "outputs": [
    {
     "name": "stderr",
     "output_type": "stream",
     "text": [
      "Invalid value for ttd_l: ttd_l = -2.214791294045426 below minimum value (0) at component LP ORC Evaporator.\n"
     ]
    },
    {
     "name": "stdout",
     "output_type": "stream",
     "text": [
      "\n",
      " iter  | residual   | progress   | massflow   | pressure   | enthalpy   | fluid      |            \n",
      "-------+------------+------------+------------+------------+------------+------------+\n",
      " 1     | 1.07e+07   | 50 %       | 1.67e+05   | 9.41e+06   | 3.73e+08   | 0.00e+00   |            \n",
      " 2     | 1.80e+09   | 50 %       | 1.66e+05   | 4.29e+06   | 1.62e+06   | 0.00e+00   |            \n",
      " 3     | 4.18e+08   | 50 %       | 8.57e+03   | 1.78e+06   | 1.21e+06   | 0.00e+00   |            \n",
      " 4     | 7.46e+07   | 50 %       | 5.12e+02   | 7.12e+05   | 3.96e+05   | 0.00e+00   |            \n",
      " 5     | 4.82e+06   | 50 %       | 9.00e+01   | 2.42e+05   | 3.02e+04   | 0.00e+00   |            \n",
      " 6     | 5.74e+05   | 50 %       | 9.74e+00   | 5.50e+04   | 1.88e+03   | 0.00e+00   |            \n",
      " 7     | 2.55e+02   | 51 %       | 8.47e-02   | 1.46e-11   | 1.48e+00   | 0.00e+00   |            \n",
      " 8     | 1.03e-02   | 52 %       | 9.83e-07   | 1.46e-11   | 6.94e-07   | 0.00e+00   |            \n",
      " 9     | 1.08e-07   | 53 %       | 1.36e-09   | 1.46e-11   | 1.10e-07   | 0.00e+00   |            \n",
      "Total iterations: 9, Calculation time: 0.12 s, Iterations per second: 72.75\n",
      "\n",
      " iter  | residual   | progress   | massflow   | pressure   | enthalpy   | fluid      |            \n",
      "-------+------------+------------+------------+------------+------------+------------+\n",
      " 1     | 1.22e+01   | 51 %       | 4.61e+02   | 1.22e+06   | 1.74e+05   | 0.00e+00   |            \n",
      " 2     | 2.92e+06   | 50 %       | 2.03e+02   | 1.67e+05   | 2.59e+04   | 0.00e+00   |            \n",
      " 3     | 8.82e+04   | 50 %       | 2.01e+01   | 2.24e+03   | 2.61e+03   | 0.00e+00   |            \n",
      " 4     | 9.97e+02   | 50 %       | 1.09e-01   | 4.98e+01   | 1.60e+01   | 0.00e+00   |            \n",
      " 5     | 3.32e-02   | 52 %       | 9.41e-07   | 1.73e-03   | 1.30e-04   | 0.00e+00   |            \n",
      " 6     | 5.83e-07   | 53 %       | 2.58e-06   | 2.18e-03   | 6.04e-04   | 0.00e+00   |            \n",
      "Total iterations: 6, Calculation time: 0.10 s, Iterations per second: 58.68\n"
     ]
    }
   ],
   "source": [
    "from CoolProp.CoolProp import PropsSI as PSI\n",
    "\n",
    "# Parametrization\n",
    "# Component parameters\n",
    "steam_turbine.set_attr(eta_s=0.9)\n",
    "lp_orc_turbine.set_attr(eta_s=0.9)\n",
    "\n",
    "lp_orc_pump.set_attr(eta_s=0.8)\n",
    "steam_pump.set_attr(eta_s=0.8)\n",
    "\n",
    "lp_orc_preheater.set_attr(pr1=1, pr2=1)\n",
    "lp_orc_evaporator.set_attr(pr1=1)\n",
    "lp_orc_condenser.set_attr(pr1=1, pr2=1)\n",
    "\n",
    "# Connection parameter\n",
    "# Low pressure ORC\n",
    "p_lp_orc_condenser = PSI(\"P\", \"Q\", 0, \"T\",  35 + 273.15, 'Isopentane') * 1e-5\n",
    "lp_orc_turb2lp_orc_cond.set_attr(p=p_lp_orc_condenser, fluid=flu_vec_orc)\n",
    "\n",
    "p_lp_orc_evaporator = PSI(\"P\", \"Q\", 1, \"T\", 100 + 273.15, 'Isopentane') * 1e-5\n",
    "lp_orc_eva2lp_orc_drum.set_attr(p=p_lp_orc_evaporator, x=0.5)\n",
    "\n",
    "lp_orc_preheat2lp_orc_drum.set_attr(Td_bp=-5)\n",
    "\n",
    "# Geothermal steam cyclye\n",
    "steam_source2steam_turb.set_attr(m=500*0.45, p=10.8, x=0, fluid=flu_vec_water)\n",
    "p_steam_lp_orc_evap = PSI(\"P\", \"Q\", 0, \"T\",  120 + 273.15, 'water') * 1e-5\n",
    "steam_turb2lp_orc_eva.set_attr(p=p_steam_lp_orc_evap)\n",
    "# lp_orc_eva2lp_orc_preheat.set_attr(x0=0)\n",
    "steam_pump2geo_sink2.set_attr(T=55, p=30)\n",
    "\n",
    "# Condenser coolant cycle\n",
    "lp_cool_source2lp_orc_cond.set_attr(T=15, p=1.013, fluid=flu_vec_air)\n",
    "lp_orc_cond2lp_cool_sink.set_attr(T=30)\n",
    "\n",
    "# Initial solve with starting values\n",
    "nw_el.solve(\"design\")\n",
    "\n",
    "# Final solve\n",
    "lp_orc_eva2lp_orc_drum.set_attr(p=None)\n",
    "lp_orc_evaporator.set_attr(ttd_l=10)\n",
    "\n",
    "lp_orc_turb2lp_orc_cond.set_attr(p=None)\n",
    "lp_orc_condenser.set_attr(ttd_u=5)\n",
    "\n",
    "nw_el.solve(\"design\")\n"
   ]
  },
  {
   "attachments": {},
   "cell_type": "markdown",
   "metadata": {},
   "source": [
    "**Third Step**: *Identically* build the ORC as in {ref}`orc-proposed-solution-1-label`"
   ]
  },
  {
   "cell_type": "code",
   "execution_count": 52,
   "metadata": {
    "tags": [
     "hide-cell"
    ]
   },
   "outputs": [
    {
     "name": "stdout",
     "output_type": "stream",
     "text": [
      "\n",
      " iter  | residual   | progress   | massflow   | pressure   | enthalpy   | fluid      |            \n",
      "-------+------------+------------+------------+------------+------------+------------+\n",
      " 1     | 3.06e+08   | 50 %       | 3.28e+05   | 7.93e+06   | 5.66e+06   | 0.00e+00   |            \n",
      " 2     | 6.20e+09   | 50 %       | 2.79e+06   | 3.09e+06   | 1.29e+08   | 0.00e+00   |            \n",
      " 3     | 3.64e+10   | 50 %       | 1.93e+06   | 1.27e+06   | 2.80e+07   | 0.00e+00   |            \n",
      " 4     | 1.76e+10   | 50 %       | 4.08e+05   | 5.57e+05   | 1.07e+06   | 0.00e+00   |            \n",
      " 5     | 3.14e+09   | 50 %       | 1.47e+05   | 2.13e+05   | 5.90e+06   | 0.00e+00   |            \n",
      " 6     | 1.43e+08   | 50 %       | 3.17e+03   | 5.50e+04   | 1.41e+05   | 0.00e+00   |            \n",
      " 7     | 2.81e+05   | 50 %       | 3.78e+00   | 1.24e-05   | 3.00e+02   | 0.00e+00   |            \n",
      " 8     | 5.86e-01   | 51 %       | 7.12e-05   | 3.28e-06   | 6.04e-04   | 0.00e+00   |            \n",
      " 9     | 1.50e-07   | 53 %       | 9.15e-09   | 7.59e-06   | 2.51e-06   | 0.00e+00   |            "
     ]
    },
    {
     "name": "stderr",
     "output_type": "stream",
     "text": [
      "Invalid value for ttd_u: ttd_u = -14.956346618667567 below minimum value (0) at component ORC Preheater.\n",
      "Invalid value for ttd_l: ttd_l = -19.95634661866916 below minimum value (0) at component ORC Evaporator.\n"
     ]
    },
    {
     "name": "stdout",
     "output_type": "stream",
     "text": [
      "\n",
      "Total iterations: 9, Calculation time: 0.19 s, Iterations per second: 46.51\n",
      "\n",
      " iter  | residual   | progress   | massflow   | pressure   | enthalpy   | fluid      |            \n",
      "-------+------------+------------+------------+------------+------------+------------+\n",
      " 1     | 3.00e+01   | 51 %       | 7.49e+02   | 6.23e+06   | 4.63e+05   | 0.00e+00   |            \n",
      " 2     | 1.46e+07   | 50 %       | 3.50e+02   | 1.93e+06   | 5.16e+04   | 0.00e+00   |            \n",
      " 3     | 2.39e+06   | 50 %       | 2.79e+02   | 3.88e+05   | 1.47e+04   | 0.00e+00   |            \n",
      " 4     | 1.42e+05   | 50 %       | 6.76e+01   | 2.06e+04   | 6.34e+03   | 0.00e+00   |            \n",
      " 5     | 6.85e+03   | 50 %       | 1.06e+00   | 9.05e+01   | 8.46e+01   | 0.00e+00   |            \n",
      " 6     | 1.16e+00   | 51 %       | 1.27e-04   | 4.49e-02   | 1.43e-02   | 0.00e+00   |            \n",
      " 7     | 1.21e-07   | 53 %       | 1.07e-05   | 7.90e-03   | 2.06e-03   | 0.00e+00   |            \n",
      "Total iterations: 7, Calculation time: 0.23 s, Iterations per second: 30.25\n"
     ]
    }
   ],
   "source": [
    "# Components\n",
    "# ORC\n",
    "orc_cc = CycleCloser('ORC Cycle Closer')\n",
    "orc_preheater = HeatExchanger('ORC Preheater')\n",
    "orc_drum = Drum('ORC Drum')\n",
    "orc_evaporator = HeatExchanger('ORC Evaporator')\n",
    "orc_turbine = Turbine('ORC Turbine')\n",
    "orc_condenser = Condenser('ORC Condenser')\n",
    "orc_pump = Pump('ORC Pump')\n",
    "\n",
    "# Condenser coolant cycle\n",
    "cool_source = Source('Coolant Source')\n",
    "cool_sink = Sink('Coolant Sink')\n",
    "\n",
    "# Auxiliary source and sink\n",
    "liquid_source = Source('Liquid Sep Source')\n",
    "geo_pump = Pump('Geothermal Pump')\n",
    "geo_sink1 = Sink('Geothermal Sink1')\n",
    "\n",
    "# Connections\n",
    "# ORC\n",
    "orc_pump2orc_cc = Connection(orc_pump, 'out1', orc_cc, 'in1', label='30')\n",
    "orc_cc2orc_preheater = Connection(orc_cc, 'out1', orc_preheater, 'in2', label='31')\n",
    "orc_preheat2orc_drum = Connection(orc_preheater, 'out2', orc_drum, 'in1', label='32')\n",
    "orc_drum2orc_eva = Connection(orc_drum, 'out1', orc_evaporator, 'in2', label='33')\n",
    "orc_eva2orc_drum = Connection(orc_evaporator, 'out2', orc_drum, 'in2', label='34')\n",
    "orc_drum2orc_turb = Connection(orc_drum, 'out2', orc_turbine, 'in1', label='35')\n",
    "orc_turb2orc_cond = Connection(orc_turbine, 'out1', orc_condenser, 'in1', label='36')\n",
    "orc_cond2orc_pump = Connection(orc_condenser, 'out1', orc_pump, 'in1', label='37')\n",
    "\n",
    "nw_el.add_conns(\n",
    "    orc_pump2orc_cc, orc_cc2orc_preheater, orc_preheat2orc_drum, orc_drum2orc_eva,\n",
    "    orc_eva2orc_drum, orc_drum2orc_turb, orc_turb2orc_cond, orc_cond2orc_pump\n",
    "    )\n",
    "\n",
    "# Condenser coolant cycle\n",
    "cool_source2orc_cond = Connection(cool_source, 'out1', orc_condenser, 'in2', label='51')\n",
    "orc_cond2cool_sink = Connection(orc_condenser, 'out2', cool_sink, 'in1', label='52')\n",
    "\n",
    "nw_el.add_conns(cool_source2orc_cond, orc_cond2cool_sink)\n",
    "\n",
    "# Geothermal liquid cyclye\n",
    "liquid_source2orc_eva = Connection(liquid_source, 'out1', orc_evaporator, 'in1', label='17')\n",
    "orc_eva2orc_preheat = Connection(orc_evaporator, 'out1', orc_preheater, 'in1', label='18')\n",
    "orc_preheat2geo_pump = Connection(orc_preheater, 'out1', geo_pump, 'in1', label='19')\n",
    "geo_pump2geo_sink1 = Connection(geo_pump, 'out1', geo_sink1, 'in1', label='21')\n",
    "\n",
    "nw_el.add_conns(\n",
    "    liquid_source2orc_eva, orc_eva2orc_preheat, orc_preheat2geo_pump, geo_pump2geo_sink1\n",
    "    )\n",
    "\n",
    "# Parametrization\n",
    "# Component parameters\n",
    "orc_turbine.set_attr(eta_s=0.9)\n",
    "\n",
    "orc_pump.set_attr(eta_s=0.8)\n",
    "geo_pump.set_attr(eta_s=0.8)\n",
    "\n",
    "orc_preheater.set_attr(pr1=1, pr2=1)\n",
    "orc_evaporator.set_attr(pr1=1)\n",
    "orc_condenser.set_attr(pr1=1, pr2=1)\n",
    "\n",
    "# Connection parameter\n",
    "# ORC\n",
    "p_orc_condenser = PSI(\"P\", \"Q\", 0, \"T\", 35 + 273.15, 'Isopentane') * 1e-5\n",
    "orc_turb2orc_cond.set_attr(p=p_orc_condenser, fluid=flu_vec_orc)\n",
    "\n",
    "p_orc_evaporator = PSI(\"P\", \"Q\", 1, \"T\", 150 + 273.15, 'Isopentane') * 1e-5\n",
    "orc_eva2orc_drum.set_attr(p=p_orc_evaporator, x=0.7)\n",
    "\n",
    "orc_preheat2orc_drum.set_attr(Td_bp=-5)\n",
    "\n",
    "# Geothermal liquid cyclye\n",
    "liquid_source2orc_eva.set_attr(m=500*0.55, p=10.8, x=0, fluid=flu_vec_water)\n",
    "geo_pump2geo_sink1.set_attr(T=55, p=30)\n",
    "\n",
    "# Condenser coolant cycle\n",
    "cool_source2orc_cond.set_attr(T=15, p=1.013, fluid=flu_vec_air)\n",
    "orc_cond2cool_sink.set_attr(T=30)\n",
    "\n",
    "# Initial solve with starting values\n",
    "nw_el.solve(\"design\")\n",
    "\n",
    "# Final solve\n",
    "orc_eva2orc_drum.set_attr(p=None)\n",
    "orc_evaporator.set_attr(ttd_l=10)\n",
    "\n",
    "orc_turb2orc_cond.set_attr(p=None)\n",
    "orc_condenser.set_attr(ttd_u=5)\n",
    "\n",
    "nw_el.solve(\"design\")"
   ]
  },
  {
   "attachments": {},
   "cell_type": "markdown",
   "metadata": {},
   "source": [
    "**Fourth Step**: Connecting ORC with low pressure ORC\n",
    "\n",
    "1. Build the merge part\n",
    "2. Build the seperator part\n",
    "3. Set busses und solve the geothermal combined heat and power plant\n",
    "4. Create and execute `ExergyAnalysis` instance"
   ]
  },
  {
   "cell_type": "code",
   "execution_count": 53,
   "metadata": {
    "tags": [
     "hide-cell"
    ]
   },
   "outputs": [
    {
     "name": "stdout",
     "output_type": "stream",
     "text": [
      "\n",
      " iter  | residual   | progress   | massflow   | pressure   | enthalpy   | fluid      |            \n",
      "-------+------------+------------+------------+------------+------------+------------+\n",
      " 1     | 6.48e+08   | 50 %       | 2.93e+04   | 5.17e+06   | 1.45e+07   | 8.31e-14   |            \n",
      " 2     | 3.89e+08   | 50 %       | 1.78e+03   | 1.30e+06   | 7.57e+05   | 1.61e-16   |            \n",
      " 3     | 2.41e+07   | 50 %       | 1.82e+03   | 5.80e+06   | 8.95e+05   | 1.61e-16   |            \n",
      " 4     | 2.45e+07   | 50 %       | 7.77e+02   | 1.04e+06   | 1.53e+05   | 0.00e+00   |            \n",
      " 5     | 6.75e+06   | 50 %       | 1.13e+02   | 1.08e+05   | 1.65e+04   | 0.00e+00   |            \n",
      " 6     | 4.65e+04   | 50 %       | 3.49e+00   | 2.10e+03   | 4.14e+01   | 0.00e+00   |            \n",
      " 7     | 1.45e+01   | 51 %       | 1.16e-03   | 7.12e-01   | 1.03e-02   | 0.00e+00   |            \n",
      " 8     | 1.19e-05   | 53 %       | 4.16e-05   | 3.50e-02   | 9.40e-03   | 1.64e-29   |            \n",
      "Total iterations: 8, Calculation time: 0.38 s, Iterations per second: 20.94\n",
      "\n",
      "##### RESULTS (Pump) #####\n",
      "+-----------------+----------+----------+----------+\n",
      "|                 |        P |    eta_s |       pr |\n",
      "|-----------------+----------+----------+----------|\n",
      "| LP ORC Pump     | 1.78e+06 | \u001b[94m8.00e-01\u001b[0m | 6.90e+00 |\n",
      "| Steam Pump      | 2.51e+05 | \u001b[94m8.00e-01\u001b[0m | 5.44e+00 |\n",
      "| ORC Pump        | 1.56e+05 | \u001b[94m8.00e-01\u001b[0m | 2.50e+00 |\n",
      "| Geothermal Pump | 1.22e+06 | \u001b[94m8.00e-01\u001b[0m | 2.78e+00 |\n",
      "+-----------------+----------+----------+----------+\n",
      "##### RESULTS (HeatExchanger) #####\n",
      "+-------------------+-----------+----------+----------+----------+----------+----------+----------+----------+-----------+\n",
      "|                   |         Q |       kA |   td_log |    ttd_u |    ttd_l |      pr1 |      pr2 |    zeta1 |     zeta2 |\n",
      "|-------------------+-----------+----------+----------+----------+----------+----------+----------+----------+-----------|\n",
      "| LP ORC Evaporator | -3.13e+08 | 3.13e+07 | 1.00e+01 | 1.00e+01 | \u001b[94m1.00e+01\u001b[0m | \u001b[94m1.00e+00\u001b[0m | 1.00e+00 | 0.00e+00 |  0.00e+00 |\n",
      "| LP ORC Preheater  | -2.00e+08 | 1.16e+07 | 1.72e+01 | 1.50e+01 | 1.96e+01 | \u001b[94m1.00e+00\u001b[0m | \u001b[94m1.00e+00\u001b[0m | 0.00e+00 |  0.00e+00 |\n",
      "| ORC Preheater     | -2.44e+07 | 1.41e+06 | 1.73e+01 | 1.50e+01 | 1.99e+01 | \u001b[94m1.00e+00\u001b[0m | \u001b[94m1.00e+00\u001b[0m | 0.00e+00 |  0.00e+00 |\n",
      "| ORC Evaporator    | -1.26e+08 | 2.89e+06 | 4.35e+01 | 1.17e+02 | \u001b[94m1.00e+01\u001b[0m | \u001b[94m1.00e+00\u001b[0m | 1.00e+00 | 0.00e+00 | -5.44e-15 |\n",
      "+-------------------+-----------+----------+----------+----------+----------+----------+----------+----------+-----------+\n",
      "##### RESULTS (CycleCloser) #####\n",
      "+---------------------+------------------+-------------------+\n",
      "|                     |   mass_deviation |   fluid_deviation |\n",
      "|---------------------+------------------+-------------------|\n",
      "| LP ORC Cycle Closer |         2.27e-13 |          0.00e+00 |\n",
      "| ORC Cycle Closer    |         0.00e+00 |          0.00e+00 |\n",
      "+---------------------+------------------+-------------------+\n",
      "##### RESULTS (Turbine) #####\n",
      "+----------------+-----------+----------+----------+\n",
      "|                |         P |    eta_s |       pr |\n",
      "|----------------+-----------+----------+----------|\n",
      "| LP ORC Turbine | -7.30e+07 | \u001b[94m9.00e-01\u001b[0m | 1.45e-01 |\n",
      "| Steam Turbine  | -6.04e+07 | \u001b[94m9.00e-01\u001b[0m | 1.84e-01 |\n",
      "| ORC Turbine    | -1.13e+07 | \u001b[94m9.00e-01\u001b[0m | 4.00e-01 |\n",
      "+----------------+-----------+----------+----------+\n",
      "##### RESULTS (Condenser) #####\n",
      "+------------------+-----------+----------+----------+----------+----------+----------+----------+-----------+----------+\n",
      "|                  |         Q |       kA |   td_log |    ttd_u |    ttd_l |      pr1 |      pr2 |     zeta1 |    zeta2 |\n",
      "|------------------+-----------+----------+----------+----------+----------+----------+----------+-----------+----------|\n",
      "| LP ORC Condenser | -4.42e+08 | 4.09e+07 | 1.08e+01 | \u001b[94m5.00e+00\u001b[0m | 2.00e+01 | \u001b[94m1.00e+00\u001b[0m | \u001b[94m1.00e+00\u001b[0m |  0.00e+00 | 0.00e+00 |\n",
      "| ORC Condenser    | -1.39e+08 | 1.29e+07 | 1.08e+01 | \u001b[94m5.00e+00\u001b[0m | 2.00e+01 | \u001b[94m1.00e+00\u001b[0m | \u001b[94m1.00e+00\u001b[0m | -2.60e-15 | 0.00e+00 |\n",
      "+------------------+-----------+----------+----------+----------+----------+----------+----------+-----------+----------+\n",
      "##### RESULTS (Connection) #####\n",
      "+----+-----------+-----------+-----------+-----------+\n",
      "|    |         m |         p |         h |         T |\n",
      "|----+-----------+-----------+-----------+-----------|\n",
      "| 40 | 1.133e+03 | 8.905e+00 | 1.815e+01 | 3.542e+01 |\n",
      "| 41 | 1.133e+03 | 8.905e+00 | 1.815e+01 | 3.542e+01 |\n",
      "| 42 | 1.133e+03 | 8.905e+00 | 1.947e+02 | 1.050e+02 |\n",
      "| 43 | 2.388e+03 | 8.905e+00 | 2.088e+02 | 1.100e+02 |\n",
      "| 44 | 2.388e+03 | 8.905e+00 | 3.399e+02 | 1.100e+02 |\n",
      "| 45 | 1.133e+03 | 8.905e+00 | 4.710e+02 | 1.100e+02 |\n",
      "| 46 | 1.133e+03 | 1.290e+00 | 4.066e+02 | 6.387e+01 |\n",
      "| 47 | 1.133e+03 | 1.290e+00 | 1.658e+01 | 3.500e+01 |\n",
      "| 71 | 2.929e+04 | \u001b[94m1.013e+00\u001b[0m | 4.144e+02 | \u001b[94m1.500e+01\u001b[0m |\n",
      "| 72 | 2.929e+04 | 1.013e+00 | 4.295e+02 | \u001b[94m3.000e+01\u001b[0m |\n",
      "| 13 | 2.250e+02 | \u001b[94m1.987e+00\u001b[0m | 2.511e+03 | 1.200e+02 |\n",
      "| 14 | 2.250e+02 | 1.987e+00 | 1.120e+03 | 1.200e+02 |\n",
      "| 15 | 2.250e+02 | 1.987e+00 | 2.304e+02 | \u001b[94m5.500e+01\u001b[0m |\n",
      "| 30 | 3.895e+02 | 3.224e+00 | 1.698e+01 | 3.511e+01 |\n",
      "| 31 | 3.895e+02 | 3.224e+00 | 1.698e+01 | 3.511e+01 |\n",
      "| 32 | 3.895e+02 | 3.224e+00 | 7.951e+01 | 6.116e+01 |\n",
      "| 33 | 5.787e+02 | 3.224e+00 | 9.198e+01 | 6.616e+01 |\n",
      "| 34 | 5.787e+02 | 3.224e+00 | 3.095e+02 | 6.616e+01 |\n",
      "| 35 | 3.895e+02 | 3.224e+00 | 4.027e+02 | 6.616e+01 |\n",
      "| 36 | 3.895e+02 | 1.290e+00 | 3.737e+02 | 4.594e+01 |\n",
      "| 37 | 3.895e+02 | 1.290e+00 | 1.658e+01 | 3.500e+01 |\n",
      "| 51 | 9.215e+03 | \u001b[94m1.013e+00\u001b[0m | 4.144e+02 | \u001b[94m1.500e+01\u001b[0m |\n",
      "| 52 | 9.215e+03 | 1.013e+00 | 4.295e+02 | \u001b[94m3.000e+01\u001b[0m |\n",
      "| 18 | 2.750e+02 | 1.080e+01 | 3.197e+02 | 7.616e+01 |\n",
      "| 16 | 2.250e+02 | 1.080e+01 | 2.315e+02 | 5.509e+01 |\n",
      "| 19 | 2.750e+02 | 1.080e+01 | 2.312e+02 | \u001b[94m5.500e+01\u001b[0m |\n",
      "| 20 | 5.000e+02 | 1.080e+01 | 2.313e+02 | 5.504e+01 |\n",
      "| 21 | 5.000e+02 | \u001b[94m3.000e+01\u001b[0m | 2.338e+02 | 5.523e+01 |\n",
      "| 11 | \u001b[94m5.000e+02\u001b[0m | \u001b[94m1.080e+01\u001b[0m | 1.679e+03 | 1.832e+02 |\n",
      "| 12 | 2.250e+02 | 1.080e+01 | 2.780e+03 | 1.832e+02 |\n",
      "| 17 | 2.750e+02 | 1.080e+01 | 7.774e+02 | 1.832e+02 |\n",
      "+----+-----------+-----------+-----------+-----------+\n",
      "##### RESULTS (Bus: Heat Input) #####\n",
      "+-------------------+-------------------+-------------+--------------+\n",
      "|                   |   component value |   bus value |   efficiency |\n",
      "|-------------------+-------------------+-------------+--------------|\n",
      "| Geothermal Source |         0.000e+00 |   0.000e+00 |    1.000e+00 |\n",
      "| Geothermal Sink   |         0.000e+00 |   0.000e+00 |    1.000e+00 |\n",
      "| total             |         0.000e+00 |   0.000e+00 |  nan         |\n",
      "+-------------------+-------------------+-------------+--------------+\n",
      "##### RESULTS (Bus: Power Output) #####\n",
      "+-----------------+-------------------+-------------+--------------+\n",
      "|                 |   component value |   bus value |   efficiency |\n",
      "|-----------------+-------------------+-------------+--------------|\n",
      "| Steam Turbine   |        -6.043e+07 |  -5.893e+07 |    9.751e-01 |\n",
      "| ORC Turbine     |        -1.130e+07 |  -1.102e+07 |    9.751e-01 |\n",
      "| LP ORC Turbine  |        -7.298e+07 |  -7.117e+07 |    9.751e-01 |\n",
      "| Steam Pump      |         2.514e+05 |   2.605e+05 |    9.652e-01 |\n",
      "| ORC Pump        |         1.557e+05 |   1.613e+05 |    9.652e-01 |\n",
      "| LP ORC Pump     |         1.783e+06 |   1.847e+06 |    9.652e-01 |\n",
      "| Geothermal Pump |         1.216e+06 |   1.260e+06 |    9.652e-01 |\n",
      "| total           |        -1.413e+08 |  -1.376e+08 |  nan         |\n",
      "+-----------------+-------------------+-------------+--------------+\n",
      "##### RESULTS (Bus: Heat Output Cooling) #####\n",
      "+-------------------+-------------------+-------------+--------------+\n",
      "|                   |   component value |   bus value |   efficiency |\n",
      "|-------------------+-------------------+-------------+--------------|\n",
      "| Coolant Source    |         0.000e+00 |   0.000e+00 |    1.000e+00 |\n",
      "| Coolant Sink      |         0.000e+00 |   0.000e+00 |    1.000e+00 |\n",
      "| LP Coolant Source |         0.000e+00 |   0.000e+00 |    1.000e+00 |\n",
      "| LP Coolant Sink   |         0.000e+00 |   0.000e+00 |    1.000e+00 |\n",
      "| total             |         0.000e+00 |   0.000e+00 |  nan         |\n",
      "+-------------------+-------------------+-------------+--------------+\n",
      "eta_el = 0.190\n",
      "722890679.3083586\n",
      "##### RESULTS: Aggregation of components and busses #####\n",
      "+---------------------+-------------+-------------+-------------+-------------+-------------+-------------+\n",
      "|                     |         E_F |         E_P |         E_D |     epsilon |        y_Dk |       y*_Dk |\n",
      "|---------------------+-------------+-------------+-------------+-------------+-------------+-------------|\n",
      "| LP ORC Condenser    |   3.116e+07 |   1.112e+07 |   2.004e+07 |   3.569e-01 |   8.489e-02 |   2.390e-01 |\n",
      "| LP ORC Preheater    |   4.925e+07 |   3.211e+07 |   1.715e+07 |   6.519e-01 |   7.263e-02 |   2.045e-01 |\n",
      "| ORC Evaporator      |   3.540e+07 |   1.898e+07 |   1.643e+07 |   5.360e-01 |   6.959e-02 |   1.959e-01 |\n",
      "| LP ORC Turbine      |   7.996e+07 |   7.117e+07 |   8.787e+06 |   8.901e-01 |   3.722e-02 |   1.048e-01 |\n",
      "| Steam Turbine       |   6.536e+07 |   5.893e+07 |   6.423e+06 |   9.017e-01 |   2.721e-02 |   7.660e-02 |\n",
      "| LP ORC Evaporator   |   8.363e+07 |   7.764e+07 |   5.990e+06 |   9.284e-01 |   2.537e-02 |   7.143e-02 |\n",
      "| ORC Condenser       |   9.150e+06 |   3.499e+06 |   5.651e+06 |   3.824e-01 |   2.394e-02 |   6.739e-02 |\n",
      "| ORC Turbine         |   1.243e+07 |   1.102e+07 |   1.417e+06 |   8.860e-01 |   6.004e-03 |   1.690e-02 |\n",
      "| ORC Preheater       |   3.630e+06 |   2.509e+06 |   1.121e+06 |   6.911e-01 |   4.750e-03 |   1.337e-02 |\n",
      "| LP ORC Pump         |   1.847e+06 |   1.450e+06 |   3.972e+05 |   7.849e-01 |   1.683e-03 |   4.737e-03 |\n",
      "| Geothermal Pump     |   1.260e+06 |   1.003e+06 |   2.573e+05 |   7.958e-01 |   1.090e-03 |   3.069e-03 |\n",
      "| LP ORC Drum         |   1.956e+08 |   1.955e+08 |   7.863e+04 |   9.996e-01 |   3.331e-04 |   9.378e-04 |\n",
      "| Steam Pump          |   2.605e+05 |   2.073e+05 |   5.320e+04 |   7.958e-01 |   2.253e-04 |   6.344e-04 |\n",
      "| ORC Pump            |   1.613e+05 |   1.266e+05 |   3.472e+04 |   7.848e-01 |   1.471e-04 |   4.140e-04 |\n",
      "| ORC Drum            |   2.809e+07 |   2.806e+07 |   3.061e+04 |   9.989e-01 |   1.297e-04 |   3.651e-04 |\n",
      "| Merge               |   5.552e+03 |   5.546e+03 |   5.348e+00 |   9.990e-01 |   2.266e-08 |   6.378e-08 |\n",
      "| LP ORC Cycle Closer | nan         | nan         | nan         | nan         | nan         | nan         |\n",
      "| LP Coolant Source   | nan         | nan         | nan         | nan         | nan         | nan         |\n",
      "| LP Coolant Sink     | nan         | nan         | nan         | nan         | nan         | nan         |\n",
      "| ORC Cycle Closer    | nan         | nan         | nan         | nan         | nan         | nan         |\n",
      "| Coolant Source      | nan         | nan         | nan         | nan         | nan         | nan         |\n",
      "| Coolant Sink        | nan         | nan         | nan         | nan         | nan         | nan         |\n",
      "| Geothermal Sink     | nan         | nan         | nan         | nan         | nan         | nan         |\n",
      "| Seperator           | nan         | nan         | nan         | nan         | nan         | nan         |\n",
      "| Geothermal Source   | nan         | nan         | nan         | nan         | nan         | nan         |\n",
      "+---------------------+-------------+-------------+-------------+-------------+-------------+-------------+\n",
      "##### RESULTS: Network exergy analysis #####\n",
      "+-----------+-----------+-----------+-----------+-----------+\n",
      "|       E_F |       E_P |       E_D |       E_L |   epsilon |\n",
      "|-----------+-----------+-----------+-----------+-----------|\n",
      "| 2.361e+08 | 1.376e+08 | 8.385e+07 | 1.462e+07 | 5.828e-01 |\n",
      "+-----------+-----------+-----------+-----------+-----------+\n",
      "epsilon_el = 0.583\n"
     ]
    }
   ],
   "source": [
    "# Components\n",
    "# Geothermal heat source with interfaces\n",
    "geo_source = Source('Geothermal Source')\n",
    "geo_sink = Sink('Geothermal Sink')\n",
    "seperator = DropletSeparator('Seperator')\n",
    "merge = Merge('Merge')\n",
    "\n",
    "# Build up the merge part\n",
    "# Delete old connections\n",
    "nw_el.del_conns(geo_pump2geo_sink1, steam_pump2geo_sink2, orc_preheat2geo_pump)\n",
    "\n",
    "# Set new connections\n",
    "steam_pump2merge = Connection(steam_pump, 'out1', merge, 'in1', label='16')\n",
    "orc_preheat2merge = Connection(orc_preheater, 'out1', merge, 'in2', label='19')\n",
    "merge2geo_pump = Connection(merge, 'out1', geo_pump, 'in1', label='20')\n",
    "geo_pump2geo_sink = Connection(geo_pump, 'out1', geo_sink, 'in1', label='21')\n",
    "\n",
    "nw_el.add_conns(steam_pump2merge, orc_preheat2merge, merge2geo_pump, geo_pump2geo_sink)\n",
    "\n",
    "# Parametrize new connections\n",
    "orc_preheat2merge.set_attr(T=55)\n",
    "geo_pump2geo_sink.set_attr(p=30)\n",
    "lp_orc_preheat2steam_pump.set_attr(T=55)\n",
    "\n",
    "# Build up the seperator part\n",
    "# Delete old connections\n",
    "nw_el.del_conns(liquid_source2orc_eva, steam_source2steam_turb)\n",
    "\n",
    "# Set new connections\n",
    "geo_source2sep = Connection(geo_source,'out1', seperator, 'in1', label='11')\n",
    "sep2steam_turb = Connection(seperator, 'out2', steam_turbine, 'in1', label='12')\n",
    "sep2orc_eva = Connection(seperator,'out1', orc_evaporator, 'in1', label='17')\n",
    "\n",
    "nw_el.add_conns(geo_source2sep, sep2steam_turb, sep2orc_eva)\n",
    "\n",
    "# Parametrize new connections\n",
    "geo_source2sep.set_attr(m=500, p=10.8, x=0.45, fluid=flu_vec_water)\n",
    "sep2orc_eva.set_attr(m0=500*0.55)\n",
    "sep2steam_turb.set_attr(m0=500*0.45)\n",
    "\n",
    "# Busses\n",
    "heat_in = Bus('Heat Input')\n",
    "heat_in.add_comps(\n",
    "    {'comp': geo_source, 'base': 'bus'},\n",
    "    {'comp': geo_sink, 'base': 'component'}\n",
    "    )\n",
    "\n",
    "power_out = Bus('Power Output')\n",
    "power_out.add_comps(\n",
    "    {'comp': steam_turbine, 'char': 0.985*0.99, 'base': 'component'},\n",
    "    {'comp': orc_turbine, 'char': 0.985*0.99, 'base': 'component'},\n",
    "    {'comp': lp_orc_turbine, 'char': 0.985*0.99, 'base': 'component'},\n",
    "    {'comp': steam_pump, 'char': 0.975*0.99, 'base': 'bus'},\n",
    "    {'comp': orc_pump, 'char': 0.975*0.99, 'base': 'bus'},\n",
    "    {'comp': lp_orc_pump, 'char': 0.975*0.99, 'base': 'bus'},\n",
    "    {'comp': geo_pump, 'char': 0.975*0.99, 'base': 'bus'}\n",
    "    )\n",
    "\n",
    "heat_out_cool = Bus('Heat Output Cooling')\n",
    "heat_out_cool.add_comps(\n",
    "    {'comp': cool_source, 'base': 'bus'},\n",
    "    {'comp': cool_sink, 'base': 'component'},\n",
    "    {'comp': lp_cool_source, 'base': 'bus'},\n",
    "    {'comp': lp_cool_sink, 'base': 'component'}\n",
    "    )\n",
    "\n",
    "nw_el.add_busses(heat_in, power_out, heat_out_cool)\n",
    "\n",
    "# Solve model\n",
    "nw_el.solve(\"design\")\n",
    "nw_el.print_results()\n",
    "\n",
    "# Calculate thermal efficiency\n",
    "eta_el = abs(power_out.P.val)/delta_H\n",
    "print(f'eta_el = {eta_el:.3f}')\n",
    "print(delta_H)\n",
    "\n",
    "# Create and execute exergy analysis\n",
    "ean_el = ExergyAnalysis(\n",
    "    network=nw_el, E_F=[heat_in], E_P=[power_out], E_L=[heat_out_cool])\n",
    "ean_el.analyse(pamb=1.013, Tamb=15)\n",
    "ean_el.print_results(components=False, connections=False, busses=False, groups=False)\n",
    "epsilon_el = ean_el.network_data['epsilon']\n",
    "print(f'epsilon_el = {epsilon_el:.3f}')"
   ]
  },
  {
   "attachments": {},
   "cell_type": "markdown",
   "metadata": {},
   "source": [
    "## Proposed solution 1.3\n",
    "\n",
    "**First Step**: Evaluate both processes according to Eqs. {eq}`orc-chp-energy-efficiency` and {eq}`orc-chp-exergy-efficiency`"
   ]
  },
  {
   "attachments": {},
   "cell_type": "markdown",
   "metadata": {
    "tags": []
   },
   "source": [
    "````{admonition} Comparison of energy and exergy efficiency\n",
    ":class: dropdown\n",
    "\n",
    "```{list-table} Comparison of energy and exergy efficiency\n",
    ":header-rows: 1\n",
    ":name: result-comparison\n",
    "\n",
    "* - \n",
    "  - Geothermal combined heat and power plant\n",
    "  - Geothermal plant with only power generation\n",
    "* - \\eta_{CHP}\n",
    "  - 80.4 %\n",
    "  - 19.0 %\n",
    "* - \\epsilon_{CHP}\n",
    "  - 0.714\n",
    "  - 0.594\n",
    "```\n",
    "\n",
    "````"
   ]
  },
  {
   "attachments": {},
   "cell_type": "markdown",
   "metadata": {},
   "source": [
    "**Second Step**: Compare both processes with a grassmann diagramm"
   ]
  },
  {
   "cell_type": "code",
   "execution_count": 55,
   "metadata": {
    "tags": [
     "hide-cell"
    ]
   },
   "outputs": [
    {
     "data": {
      "application/vnd.plotly.v1+json": {
       "config": {
        "plotlyServerURL": "https://plot.ly"
       },
       "data": [
        {
         "arrangement": "snap",
         "link": {
          "color": [
           "rgba(55.0, 126.0, 184.0, 0.75)",
           "rgba(166.0, 86.0, 40.0, 0.75)",
           "rgba(228.0, 26.0, 28.0, 0.75)",
           "rgba(228.0, 26.0, 28.0, 0.75)",
           "rgba(228.0, 26.0, 28.0, 0.75)",
           "rgba(228.0, 26.0, 28.0, 0.75)",
           "rgba(77.0, 175.0, 74.0, 0.75)",
           "rgba(255.0, 127.0, 0.0, 0.75)",
           "rgba(255.0, 127.0, 0.0, 0.75)",
           "rgba(77.0, 175.0, 74.0, 0.75)",
           "rgba(255.0, 127.0, 0.0, 0.75)",
           "rgba(152.0, 78.0, 163.0, 0.75)",
           "rgba(77.0, 175.0, 74.0, 0.75)",
           "rgba(255.0, 127.0, 0.0, 0.75)",
           "rgba(77.0, 175.0, 74.0, 0.75)",
           "rgba(255.0, 127.0, 0.0, 0.75)",
           "rgba(166.0, 86.0, 40.0, 0.75)",
           "rgba(228.0, 26.0, 28.0, 0.75)",
           "rgba(77.0, 175.0, 74.0, 0.75)",
           "rgba(255.0, 127.0, 0.0, 0.75)",
           "rgba(77.0, 175.0, 74.0, 0.75)",
           "rgba(255.0, 127.0, 0.0, 0.75)",
           "rgba(166.0, 86.0, 40.0, 0.75)",
           "rgba(77.0, 175.0, 74.0, 0.75)",
           "rgba(166.0, 86.0, 40.0, 0.75)",
           "rgba(77.0, 175.0, 74.0, 0.75)",
           "rgba(166.0, 86.0, 40.0, 0.75)",
           "rgba(166.0, 86.0, 40.0, 0.75)",
           "rgba(77.0, 175.0, 74.0, 0.75)",
           "rgba(166.0, 86.0, 40.0, 0.75)",
           "rgba(166.0, 86.0, 40.0, 0.75)",
           "rgba(228.0, 26.0, 28.0, 0.75)",
           "rgba(77.0, 175.0, 74.0, 0.75)",
           "rgba(166.0, 86.0, 40.0, 0.75)",
           "rgba(228.0, 26.0, 28.0, 0.75)",
           "rgba(166.0, 86.0, 40.0, 0.75)",
           "rgba(77.0, 175.0, 74.0, 0.75)",
           "rgba(166.0, 86.0, 40.0, 0.75)",
           "rgba(77.0, 175.0, 74.0, 0.75)",
           "rgba(55.0, 126.0, 184.0, 0.75)",
           "rgba(166.0, 86.0, 40.0, 0.75)",
           "rgba(166.0, 86.0, 40.0, 0.75)"
          ],
          "source": [
           0,
           1,
           23,
           23,
           23,
           23,
           2,
           2,
           2,
           3,
           3,
           3,
           4,
           4,
           5,
           5,
           5,
           6,
           6,
           6,
           8,
           8,
           8,
           11,
           11,
           12,
           12,
           12,
           13,
           13,
           13,
           14,
           14,
           14,
           15,
           15,
           18,
           18,
           19,
           19,
           20,
           20
          ],
          "target": [
           1,
           20,
           4,
           11,
           19,
           25,
           27,
           8,
           6,
           27,
           4,
           26,
           27,
           5,
           27,
           2,
           18,
           23,
           27,
           3,
           27,
           2,
           5,
           27,
           18,
           27,
           11,
           13,
           27,
           12,
           15,
           23,
           27,
           13,
           25,
           12,
           27,
           19,
           27,
           1,
           8,
           14
          ],
          "value": [
           236059762.12723544,
           242876971.2284283,
           161319.62462915722,
           283453.34141981,
           1260216.250756224,
           83401136.3303922,
           30614.87444037199,
           5863979.488871061,
           22192032.78855871,
           5650843.944656178,
           609377.2252380259,
           3499432.5212249025,
           34718.76038324155,
           735978.0894839416,
           1121321.6699964935,
           3245058.1244991464,
           3191828.7917809538,
           11015090.01117077,
           1417289.0862688348,
           9759653.691119106,
           16426391.522530928,
           24841569.027370997,
           6822230.496792652,
           57890.72186406568,
           2622477.5808498207,
           3210275.3844891116,
           2396914.9612940764,
           27074904.10961328,
           27530588.371650025,
           11030237.056200942,
           106752829.92931978,
           74091035.53602661,
           8320972.887020588,
           118238751.24755748,
           85100972.53012428,
           21651857.399195526,
           6.333803950840775,
           5814300.038826824,
           257307.18839019467,
           6817209.101192853,
           42226211.55782352,
           200650759.67060468
          ]
         },
         "node": {
          "color": "orange",
          "label": [
           "E_F",
           "Heat Input",
           "ORC Drum",
           "ORC Condenser",
           "ORC Pump",
           "ORC Preheater",
           "ORC Turbine",
           "ORC Cycle Closer",
           "ORC Evaporator",
           "Coolant Source",
           "Coolant Sink",
           "Steam Pump",
           "District Heating Preheater",
           "District Heating Condenser",
           "Steam Turbine",
           "District Heating Consumer",
           "District Heating Cycle Closer",
           "Geothermal Sink",
           "Merge",
           "Geothermal Pump",
           "Seperator",
           "Geothermal Source",
           "Heat Output District Heating",
           "Power Output",
           "Heat Output Cooling",
           "E_P",
           "E_L",
           "E_D"
          ],
          "pad": 11
         },
         "type": "sankey"
        }
       ],
       "layout": {
        "template": {
         "data": {
          "bar": [
           {
            "error_x": {
             "color": "#2a3f5f"
            },
            "error_y": {
             "color": "#2a3f5f"
            },
            "marker": {
             "line": {
              "color": "#E5ECF6",
              "width": 0.5
             }
            },
            "type": "bar"
           }
          ],
          "barpolar": [
           {
            "marker": {
             "line": {
              "color": "#E5ECF6",
              "width": 0.5
             }
            },
            "type": "barpolar"
           }
          ],
          "carpet": [
           {
            "aaxis": {
             "endlinecolor": "#2a3f5f",
             "gridcolor": "white",
             "linecolor": "white",
             "minorgridcolor": "white",
             "startlinecolor": "#2a3f5f"
            },
            "baxis": {
             "endlinecolor": "#2a3f5f",
             "gridcolor": "white",
             "linecolor": "white",
             "minorgridcolor": "white",
             "startlinecolor": "#2a3f5f"
            },
            "type": "carpet"
           }
          ],
          "choropleth": [
           {
            "colorbar": {
             "outlinewidth": 0,
             "ticks": ""
            },
            "type": "choropleth"
           }
          ],
          "contour": [
           {
            "colorbar": {
             "outlinewidth": 0,
             "ticks": ""
            },
            "colorscale": [
             [
              0,
              "#0d0887"
             ],
             [
              0.1111111111111111,
              "#46039f"
             ],
             [
              0.2222222222222222,
              "#7201a8"
             ],
             [
              0.3333333333333333,
              "#9c179e"
             ],
             [
              0.4444444444444444,
              "#bd3786"
             ],
             [
              0.5555555555555556,
              "#d8576b"
             ],
             [
              0.6666666666666666,
              "#ed7953"
             ],
             [
              0.7777777777777778,
              "#fb9f3a"
             ],
             [
              0.8888888888888888,
              "#fdca26"
             ],
             [
              1,
              "#f0f921"
             ]
            ],
            "type": "contour"
           }
          ],
          "contourcarpet": [
           {
            "colorbar": {
             "outlinewidth": 0,
             "ticks": ""
            },
            "type": "contourcarpet"
           }
          ],
          "heatmap": [
           {
            "colorbar": {
             "outlinewidth": 0,
             "ticks": ""
            },
            "colorscale": [
             [
              0,
              "#0d0887"
             ],
             [
              0.1111111111111111,
              "#46039f"
             ],
             [
              0.2222222222222222,
              "#7201a8"
             ],
             [
              0.3333333333333333,
              "#9c179e"
             ],
             [
              0.4444444444444444,
              "#bd3786"
             ],
             [
              0.5555555555555556,
              "#d8576b"
             ],
             [
              0.6666666666666666,
              "#ed7953"
             ],
             [
              0.7777777777777778,
              "#fb9f3a"
             ],
             [
              0.8888888888888888,
              "#fdca26"
             ],
             [
              1,
              "#f0f921"
             ]
            ],
            "type": "heatmap"
           }
          ],
          "heatmapgl": [
           {
            "colorbar": {
             "outlinewidth": 0,
             "ticks": ""
            },
            "colorscale": [
             [
              0,
              "#0d0887"
             ],
             [
              0.1111111111111111,
              "#46039f"
             ],
             [
              0.2222222222222222,
              "#7201a8"
             ],
             [
              0.3333333333333333,
              "#9c179e"
             ],
             [
              0.4444444444444444,
              "#bd3786"
             ],
             [
              0.5555555555555556,
              "#d8576b"
             ],
             [
              0.6666666666666666,
              "#ed7953"
             ],
             [
              0.7777777777777778,
              "#fb9f3a"
             ],
             [
              0.8888888888888888,
              "#fdca26"
             ],
             [
              1,
              "#f0f921"
             ]
            ],
            "type": "heatmapgl"
           }
          ],
          "histogram": [
           {
            "marker": {
             "colorbar": {
              "outlinewidth": 0,
              "ticks": ""
             }
            },
            "type": "histogram"
           }
          ],
          "histogram2d": [
           {
            "colorbar": {
             "outlinewidth": 0,
             "ticks": ""
            },
            "colorscale": [
             [
              0,
              "#0d0887"
             ],
             [
              0.1111111111111111,
              "#46039f"
             ],
             [
              0.2222222222222222,
              "#7201a8"
             ],
             [
              0.3333333333333333,
              "#9c179e"
             ],
             [
              0.4444444444444444,
              "#bd3786"
             ],
             [
              0.5555555555555556,
              "#d8576b"
             ],
             [
              0.6666666666666666,
              "#ed7953"
             ],
             [
              0.7777777777777778,
              "#fb9f3a"
             ],
             [
              0.8888888888888888,
              "#fdca26"
             ],
             [
              1,
              "#f0f921"
             ]
            ],
            "type": "histogram2d"
           }
          ],
          "histogram2dcontour": [
           {
            "colorbar": {
             "outlinewidth": 0,
             "ticks": ""
            },
            "colorscale": [
             [
              0,
              "#0d0887"
             ],
             [
              0.1111111111111111,
              "#46039f"
             ],
             [
              0.2222222222222222,
              "#7201a8"
             ],
             [
              0.3333333333333333,
              "#9c179e"
             ],
             [
              0.4444444444444444,
              "#bd3786"
             ],
             [
              0.5555555555555556,
              "#d8576b"
             ],
             [
              0.6666666666666666,
              "#ed7953"
             ],
             [
              0.7777777777777778,
              "#fb9f3a"
             ],
             [
              0.8888888888888888,
              "#fdca26"
             ],
             [
              1,
              "#f0f921"
             ]
            ],
            "type": "histogram2dcontour"
           }
          ],
          "mesh3d": [
           {
            "colorbar": {
             "outlinewidth": 0,
             "ticks": ""
            },
            "type": "mesh3d"
           }
          ],
          "parcoords": [
           {
            "line": {
             "colorbar": {
              "outlinewidth": 0,
              "ticks": ""
             }
            },
            "type": "parcoords"
           }
          ],
          "pie": [
           {
            "automargin": true,
            "type": "pie"
           }
          ],
          "scatter": [
           {
            "marker": {
             "colorbar": {
              "outlinewidth": 0,
              "ticks": ""
             }
            },
            "type": "scatter"
           }
          ],
          "scatter3d": [
           {
            "line": {
             "colorbar": {
              "outlinewidth": 0,
              "ticks": ""
             }
            },
            "marker": {
             "colorbar": {
              "outlinewidth": 0,
              "ticks": ""
             }
            },
            "type": "scatter3d"
           }
          ],
          "scattercarpet": [
           {
            "marker": {
             "colorbar": {
              "outlinewidth": 0,
              "ticks": ""
             }
            },
            "type": "scattercarpet"
           }
          ],
          "scattergeo": [
           {
            "marker": {
             "colorbar": {
              "outlinewidth": 0,
              "ticks": ""
             }
            },
            "type": "scattergeo"
           }
          ],
          "scattergl": [
           {
            "marker": {
             "colorbar": {
              "outlinewidth": 0,
              "ticks": ""
             }
            },
            "type": "scattergl"
           }
          ],
          "scattermapbox": [
           {
            "marker": {
             "colorbar": {
              "outlinewidth": 0,
              "ticks": ""
             }
            },
            "type": "scattermapbox"
           }
          ],
          "scatterpolar": [
           {
            "marker": {
             "colorbar": {
              "outlinewidth": 0,
              "ticks": ""
             }
            },
            "type": "scatterpolar"
           }
          ],
          "scatterpolargl": [
           {
            "marker": {
             "colorbar": {
              "outlinewidth": 0,
              "ticks": ""
             }
            },
            "type": "scatterpolargl"
           }
          ],
          "scatterternary": [
           {
            "marker": {
             "colorbar": {
              "outlinewidth": 0,
              "ticks": ""
             }
            },
            "type": "scatterternary"
           }
          ],
          "surface": [
           {
            "colorbar": {
             "outlinewidth": 0,
             "ticks": ""
            },
            "colorscale": [
             [
              0,
              "#0d0887"
             ],
             [
              0.1111111111111111,
              "#46039f"
             ],
             [
              0.2222222222222222,
              "#7201a8"
             ],
             [
              0.3333333333333333,
              "#9c179e"
             ],
             [
              0.4444444444444444,
              "#bd3786"
             ],
             [
              0.5555555555555556,
              "#d8576b"
             ],
             [
              0.6666666666666666,
              "#ed7953"
             ],
             [
              0.7777777777777778,
              "#fb9f3a"
             ],
             [
              0.8888888888888888,
              "#fdca26"
             ],
             [
              1,
              "#f0f921"
             ]
            ],
            "type": "surface"
           }
          ],
          "table": [
           {
            "cells": {
             "fill": {
              "color": "#EBF0F8"
             },
             "line": {
              "color": "white"
             }
            },
            "header": {
             "fill": {
              "color": "#C8D4E3"
             },
             "line": {
              "color": "white"
             }
            },
            "type": "table"
           }
          ]
         },
         "layout": {
          "annotationdefaults": {
           "arrowcolor": "#2a3f5f",
           "arrowhead": 0,
           "arrowwidth": 1
          },
          "coloraxis": {
           "colorbar": {
            "outlinewidth": 0,
            "ticks": ""
           }
          },
          "colorscale": {
           "diverging": [
            [
             0,
             "#8e0152"
            ],
            [
             0.1,
             "#c51b7d"
            ],
            [
             0.2,
             "#de77ae"
            ],
            [
             0.3,
             "#f1b6da"
            ],
            [
             0.4,
             "#fde0ef"
            ],
            [
             0.5,
             "#f7f7f7"
            ],
            [
             0.6,
             "#e6f5d0"
            ],
            [
             0.7,
             "#b8e186"
            ],
            [
             0.8,
             "#7fbc41"
            ],
            [
             0.9,
             "#4d9221"
            ],
            [
             1,
             "#276419"
            ]
           ],
           "sequential": [
            [
             0,
             "#0d0887"
            ],
            [
             0.1111111111111111,
             "#46039f"
            ],
            [
             0.2222222222222222,
             "#7201a8"
            ],
            [
             0.3333333333333333,
             "#9c179e"
            ],
            [
             0.4444444444444444,
             "#bd3786"
            ],
            [
             0.5555555555555556,
             "#d8576b"
            ],
            [
             0.6666666666666666,
             "#ed7953"
            ],
            [
             0.7777777777777778,
             "#fb9f3a"
            ],
            [
             0.8888888888888888,
             "#fdca26"
            ],
            [
             1,
             "#f0f921"
            ]
           ],
           "sequentialminus": [
            [
             0,
             "#0d0887"
            ],
            [
             0.1111111111111111,
             "#46039f"
            ],
            [
             0.2222222222222222,
             "#7201a8"
            ],
            [
             0.3333333333333333,
             "#9c179e"
            ],
            [
             0.4444444444444444,
             "#bd3786"
            ],
            [
             0.5555555555555556,
             "#d8576b"
            ],
            [
             0.6666666666666666,
             "#ed7953"
            ],
            [
             0.7777777777777778,
             "#fb9f3a"
            ],
            [
             0.8888888888888888,
             "#fdca26"
            ],
            [
             1,
             "#f0f921"
            ]
           ]
          },
          "colorway": [
           "#636efa",
           "#EF553B",
           "#00cc96",
           "#ab63fa",
           "#FFA15A",
           "#19d3f3",
           "#FF6692",
           "#B6E880",
           "#FF97FF",
           "#FECB52"
          ],
          "font": {
           "color": "#2a3f5f"
          },
          "geo": {
           "bgcolor": "white",
           "lakecolor": "white",
           "landcolor": "#E5ECF6",
           "showlakes": true,
           "showland": true,
           "subunitcolor": "white"
          },
          "hoverlabel": {
           "align": "left"
          },
          "hovermode": "closest",
          "mapbox": {
           "style": "light"
          },
          "paper_bgcolor": "white",
          "plot_bgcolor": "#E5ECF6",
          "polar": {
           "angularaxis": {
            "gridcolor": "white",
            "linecolor": "white",
            "ticks": ""
           },
           "bgcolor": "#E5ECF6",
           "radialaxis": {
            "gridcolor": "white",
            "linecolor": "white",
            "ticks": ""
           }
          },
          "scene": {
           "xaxis": {
            "backgroundcolor": "#E5ECF6",
            "gridcolor": "white",
            "gridwidth": 2,
            "linecolor": "white",
            "showbackground": true,
            "ticks": "",
            "zerolinecolor": "white"
           },
           "yaxis": {
            "backgroundcolor": "#E5ECF6",
            "gridcolor": "white",
            "gridwidth": 2,
            "linecolor": "white",
            "showbackground": true,
            "ticks": "",
            "zerolinecolor": "white"
           },
           "zaxis": {
            "backgroundcolor": "#E5ECF6",
            "gridcolor": "white",
            "gridwidth": 2,
            "linecolor": "white",
            "showbackground": true,
            "ticks": "",
            "zerolinecolor": "white"
           }
          },
          "shapedefaults": {
           "line": {
            "color": "#2a3f5f"
           }
          },
          "ternary": {
           "aaxis": {
            "gridcolor": "white",
            "linecolor": "white",
            "ticks": ""
           },
           "baxis": {
            "gridcolor": "white",
            "linecolor": "white",
            "ticks": ""
           },
           "bgcolor": "#E5ECF6",
           "caxis": {
            "gridcolor": "white",
            "linecolor": "white",
            "ticks": ""
           }
          },
          "title": {
           "x": 0.05
          },
          "xaxis": {
           "automargin": true,
           "gridcolor": "white",
           "linecolor": "white",
           "ticks": "",
           "title": {
            "standoff": 15
           },
           "zerolinecolor": "white",
           "zerolinewidth": 2
          },
          "yaxis": {
           "automargin": true,
           "gridcolor": "white",
           "linecolor": "white",
           "ticks": "",
           "title": {
            "standoff": 15
           },
           "zerolinecolor": "white",
           "zerolinewidth": 2
          }
         }
        },
        "width": 800
       }
      }
     },
     "metadata": {},
     "output_type": "display_data"
    },
    {
     "data": {
      "application/vnd.plotly.v1+json": {
       "config": {
        "plotlyServerURL": "https://plot.ly"
       },
       "data": [
        {
         "arrangement": "snap",
         "link": {
          "color": [
           "rgba(55.0, 126.0, 184.0, 0.75)",
           "rgba(166.0, 86.0, 40.0, 0.75)",
           "rgba(228.0, 26.0, 28.0, 0.75)",
           "rgba(228.0, 26.0, 28.0, 0.75)",
           "rgba(228.0, 26.0, 28.0, 0.75)",
           "rgba(228.0, 26.0, 28.0, 0.75)",
           "rgba(228.0, 26.0, 28.0, 0.75)",
           "rgba(152.0, 78.0, 163.0, 0.75)",
           "rgba(77.0, 175.0, 74.0, 0.75)",
           "rgba(255.0, 127.0, 0.0, 0.75)",
           "rgba(77.0, 175.0, 74.0, 0.75)",
           "rgba(255.0, 127.0, 0.0, 0.75)",
           "rgba(166.0, 86.0, 40.0, 0.75)",
           "rgba(77.0, 175.0, 74.0, 0.75)",
           "rgba(255.0, 127.0, 0.0, 0.75)",
           "rgba(166.0, 86.0, 40.0, 0.75)",
           "rgba(228.0, 26.0, 28.0, 0.75)",
           "rgba(77.0, 175.0, 74.0, 0.75)",
           "rgba(255.0, 127.0, 0.0, 0.75)",
           "rgba(77.0, 175.0, 74.0, 0.75)",
           "rgba(255.0, 127.0, 0.0, 0.75)",
           "rgba(255.0, 127.0, 0.0, 0.75)",
           "rgba(77.0, 175.0, 74.0, 0.75)",
           "rgba(255.0, 127.0, 0.0, 0.75)",
           "rgba(152.0, 78.0, 163.0, 0.75)",
           "rgba(228.0, 26.0, 28.0, 0.75)",
           "rgba(77.0, 175.0, 74.0, 0.75)",
           "rgba(166.0, 86.0, 40.0, 0.75)",
           "rgba(77.0, 175.0, 74.0, 0.75)",
           "rgba(166.0, 86.0, 40.0, 0.75)",
           "rgba(77.0, 175.0, 74.0, 0.75)",
           "rgba(255.0, 127.0, 0.0, 0.75)",
           "rgba(166.0, 86.0, 40.0, 0.75)",
           "rgba(77.0, 175.0, 74.0, 0.75)",
           "rgba(255.0, 127.0, 0.0, 0.75)",
           "rgba(255.0, 127.0, 0.0, 0.75)",
           "rgba(228.0, 26.0, 28.0, 0.75)",
           "rgba(77.0, 175.0, 74.0, 0.75)",
           "rgba(255.0, 127.0, 0.0, 0.75)",
           "rgba(77.0, 175.0, 74.0, 0.75)",
           "rgba(255.0, 127.0, 0.0, 0.75)",
           "rgba(152.0, 78.0, 163.0, 0.75)",
           "rgba(77.0, 175.0, 74.0, 0.75)",
           "rgba(255.0, 127.0, 0.0, 0.75)",
           "rgba(77.0, 175.0, 74.0, 0.75)",
           "rgba(255.0, 127.0, 0.0, 0.75)",
           "rgba(166.0, 86.0, 40.0, 0.75)",
           "rgba(77.0, 175.0, 74.0, 0.75)",
           "rgba(166.0, 86.0, 40.0, 0.75)",
           "rgba(77.0, 175.0, 74.0, 0.75)",
           "rgba(55.0, 126.0, 184.0, 0.75)",
           "rgba(166.0, 86.0, 40.0, 0.75)",
           "rgba(166.0, 86.0, 40.0, 0.75)"
          ],
          "source": [
           0,
           1,
           27,
           27,
           27,
           27,
           27,
           28,
           2,
           2,
           3,
           3,
           3,
           4,
           4,
           4,
           6,
           6,
           6,
           7,
           7,
           7,
           8,
           8,
           8,
           11,
           11,
           11,
           12,
           12,
           13,
           13,
           13,
           15,
           15,
           15,
           16,
           16,
           16,
           17,
           17,
           17,
           18,
           18,
           19,
           19,
           19,
           22,
           22,
           23,
           23,
           25,
           25
          ],
          "target": [
           1,
           25,
           2,
           12,
           18,
           23,
           29,
           30,
           31,
           4,
           31,
           7,
           4,
           31,
           7,
           12,
           27,
           31,
           8,
           31,
           3,
           6,
           31,
           2,
           28,
           27,
           31,
           3,
           31,
           22,
           31,
           15,
           22,
           31,
           19,
           16,
           27,
           31,
           17,
           31,
           18,
           28,
           31,
           13,
           31,
           15,
           13,
           31,
           23,
           31,
           1,
           11,
           19
          ],
          "value": [
           236060656.74548766,
           242876971.2284283,
           1847105.0060384101,
           260463.977340626,
           161319.6246297721,
           1260214.0881407056,
           137586847.89235473,
           14620944.832024764,
           397242.0614142036,
           3223137.341190385,
           5989797.890281886,
           160242389.86544555,
           51667286.97328611,
           17146139.136976615,
           35329966.93738305,
           2414318.240116829,
           71168680.89235216,
           8786538.030050784,
           32934309.32595208,
           78633.67323315144,
           82604194.88124044,
           112889528.24835503,
           20039522.618639696,
           1773274.3965661796,
           11121512.31074619,
           58932179.684989646,
           6423300.137841955,
           135295279.84777308,
           53196.245660939196,
           2621585.971796516,
           1121321.6699886387,
           3245058.124500352,
           3191828.7917892938,
           30614.87444015965,
           5863979.4888714,
           22192032.7885604,
           11015090.011162432,
           1417289.0862768423,
           9759653.691121127,
           5650843.944603557,
           609377.2252390108,
           3499432.5212785546,
           34718.76038470265,
           735978.0894840802,
           16426391.522529107,
           24841569.027371608,
           6822230.496794204,
           5.34808445300132,
           5813409.415501356,
           257309.02070142794,
           6816314.482940634,
           200650759.67060468,
           42226211.55782352
          ]
         },
         "node": {
          "color": "orange",
          "label": [
           "E_F",
           "Heat Input",
           "LP ORC Pump",
           "LP ORC Evaporator",
           "LP ORC Preheater",
           "LP ORC Cycle Closer",
           "LP ORC Turbine",
           "LP ORC Drum",
           "LP ORC Condenser",
           "LP Coolant Source",
           "LP Coolant Sink",
           "Steam Turbine",
           "Steam Pump",
           "ORC Preheater",
           "ORC Cycle Closer",
           "ORC Drum",
           "ORC Turbine",
           "ORC Condenser",
           "ORC Pump",
           "ORC Evaporator",
           "Coolant Source",
           "Coolant Sink",
           "Merge",
           "Geothermal Pump",
           "Geothermal Sink",
           "Seperator",
           "Geothermal Source",
           "Power Output",
           "Heat Output Cooling",
           "E_P",
           "E_L",
           "E_D"
          ],
          "pad": 11
         },
         "type": "sankey"
        }
       ],
       "layout": {
        "template": {
         "data": {
          "bar": [
           {
            "error_x": {
             "color": "#2a3f5f"
            },
            "error_y": {
             "color": "#2a3f5f"
            },
            "marker": {
             "line": {
              "color": "#E5ECF6",
              "width": 0.5
             }
            },
            "type": "bar"
           }
          ],
          "barpolar": [
           {
            "marker": {
             "line": {
              "color": "#E5ECF6",
              "width": 0.5
             }
            },
            "type": "barpolar"
           }
          ],
          "carpet": [
           {
            "aaxis": {
             "endlinecolor": "#2a3f5f",
             "gridcolor": "white",
             "linecolor": "white",
             "minorgridcolor": "white",
             "startlinecolor": "#2a3f5f"
            },
            "baxis": {
             "endlinecolor": "#2a3f5f",
             "gridcolor": "white",
             "linecolor": "white",
             "minorgridcolor": "white",
             "startlinecolor": "#2a3f5f"
            },
            "type": "carpet"
           }
          ],
          "choropleth": [
           {
            "colorbar": {
             "outlinewidth": 0,
             "ticks": ""
            },
            "type": "choropleth"
           }
          ],
          "contour": [
           {
            "colorbar": {
             "outlinewidth": 0,
             "ticks": ""
            },
            "colorscale": [
             [
              0,
              "#0d0887"
             ],
             [
              0.1111111111111111,
              "#46039f"
             ],
             [
              0.2222222222222222,
              "#7201a8"
             ],
             [
              0.3333333333333333,
              "#9c179e"
             ],
             [
              0.4444444444444444,
              "#bd3786"
             ],
             [
              0.5555555555555556,
              "#d8576b"
             ],
             [
              0.6666666666666666,
              "#ed7953"
             ],
             [
              0.7777777777777778,
              "#fb9f3a"
             ],
             [
              0.8888888888888888,
              "#fdca26"
             ],
             [
              1,
              "#f0f921"
             ]
            ],
            "type": "contour"
           }
          ],
          "contourcarpet": [
           {
            "colorbar": {
             "outlinewidth": 0,
             "ticks": ""
            },
            "type": "contourcarpet"
           }
          ],
          "heatmap": [
           {
            "colorbar": {
             "outlinewidth": 0,
             "ticks": ""
            },
            "colorscale": [
             [
              0,
              "#0d0887"
             ],
             [
              0.1111111111111111,
              "#46039f"
             ],
             [
              0.2222222222222222,
              "#7201a8"
             ],
             [
              0.3333333333333333,
              "#9c179e"
             ],
             [
              0.4444444444444444,
              "#bd3786"
             ],
             [
              0.5555555555555556,
              "#d8576b"
             ],
             [
              0.6666666666666666,
              "#ed7953"
             ],
             [
              0.7777777777777778,
              "#fb9f3a"
             ],
             [
              0.8888888888888888,
              "#fdca26"
             ],
             [
              1,
              "#f0f921"
             ]
            ],
            "type": "heatmap"
           }
          ],
          "heatmapgl": [
           {
            "colorbar": {
             "outlinewidth": 0,
             "ticks": ""
            },
            "colorscale": [
             [
              0,
              "#0d0887"
             ],
             [
              0.1111111111111111,
              "#46039f"
             ],
             [
              0.2222222222222222,
              "#7201a8"
             ],
             [
              0.3333333333333333,
              "#9c179e"
             ],
             [
              0.4444444444444444,
              "#bd3786"
             ],
             [
              0.5555555555555556,
              "#d8576b"
             ],
             [
              0.6666666666666666,
              "#ed7953"
             ],
             [
              0.7777777777777778,
              "#fb9f3a"
             ],
             [
              0.8888888888888888,
              "#fdca26"
             ],
             [
              1,
              "#f0f921"
             ]
            ],
            "type": "heatmapgl"
           }
          ],
          "histogram": [
           {
            "marker": {
             "colorbar": {
              "outlinewidth": 0,
              "ticks": ""
             }
            },
            "type": "histogram"
           }
          ],
          "histogram2d": [
           {
            "colorbar": {
             "outlinewidth": 0,
             "ticks": ""
            },
            "colorscale": [
             [
              0,
              "#0d0887"
             ],
             [
              0.1111111111111111,
              "#46039f"
             ],
             [
              0.2222222222222222,
              "#7201a8"
             ],
             [
              0.3333333333333333,
              "#9c179e"
             ],
             [
              0.4444444444444444,
              "#bd3786"
             ],
             [
              0.5555555555555556,
              "#d8576b"
             ],
             [
              0.6666666666666666,
              "#ed7953"
             ],
             [
              0.7777777777777778,
              "#fb9f3a"
             ],
             [
              0.8888888888888888,
              "#fdca26"
             ],
             [
              1,
              "#f0f921"
             ]
            ],
            "type": "histogram2d"
           }
          ],
          "histogram2dcontour": [
           {
            "colorbar": {
             "outlinewidth": 0,
             "ticks": ""
            },
            "colorscale": [
             [
              0,
              "#0d0887"
             ],
             [
              0.1111111111111111,
              "#46039f"
             ],
             [
              0.2222222222222222,
              "#7201a8"
             ],
             [
              0.3333333333333333,
              "#9c179e"
             ],
             [
              0.4444444444444444,
              "#bd3786"
             ],
             [
              0.5555555555555556,
              "#d8576b"
             ],
             [
              0.6666666666666666,
              "#ed7953"
             ],
             [
              0.7777777777777778,
              "#fb9f3a"
             ],
             [
              0.8888888888888888,
              "#fdca26"
             ],
             [
              1,
              "#f0f921"
             ]
            ],
            "type": "histogram2dcontour"
           }
          ],
          "mesh3d": [
           {
            "colorbar": {
             "outlinewidth": 0,
             "ticks": ""
            },
            "type": "mesh3d"
           }
          ],
          "parcoords": [
           {
            "line": {
             "colorbar": {
              "outlinewidth": 0,
              "ticks": ""
             }
            },
            "type": "parcoords"
           }
          ],
          "pie": [
           {
            "automargin": true,
            "type": "pie"
           }
          ],
          "scatter": [
           {
            "marker": {
             "colorbar": {
              "outlinewidth": 0,
              "ticks": ""
             }
            },
            "type": "scatter"
           }
          ],
          "scatter3d": [
           {
            "line": {
             "colorbar": {
              "outlinewidth": 0,
              "ticks": ""
             }
            },
            "marker": {
             "colorbar": {
              "outlinewidth": 0,
              "ticks": ""
             }
            },
            "type": "scatter3d"
           }
          ],
          "scattercarpet": [
           {
            "marker": {
             "colorbar": {
              "outlinewidth": 0,
              "ticks": ""
             }
            },
            "type": "scattercarpet"
           }
          ],
          "scattergeo": [
           {
            "marker": {
             "colorbar": {
              "outlinewidth": 0,
              "ticks": ""
             }
            },
            "type": "scattergeo"
           }
          ],
          "scattergl": [
           {
            "marker": {
             "colorbar": {
              "outlinewidth": 0,
              "ticks": ""
             }
            },
            "type": "scattergl"
           }
          ],
          "scattermapbox": [
           {
            "marker": {
             "colorbar": {
              "outlinewidth": 0,
              "ticks": ""
             }
            },
            "type": "scattermapbox"
           }
          ],
          "scatterpolar": [
           {
            "marker": {
             "colorbar": {
              "outlinewidth": 0,
              "ticks": ""
             }
            },
            "type": "scatterpolar"
           }
          ],
          "scatterpolargl": [
           {
            "marker": {
             "colorbar": {
              "outlinewidth": 0,
              "ticks": ""
             }
            },
            "type": "scatterpolargl"
           }
          ],
          "scatterternary": [
           {
            "marker": {
             "colorbar": {
              "outlinewidth": 0,
              "ticks": ""
             }
            },
            "type": "scatterternary"
           }
          ],
          "surface": [
           {
            "colorbar": {
             "outlinewidth": 0,
             "ticks": ""
            },
            "colorscale": [
             [
              0,
              "#0d0887"
             ],
             [
              0.1111111111111111,
              "#46039f"
             ],
             [
              0.2222222222222222,
              "#7201a8"
             ],
             [
              0.3333333333333333,
              "#9c179e"
             ],
             [
              0.4444444444444444,
              "#bd3786"
             ],
             [
              0.5555555555555556,
              "#d8576b"
             ],
             [
              0.6666666666666666,
              "#ed7953"
             ],
             [
              0.7777777777777778,
              "#fb9f3a"
             ],
             [
              0.8888888888888888,
              "#fdca26"
             ],
             [
              1,
              "#f0f921"
             ]
            ],
            "type": "surface"
           }
          ],
          "table": [
           {
            "cells": {
             "fill": {
              "color": "#EBF0F8"
             },
             "line": {
              "color": "white"
             }
            },
            "header": {
             "fill": {
              "color": "#C8D4E3"
             },
             "line": {
              "color": "white"
             }
            },
            "type": "table"
           }
          ]
         },
         "layout": {
          "annotationdefaults": {
           "arrowcolor": "#2a3f5f",
           "arrowhead": 0,
           "arrowwidth": 1
          },
          "coloraxis": {
           "colorbar": {
            "outlinewidth": 0,
            "ticks": ""
           }
          },
          "colorscale": {
           "diverging": [
            [
             0,
             "#8e0152"
            ],
            [
             0.1,
             "#c51b7d"
            ],
            [
             0.2,
             "#de77ae"
            ],
            [
             0.3,
             "#f1b6da"
            ],
            [
             0.4,
             "#fde0ef"
            ],
            [
             0.5,
             "#f7f7f7"
            ],
            [
             0.6,
             "#e6f5d0"
            ],
            [
             0.7,
             "#b8e186"
            ],
            [
             0.8,
             "#7fbc41"
            ],
            [
             0.9,
             "#4d9221"
            ],
            [
             1,
             "#276419"
            ]
           ],
           "sequential": [
            [
             0,
             "#0d0887"
            ],
            [
             0.1111111111111111,
             "#46039f"
            ],
            [
             0.2222222222222222,
             "#7201a8"
            ],
            [
             0.3333333333333333,
             "#9c179e"
            ],
            [
             0.4444444444444444,
             "#bd3786"
            ],
            [
             0.5555555555555556,
             "#d8576b"
            ],
            [
             0.6666666666666666,
             "#ed7953"
            ],
            [
             0.7777777777777778,
             "#fb9f3a"
            ],
            [
             0.8888888888888888,
             "#fdca26"
            ],
            [
             1,
             "#f0f921"
            ]
           ],
           "sequentialminus": [
            [
             0,
             "#0d0887"
            ],
            [
             0.1111111111111111,
             "#46039f"
            ],
            [
             0.2222222222222222,
             "#7201a8"
            ],
            [
             0.3333333333333333,
             "#9c179e"
            ],
            [
             0.4444444444444444,
             "#bd3786"
            ],
            [
             0.5555555555555556,
             "#d8576b"
            ],
            [
             0.6666666666666666,
             "#ed7953"
            ],
            [
             0.7777777777777778,
             "#fb9f3a"
            ],
            [
             0.8888888888888888,
             "#fdca26"
            ],
            [
             1,
             "#f0f921"
            ]
           ]
          },
          "colorway": [
           "#636efa",
           "#EF553B",
           "#00cc96",
           "#ab63fa",
           "#FFA15A",
           "#19d3f3",
           "#FF6692",
           "#B6E880",
           "#FF97FF",
           "#FECB52"
          ],
          "font": {
           "color": "#2a3f5f"
          },
          "geo": {
           "bgcolor": "white",
           "lakecolor": "white",
           "landcolor": "#E5ECF6",
           "showlakes": true,
           "showland": true,
           "subunitcolor": "white"
          },
          "hoverlabel": {
           "align": "left"
          },
          "hovermode": "closest",
          "mapbox": {
           "style": "light"
          },
          "paper_bgcolor": "white",
          "plot_bgcolor": "#E5ECF6",
          "polar": {
           "angularaxis": {
            "gridcolor": "white",
            "linecolor": "white",
            "ticks": ""
           },
           "bgcolor": "#E5ECF6",
           "radialaxis": {
            "gridcolor": "white",
            "linecolor": "white",
            "ticks": ""
           }
          },
          "scene": {
           "xaxis": {
            "backgroundcolor": "#E5ECF6",
            "gridcolor": "white",
            "gridwidth": 2,
            "linecolor": "white",
            "showbackground": true,
            "ticks": "",
            "zerolinecolor": "white"
           },
           "yaxis": {
            "backgroundcolor": "#E5ECF6",
            "gridcolor": "white",
            "gridwidth": 2,
            "linecolor": "white",
            "showbackground": true,
            "ticks": "",
            "zerolinecolor": "white"
           },
           "zaxis": {
            "backgroundcolor": "#E5ECF6",
            "gridcolor": "white",
            "gridwidth": 2,
            "linecolor": "white",
            "showbackground": true,
            "ticks": "",
            "zerolinecolor": "white"
           }
          },
          "shapedefaults": {
           "line": {
            "color": "#2a3f5f"
           }
          },
          "ternary": {
           "aaxis": {
            "gridcolor": "white",
            "linecolor": "white",
            "ticks": ""
           },
           "baxis": {
            "gridcolor": "white",
            "linecolor": "white",
            "ticks": ""
           },
           "bgcolor": "#E5ECF6",
           "caxis": {
            "gridcolor": "white",
            "linecolor": "white",
            "ticks": ""
           }
          },
          "title": {
           "x": 0.05
          },
          "xaxis": {
           "automargin": true,
           "gridcolor": "white",
           "linecolor": "white",
           "ticks": "",
           "title": {
            "standoff": 15
           },
           "zerolinecolor": "white",
           "zerolinewidth": 2
          },
          "yaxis": {
           "automargin": true,
           "gridcolor": "white",
           "linecolor": "white",
           "ticks": "",
           "title": {
            "standoff": 15
           },
           "zerolinecolor": "white",
           "zerolinewidth": 2
          }
         }
        },
        "width": 800
       }
      }
     },
     "metadata": {},
     "output_type": "display_data"
    }
   ],
   "source": [
    "import plotly.graph_objects as go\n",
    "\n",
    "links, nodes = ean.generate_plotly_sankey_input()\n",
    "\n",
    "fig = go.Figure(\n",
    "    go.Sankey(\n",
    "        arrangement=\"snap\",\n",
    "        node={\"label\": nodes, 'pad': 11, 'color': 'orange'},\n",
    "        link=links\n",
    "        ),\n",
    "    layout=go.Layout({'width': 800})\n",
    "    )\n",
    "# plot(fig, filename='chp_grassmann')\n",
    "fig.show()\n",
    "\n",
    "links_el, nodes_el = ean_el.generate_plotly_sankey_input()\n",
    "\n",
    "fig_el = go.Figure(\n",
    "    go.Sankey(\n",
    "        arrangement=\"snap\",\n",
    "        node={\"label\": nodes_el, 'pad': 11, 'color': 'orange'},\n",
    "        link=links_el\n",
    "        ),\n",
    "    layout=go.Layout({'width': 800})\n",
    "    )\n",
    "\n",
    "fig_el.show()"
   ]
  },
  {
   "attachments": {},
   "cell_type": "markdown",
   "metadata": {
    "tags": [
     "hide-cell"
    ]
   },
   "source": [
    "```{admonition} Explanation\n",
    ":class: dropdown\n",
    "\n",
    "Hier könnte ihre Erklärung stehen\n",
    "```"
   ]
  },
  {
   "attachments": {},
   "cell_type": "markdown",
   "metadata": {},
   "source": [
    "## Lessons Learned\n",
    "\n",
    "- Lessons Learned 1\n",
    "- Lessons Learned 2\n",
    "- Lessons Learned 3"
   ]
  }
 ],
 "metadata": {
  "kernelspec": {
   "display_name": "Python 3 (ipykernel)",
   "language": "python",
   "name": "python3"
  },
  "language_info": {
   "codemirror_mode": {
    "name": "ipython",
    "version": 3
   },
   "file_extension": ".py",
   "mimetype": "text/x-python",
   "name": "python",
   "nbconvert_exporter": "python",
   "pygments_lexer": "ipython3",
   "version": "3.7.6"
  },
  "widgets": {
   "application/vnd.jupyter.widget-state+json": {
    "state": {},
    "version_major": 2,
    "version_minor": 0
   }
  }
 },
 "nbformat": 4,
 "nbformat_minor": 4
}
