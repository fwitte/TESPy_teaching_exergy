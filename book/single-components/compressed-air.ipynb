{
 "cells": [
  {
   "cell_type": "markdown",
   "metadata": {},
   "source": [
    "(compressed-air-label)=\n",
    "\n",
    "# Compressed Air Production\n",
    "\n",
    "```{figure} /figures/Compressor.svg\n",
    "---\n",
    "name: compressor-flowsheet\n",
    "---\n",
    "Abstract model representation of a Compressor.\n",
    "```\n",
    "\n",
    "## Introduction\n",
    "\n",
    "In this example we are investigating the provision of compressed air. Compressed air is often required in technical\n",
    "systems, e.g. for process control, or even as storage medium, i.e. in Compressed Air Energy Storage (CAES). To generate\n",
    "compressed air a compressor is required, which will (in the best case) compress the air in an isentropic process. The\n",
    "isentropic process is characterized by the fact, that the entropy does not change.\n",
    "\n",
    "We can model such a process using CoolProp. For example, we want to compress 1.5 kg/s of air from the ambient state to\n",
    "a pressure of 10 bar. To calculate the energy consumed in the isentropic process, the energy balance introduced in eq.\n",
    "{eq}`pipe-flow-energy-balance` can be simplified by removing the heat transfer term:\n",
    "\n",
    "```{math}\n",
    ":label: compressor-energy-balance\n",
    "\\dot W = \\dot m \\cdot \\left( h_2 - h_1\\right)\n",
    "```"
   ]
  },
  {
   "cell_type": "code",
   "execution_count": null,
   "metadata": {},
   "outputs": [],
   "source": [
    "from CoolProp.CoolProp import PropsSI\n",
    "\n",
    "\n",
    "T_amb = 20  # °C\n",
    "p_amb = 1.01325  # bar\n",
    "fluid = \"air\"\n",
    "dot_m = 1.5\n",
    "\n",
    "h_amb = PropsSI(\"H\", \"T\", T_amb + 273.15, \"P\", p_amb * 1e5, fluid)\n",
    "s_amb = PropsSI(\"S\", \"T\", T_amb + 273.15, \"P\", p_amb * 1e5, fluid)\n",
    "\n",
    "p_1 = p_amb\n",
    "T_1 = T_amb\n",
    "\n",
    "p_2 = 10\n",
    "\n",
    "h_1 = h_amb\n",
    "s_1 = s_amb\n",
    "s_2 = s_1\n",
    "\n",
    "h_2 = PropsSI(\"H\", \"S\", s_1, \"P\", p_2 * 1e5, fluid)\n",
    "\n",
    "dot_W = dot_m * (h_2 - h_1)\n",
    "\n",
    "dot_W"
   ]
  },
  {
   "cell_type": "markdown",
   "metadata": {},
   "source": [
    "We can define the exergy balance for the compressor at temperatures above the ambient temperature in the eqs.\n",
    "{eq}`compressor-fuel-exergy` and {eq}`compressor-product-exergy`. With that definition it is possible to determine fuel,\n",
    "product and exergy destruction.\n",
    "\n",
    "```{math}\n",
    ":label: compressor-fuel-exergy\n",
    "\\dot E_\\text{F} = \\dot W\n",
    "```\n",
    "\n",
    "```{math}\n",
    ":label: compressor-product-exergy\n",
    "\\dot E_\\text{P} = \\dot{E}_\\text{out}^\\text{PH} - \\dot{E}_\\text{in}^\\text{PH}\n",
    "```"
   ]
  },
  {
   "cell_type": "code",
   "execution_count": null,
   "metadata": {},
   "outputs": [],
   "source": [
    "from utilities import calc_physical_exergy\n",
    "\n",
    "\n",
    "exergy_fuel = dot_W\n",
    "\n",
    "ex_1 = calc_physical_exergy(p_1 * 1e5, h_1, p_amb * 1e5, T_amb + 273.15, fluid)\n",
    "ex_2 = calc_physical_exergy(p_2 * 1e5, h_2, p_amb * 1e5, T_amb + 273.15, fluid)\n",
    "\n",
    "exergy_product = dot_m * (ex_2 - ex_1)\n",
    "\n",
    "exergy_destruction = exergy_fuel - exergy_product\n",
    "\n",
    "exergy_destruction"
   ]
  },
  {
   "cell_type": "markdown",
   "metadata": {},
   "source": [
    "First of all, we see that the exergy destruction is zero, which verifies our calculation: Since the isentropic process\n",
    "is adiabatic and reversible we have an thermodynamically speaking ideal process. Since such a component can only exist\n",
    "in theory, a reference figure is used to define how close an actual compressor is to the theoretical optimum: the\n",
    "isentropic efficiency {math}`\\eta_\\text{s,cmp}` in eq. {eq}`compressor-isentropic-efficiency`:\n",
    "\n",
    "```{math}\n",
    ":label: compressor-isentropic-efficiency\n",
    "\\eta_\\text{s,cmp} = \\frac{h \\left( p_2, s_1\\right) - h_1}{h_2 - h_1}\n",
    "```\n",
    "\n",
    "## Exercises 1\n",
    "\n",
    "1. Assume you want to compress the same amount of air to the same pressure as in the example before:\n",
    "   - What power does a compressor with an isentropic efficiency of 85 % consume?\n",
    "   - How large is the exergy destruction?\n",
    "   - How and why does the product exergy change?    "
   ]
  },
  {
   "cell_type": "markdown",
   "metadata": {},
   "source": [
    "## Solution 1\n",
    "\n",
    "To calculate the outlet state of the compressor with the isentropic efficiency of 85 % we have to first reorder the eq.\n",
    "{eq}`compressor-isentropic-efficiency` in a way, that the unknown outlet enthalpy can be calculated:\n",
    "\n",
    "```{math}\n",
    ":label: compressor-isentropic-efficiency-reorder\n",
    "h_2 = \\frac{h \\left( p_2, s_1\\right) - h_1}{\\eta_\\text{s,cmp}} + h_1\n",
    "```\n",
    "\n",
    "Then we create a function to calculate the enthalpy after isentropic compression {math}`h \\left( p_2, s_1\\right)` and\n",
    "call it with the respective parameters."
   ]
  },
  {
   "cell_type": "code",
   "execution_count": null,
   "metadata": {},
   "outputs": [],
   "source": [
    "def isentropic_outlet_enthalpy(p_1, h_1, p_2, fluid):\n",
    "    s_1 = PropsSI(\"S\", \"P\", p_1 , \"H\", h_1, fluid)\n",
    "    h_2s = PropsSI(\"H\", \"P\", p_2, \"S\", s_1, fluid)\n",
    "    return h_2s\n",
    "\n",
    "\n",
    "eta_s = 0.85\n",
    "\n",
    "h_2_real = (isentropic_outlet_enthalpy(p_1 * 1e5, h_1, p_2 * 1e5, fluid) - h_1) / eta_s + h_1\n",
    "\n",
    "dot_W_real = dot_m * (h_2_real - h_1)\n",
    "\n",
    "dot_W_real / dot_W - 1"
   ]
  },
  {
   "cell_type": "code",
   "execution_count": null,
   "metadata": {},
   "outputs": [],
   "source": [
    "from myst_nb import glue\n",
    "glue(\"compressor-work-increase\", round((dot_W_real / dot_W - 1) * 100, 2), display=False)"
   ]
  },
  {
   "cell_type": "markdown",
   "metadata": {},
   "source": [
    "We can see how the work required increases by about {glue:text}`compressor-work-increase` %. Now let's have a look at\n",
    "the exergy analysis. We can calculate the balance with the updated outlet state and have a look at the exergy\n",
    "destruction:"
   ]
  },
  {
   "cell_type": "code",
   "execution_count": null,
   "metadata": {},
   "outputs": [],
   "source": [
    "exergy_fuel_real = dot_W_real\n",
    "\n",
    "ex_2_real = calc_physical_exergy(p_2 * 1e5, h_2_real, p_amb * 1e5, T_amb + 273.15, fluid)\n",
    "\n",
    "exergy_product_real = dot_m * (ex_2_real - ex_1)\n",
    "\n",
    "exergy_destruction_real = exergy_fuel_real - exergy_product_real\n",
    "\n",
    "exergy_destruction_real"
   ]
  },
  {
   "cell_type": "code",
   "execution_count": null,
   "metadata": {},
   "outputs": [],
   "source": [
    "glue(\"compressor-exergy-destruction\", round(exergy_destruction_real), display=False)\n",
    "glue(\"compressor-work-change\", round(dot_W_real - dot_W), display=False)"
   ]
  },
  {
   "cell_type": "markdown",
   "metadata": {},
   "source": [
    "The exergy destruction is at {glue:text}`compressor-exergy-destruction` W, the change of work transferred by the\n",
    "compressor (compared to the ideal compressor) is {glue:text}`compressor-work-change` W. This may seem odd at the first\n",
    "glance. If the power input to the process has increased stronger than the exergy destruction, more product exergy must\n",
    "be available than before. We can verify this:"
   ]
  },
  {
   "cell_type": "code",
   "execution_count": null,
   "metadata": {},
   "outputs": [],
   "source": [
    "exergy_product_real - exergy_product"
   ]
  },
  {
   "cell_type": "markdown",
   "metadata": {},
   "source": [
    "## Overall process product\n",
    "\n",
    "We have learned how to run energy and exergy balances on a single compressor and found, that a less efficiency \n",
    "compressor consumes more power for the provision of the same mass flow at a specific pressure (obviously), but also that\n",
    "the product exergy increases the less efficient the compressor is.\n",
    "\n",
    "This seems very counter intuitive as we always provide 1.5 kg/s compressed air at a pressure of 10 bar. However, we have\n",
    "not yet looked at the outlet temperature of the compressor. We can do that by calculating the temperature at the outlet\n",
    "pressure and the respective enthalpy."
   ]
  },
  {
   "cell_type": "code",
   "execution_count": null,
   "metadata": {},
   "outputs": [],
   "source": [
    "T_2_is = PropsSI(\"T\", \"P\", p_2 * 1e5, \"H\", h_2, fluid)\n",
    "T_2_is - 273.15"
   ]
  },
  {
   "cell_type": "code",
   "execution_count": null,
   "metadata": {},
   "outputs": [],
   "source": [
    "T_2 = PropsSI(\"T\", \"P\", p_2 * 1e5, \"H\", h_2_real, fluid)\n",
    "T_2 - 273.15"
   ]
  },
  {
   "cell_type": "markdown",
   "metadata": {},
   "source": [
    "It becomes clear, that the outlet temperature rises with a lower isentropic efficiecy of the compressor. Obviously, our\n",
    "total exergy changes, but we want to have a look at how the shares of phyiscal and thermal exergy change.\n",
    "\n",
    "### Intermediate Exercise 2\n",
    "\n",
    "2. Compare the mechanical and thermal exergy for the compressed air provided by the ideal and the real compressor. What\n",
    "   is strinking?\n",
    "\n",
    "### Intermediate Solution 2\n",
    "\n",
    "We can make use of the exergy splitting to calculate thermal and mechanical exergy and specifically look at the \n",
    "mechanical exergy first: It does NOT change."
   ]
  },
  {
   "cell_type": "code",
   "execution_count": null,
   "metadata": {},
   "outputs": [],
   "source": [
    "from utilities import calc_splitted_physical_exergy\n",
    "\n",
    "\n",
    "ex_2_ideal_therm, ex_2_ideal_mech = calc_splitted_physical_exergy(p_2 * 1e5, h_2, p_amb * 1e5, T_amb + 273.15, fluid)\n",
    "ex_2_therm, ex_2_mech = calc_splitted_physical_exergy(p_2 * 1e5, h_2_real, p_amb * 1e5, T_amb + 273.15, fluid)\n",
    "\n",
    "\n",
    "ex_2_mech - ex_2_ideal_mech"
   ]
  },
  {
   "cell_type": "markdown",
   "metadata": {},
   "source": [
    "That means the change in product exergy is purely due to a change in thermal exergy:"
   ]
  },
  {
   "cell_type": "code",
   "execution_count": null,
   "metadata": {},
   "outputs": [],
   "source": [
    "dot_m * (ex_2_therm - ex_2_ideal_therm)"
   ]
  },
  {
   "cell_type": "code",
   "execution_count": null,
   "metadata": {},
   "outputs": [],
   "source": [
    "exergy_product_real - exergy_product"
   ]
  },
  {
   "cell_type": "markdown",
   "metadata": {},
   "source": [
    "What does this mean about the overall process product exergy? In our technical system we want to provide pneumatic \n",
    "energy. We cannot make use of the high temperature for this specific reason. Of course, one could use that thermal\n",
    "exergy to provide heat to other processes, but for now we want to focus on the provison of pressurized air. Thinking\n",
    "at this, the value of our process lies in the pressure of the air, not in the temperature. Therefore we want to \n",
    "investigate more on this by defining a virtual process, which cools the pressurized air back to the ambient temperature\n",
    "without changing the pressure as illustrated in {numref}`compressor-virtual-cooling-flowsheet`.\n",
    "\n",
    "```{figure} /figures/Compressor_virtual_cooling.svg\n",
    "---\n",
    "name: compressor-virtual-cooling-flowsheet\n",
    "---\n",
    "Process representation of the compressor with virtual cooling of the compressed air.\n",
    "```\n",
    "\n",
    "## Exercise 3\n",
    "\n",
    "3. Balance the virtual process according to the flowsheet above.\n",
    "   - Between the states 1 and 3\n",
    "     - How does the enthalpy change?\n",
    "     - How do mechanical and thermal exergy change?\n",
    "   - How does the heat transferred in the virtual process from 2 to 3 compare to the change in thermal exergy?\n",
    "\n",
    "## Solution 3"
   ]
  },
  {
   "cell_type": "markdown",
   "metadata": {},
   "source": [
    "The temperature rises together with the pressure. However, we cannot really make use of the temperature in pneumatic\n",
    "systems or in compressed air energy storage. "
   ]
  },
  {
   "cell_type": "markdown",
   "metadata": {},
   "source": [
    "\n",
    "\n",
    "```{math}\n",
    "    :label: eq:compressed-air-information\n",
    "    T_3 = T_1\\\\\n",
    "    p_3 > p_1\n",
    "```\n",
    "\n",
    "Applying energy analysis to the overall system neglecting the influence of\n",
    "potential and kinetic energy to the thermal system, we can calculate the total\n",
    "amount of energy transferred over the system boundaries $\\dot E$:\n",
    "\n",
    "```{math}\n",
    "    :label: eq:compressed-air-energy\n",
    "    \\dot E =\\dot m \\cdot \\left( h_3 - h_1\\right)\n",
    "```\n",
    "\n",
    "However, we can see that the change in enthalpy is nearly zero, since $h_1$ and\n",
    "$h_3$ are almost equal.\n",
    "\n",
    "```{math}\n",
    "    :label: eq:compressed-air-enthalpy-equality\n",
    "    h_\\left(p_1, T_1\\right) \\sim h_\\left(p_3, T_3\\right)\n",
    "```\n",
    "\n",
    "We can easily verify this claim:\n"
   ]
  },
  {
   "cell_type": "code",
   "execution_count": null,
   "metadata": {},
   "outputs": [],
   "source": [
    "from CoolProp.CoolProp import PropsSI\n",
    "\n",
    "T_amb = 30  # °C\n",
    "p_amb = 1.01325  # bar\n",
    "fluid = \"air\"\n",
    "\n",
    "p_3 = 5  # bar\n",
    "\n",
    "p_amb_SI = p_amb * 1e5  # Pa\n",
    "p_3_SI = p_3 * 1e5  # Pa\n",
    "T_amb_SI = T_amb + 273.15  # K\n",
    "\n",
    "h_1 = PropsSI(\"H\", \"P\", p_amb_SI, \"T\", T_amb_SI, fluid)\n",
    "h_3 = PropsSI(\"H\", \"P\", p_3_SI, \"T\", T_amb_SI, fluid)\n",
    "\n",
    "print(f\"Change in enthalpy: {round(h_3 - h_1)} J/kg\")"
   ]
  },
  {
   "cell_type": "markdown",
   "metadata": {},
   "source": [
    "It even looks as if energy has been produced by our setup, since the change in enthalpy is\n",
    "negative. We can see, how the enthalpy of air changes with pressure given \n",
    "isothermal process:"
   ]
  },
  {
   "cell_type": "code",
   "execution_count": null,
   "metadata": {},
   "outputs": [],
   "source": [
    "import numpy as np\n",
    "from matplotlib import pyplot as plt\n",
    "\n",
    "p_ref = 1e3  # Pa\n",
    "p_max = 1e6  # Pa\n",
    "p_range = np.linspace(p_ref, p_max)  # Pa\n",
    "T_ref = 303.15  # K\n",
    "\n",
    "h_ref = PropsSI(\"H\", \"P\", p_ref, \"T\", T_ref, fluid)\n",
    "h = PropsSI(\"H\", \"P\", p_range, \"T\", T_ref, fluid)\n",
    "\n",
    "fig, ax = plt.subplots(1)\n",
    "\n",
    "ax.plot(p_range, h - h_ref)\n",
    "ax.set_xlabel(\"$\\Delta p$ in $Pa$\")\n",
    "ax.set_ylabel(\"$\\Delta h$ in $J/kg$\")\n",
    "\n",
    "ax.set_axisbelow(True)\n",
    "ax.grid(color='gray', linestyle='dashed')\n",
    "\n",
    "plt.tight_layout()"
   ]
  },
  {
   "cell_type": "markdown",
   "metadata": {},
   "source": [
    "For ideal gases, the change in enthalpy will be exactly zero, as the enthalpy\n",
    "does not depend on change in pressure but only on change in temperature:\n",
    "\n",
    "```{math}\n",
    "    :label: eq:compressed-air-enthalpy-ideal-gas\n",
    "    h\\left(T\\right) - h\\left(T_\\text{ref}\\right) = c_\\text{p}\\left(T\\right) \\cdot \\left(T - T_\\text{ref}\\right)\n",
    "```\n",
    "\n",
    "```{math}\n",
    "    :label: eq:compressed-air-enthalpy-equality2\n",
    "    h_\\left(p_1, T_1\\right) \\sim h_\\left(p_3, T_3\\right)\n",
    "```\n",
    "\n",
    "To visualize the energy stored in the pressurized air, we can apply the exergy\n",
    "method and split the exergy in its thermal and mechanical shares."
   ]
  },
  {
   "cell_type": "code",
   "execution_count": null,
   "metadata": {},
   "outputs": [],
   "source": [
    "from tespy.connections import Connection\n",
    "from tespy.components import Sink, Source\n",
    "from tespy.networks import Network\n",
    "\n",
    "\n",
    "Network([\"air\"])\n",
    "\n",
    "\n",
    "ref = Connection(Source(\"Dummysource1\"), \"out1\", Sink(\"Dummysink1\"), \"in1\")\n",
    "c = Connection(Source(\"Dummysource2\"), \"out1\", Sink(\"Dummysink2\"), \"in1\")\n",
    "\n",
    "ref.fluid.val = {\"air\": 1}\n",
    "ref.p.val_SI = p_ref\n",
    "ref.T.val_SI = T_ref\n",
    "ref.h.val_SI = PropsSI(\"H\", \"P\", p_ref, \"T\", T_ref, \"air\")\n",
    "ref.s.val_SI = PropsSI(\"S\", \"P\", p_ref, \"T\", T_ref, \"air\")\n",
    "\n",
    "ref.get_physical_exergy(p_ref, T_ref)\n",
    "print(f\"Mechanical exergy at reference state: {round(ref.ex_mech)} J/kg\")\n",
    "# print(f\"Thermal exergy at reference state: {round(ref.ex_therm)} J/kg\")\n",
    "\n",
    "c.fluid.val = {\"air\": 1}\n",
    "c.T.val_SI = T_ref\n",
    "\n",
    "ex = []\n",
    "\n",
    "for p in p_range:\n",
    "    c.p.val_SI = p\n",
    "    c.h.val_SI = PropsSI(\"H\", \"P\", p, \"T\", T_ref, \"air\")\n",
    "    c.s.val_SI = PropsSI(\"S\", \"P\", p, \"T\", T_ref, \"air\")\n",
    "\n",
    "    c.get_physical_exergy(p_ref, T_ref)\n",
    "    ex += [c.ex_mech]\n",
    "    \n",
    "\n",
    "ax.plot(p_range, ex)    \n",
    "display(fig)\n",
    "plt.close(fig)"
   ]
  },
  {
   "cell_type": "markdown",
   "metadata": {},
   "source": [
    "With a closer look at the compressor assuming isentropic compression, we see that\n",
    "the physical exergy $e^\\text{PH}$ of the compressed air is identical to the \n",
    "isentropic compression energy $w = h_\\text{is} - h$:"
   ]
  },
  {
   "cell_type": "code",
   "execution_count": null,
   "metadata": {},
   "outputs": [],
   "source": [
    "s_ref = PropsSI(\"S\", \"P\", p_ref, \"T\", T_ref, \"air\")\n",
    "h_is = PropsSI(\"H\", \"P\", p_range, \"S\", s_ref, \"air\")\n",
    "T_is = PropsSI(\"T\", \"P\", p_range, \"S\", s_ref, \"air\")\n",
    "\n",
    "ex_therm = []\n",
    "ex_mech = []\n",
    "ex = []\n",
    "\n",
    "for p, T in zip(p_range, T_is):\n",
    "    c.h.val_SI = PropsSI(\"H\", \"P\", p, \"T\", T, \"air\")\n",
    "    c.s.val_SI = PropsSI(\"S\", \"P\", p, \"T\", T, \"air\")\n",
    "    c.p.val_SI = p\n",
    "    c.get_physical_exergy(p_ref, T_ref)\n",
    "    ex_therm += [c.ex_therm]\n",
    "    ex_mech += [c.ex_mech]\n",
    "    ex += [c.ex_physical]\n",
    "    \n",
    "\n",
    "fig, ax = plt.subplots(1)\n",
    "\n",
    "ax.set_xlabel(\"$\\Delta p$ in $Pa$\")\n",
    "ax.set_ylabel(\"$\\Delta h$ in $J/kg$\")\n",
    "\n",
    "ax.set_axisbelow(True)\n",
    "ax.grid(color='gray', linestyle='dashed')\n",
    "\n",
    "plt.tight_layout()\n",
    "    \n",
    "ax.plot(p_range, h_is - ref.h.val_SI, \"x-\", label=\"$w_{is}$\")\n",
    "ax.plot(p_range, ex_mech, label=\"$ex^{M}_{is}$\")\n",
    "ax.plot(p_range, ex_therm, label=\"$ex^{T}_{is}$\")\n",
    "ax.plot(p_range, ex, \"--\", label=\"$ex_{PH,is}$\")\n",
    "\n",
    "ax.legend()\n",
    "plt.show()"
   ]
  },
  {
   "cell_type": "markdown",
   "metadata": {},
   "source": [
    "We can now inspect the change of energy in the cooling process (assuming isobaric)."
   ]
  },
  {
   "cell_type": "code",
   "execution_count": null,
   "metadata": {},
   "outputs": [],
   "source": [
    "ex_12 = ex\n",
    "\n",
    "h_is = PropsSI(\"H\", \"P\", p_range, \"S\", s_ref, \"air\")\n",
    "h_3 = PropsSI(\"H\", \"P\", p_range, \"T\", T_ref, \"air\")\n",
    "\n",
    "dex_therm = []\n",
    "dex_mech = []\n",
    "dex = []\n",
    "\n",
    "for p, T in zip(p_range, T_is):\n",
    "    c.h.val_SI = PropsSI(\"H\", \"P\", p, \"T\", T, \"air\")\n",
    "    c.s.val_SI = PropsSI(\"S\", \"P\", p, \"T\", T, \"air\")\n",
    "    c.p.val_SI = p\n",
    "    c.get_physical_exergy(p_ref, T_ref)\n",
    "    ex_therm_is, ex_mech_is, ex_is = c.ex_therm, c.ex_mech, c.ex_physical\n",
    "    c.h.val_SI = PropsSI(\"H\", \"P\", p, \"T\", T_ref, \"air\")\n",
    "    c.s.val_SI = PropsSI(\"S\", \"P\", p, \"T\", T_ref, \"air\")\n",
    "    c.p.val_SI = p\n",
    "    c.get_physical_exergy(p_ref, T_ref)\n",
    "    dex_therm += [c.ex_therm - ex_therm_is]\n",
    "    dex_mech += [c.ex_mech - ex_mech_is]\n",
    "    dex += [c.ex_physical - ex_is]\n",
    "    \n",
    "\n",
    "fig, ax = plt.subplots(1)\n",
    "\n",
    "ax.set_xlabel(\"$\\Delta p$ in $Pa$\")\n",
    "ax.set_ylabel(\"$\\Delta h$ in $J/kg$\")\n",
    "\n",
    "ax.set_axisbelow(True)\n",
    "ax.grid(color='gray', linestyle='dashed')\n",
    "\n",
    "plt.tight_layout()\n",
    "\n",
    "ax.plot(p_range, h_3 - h_is, \"x-\", label=\"$q_{2,3}$\")\n",
    "ax.plot(p_range, dex_therm, \"o\", label=\"$\\Delta ex^{T}_{2,3}$\")\n",
    "ax.plot(p_range, dex_mech, label=\"$\\Delta ex^{M}_{2,3}$\")\n",
    "ax.plot(p_range, dex, label=\"$\\Delta ex^{PH}_{2,3}$\")\n",
    "ax.plot(p_range, ex, label=\"$\\Delta ex^{PH}_{1,2}$\")\n",
    "ax.plot(p_range, [ex[i] + dex[i] for i in range(len(ex))], label=\"$\\Delta ex^{PH}_{1,3}$\")\n",
    "\n",
    "ax.legend()\n",
    "plt.show()"
   ]
  },
  {
   "cell_type": "markdown",
   "metadata": {},
   "source": [
    "- Nur Kompressor vs. Kompressor mit Zwischenkühler:\n",
    "  - Was ist mit dem MItteldruck\n",
    "  - Nutzen der Zwischenkühlung?\n",
    "  - Wem ist die Zwischenkühlung im Vergleich zuzuordnen?\n",
    "\n",
    "- T,s/h,s-Diagramm\n",
    "- Bezug Integral v dp?"
   ]
  },
  {
   "cell_type": "markdown",
   "metadata": {},
   "source": [
    "## Exercises 4\n",
    "\n",
    "Now we want to consider an improvement of our process providing the compressed air. The compressor is separated into two\n",
    "individual compressor stages and the air stream is cooled in between the two compression stages.\n",
    "\n",
    "4. Model the process of\n",
    "   - compressing the ambient air to 3 bar,\n",
    "   - cooling the air back to the ambient temperature and\n",
    "   - compressing the air up to 10 bar.\n",
    "   Assume, that the isentropic efficiency of the two compressor stages remains unchanged.\n",
    "5. Balance the process with energy and exergy:\n",
    "   - How does the overall power requirement change?\n",
    "   - How does the overall exergy destruction change?\n",
    "   - Why is the overall exergy destruction smaller?\n",
    "6. Build a TESPy model for the same process.\n",
    "   - Run the exergy analysis.\n",
    "   - Verify the results of the models.\n",
    "7. How does the intermediate pressure affect the overall exergy efficiency?\n",
    "   - Calculate the exergy efficiency for an intermediate pressure range of 2 bar to 9 bar."
   ]
  },
  {
   "cell_type": "markdown",
   "metadata": {},
   "source": [
    "## Solution 3"
   ]
  },
  {
   "cell_type": "markdown",
   "metadata": {},
   "source": [
    "## Solution 4"
   ]
  },
  {
   "cell_type": "markdown",
   "metadata": {},
   "source": [
    "## Solution 5"
   ]
  },
  {
   "cell_type": "markdown",
   "metadata": {},
   "source": [
    "## Solution 6"
   ]
  }
 ],
 "metadata": {
  "kernelspec": {
   "display_name": "Python 3 (ipykernel)",
   "language": "python",
   "name": "python3"
  },
  "language_info": {
   "codemirror_mode": {
    "name": "ipython",
    "version": 3
   },
   "file_extension": ".py",
   "mimetype": "text/x-python",
   "name": "python",
   "nbconvert_exporter": "python",
   "pygments_lexer": "ipython3",
   "version": "3.9.13"
  },
  "widgets": {
   "application/vnd.jupyter.widget-state+json": {
    "state": {},
    "version_major": 2,
    "version_minor": 0
   }
  }
 },
 "nbformat": 4,
 "nbformat_minor": 4
}
