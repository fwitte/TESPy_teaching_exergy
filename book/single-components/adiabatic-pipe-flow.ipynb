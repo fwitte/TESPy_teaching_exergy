{
 "cells": [
  {
   "attachments": {},
   "cell_type": "markdown",
   "metadata": {},
   "source": [
    "(ref:sec:adiabatic-pipe-flow)=\n",
    "# Adiabatic Pipe Flow\n",
    "\n",
    "In this section we will have a look at an adiabatic pipe with pressure losses ocurring. With the first law of\n",
    "thermodynamics we cannot see a change in energy, exergy analysis can reveal the thermodynamic losses.\n",
    "\n",
    "## Introduction\n",
    "\n",
    "Consider a well insulated pipeline transporting steam as shown in the figure below.\n",
    "\n",
    "```{figure} /figures/Pipe.svg\n",
    "---\n",
    "name: pipeline-flowsheet\n",
    "---\n",
    "Abstract model of the well insulated steam pipeline.\n",
    "```\n",
    "\n",
    "Measurement data are obtained at the inlet and the outlet of the pipeline:\n",
    "\n",
    "| Parameter | Location | Value | Unit |\n",
    "|:--------- |:-------- | -----:| ---- |\n",
    "| Temperature | Inlet | 195 | °C |\n",
    "| Temperature |  | 184.4 | °C |\n",
    "| Pressure | Inlet | 10 | bar |\n",
    "|  | Outlet | 6 | bar |\n",
    "| Mass flow | Inlet | 1.2 | kg/s |\n",
    "\n",
    "First, we can set up the energy balance equation of the thermodynamic open system, where the work $\\dot W$ and heat\n",
    "$\\dot Q$ transferred change the enthalpy $h$ of a mass flow $\\dot m$ from a state 1 to a different state 2:\n",
    "\n",
    "```{math}\n",
    "    :label: eq:pipe-flow-energy-balance\n",
    "    \\dot W + \\dot Q = \\dot m \\cdot \\left(h_2 - h_1\\right)\n",
    "```\n",
    "\n",
    "Since a pipe does not transfer work to the fluid, work transferred can be considered equal to zero. Therefore the \n",
    "specific heat transferred can be calculated by the change of enthalpy. Since the pipeline is well insulated, the value\n",
    "should be rather small.\n",
    "\n",
    "```{math}\n",
    "    :label: eq:pipe-flow-energy-balance-simplified\n",
    "    \\frac{\\dot Q}{\\dot m} = h_2 - h_1\\\\\n",
    "```\n",
    "\n",
    "To do that computationally, we first import the `PropsSI` function from `CoolProp` and then insert the values from the\n",
    "table above."
   ]
  },
  {
   "cell_type": "code",
   "execution_count": null,
   "metadata": {},
   "outputs": [],
   "source": [
    "from CoolProp.CoolProp import PropsSI as PSI\n",
    "\n",
    "\n",
    "fluid = \"water\"\n",
    "\n",
    "p_in = 10 * 1e5\n",
    "T_in = 195 + 273.15\n",
    "h_in = PSI(\"H\", \"P\", p_in, \"T\", T_in, fluid)\n",
    "\n",
    "p_out = 6 * 1e5\n",
    "T_out = 184.4 + 273.15\n",
    "h_out = PSI(\"H\", \"P\", p_out, \"T\", T_out, fluid)\n",
    "\n",
    "q = h_out - h_in\n",
    "q"
   ]
  },
  {
   "cell_type": "markdown",
   "metadata": {},
   "source": [
    "````{attention}\n",
    "As we expected the specific heat transferred is very low. Therefore we will make an assumption, that the pipeline can be\n",
    "considered adiabatic for further calculations. If transferred work and heat are both zero, the change in enthalpy will\n",
    "therefore be zero as well:\n",
    "\n",
    "```{math}\n",
    "    h_2 = h_1\n",
    "```\n",
    "````\n",
    "\n",
    "We can also double check this, by calculating the outlet temperature at the measured outlet pressure and with the\n",
    "assumption of non-changing enthalpy. Note that it is only slighty different:"
   ]
  },
  {
   "cell_type": "code",
   "execution_count": null,
   "metadata": {},
   "outputs": [],
   "source": [
    "h_out = h_in\n",
    "PSI(\"T\", \"P\", p_out, \"H\", h_out, fluid) - 273.15"
   ]
  },
  {
   "cell_type": "markdown",
   "metadata": {},
   "source": [
    "We have seen, that no energy has been transferred from the pipe to the ambient. Does that mean, we can revert the \n",
    "process? Obviously, that does not seem natural, as you cannot change the pressure of the fluid at the outlet back to the\n",
    "inlet pressure without adding any energy. That means, while we have not lost any energy to the ambient, the energy must\n",
    "have become less valuable.\n",
    "\n",
    "## Exergy Analysis\n",
    "\n",
    "In this chapter, we will learn, how the described change in quality of energy can be made visible using Second Law\n",
    "analysis. To do that, we calculate the exergy of the fluid at the inlet and at the outlet of the pipe. First, we define\n",
    "a function, that follows the definition of phyiscal exergy in eq. {eq}`physical-exergy-total` without splitting physical\n",
    "exergy into mechanical and thermal share. Chemical exergy can be ignored in this application, since no chemical reaction\n",
    "processes take place.\n",
    "\n",
    "The function `calc_physical_exergy` will take pressure and enthalpy of a fluid and calculate the thermal and the\n",
    "mechanical part of the physical exergy."
   ]
  },
  {
   "cell_type": "code",
   "execution_count": null,
   "metadata": {},
   "outputs": [],
   "source": [
    "def calc_physical_exergy(p, h, p0, T0, fluid):\n",
    "    r\"\"\"Calculate specific physical exergy.\"\"\"\n",
    "    s = PSI(\"S\", \"P\", p, \"H\", h, fluid)    \n",
    "    h0 = PSI(\"H\", \"P\", p0, \"T\", T0, fluid)\n",
    "    s0 = PSI(\"S\", \"P\", p0, \"T\", T0, fluid)\n",
    "    \n",
    "    ex = (h - h0) - T0 * (s - s0)\n",
    "    return ex"
   ]
  },
  {
   "cell_type": "markdown",
   "metadata": {},
   "source": [
    "Then, we can define an (arbitrary) ambient state and calculate the exergy and the inlet and the outlet state."
   ]
  },
  {
   "cell_type": "code",
   "execution_count": null,
   "metadata": {},
   "outputs": [],
   "source": [
    "p0 = 1.01325 * 1e5\n",
    "T0 = 20 + 273.15\n",
    "m = 1\n",
    "\n",
    "ex_in = calc_physical_exergy(p_in, h_in, p0, T0, fluid) * m\n",
    "ex_in"
   ]
  },
  {
   "cell_type": "code",
   "execution_count": null,
   "metadata": {},
   "outputs": [],
   "source": [
    "ex_out = calc_physical_exergy(p_out, h_out, p0, T0, fluid) * m\n",
    "ex_out"
   ]
  },
  {
   "cell_type": "markdown",
   "metadata": {},
   "source": [
    "With that, we can set up the exergy balance equation (eq. {eq}`exergy-balance-adiabatic-pipe`). The adiabatic pipe component does not serve any other purpose\n",
    "than transporting a fluid from one place to another. Energetically, the adiabatic pipe is a \"useless\" component, which\n",
    "means, that the exergy product is not defined. The fuel exergy is then the inlet exergy, the exergy destruction the\n",
    "difference between inlet and outlet exergy:\n",
    "\n",
    "```{math}\n",
    "    :label: exergy-balance-adiabatic-pipe\n",
    "    \\dot E_F=\\dot m \\cdot e^\\text{PH}_\\text{in}\\\\\n",
    "    \\dot E_D=\\dot m \\cdot \\left(e^\\text{PH}_\\text{in} - e^\\text{PH}_\\text{out}\\right)\n",
    "```"
   ]
  },
  {
   "cell_type": "code",
   "execution_count": null,
   "metadata": {},
   "outputs": [],
   "source": [
    "exergy_destruction = ex_in - ex_out\n",
    "exergy_destruction"
   ]
  },
  {
   "cell_type": "code",
   "execution_count": null,
   "metadata": {},
   "outputs": [],
   "source": [
    "exergy_destruction_rate = exergy_destruction / ex_in\n",
    "exergy_destruction_rate"
   ]
  },
  {
   "cell_type": "code",
   "execution_count": null,
   "metadata": {
    "tags": [
     "remove-cell"
    ]
   },
   "outputs": [],
   "source": [
    "from myst_nb import glue\n",
    "glue(\"exergy_destruction\", exergy_destruction, display=False)\n",
    "glue(\"exergy_destruction_rate\", exergy_destruction_rate * 100, display=False)"
   ]
  },
  {
   "cell_type": "markdown",
   "metadata": {},
   "source": [
    "We see that a total of {glue:text}`exergy_destruction:.0f` J/kg is destroyed, which corresponds to an exergy destruction rate of about {glue:text}`exergy_destruction_rate:.2f` %."
   ]
  },
  {
   "cell_type": "markdown",
   "metadata": {},
   "source": [
    "## Excercises part 1\n",
    "\n",
    "With the information from the sections above:\n",
    "\n",
    "1. Calculate the total exergy destruction and the exergy efficiency of the pipe flow for varying outlet pressures in a\n",
    "   range from the ambient pressure to the inlet pressure.\n",
    "   - As a function of the outlet pressure (x-axis) plot the:\n",
    "     - exergy destruction (y-axis).\n",
    "     - exergy destruction ratio (y-axis).\n",
    "2. What could be the reason, the exergy destruction ratio not equal to 100 %, when the pressure at the pipeline outlet\n",
    "   is equal to the ambient pressure? What are the relevant equations in the theory\n",
    "   (section {ref}`exergy analysis <intro_fundamentals>`)?\n"
   ]
  },
  {
   "cell_type": "markdown",
   "metadata": {},
   "source": [
    "### Solution 1\n",
    "\n",
    "We can use numpy to create a vector of outlet pressure values and then calculate the outlet exergy vector. The inlet\n",
    "exergy does not change for all values. Then with matplotlib we can create two subplots sharing the same x-axis (i.e. the\n",
    "pressure range) and plot the exergy destruction and the exergy efficiency."
   ]
  },
  {
   "cell_type": "code",
   "execution_count": null,
   "metadata": {},
   "outputs": [],
   "source": [
    "import numpy as np\n",
    "from matplotlib import pyplot as plt\n",
    "\n",
    "outlet_pressure_range = np.linspace(10, p0 / 1e5) * 1e5\n",
    "pressure_difference_range = p_in - outlet_pressure_range\n",
    "ex_out = calc_physical_exergy(outlet_pressure_range, h_out, p0, T0, fluid) * m\n",
    "ex_in = calc_physical_exergy(p_in, h_in, p0, T0, fluid) * m\n",
    "\n",
    "\n",
    "fig, ax = plt.subplots(2, sharex=True)\n",
    "\n",
    "ax[0].plot(pressure_difference_range / 1e5, (ex_in - ex_out) / 1e3)\n",
    "ax[1].plot(pressure_difference_range / 1e5, ex_out / ex_in * 100)\n",
    "\n",
    "ax[0].set_ylabel(\"Exergy destruction in kW\")\n",
    "ax[1].set_ylabel(\"Exergy efficiency in %\")\n",
    "ax[1].set_xlabel(\"Pipe pressure loss in bar\")\n",
    "\n",
    "_ = [(a.grid(), a.set_axisbelow(True)) for a in ax]\n",
    "\n",
    "plt.close()"
   ]
  },
  {
   "cell_type": "code",
   "execution_count": null,
   "metadata": {},
   "outputs": [],
   "source": [
    "glue(\"fig-exergy-destruction-air-pressure-range\", fig, display=False)"
   ]
  },
  {
   "cell_type": "markdown",
   "metadata": {},
   "source": [
    "From {numref}`fig-exergy-destruction-air-pressure-range` we can see, that the destruction of exergy obviously depends\n",
    "on the change of pressure in the pipe. The higher the pressure loss, the higher the destruction of exergy. The change\n",
    "in exergy destruction does increase the higher the pressure loss is.\n",
    "\n",
    "```{glue:figure} fig-exergy-destruction-air-pressure-range\n",
    ":name: \"fig-exergy-destruction-air-pressure-range\"\n",
    "\n",
    "Exergy destruction and exergy destruction ratio as function of the pipe's outlet pressure.\n",
    "```"
   ]
  },
  {
   "cell_type": "markdown",
   "metadata": {},
   "source": [
    "### Solution 2\n",
    "\n",
    "From {numref}`fig-exergy-destruction-air-pressure-range` we can see, that at a pressure loss of about 9 bars, i.e. when\n",
    "the outlet pressure is at the ambient state, the exergy destruction rate is not at 100 %. This means there must still\n",
    "be exergy in the outlet flow. We can check that, by looking at the last value in the `ex_out` vector."
   ]
  },
  {
   "cell_type": "code",
   "execution_count": null,
   "metadata": {},
   "outputs": [],
   "source": [
    "ex_out_p_ambient = ex_out[-1]\n",
    "ex_out_p_ambient"
   ]
  },
  {
   "cell_type": "markdown",
   "metadata": {},
   "source": [
    "Exergy is a function of pressure and temperature (difference to ambient state), we can have a look at the outlet temperature, when the steam is throttled to the ambient pressure without changing enthalpy:"
   ]
  },
  {
   "cell_type": "code",
   "execution_count": null,
   "metadata": {},
   "outputs": [],
   "source": [
    "ex_out_p_ambient = ex_out[-1]\n",
    "ex_out_p_ambient"
   ]
  },
  {
   "cell_type": "markdown",
   "metadata": {},
   "source": [
    "The temperature is higher than the ambient state, thus we can expect that there is still some exergy remaining in the temperature of the fluid. With the learnings from the {ref}`introduction chapter <intro_fundamentals>`, i.e. that\n",
    "physical exergy consists of the two components\n",
    "\n",
    "- mechanical exergy and\n",
    "- thermal exergy,\n",
    "\n",
    "we find, that either the thermal or the mechanical exergy (or both) is not zero at the outlet."
   ]
  },
  {
   "cell_type": "markdown",
   "metadata": {},
   "source": [
    "## Excercises part 2\n",
    "\n",
    "3. Create a function that splits the physical exergy in its thermal and mechanical shares according to eq. {eq}`thermal-exergy` and eq. {eq}`mechanical-exergy`.\n",
    "   - Verify that your function produces the same result as the function defined in the introduction to this section.\n",
    "   - Create a plot that shows, how thermal and mechanical exergy are affected by the pressure change for steam and for\n",
    "     air within the specified pressure range.\n",
    "   - What is the thermal and what is the mechanical exergy of the steam, when the pressure at the outlet is at ambient\n",
    "     state?\n",
    "4. Instead of a steam flow consider flow of hot air:\n",
    "   - Create a plot with exergy destruction and exergy destruction ratio of both air and water inside the same subplots.\n",
    "   - Why is the influence of the pressure on the exergy destruction ratio of the air flow much higher than on the exergy\n",
    "     efficiency of the steam flow?\n",
    "     - Use a bar chart to illustrate the shares of mechanical and thermal exergy at the inlet and the outlet of the pipe initial setup."
   ]
  },
  {
   "cell_type": "markdown",
   "metadata": {},
   "source": [
    "### Solutions 3\n",
    "\n",
    "We can build the same setup for the air flow using the defined inlet state. Since the enthalpy at the inlet is not the\n",
    "same as the enthalpy of water, we need to recalculate that value.\n",
    "\n",
    "In the plots we plot the air and steam exergy destruction and efficiency into the same subplots and label them for the\n",
    "legend."
   ]
  },
  {
   "cell_type": "code",
   "execution_count": null,
   "metadata": {},
   "outputs": [],
   "source": [
    "fluid = \"air\"\n",
    "h_in_air = PSI(\"H\", \"T\", T_in, \"P\", p_in, fluid)\n",
    "h_out_air = h_in_air\n",
    "\n",
    "ex_out_air = calc_physical_exergy(pressure_range, h_out_air, p0, T0, fluid)\n",
    "ex_in_air = calc_physical_exergy(p_in, h_in_air, p0, T0, fluid)\n",
    "\n",
    "\n",
    "fig, ax = plt.subplots(2, sharex=True)\n",
    "\n",
    "ax[0].plot(pressure_range / 1e5, (ex_in - ex_out) / 1e3, label=\"water\")\n",
    "ax[0].plot(pressure_range / 1e5, (ex_in_air - ex_out_air) / 1e3, label=\"air\")\n",
    "\n",
    "ax[1].plot(pressure_range / 1e5, ex_out / ex_in * 100)\n",
    "ax[1].plot(pressure_range / 1e5, ex_out_air / ex_in_air * 100)\n",
    "\n",
    "ax[0].set_ylabel(\"Exergy destruction in kW\")\n",
    "ax[1].set_ylabel(\"Exergy efficiency in %\")\n",
    "ax[1].set_xlabel(\"Outlet pressure in bars\")\n",
    "\n",
    "ax[0].legend()\n",
    "_ = [(_.grid(), _.set_axisbelow(True)) for _ in ax]"
   ]
  },
  {
   "cell_type": "markdown",
   "metadata": {},
   "source": [
    "In the first subplot we can see that in the steam flow the exergy destruction is higher by a factor of about 1.5. We\n",
    "can check the exact ratio with an individual plot. That also shows that the ratio does not change with pressure. The\n",
    "reason for the sharp decrease of exergy efficiency of the air flow thus cannot be sought here. Instead, we are going to\n",
    "seek for the explanation when looking at the exergy of the flows \"stored\" in mechanical and thermal properties of the\n",
    "fluid."
   ]
  },
  {
   "cell_type": "code",
   "execution_count": null,
   "metadata": {},
   "outputs": [],
   "source": [
    "fig, ax = plt.subplots(1)\n",
    "\n",
    "ax.plot(pressure_range / 1e5, (ex_in_air - ex_out_air) / (ex_in - ex_out))\n",
    "\n",
    "ax.set_ylim([0, 1])\n",
    "ax.set_ylabel(\"Air to steam exergy destruction ratio\")\n",
    "ax.set_xlabel(\"Outlet pressure in bars\")\n",
    "\n",
    "_ = ax.grid(), ax.set_axisbelow(True)"
   ]
  },
  {
   "cell_type": "markdown",
   "metadata": {},
   "source": [
    "### Sulution 4\n",
    "\n",
    "First we define a new function that returns the thermal and the mechanical share of exergy according the the equations\n",
    "{eq}`thermal-exergy`, {eq}`mechanical-exergy` and {eq}`physical-exergy`. Then we can calculate the share of thermal and\n",
    "mechanical exergy at the inlet state of the air pipe and validate, if the sum of both shares is equal to the result from\n",
    "our first implementation of the physical exergy:\n"
   ]
  },
  {
   "cell_type": "code",
   "execution_count": null,
   "metadata": {},
   "outputs": [],
   "source": [
    "def calc_splitted_physical_exergy(p, h, p0, T0, fluid):\n",
    "    r\"\"\"Calculate specific physical exergy according to splitting rule.\"\"\"\n",
    "    s = PSI(\"S\", \"P\", p, \"H\", h, fluid)\n",
    "    \n",
    "    h_T0_p = PSI(\"H\", \"P\", p, \"T\", T0, fluid)\n",
    "    s_T0_p = PSI(\"S\", \"P\", p, \"T\", T0, fluid)\n",
    "    \n",
    "    ex_therm = (h - h_T0_p) - T0 * (s - s_T0_p)\n",
    "    \n",
    "    h0 = PSI(\"H\", \"P\", p0, \"T\", T0, fluid)\n",
    "    s0 = PSI(\"S\", \"P\", p0, \"T\", T0, fluid)\n",
    "    \n",
    "    ex_mech = (h_T0_p - h0) - T0 * (s_T0_p - s0)\n",
    "    return ex_therm, ex_mech\n",
    "\n",
    "ex_T_in_air, ex_M_in_air = calc_splitted_physical_exergy(p_in, h_in_air, p0, T0, \"air\")\n",
    "ex_T_in_air + ex_M_in_air == calc_physical_exergy(p_in, h_in_air, p0, T0, \"air\")"
   ]
  },
  {
   "cell_type": "markdown",
   "metadata": {},
   "source": [
    "Next, we check the shares for air and steam at the respective inlet state. We can do that with a bar chart."
   ]
  },
  {
   "cell_type": "code",
   "execution_count": null,
   "metadata": {},
   "outputs": [],
   "source": [
    "ex_T_air_ratio = ex_T_in_air / (ex_T_in_air + ex_M_in_air)\n",
    "ex_M_air_ratio = ex_M_in_air / (ex_T_in_air + ex_M_in_air)\n",
    "\n",
    "ex_T_in_steam, ex_M_in_steam = calc_splitted_physical_exergy(p_in, h_in, p0, T0, \"water\")\n",
    "\n",
    "ex_T_steam_ratio = ex_T_in_steam / (ex_T_in_steam + ex_M_in_steam)\n",
    "ex_M_steam_ratio = ex_M_in_steam / (ex_T_in_steam + ex_M_in_steam)"
   ]
  },
  {
   "cell_type": "code",
   "execution_count": null,
   "metadata": {},
   "outputs": [],
   "source": [
    "fig, ax = plt.subplots(1)\n",
    "\n",
    "ax.bar([0.9, 1.1, 1.9, 2.1], [ex_T_air_ratio, ex_M_air_ratio, ex_T_steam_ratio, ex_M_steam_ratio])"
   ]
  },
  {
   "cell_type": "markdown",
   "metadata": {},
   "source": [
    "We can easily see, that the mechanical exergy is the main contributor to the air exergy with about 83.3%. For the steam flow\n",
    "it is not only reversed, but we see that the exergy stored in the vapour is almost exclusively thermal exergy with a\n",
    "share of about 99.9%."
   ]
  },
  {
   "cell_type": "markdown",
   "metadata": {},
   "source": [
    "## Lessons Learned\n",
    "\n",
    "- Exergy analysis can be used to detect thermodynamic losses, that are invisible using first law analysis.\n",
    "- Physical exergy of a mass flow can be splitted into a thermal and a mechanical share."
   ]
  }
 ],
 "metadata": {
  "kernelspec": {
   "display_name": "tespy_opt",
   "language": "python",
   "name": "python3"
  },
  "language_info": {
   "codemirror_mode": {
    "name": "ipython",
    "version": 3
   },
   "file_extension": ".py",
   "mimetype": "text/x-python",
   "name": "python",
   "nbconvert_exporter": "python",
   "pygments_lexer": "ipython3",
   "version": "3.9.13"
  },
  "vscode": {
   "interpreter": {
    "hash": "0f281374b50e679d88fcb4ad29fb1a86aa2bf4771de933c7e1627fe937943f09"
   }
  },
  "widgets": {
   "application/vnd.jupyter.widget-state+json": {
    "state": {},
    "version_major": 2,
    "version_minor": 0
   }
  }
 },
 "nbformat": 4,
 "nbformat_minor": 4
}
