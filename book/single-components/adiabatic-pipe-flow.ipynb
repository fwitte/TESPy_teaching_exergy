{
 "cells": [
  {
   "cell_type": "markdown",
   "metadata": {},
   "source": [
    "# Adiabatic Pipe Flow\n",
    "\n",
    "Consider the following information on a well insulated steam pipe from measurement equipment:\n",
    "\n",
    "| Parameter | Location | Value | Unit |\n",
    "|:--------- |:-------- | -----:| ---- |\n",
    "| Temperature | Inlet | 220 | °C |\n",
    "| Pressure | Inlet | 10 | bar |\n",
    "|  | Outlet | 9 | bar |\n",
    "\n",
    "With the energy balance of the thermodynamic open system, where the work $\\dot W$ and heat $\\dot Q$ transferred change the enthalpy $h$ of a mass flow $\\dot m$ from a state 1 to a different state 2, we can derive the missing outlet temperature:\n",
    "\n",
    "```{math}\n",
    "    :label: eq:pipe-flow-energy-balance\n",
    "    \\dot W + \\dot Q = \\dot m \\cdot \\left(h_2 - h_1\\right)\n",
    "```\n",
    "\n",
    "Since a pipe does not transfer work to the fluid, and we are assuming a well insulated pipe, we can assume that both, work and heat transferred, are equal to 0. Therefore the change in enthalpy must be zero as well:\n",
    "\n",
    "```{math}\n",
    "    :label: eq:pipe-flow-energy-balance-simplified\n",
    "    0 = \\dot m \\cdot \\left(h_2 - h_1\\right)\\\\\n",
    "    h_2 = h_1\n",
    "```\n",
    "\n",
    "To get the temperature, we need to check for the outlet pressure and the ...\n",
    "\n",
    "```{math}\n",
    "    :label: eq:pipe-flow-outlet-temperature\n",
    "    T_2 = T\\left(p_2, h_1\\right)\\\\\n",
    "    h_1 = \\left(T_1, p_1\\right)\n",
    "```\n",
    "\n"
   ]
  },
  {
   "cell_type": "code",
   "execution_count": null,
   "metadata": {},
   "outputs": [],
   "source": []
  },
  {
   "cell_type": "markdown",
   "metadata": {},
   "source": [
    "We have seen, that the change in enthalpy is zero, since no energy has been transferred. Therefore, one could say, no energy has been lost. However, by we cannot expect to find a process, that increases the pressure back to the inlet's level without doing anything. While we have not lost any energy to the ambient, the energy has obviously become less valuable. The Second Law Exergy analysis can make this change visible. We can calculate the exergy at the inlet and the outlet of the pipe and see how it has been affected by the pressure losses.\n",
    "\n",
    "First, we create a function that calculates the physical exergy of a fluid:"
   ]
  },
  {
   "cell_type": "code",
   "execution_count": 8,
   "metadata": {},
   "outputs": [],
   "source": [
    "from CoolProp.CoolProp import PropsSI as PSI\n",
    "\n",
    "\n",
    "def calc_physical_exergy(p, T, p0, T0, fluid):\n",
    "    r\"\"\"\n",
    "    Calculate specific physical exergy.\n",
    "\n",
    "    Physical exergy is allocated to a thermal and a mechanical share according\n",
    "    to :cite:`Morosuk2019`.\n",
    "\n",
    "    Parameters\n",
    "    ----------\n",
    "    p : float\n",
    "        Pressure of fluid p / Pa.\n",
    "        \n",
    "    T : float\n",
    "        Temperature of fluid T / K.\n",
    "\n",
    "    p0 : float\n",
    "        Ambient pressure p0 / Pa.\n",
    "\n",
    "    T0 : float\n",
    "        Ambient temperature T0 / K.\n",
    "\n",
    "    Returns\n",
    "    -------\n",
    "    e_ph : tuple\n",
    "        Specific thermal and mechanical exergy\n",
    "        (:math:`e^\\mathrm{T}`, :math:`e^\\mathrm{M}`) in J / kg.\n",
    "\n",
    "        .. math::\n",
    "\n",
    "            e^\\mathrm{T} = \\left( h - h \\left( p, T_0 \\right) \\right) -\n",
    "            T_0 \\cdot \\left(s - s\\left(p, T_0\\right)\\right)\n",
    "\n",
    "            e^\\mathrm{M}=\\left(h\\left(p,T_0\\right)-h\\left(p_0,T_0\\right)\\right)\n",
    "            -T_0\\cdot\\left(s\\left(p, T_0\\right)-s\\left(p_0,T_0\\right)\\right)\n",
    "\n",
    "            e^\\mathrm{PH} = e^\\mathrm{T} + e^\\mathrm{M}\n",
    "    \"\"\"\n",
    "    h = PSI(\"H\", \"P\", p, \"T\", T, fluid)\n",
    "    s = PSI(\"S\", \"P\", p, \"T\", T, fluid)\n",
    "    \n",
    "    h_T0_p = PSI(\"H\", \"P\", p, \"T\", T0, fluid)\n",
    "    s_T0_p = PSI(\"S\", \"P\", p, \"T\", T0, fluid)\n",
    "    \n",
    "    ex_therm = (h - h_T0_p) - T0 * (s - s_T0_p)\n",
    "    \n",
    "    h0 = PSI(\"H\", \"P\", p0, \"T\", T0, fluid)\n",
    "    s0 = PSI(\"S\", \"P\", p0, \"T\", T0, fluid)\n",
    "    \n",
    "    ex_mech = (h_T0_p - h0) - T0 * (s_T0_p - s0)\n",
    "    return ex_therm, ex_mech"
   ]
  },
  {
   "cell_type": "markdown",
   "metadata": {},
   "source": [
    "Then, we can calculate the exergy and the inlet and the outlet state."
   ]
  },
  {
   "cell_type": "code",
   "execution_count": 21,
   "metadata": {},
   "outputs": [],
   "source": [
    "fluid = \"water\"\n",
    "p0 = 1.01325 * 1e5\n",
    "T0 = 298.15\n",
    "h0 = PSI(\"H\", \"P\", p0, \"T\", T0, fluid)\n",
    "\n",
    "p_in = 10 * 1e5\n",
    "T_in = 220 + 273.15\n",
    "h_in = PSI(\"H\", \"P\", p_in, \"T\", T_in, fluid)\n",
    "\n",
    "p_out = 6 * 1e5\n",
    "h_out = h_in\n",
    "T_out = PSI(\"T\", \"P\", p_out, \"H\", h_out, fluid)\n",
    "\n",
    "ex_in = calc_physical_exergy(p_in, T_in, p0, T0, fluid)\n",
    "ex_out = calc_physical_exergy(p_out, T_out, p0, T0, fluid)"
   ]
  },
  {
   "cell_type": "markdown",
   "metadata": {},
   "source": [
    "First, we can observe the change in total specific exergy:"
   ]
  },
  {
   "cell_type": "code",
   "execution_count": 22,
   "metadata": {},
   "outputs": [
    {
     "data": {
      "text/plain": [
       "-67666.27929135691"
      ]
     },
     "execution_count": 22,
     "metadata": {},
     "output_type": "execute_result"
    }
   ],
   "source": [
    "sum(ex_out) - sum(ex_in)"
   ]
  },
  {
   "cell_type": "markdown",
   "metadata": {},
   "source": [
    "Looking at the exergy shares:"
   ]
  },
  {
   "cell_type": "code",
   "execution_count": 23,
   "metadata": {},
   "outputs": [
    {
     "data": {
      "text/plain": [
       "(0.3084650109659069, 0.28404194356290713)"
      ]
     },
     "execution_count": 23,
     "metadata": {},
     "output_type": "execute_result"
    }
   ],
   "source": [
    "sum(ex_in) / (h_in - h0), sum(ex_out) / (h_out - h0)"
   ]
  }
 ],
 "metadata": {
  "kernelspec": {
   "display_name": "Python 3 (ipykernel)",
   "language": "python",
   "name": "python3"
  },
  "language_info": {
   "codemirror_mode": {
    "name": "ipython",
    "version": 3
   },
   "file_extension": ".py",
   "mimetype": "text/x-python",
   "name": "python",
   "nbconvert_exporter": "python",
   "pygments_lexer": "ipython3",
   "version": "3.9.13"
  },
  "widgets": {
   "application/vnd.jupyter.widget-state+json": {
    "state": {},
    "version_major": 2,
    "version_minor": 0
   }
  }
 },
 "nbformat": 4,
 "nbformat_minor": 4
}
