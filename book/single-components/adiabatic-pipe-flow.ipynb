{
 "cells": [
  {
   "attachments": {},
   "cell_type": "markdown",
   "metadata": {},
   "source": [
    "(ref:sec:adiabatic-pipe-flow)=\n",
    "# Adiabatic Pipe Flow\n",
    "\n",
    "\n",
    "Story\n",
    "\n",
    "- Adiabate Rohrleitung hat keine Energieverluste aber Druckverlust\n",
    "- Es ist nicht möglich, den Druck ohne Zutun wieder anzuheben, also doch Energieverlust?\n",
    "- Exergieanalyse zeigt Verlust der Qualität\n",
    "- Definition Aufwand und Nutzen, Berechnung der Exergiezerstörung\n",
    "\n",
    "## Introduction\n",
    "\n",
    "Consider a well insulated pipeline transporting steam as shown in the figure below.\n",
    "\n",
    "```{figure} /figures/Compressor.svg\n",
    "---\n",
    "name: pipeline-flowsheet\n",
    "---\n",
    "Abstract model of the well insulated steam pipeline.\n",
    "```\n",
    "\n",
    "Measurement data are obtained at the inlet and the outlet of the pipeline:\n",
    "\n",
    "| Parameter | Location | Value | Unit |\n",
    "|:--------- |:-------- | -----:| ---- |\n",
    "| Temperature | Inlet | 195 | °C |\n",
    "| Temperature |  | 184.4 | °C |\n",
    "| Pressure | Inlet | 10 | bar |\n",
    "|  | Outlet | 6 | bar |\n",
    "\n",
    "First, we can set up the energy balance equation of the thermodynamic open system, where the work $\\dot W$ and heat\n",
    "$\\dot Q$ transferred change the enthalpy $h$ of a mass flow $\\dot m$ from a state 1 to a different state 2:\n",
    "\n",
    "```{math}\n",
    "    :label: eq:pipe-flow-energy-balance\n",
    "    \\dot W + \\dot Q = \\dot m \\cdot \\left(h_2 - h_1\\right)\n",
    "```\n",
    "\n",
    "Since a pipe does not transfer work to the fluid, work transferred can be considered equal to zero. Therefore the \n",
    "specific heat transferred can be calculated by the change of enthalpy. Since the pipeline is well insulated, the value\n",
    "should be rather small.\n",
    "\n",
    "```{math}\n",
    "    :label: eq:pipe-flow-energy-balance-simplified\n",
    "    \\frac{\\dot Q}{\\dot m} = h_2 - h_1\\\\\n",
    "```\n",
    "\n",
    "To do that computationally, we first import the `PropsSI` function from `CoolProp` and then insert the values from the\n",
    "table above."
   ]
  },
  {
   "cell_type": "code",
   "execution_count": 134,
   "metadata": {},
   "outputs": [
    {
     "data": {
      "text/plain": [
       "-32.01454686373472"
      ]
     },
     "execution_count": 134,
     "metadata": {},
     "output_type": "execute_result"
    }
   ],
   "source": [
    "from CoolProp.CoolProp import PropsSI as PSI\n",
    "\n",
    "\n",
    "fluid = \"water\"\n",
    "\n",
    "p_in = 10 * 1e5\n",
    "T_in = 195 + 273.15\n",
    "h_in = PSI(\"H\", \"P\", p_in, \"T\", T_in, fluid)\n",
    "\n",
    "p_out = 6 * 1e5\n",
    "T_out = 184.4 + 273.15\n",
    "h_out = PSI(\"H\", \"P\", p_out, \"T\", T_out, fluid)\n",
    "\n",
    "q = h_out - h_in\n",
    "q"
   ]
  },
  {
   "cell_type": "markdown",
   "metadata": {},
   "source": [
    "````{attention}\n",
    "As we expected the specific heat transferred is very low. Therefore we will make an assumption, that the pipeline can be\n",
    "considered adiabatic for further calculations. If transferred work and heat are both zero, the change in enthalpy will\n",
    "therefore be zero as well:\n",
    "\n",
    "```{math}\n",
    "    h_2 = h_1\n",
    "```\n",
    "````\n",
    "\n",
    "We can also double check this, by calculating the outlet temperature at the measured outlet pressure and with the\n",
    "assumption of non-changing enthalpy:"
   ]
  },
  {
   "cell_type": "code",
   "execution_count": 135,
   "metadata": {},
   "outputs": [
    {
     "data": {
      "text/plain": [
       "184.4142164685411"
      ]
     },
     "execution_count": 135,
     "metadata": {},
     "output_type": "execute_result"
    }
   ],
   "source": [
    "h_out = h_in\n",
    "PSI(\"T\", \"P\", p_out, \"H\", h_out, fluid) - 273.15"
   ]
  },
  {
   "cell_type": "markdown",
   "metadata": {},
   "source": [
    "## Exergy Analysis\n",
    "\n",
    "No energy has been transferred in the pipe flow. However, the process is not reversible: You cannot change the pressure of the fluid at the outlet back to the inlet pressure. That means, while we have not lost any energy to the ambient, the energy must have become less valuable. We can make this change in quality visible using Second Law analysis. To do that, we calculate the exergy of the fluid at the inlet and at the outlet of the pipe. First, we define a function, that follows the definition of phyiscal exergy in eq. {eq}`physical-exergy`. Chemical exergy can be ignored in this application, since no chemical reaction processes take place.\n",
    "\n",
    "The function `calc_physical_exergy` will take pressure and enthalpy of a fluid and calculate the thermal and the mechanical part of the physical exergy."
   ]
  },
  {
   "cell_type": "code",
   "execution_count": 136,
   "metadata": {},
   "outputs": [],
   "source": [
    "def calc_physical_exergy(p, h, p0, T0, fluid):\n",
    "    r\"\"\"Calculate specific physical exergy.\"\"\"\n",
    "    s = PSI(\"S\", \"P\", p, \"H\", h, fluid)\n",
    "    \n",
    "    h_T0_p = PSI(\"H\", \"P\", p, \"T\", T0, fluid)\n",
    "    s_T0_p = PSI(\"S\", \"P\", p, \"T\", T0, fluid)\n",
    "    \n",
    "    ex_therm = (h - h_T0_p) - T0 * (s - s_T0_p)\n",
    "    \n",
    "    h0 = PSI(\"H\", \"P\", p0, \"T\", T0, fluid)\n",
    "    s0 = PSI(\"S\", \"P\", p0, \"T\", T0, fluid)\n",
    "    \n",
    "    ex_mech = (h_T0_p - h0) - T0 * (s_T0_p - s0)\n",
    "    return ex_therm, ex_mech"
   ]
  },
  {
   "cell_type": "markdown",
   "metadata": {},
   "source": [
    "Then, we can define an (arbitrary) ambient state and calculate the exergy and the inlet and the outlet state."
   ]
  },
  {
   "cell_type": "code",
   "execution_count": 137,
   "metadata": {},
   "outputs": [
    {
     "data": {
      "text/plain": [
       "863747.8363819827"
      ]
     },
     "execution_count": 137,
     "metadata": {},
     "output_type": "execute_result"
    }
   ],
   "source": [
    "p0 = 1.01325 * 1e5\n",
    "T0 = 20 + 273.15\n",
    "\n",
    "ex_in = sum(calc_physical_exergy(p_in, h_in, p0, T0, fluid))\n",
    "ex_in"
   ]
  },
  {
   "cell_type": "code",
   "execution_count": 138,
   "metadata": {},
   "outputs": [
    {
     "data": {
      "text/plain": [
       "797952.1230949762"
      ]
     },
     "execution_count": 138,
     "metadata": {},
     "output_type": "execute_result"
    }
   ],
   "source": [
    "ex_out = sum(calc_physical_exergy(p_out, h_out, p0, T0, fluid))\n",
    "ex_out"
   ]
  },
  {
   "cell_type": "markdown",
   "metadata": {},
   "source": [
    "First, we can observe the change in total specific exergy or the change of exergy in relation to the exergy available at the pipe's inlet:"
   ]
  },
  {
   "cell_type": "code",
   "execution_count": 139,
   "metadata": {},
   "outputs": [
    {
     "data": {
      "text/plain": [
       "65795.71328700648"
      ]
     },
     "execution_count": 139,
     "metadata": {},
     "output_type": "execute_result"
    }
   ],
   "source": [
    "exergy_destruction_total = ex_in - ex_out\n",
    "exergy_destruction_total"
   ]
  },
  {
   "cell_type": "code",
   "execution_count": 140,
   "metadata": {},
   "outputs": [
    {
     "data": {
      "text/plain": [
       "0.07617467797384916"
      ]
     },
     "execution_count": 140,
     "metadata": {},
     "output_type": "execute_result"
    }
   ],
   "source": [
    "exergy_destruction_ratio = exergy_destruction_total / ex_in\n",
    "exergy_destruction_ratio"
   ]
  },
  {
   "cell_type": "code",
   "execution_count": 141,
   "metadata": {
    "tags": [
     "remove-cell"
    ]
   },
   "outputs": [
    {
     "data": {
      "application/papermill.record/text/plain": "65795.71328700648"
     },
     "metadata": {
      "scrapbook": {
       "mime_prefix": "application/papermill.record/",
       "name": "exergy_destruction_total"
      }
     },
     "output_type": "display_data"
    },
    {
     "data": {
      "application/papermill.record/text/plain": "7.617467797384917"
     },
     "metadata": {
      "scrapbook": {
       "mime_prefix": "application/papermill.record/",
       "name": "exergy_destruction_ratio"
      }
     },
     "output_type": "display_data"
    }
   ],
   "source": [
    "from myst_nb import glue\n",
    "glue(\"exergy_destruction_total\", exergy_destruction_total, display=False)\n",
    "glue(\"exergy_destruction_ratio\", exergy_destruction_ratio * 100, display=False)"
   ]
  },
  {
   "cell_type": "markdown",
   "metadata": {},
   "source": [
    "We see that a total of {glue:text}`exergy_destruction_total:.0f` J/kg is destroyed, which corresponds to about {glue:text}`exergy_destruction_ratio:.2f` % of input exergy."
   ]
  },
  {
   "cell_type": "markdown",
   "metadata": {},
   "source": [
    "## Excercise\n",
    "\n",
    "With the setup demonstrated in the above section, consider the following excercises:\n",
    "\n",
    "1. Calculate the total exergy destruction and the destruction share of the pipe flow for varying outlet pressures in a range from 1 to 10 bars.\n",
    "2. Plot the results:\n",
    "   a. exergy destruction (y-axis) as function of the pressure ratio (x-axis).\n",
    "3. Analyse the thermal and the mechanical shares of exergy: Why is the mechanical share of exergy so low compared to the thermal share?\n",
    "4. "
   ]
  },
  {
   "cell_type": "code",
   "execution_count": 142,
   "metadata": {},
   "outputs": [
    {
     "data": {
      "text/plain": [
       "[<matplotlib.lines.Line2D at 0x2080e31e730>]"
      ]
     },
     "execution_count": 142,
     "metadata": {},
     "output_type": "execute_result"
    },
    {
     "data": {
      "image/png": "[encoded data removed]",
      "text/plain": [
       "<Figure size 640x480 with 1 Axes>"
      ]
     },
     "metadata": {},
     "output_type": "display_data"
    }
   ],
   "source": [
    "import numpy as np\n",
    "from matplotlib import pyplot as plt\n",
    "\n",
    "pressure_range = np.linspace(p0 / 1e5, 10) * 1e5\n",
    "ex_T, ex_M = calc_physical_exergy(pressure_range, h_out, p0, T0, fluid)\n",
    "\n",
    "ex_T_in, ex_M_in = calc_physical_exergy(p_in, h_in, p0, T0, fluid)\n",
    "\n",
    "pressure_ratio = pressure_range / p_in\n",
    "exergy_destruction_total = ex_in - (ex_M + ex_T)\n",
    "exergy_destruction_ratio = exergy_destruction_total / ex_in\n",
    "thermal_exergy_destrution_ratio = ex_T / ex_T_in\n",
    "mechanical_exergy_destrution_ratio = ex_M / ex_M_in\n",
    "\n",
    "\n",
    "exergy_destruction_total\n",
    "exergy_destruction_ratio\n",
    "plt.plot(pressure_ratio, thermal_exergy_destrution_ratio)\n",
    "plt.plot(pressure_ratio, mechanical_exergy_destrution_ratio)"
   ]
  },
  {
   "cell_type": "markdown",
   "metadata": {},
   "source": [
    "## Lessons Learned\n",
    "\n",
    "- What did you learn?\n",
    "- What should you be able to apply yourself?"
   ]
  }
 ],
 "metadata": {
  "kernelspec": {
   "display_name": "tespy_opt",
   "language": "python",
   "name": "python3"
  },
  "language_info": {
   "codemirror_mode": {
    "name": "ipython",
    "version": 3
   },
   "file_extension": ".py",
   "mimetype": "text/x-python",
   "name": "python",
   "nbconvert_exporter": "python",
   "pygments_lexer": "ipython3",
   "version": "3.11.0 | packaged by conda-forge | (main, Oct 25 2022, 06:12:32) [MSC v.1929 64 bit (AMD64)]"
  },
  "vscode": {
   "interpreter": {
    "hash": "0f281374b50e679d88fcb4ad29fb1a86aa2bf4771de933c7e1627fe937943f09"
   }
  },
  "widgets": {
   "application/vnd.jupyter.widget-state+json": {
    "state": {},
    "version_major": 2,
    "version_minor": 0
   }
  }
 },
 "nbformat": 4,
 "nbformat_minor": 4
}
