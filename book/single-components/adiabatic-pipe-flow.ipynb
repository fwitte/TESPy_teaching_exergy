{
 "cells": [
  {
   "cell_type": "markdown",
   "metadata": {},
   "source": [
    "# Adiabatic Pipe Flow\n",
    "\n",
    "## Introduction\n",
    "\n",
    "Consider the following information on a well insulated steam pipe from measurement equipment:\n",
    "\n",
    "| Parameter | Location | Value | Unit |\n",
    "|:--------- |:-------- | -----:| ---- |\n",
    "| Temperature | Inlet | 220 | °C |\n",
    "| Pressure | Inlet | 10 | bar |\n",
    "|  | Outlet | 6 | bar |\n",
    "\n",
    "With the energy balance of the thermodynamic open system, where the work $\\dot W$ and heat $\\dot Q$ transferred change the enthalpy $h$ of a mass flow $\\dot m$ from a state 1 to a different state 2, we can derive the missing outlet temperature:\n",
    "\n",
    "```{math}\n",
    "    :label: eq:pipe-flow-energy-balance\n",
    "    \\dot W + \\dot Q = \\dot m \\cdot \\left(h_2 - h_1\\right)\n",
    "```\n",
    "\n",
    "Since a pipe does not transfer work to the fluid and assuming it is a well insulated pipe, work and heat transferred can be considered equal to zero. Therefore the change in enthalpy must be zero as well:\n",
    "\n",
    "```{math}\n",
    "    :label: eq:pipe-flow-energy-balance-simplified\n",
    "    0 = \\dot m \\cdot \\left(h_2 - h_1\\right)\\\\\n",
    "    h_2 = h_1\n",
    "```\n",
    "\n",
    "We cam then also obtain the outlet temperature, as it can be calculated based on the pressure and the enthalpy:\n",
    "\n",
    "```{math}\n",
    "    :label: eq:pipe-flow-outlet-temperature\n",
    "    T_2 = T\\left(p_2, h_1\\right)\\\\\n",
    "    h_1 = \\left(T_1, p_1\\right)\n",
    "```\n",
    "\n",
    "To do that computationally, we first import the `PropsSI` function from `CoolProp` and then insert the values from the table above."
   ]
  },
  {
   "cell_type": "code",
   "execution_count": null,
   "metadata": {},
   "outputs": [],
   "source": [
    "from CoolProp.CoolProp import PropsSI as PSI\n",
    "\n",
    "\n",
    "fluid = \"water\"\n",
    "\n",
    "p_in = 10 * 1e5\n",
    "T_in = 195 + 273.15\n",
    "h_in = PSI(\"H\", \"P\", p_in, \"T\", T_in, fluid)\n",
    "\n",
    "p_out = 6 * 1e5\n",
    "h_out = h_in\n",
    "T_out = PSI(\"T\", \"P\", p_out, \"H\", h_out, fluid)\n",
    "T_out_celsius = T_out - 273.15\n",
    "\n",
    "T_out_celsius"
   ]
  },
  {
   "cell_type": "markdown",
   "metadata": {},
   "source": [
    "## Exergy Analysis\n",
    "\n",
    "No energy has been transferred in the pipe flow. However, the process is not reversible: You cannot change the pressure of the fluid at the outlet back to the inlet pressure. That means, while we have not lost any energy to the ambient, the energy must have become less valuable. We can make this change in quality visible using Second Law analysis. To do that, we calculate the exergy of the fluid at the inlet and at the outlet of the pipe. First, we define a function, that follows the definition of phyiscal exergy in eq. {eq}`physical-exergy`. Chemical exergy can be ignored in this application, since no chemical reaction processes take place.\n",
    "\n",
    "The function `calc_physical_exergy` will take pressure and temperature of a fluid and calculate the thermal and the mechanical part of the physical exergy."
   ]
  },
  {
   "cell_type": "code",
   "execution_count": null,
   "metadata": {},
   "outputs": [],
   "source": [
    "def calc_physical_exergy(p, T, p0, T0, fluid):\n",
    "    r\"\"\"\n",
    "    Calculate specific physical exergy.\n",
    "\n",
    "    Physical exergy is allocated to a thermal and a mechanical share.\n",
    "\n",
    "    Parameters\n",
    "    ----------\n",
    "    p : float\n",
    "        Pressure of fluid p / Pa.\n",
    "        \n",
    "    T : float\n",
    "        Temperature of fluid T / K.\n",
    "\n",
    "    p0 : float\n",
    "        Ambient pressure p0 / Pa.\n",
    "\n",
    "    T0 : float\n",
    "        Ambient temperature T0 / K.\n",
    "\n",
    "    Returns\n",
    "    -------\n",
    "    e_ph : tuple\n",
    "        Specific thermal and mechanical exergy\n",
    "        (:math:`e^\\mathrm{T}`, :math:`e^\\mathrm{M}`) in J / kg.\n",
    "    \"\"\"\n",
    "    h = PSI(\"H\", \"P\", p, \"T\", T, fluid)\n",
    "    s = PSI(\"S\", \"P\", p, \"T\", T, fluid)\n",
    "    \n",
    "    h_T0_p = PSI(\"H\", \"P\", p, \"T\", T0, fluid)\n",
    "    s_T0_p = PSI(\"S\", \"P\", p, \"T\", T0, fluid)\n",
    "    \n",
    "    ex_therm = (h - h_T0_p) - T0 * (s - s_T0_p)\n",
    "    \n",
    "    h0 = PSI(\"H\", \"P\", p0, \"T\", T0, fluid)\n",
    "    s0 = PSI(\"S\", \"P\", p0, \"T\", T0, fluid)\n",
    "    \n",
    "    ex_mech = (h_T0_p - h0) - T0 * (s_T0_p - s0)\n",
    "    return ex_therm, ex_mech"
   ]
  },
  {
   "cell_type": "markdown",
   "metadata": {},
   "source": [
    "Then, we can define an (arbitrary) ambient state and calculate the exergy and the inlet and the outlet state."
   ]
  },
  {
   "cell_type": "code",
   "execution_count": null,
   "metadata": {},
   "outputs": [],
   "source": [
    "p0 = 1.01325 * 1e5\n",
    "T0 = 20 + 273.15\n",
    "\n",
    "\n",
    "ex_in = calc_physical_exergy(p_in, T_in, p0, T0, fluid)\n",
    "ex_in"
   ]
  },
  {
   "cell_type": "code",
   "execution_count": null,
   "metadata": {},
   "outputs": [],
   "source": [
    "ex_out = calc_physical_exergy(p_out, T_out, p0, T0, fluid)\n",
    "ex_out"
   ]
  },
  {
   "cell_type": "markdown",
   "metadata": {},
   "source": [
    "First, we can observe the change in total specific exergy or the change of exergy in relation to the exergy available at the pipe's inlet:"
   ]
  },
  {
   "cell_type": "code",
   "execution_count": null,
   "metadata": {},
   "outputs": [],
   "source": [
    "exergy_destruction_total = sum(ex_out) - sum(ex_in)\n",
    "exergy_destruction_total"
   ]
  },
  {
   "cell_type": "code",
   "execution_count": null,
   "metadata": {
    "tags": [
     "remove-cell"
    ]
   },
   "outputs": [],
   "source": [
    "from myst_nb import glue"
   ]
  },
  {
   "cell_type": "code",
   "execution_count": null,
   "metadata": {},
   "outputs": [],
   "source": [
    "exergy_destruction_ratio = (sum(ex_in) - sum(ex_out)) / sum(ex_in)\n",
    "exergy_destruction_ratio"
   ]
  },
  {
   "cell_type": "code",
   "execution_count": null,
   "metadata": {
    "tags": [
     "remove-cell"
    ]
   },
   "outputs": [],
   "source": [
    "glue(\"exergy_destruction_total\", exergy_destruction_total, display=False)\n",
    "glue(\"exergy_destruction_ratio\", exergy_destruction_ratio * 100, display=False)"
   ]
  },
  {
   "cell_type": "markdown",
   "metadata": {},
   "source": [
    "We see that a total of {glue:text}`exergy_destruction_total:.0f` J/kg is destroyed, which corresponds to about {glue:text}`exergy_destruction_ratio:.2f` % of input exergy."
   ]
  },
  {
   "cell_type": "markdown",
   "metadata": {},
   "source": [
    "## Excercise\n",
    "\n",
    "With the setup demonstrated in the above section, consider the following excercises:\n",
    "\n",
    "1. Calculate the total exergy destruction and the destruction share of the pipe flow for varying outlet pressures in a range from 1 to 10 bars.\n",
    "2. Plot the results to show how the exergy destruction (y-axis) depends on the pressure ratio (x-axis).\n",
    "3. Analyse the thermal and the mechanical shares of exergy. Plot these as well.\n",
    "4. Why does the thermal exergy not change with pressure values below 3 bars."
   ]
  },
  {
   "cell_type": "code",
   "execution_count": null,
   "metadata": {},
   "outputs": [],
   "source": [
    "import numpy as np\n",
    "from matplotlib import pyplot as plt\n",
    "\n",
    "pressure_range = np.linspace(p0 / 1e5, 10) * 1e5\n",
    "outlet_temperature_range = PSI(\"T\", \"P\", pressure_range, \"H\", h_in, fluid)\n",
    "\n",
    "ex_T, ex_M = calc_physical_exergy(pressure_range, outlet_temperature_range, p0, T0, fluid)\n",
    "\n",
    "exergy_destruction_total = sum(ex_in) - (ex_M + ex_T)\n",
    "exergy_destruction_ratio = exergy_destruction_total / sum(ex_in)\n",
    "exergy_destruction_ratio\n",
    "\n",
    "# plt.plot(pressure_range, exergy_destruction_ratio)\n",
    "\n",
    "\n",
    "# plt.plot(pressure_range, ex_M + ex_T)\n",
    "\n",
    "\n",
    "# plt.plot(pressure_range, ex_M / (ex_M + ex_T))\n",
    "# plt.plot(pressure_range, ex_T / ex_in[1])\n",
    "# plt.plot(pressure_range, ex_M / ex_in[0])\n",
    "\n",
    "pressure_range / p_in\n",
    "plt.plot(pressure_range / 1e5, ex_M / ex_in[1])\n",
    "plt.plot(pressure_range / 1e5, ex_T / ex_in[0])\n",
    "# plt.plot(pressure_range, )\n",
    "\n",
    "ex_M\n",
    "\n"
   ]
  }
 ],
 "metadata": {
  "kernelspec": {
   "display_name": "Python 3 (ipykernel)",
   "language": "python",
   "name": "python3"
  },
  "language_info": {
   "codemirror_mode": {
    "name": "ipython",
    "version": 3
   },
   "file_extension": ".py",
   "mimetype": "text/x-python",
   "name": "python",
   "nbconvert_exporter": "python",
   "pygments_lexer": "ipython3",
   "version": "3.9.13"
  },
  "widgets": {
   "application/vnd.jupyter.widget-state+json": {
    "state": {},
    "version_major": 2,
    "version_minor": 0
   }
  }
 },
 "nbformat": 4,
 "nbformat_minor": 4
}
