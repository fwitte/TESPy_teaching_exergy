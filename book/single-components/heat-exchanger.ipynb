{
 "cells": [
  {
   "attachments": {},
   "cell_type": "markdown",
   "metadata": {},
   "source": []
  },
  {
   "attachments": {},
   "cell_type": "markdown",
   "metadata": {},
   "source": [
    "# Heat Exchanger\n",
    "\n",
    "Story/Vorturnen\n",
    "\n",
    "- Herleitung der Problematik\n",
    "    - Adiabaten Wärmetauscher, der Wärme vollständig von Fluid a auf Fluid b transportiert\n",
    "    - Wo ist da ein Energieverlust?\n",
    "    - Temperaturen/Temperaturniveaus, es ist nicht umkehrbar!\n",
    "    - Unser Beispiel: Das mit den beiden Heizungen (zeigen, wie die beiden sich unterscheiden! keine Analyse von unterschiedlichen Parametern)\n",
    "- Übung: Wirkungsgrad/Verluste bei konstantem Wärmestrom und\n",
    "    - unterschiedlichen Massenströme\n",
    "    - unterschiedlichen Eintrittstemperaturen\n",
    "    - unterschiedlichen Austrittstemperaturen\n",
    "- Wärmeübertragung zweiter Fall (Verweis auf Möglichkeit weiterer Fälle)\n",
    "    - Übertragung bei T <= T0 (-> Luftwärmepumpe Verdampfer)\n",
    "    - Zeigen der Gleichungen\n",
    "- Übung:\n",
    "    - Einfacher Fall mit virtueller heißer Seite (also nur die Verdampfung bilanzieren)\n",
    "    - Richtung Wärmestrom und Exergiestrom\n",
    "    - Einfluss Verdampfungstemperatur\n",
    "    - Erweiterung des Falls auf mit beiden Seite, heißer Eintritt bei Umgebungstemperatur!\n",
    "    - Was ist jetzt eigentlich Aufwand und Nutzen?\n"
   ]
  },
  {
   "cell_type": "markdown",
   "metadata": {},
   "source": [
    "\n",
    "## Introduction\n",
    "\n",
    "A heat exchanger is used to transfer heat from one fluid to a different one. We can write the energy balance for the component assuming, that no heat is lost to the ambient.\n",
    "\n",
    "```{math}\n",
    "    :label: heat-exchanger-energy-balance\n",
    "    0 = \\dot m_1 \\cdot \\left(h_\\text{1,out} - h_\\text{1,in}\\right) + \\dot m_2 \\cdot \\left(h_\\text{2,out} - h_\\text{2,in}\\right)\n",
    "```\n",
    "\n",
    "The hot side {math}`1` transfers heat to the cold side {math}`2`. We can see, that all heat provided by the hot side is transferred to the cold side. However, in this process it is not possible to reach the same temperature level on the cold side as on the hot side. Reversing the heat transfer is for the same reason not possible: You cannot transfer heat against the direction of the temperature gradient. That obviously means, that the heat transfer incurs thermodynamic losses. To make them visible, we will again calculate the exergy of each of the flows.\n"
   ]
  },
  {
   "attachments": {},
   "cell_type": "markdown",
   "metadata": {},
   "source": [
    "(ref:sec:heat-ex-dhs-radiator)=\n",
    "## District heating delivery heat exchanger for radiator heating system\n",
    "\n",
    "As an example we want to have a look at a home heating system that uses centralized distric heat as a source. To separate the district heating system from the home system, a heat exchangers is set in place. The radiator of the home system needs a feed flow temperature of {math}`70` degrees Celsius. By transfering heat to the home, its temperature reduces by {math}`15` Kelvin. It operates at a pressure of roughly {math}`1.5` bar above atmospheric pressure. The district heating system provides a flow of {math}`1 \\frac{kg}{s}` with a temperature of {math}`90` degrees Celsius at {math}`8` bar above atmospheric pressure. It returns back with a temperature of {math}`60` degrees Celsius.\n"
   ]
  },
  {
   "cell_type": "code",
   "execution_count": null,
   "metadata": {},
   "outputs": [],
   "source": [
    "from CoolProp.CoolProp import PropsSI as PSI\n",
    "\n",
    "# Properties of hot side fluid\n",
    "fluid_1 = 'water'\n",
    "m_dot_1 = 1  # kg/s\n",
    "p_1 = (1.013 + 8) * 1e5  # Pa\n",
    "T_in_1 = 90 + 273.15  # K\n",
    "T_out_1 = 60 + 273.15  # K\n",
    "\n",
    "# Properties of cold side fluid\n",
    "fluid_2 = 'water'\n",
    "p_2 = (1.013 + 1.5) * 1e5  # Pa\n",
    "T_in_2 = 55 + 273.15  # K\n",
    "T_out_2 = 70 + 273.15  # K\n"
   ]
  },
  {
   "attachments": {},
   "cell_type": "markdown",
   "metadata": {},
   "source": [
    "Let's find out how much water is flowing through the home heating system. To employ equation {eq}`heat-exchanger-energy-balance`, we have to get the specific enthalpies of our fluids."
   ]
  },
  {
   "cell_type": "code",
   "execution_count": null,
   "metadata": {},
   "outputs": [],
   "source": [
    "h_in_1 = PSI('H', 'P', p_1, 'T', T_in_1, fluid_1)\n",
    "h_out_1 = PSI('H', 'P', p_1, 'T', T_out_1, fluid_1)\n",
    "\n",
    "h_in_2 = PSI('H', 'P', p_2, 'T', T_in_2, fluid_2)\n",
    "h_out_2 = PSI('H', 'P', p_2, 'T', T_out_2, fluid_2)\n",
    "\n",
    "m_dot_2 = m_dot_1 * (h_out_1 - h_in_1) / -(h_out_2 - h_in_2)\n",
    "\n",
    "m_dot_2"
   ]
  },
  {
   "attachments": {},
   "cell_type": "markdown",
   "metadata": {},
   "source": [
    "The home heating system mass flow is about {math}`2 \\frac{kg}{s}`, which makes sense due to the temperature spread of the radiator being smaller, than that of the district heat. After this calculation, we have all the information we need to calculate the physical exergy of both flows. For that we can use the function we built within the {ref}`ref:sec:adiabatic-pipe-flow` example. But first, we have to define an ambient state:"
   ]
  },
  {
   "cell_type": "code",
   "execution_count": null,
   "metadata": {},
   "outputs": [],
   "source": [
    "# Ambient state\n",
    "p0 = 1.013 * 1e5  # Pa\n",
    "T0 = 20 + 273.15  # K"
   ]
  },
  {
   "attachments": {},
   "cell_type": "markdown",
   "metadata": {},
   "source": [
    "\n",
    "```{tip}\n",
    "We have provided the function to calculate the exergy in the 'utilities' file in this directory, so we can import it from there instead of redefining it here.\n",
    "```"
   ]
  },
  {
   "cell_type": "code",
   "execution_count": null,
   "metadata": {},
   "outputs": [],
   "source": [
    "from utilities import calc_physical_exergy\n",
    "\n",
    "\n",
    "ex_in_1 = calc_physical_exergy(p_1, h_in_1, p0, T0, fluid_1)\n",
    "ex_out_1 = calc_physical_exergy(p_1, h_out_1, p0, T0, fluid_1)\n",
    "ex_in_2 = calc_physical_exergy(p_2, h_in_2, p0, T0, fluid_2)\n",
    "ex_out_2 = calc_physical_exergy(p_2, h_out_2, p0, T0, fluid_2)"
   ]
  },
  {
   "attachments": {},
   "cell_type": "markdown",
   "metadata": {},
   "source": [
    "In this specific case, all fluid temperatures are above our ambiant temperature. This means, that the following equations describe the fuel and product exergies:\n",
    "\n",
    "```{math}\n",
    "    :label: e_f-all-T-above-T0\n",
    "    \\dot{E}_F = \\dot{E}^{PH}_{in,1} - \\dot{E}^{PH}_{out,1} + \\dot{E}^{M}_{in,2} - \\dot{E}^{M}_{out,2}\n",
    "```\n",
    "\n",
    "```{math}\n",
    "    :label: e_p-all-T-above-T0\n",
    "    \\dot{E}_P = \\dot{E}^{T}_{out,2} - \\dot{E}^{T}_{in,2}\n",
    "```\n",
    "\n",
    "Let's calculate them."
   ]
  },
  {
   "cell_type": "code",
   "execution_count": null,
   "metadata": {},
   "outputs": [],
   "source": [
    "Ex_dot_F = m_dot_1 * (sum(ex_in_1) - sum(ex_out_1)) + m_dot_2 * (ex_in_2[1] - ex_out_2[1])\n",
    "Ex_dot_P = m_dot_2 * (ex_out_2[0] - ex_in_2[0])\n",
    "\n",
    "Ex_dot_F, Ex_dot_P"
   ]
  },
  {
   "attachments": {},
   "cell_type": "markdown",
   "metadata": {},
   "source": [
    "The fuel exergy comes out to about {math}`19.81 kJ` and the product exergy to about {math}`15.91 kJ`. With these values, we can finally calculate exergy destruction, exergy destruction ratio and exergy efficiency. That works analogously as described in {ref}`ref:sec:adiabatic-pipe-flow`."
   ]
  },
  {
   "cell_type": "code",
   "execution_count": null,
   "metadata": {},
   "outputs": [],
   "source": [
    "Ex_dot_D = Ex_dot_F - Ex_dot_P\n",
    "y_D = Ex_dot_D / Ex_dot_F\n",
    "eta_Ex = Ex_dot_P / Ex_dot_F\n",
    "\n",
    "Ex_dot_D, y_D, eta_Ex"
   ]
  },
  {
   "attachments": {},
   "cell_type": "markdown",
   "metadata": {},
   "source": [
    "The total exergy destruction is about {math}`3.899 kJ`, resulting in an exergy destruction ratio of about {math}`19.7` % and an exergy efficiency of about {math}`80.3` %."
   ]
  },
  {
   "attachments": {},
   "cell_type": "markdown",
   "metadata": {},
   "source": [
    "## District heating delivery heat exchanger for underfloor heating system\n",
    "\n",
    "Now lets compare the radiator with an underfloor heating system. Typically, these work at a feed flow temperature of {math}`40` degrees Celsius with a temperature spread of {math}`10` K."
   ]
  },
  {
   "cell_type": "code",
   "execution_count": null,
   "metadata": {},
   "outputs": [],
   "source": [
    "T_in_2_uf = 30 + 273.15  # K\n",
    "T_out_2_uf = 40 + 273.15  # K\n",
    "\n",
    "h_in_2_uf = PSI('H', 'P', p_2, 'T', T_in_2_uf, fluid_2)\n",
    "h_out_2_uf = PSI('H', 'P', p_2, 'T', T_out_2_uf, fluid_2)\n",
    "\n",
    "m_dot_2_uf = m_dot_1 * (h_out_1 - h_in_1) / -(h_out_2_uf - h_in_2_uf)"
   ]
  },
  {
   "attachments": {},
   "cell_type": "markdown",
   "metadata": {},
   "source": [
    "What do you expect the result of the exergy analysis of the underfloor heater to be in comparison to the radiator. How do the lower system temperatures affect the fuel and product exergy? Take a guess before continuing.\n",
    "\n",
    "Let's calculate the physical, as well as the fuel and product exergies."
   ]
  },
  {
   "cell_type": "code",
   "execution_count": null,
   "metadata": {},
   "outputs": [],
   "source": [
    "ex_in_2_uf = calc_physical_exergy(p_2, h_in_2_uf, p0, T0, fluid_2)\n",
    "ex_out_2_uf = calc_physical_exergy(p_2, h_out_2_uf, p0, T0, fluid_2)\n",
    "\n",
    "Ex_dot_F_uf = m_dot_1 * (sum(ex_in_1) - sum(ex_out_1)) + m_dot_2_uf * (ex_in_2_uf[1] - ex_out_2_uf[1])\n",
    "Ex_dot_P_uf = m_dot_2_uf * (ex_out_2_uf[0] - ex_in_2_uf[0])\n"
   ]
  },
  {
   "attachments": {},
   "cell_type": "markdown",
   "metadata": {},
   "source": [
    "With these, we can calculate exergy destruction, exergy destruction ratio and exergy efficiency again."
   ]
  },
  {
   "cell_type": "code",
   "execution_count": null,
   "metadata": {},
   "outputs": [],
   "source": [
    "Ex_dot_D_uf = Ex_dot_F_uf - Ex_dot_P_uf\n",
    "y_D_uf = Ex_dot_D_uf / Ex_dot_F_uf\n",
    "eta_Ex_uf = Ex_dot_P_uf / Ex_dot_F_uf\n",
    "\n",
    "Ex_dot_D_uf, y_D_uf, eta_Ex_uf"
   ]
  },
  {
   "attachments": {},
   "cell_type": "markdown",
   "metadata": {},
   "source": [
    "The total exergy destruction is about {math}`13.69 \\frac{kJ}{kg}`, resulting in an exergy destruction ratio of about {math}`69.1` % and an exergy efficiency of about {math}`30.9` %. That's an **increase** in exergy destruction of around {math}`151.2` %.\n",
    "\n",
    "Do the results match your expectations? What does this say about the process of providing heat to the underfloor system from the district heating system? How could a dhs operator reduce exergy destruction in home systems in general?"
   ]
  },
  {
   "attachments": {},
   "cell_type": "markdown",
   "metadata": {},
   "source": [
    "## Exercise 0\n",
    "\n",
    "T ambient bei gleichem Prozess variieren"
   ]
  },
  {
   "attachments": {},
   "cell_type": "markdown",
   "metadata": {},
   "source": [
    "## Exercises 1\n",
    "\n",
    "To further analyze the influence of the key parameters of a heat exchanger, let's variate them and study their effects. Based on the first example (see: {ref}`ref:sec:heat-ex-dhs-radiator`) and with a constant heat flow rate from hot to cold side, implement the following variation routines and plot the resulting exergy destruction and efficiency:\n",
    "\n",
    "1. Variable inlet temperatures with constant outlet temperatures.\n",
    "2. Variable outlet temperatures with constant inlet temperatures."
   ]
  },
  {
   "attachments": {},
   "cell_type": "markdown",
   "metadata": {},
   "source": [
    "### Proposed solution 1\n",
    "\n",
    "**Zeroth step:** Let's create some helper functions"
   ]
  },
  {
   "cell_type": "code",
   "execution_count": null,
   "metadata": {
    "tags": [
     "hide-cell"
    ]
   },
   "outputs": [],
   "source": [
    "import matplotlib.pyplot as plt\n",
    "\n",
    "def calc_massflow(which, m_dot, h_in_1, h_out_1, h_in_2, h_out_2):\n",
    "    \"\"\"Energy balance of heat exchanger that is adiabatic to surroundings.\"\"\"\n",
    "    if which == 'cold':\n",
    "        return m_dot * (h_out_1 - h_in_1) / -(h_out_2 - h_in_2)\n",
    "    elif which == 'hot':\n",
    "        return m_dot * -(h_out_2 - h_in_2) / (h_out_1 - h_in_1)\n",
    "\n",
    "def calc_ex_fuel_prod(m_dot_1, ex_in_1, ex_out_1, m_dot_2, ex_in_2, ex_out_2):\n",
    "    \"\"\"Defined for all temperatures above T0.\"\"\"\n",
    "    Ex_F = (\n",
    "        m_dot_1 * (sum(ex_in_1) - sum(ex_out_1))\n",
    "        + m_dot_2 * (ex_in_2[1] - ex_out_2[1])\n",
    "        )\n",
    "    Ex_P = m_dot_2 * (ex_out_2[0] - ex_in_2[0])\n",
    "    return Ex_F, Ex_P\n",
    "\n",
    "def plot_ex_D_eta_ex(T_range, Ex_D_range, eta_Ex_range):\n",
    "    \"\"\"Plot exergy destruction and efficiency against variable temperature.\"\"\"\n",
    "    fig, axs = plt.subplots(1, 2, figsize=(10, 4))\n",
    "\n",
    "    axs[0].plot(T_range, Ex_D_range, color='#B54036')\n",
    "    axs[1].plot(T_range, eta_Ex_range, color='#00395B')\n",
    "\n",
    "    axs[0].set_ylabel('Exergy destruction in kJ')\n",
    "    axs[0].grid()\n",
    "    axs[0].set_axisbelow(True)\n",
    "\n",
    "    axs[1].set_ylabel('Exergetic efficiency')\n",
    "    axs[1].grid()\n",
    "    axs[1].set_axisbelow(True)\n",
    "\n",
    "    return fig, axs"
   ]
  },
  {
   "cell_type": "markdown",
   "metadata": {},
   "source": [
    "\n",
    "**First step:** Variate hot side inlet temperature"
   ]
  },
  {
   "cell_type": "code",
   "execution_count": null,
   "metadata": {
    "tags": [
     "hide-cell"
    ]
   },
   "outputs": [],
   "source": [
    "Q_nominal = abs(m_dot_1 * (h_out_1 - h_in_1))\n",
    "m_dot_2 = Q_nominal / (h_out_2 - h_out_1)\n",
    "\n",
    "T_in_1_range = [*range(70, 121)]\n",
    "h_in_1_range = [PSI('H', 'P', p_1, 'T', T_in_1+273.15, fluid_1) for T_in_1 in T_in_1_range]\n",
    "ex_in_1_range = [calc_physical_exergy(p_1, h_in_1, p0, T0, fluid_1) for h_in_1 in h_in_1_range]\n",
    "\n",
    "m_dot_1_range = [\n",
    "    calc_massflow('hot', m_dot_2, h_in_1, h_out_1, h_in_2, h_out_2) for h_in_1 in h_in_1_range\n",
    "    ]\n",
    "\n",
    "Ex_D_range = list()\n",
    "eta_Ex_range = list()\n",
    "for ex_in_1, m_dot_1 in zip(ex_in_1_range, m_dot_1_range):\n",
    "    Ex_F, Ex_P = calc_ex_fuel_prod(m_dot_1, ex_in_1, ex_out_1, m_dot_2, ex_in_2, ex_out_2)\n",
    "    Ex_D_range += [(Ex_F - Ex_P) * 1e-3]\n",
    "    eta_Ex_range += [Ex_P / Ex_F]\n",
    "\n",
    "fig, axs = plot_ex_D_eta_ex(T_in_1_range, Ex_D_range, eta_Ex_range)\n",
    "\n",
    "fig.supxlabel(\n",
    "    'Feed flow temperature of district heating system in °C',\n",
    "    fontsize='medium'\n",
    "    )"
   ]
  },
  {
   "attachments": {},
   "cell_type": "markdown",
   "metadata": {},
   "source": [
    "Warum Wirkungsgrad bei 70 FF DHS nicht == 1?"
   ]
  },
  {
   "attachments": {},
   "cell_type": "markdown",
   "metadata": {},
   "source": [
    "**Second step:** Variate cold side inlet temperature"
   ]
  },
  {
   "cell_type": "code",
   "execution_count": null,
   "metadata": {
    "tags": [
     "hide-cell"
    ]
   },
   "outputs": [],
   "source": [
    "# Reset hot side inlet temperature\n",
    "T_in_1 = 90\n",
    "h_in_1 = PSI('H', 'P', p_1, 'T', T_in_1+273.15, fluid_1)\n",
    "ex_in_1 = calc_physical_exergy(p_1, h_in_1, p0, T0, fluid_1)\n",
    "\n",
    "T_in_2_range = [*range(40, 61)]\n",
    "h_in_2_range = [PSI('H', 'P', p_2, 'T', T_in_2+273.15, fluid_2) for T_in_2 in T_in_2_range]\n",
    "ex_in_2_range = [calc_physical_exergy(p_2, h_in_2, p0, T0, fluid_2) for h_in_2 in h_in_2_range]\n",
    "\n",
    "ex_D_range = list()\n",
    "eta_ex_range = list()\n",
    "for ex_in_2 in ex_in_2_range:\n",
    "    ex_F = sum(ex_in_1) - sum(ex_out_1) + ex_in_2[1] - ex_out_2[1]\n",
    "    ex_P = ex_out_2[0] - ex_in_2[0]\n",
    "    ex_D_range += [(ex_F - ex_P) * 1e-3]\n",
    "    eta_ex_range += [ex_P / ex_F]\n",
    "\n",
    "fig, axs = plot_ex_D_eta_ex(T_in_2_range, ex_D_range, eta_ex_range)\n",
    "\n",
    "fig.supxlabel(\n",
    "    'Back flow temperature of home heating system in °C',\n",
    "    fontsize='medium'\n",
    "    )\n"
   ]
  },
  {
   "attachments": {},
   "cell_type": "markdown",
   "metadata": {},
   "source": [
    "**Third step:** Variate both inlet temperatures simultaneously"
   ]
  },
  {
   "cell_type": "code",
   "execution_count": null,
   "metadata": {
    "tags": [
     "hide-cell"
    ]
   },
   "outputs": [],
   "source": [
    "fig, axs = plt.subplots(1, 2, figsize=(10, 4))\n",
    "\n",
    "for T_in_1 in range(80, 120, 10):\n",
    "    h_in_1 = PSI('H', 'P', p_1, 'T', T_in_1+273.15, fluid_1)\n",
    "    ex_in_1 = calc_physical_exergy(p_1, h_in_1, p0, T0, fluid_1)\n",
    "\n",
    "    ex_D_range = list()\n",
    "    eta_ex_range = list()\n",
    "    T_in_2_range = list()\n",
    "    for T_in_2 in range(42, 60, 2):\n",
    "        T_in_2_range += [T_in_2]\n",
    "        h_in_2 = PSI('H', 'P', p_2, 'T', T_in_2+273.15, fluid_2)\n",
    "        ex_in_2 = calc_physical_exergy(p_2, h_in_2, p0, T0, fluid_2)\n",
    "\n",
    "        ex_F = sum(ex_in_1) - sum(ex_out_1) + ex_in_2[1] - ex_out_2[1]\n",
    "        ex_P = ex_out_2[0] - ex_in_2[0]\n",
    "        ex_D_range += [(ex_F - ex_P) * 1e-3]\n",
    "        eta_ex_range += [ex_P / ex_F]\n",
    "\n",
    "    axs[0].plot(T_in_2_range, ex_D_range, label=f'{T_in_1:.0f} °C')\n",
    "    axs[1].plot(T_in_2_range, eta_ex_range, label=f'{T_in_1:.0f} °C')\n",
    "\n",
    "axs[0].set_ylabel('Specific exergy destruction in kJ/kg')\n",
    "axs[0].grid()\n",
    "axs[0].set_axisbelow(True)\n",
    "\n",
    "axs[1].set_ylabel('Exergetic efficiency')\n",
    "axs[1].grid()\n",
    "axs[1].set_axisbelow(True)\n",
    "axs[1].legend(title='T_in_1:', alignment='left')\n",
    "\n",
    "fig.supxlabel(\n",
    "    'Back flow temperature of home heating system in °C',\n",
    "    fontsize='medium'\n",
    "    )"
   ]
  },
  {
   "attachments": {},
   "cell_type": "markdown",
   "metadata": {},
   "source": [
    "### Proposed solution 2\n",
    "\n",
    "**First step:** Variate hot side outlet temperature"
   ]
  },
  {
   "cell_type": "code",
   "execution_count": null,
   "metadata": {
    "tags": [
     "hide-cell"
    ]
   },
   "outputs": [],
   "source": [
    "# Reset inlet temperatures\n",
    "T_in_1 = 90\n",
    "h_in_1 = PSI('H', 'P', p_1, 'T', T_in_1+273.15, fluid_1)\n",
    "ex_in_1 = calc_physical_exergy(p_1, h_in_1, p0, T0, fluid_1)\n",
    "T_in_2 = 55\n",
    "h_in_2 = PSI('H', 'P', p_2, 'T', T_in_2+273.15, fluid_2)\n",
    "ex_in_2 = calc_physical_exergy(p_2, h_in_2, p0, T0, fluid_2)\n",
    "\n",
    "T_out_1_range = [*range(60, 81)]\n",
    "h_out_1_range = [PSI('H', 'P', p_1, 'T', T_out_1+273.15, fluid_1) for T_out_1 in T_out_1_range]\n",
    "ex_out_1_range = [calc_physical_exergy(p_1, h_out_1, p0, T0, fluid_1) for h_out_1 in h_out_1_range]\n",
    "\n",
    "ex_D_range = list()\n",
    "eta_ex_range = list()\n",
    "for ex_out_1 in ex_out_1_range:\n",
    "    ex_F = sum(ex_in_1) - sum(ex_out_1) + ex_in_2[1] - ex_out_2[1]\n",
    "    ex_P = ex_out_2[0] - ex_in_2[0]\n",
    "    ex_D_range += [(ex_F - ex_P) * 1e-3]\n",
    "    eta_ex_range += [ex_P / ex_F]\n",
    "\n",
    "fig, axs = plot_ex_D_eta_ex(T_out_1_range, ex_D_range, eta_ex_range)\n",
    "\n",
    "fig.supxlabel(\n",
    "    'Back flow temperature of district heating system in °C',\n",
    "    fontsize='medium'\n",
    "    )"
   ]
  },
  {
   "attachments": {},
   "cell_type": "markdown",
   "metadata": {},
   "source": [
    "**Second step:** Variate cold side outlet temperature"
   ]
  },
  {
   "cell_type": "code",
   "execution_count": null,
   "metadata": {
    "tags": [
     "hide-cell"
    ]
   },
   "outputs": [],
   "source": [
    "# Reset hot side outlet temperature\n",
    "T_out_1 = 60\n",
    "h_out_1 = PSI('H', 'P', p_1, 'T', T_out_1+273.15, fluid_1)\n",
    "ex_out_1 = calc_physical_exergy(p_1, h_out_1, p0, T0, fluid_1)\n",
    "\n",
    "T_out_2_range = [*range(60, 86)]\n",
    "h_out_2_range = [PSI('H', 'P', p_2, 'T', T_out_2+273.15, fluid_2) for T_out_2 in T_out_2_range]\n",
    "ex_out_2_range = [calc_physical_exergy(p_2, h_out_2, p0, T0, fluid_2) for h_out_2 in h_out_2_range]\n",
    "\n",
    "ex_D_range = list()\n",
    "eta_ex_range = list()\n",
    "for ex_out_2 in ex_out_2_range:\n",
    "    ex_F = sum(ex_in_1) - sum(ex_out_1) + ex_in_2[1] - ex_out_2[1]\n",
    "    ex_P = ex_out_2[0] - ex_in_2[0]\n",
    "    ex_D_range += [(ex_F - ex_P) * 1e-3]\n",
    "    eta_ex_range += [ex_P / ex_F]\n",
    "\n",
    "fig, axs = plot_ex_D_eta_ex(T_out_2_range, ex_D_range, eta_ex_range)\n",
    "fig.supxlabel(\n",
    "    'Feed flow temperature of home heating system in °C',\n",
    "    fontsize='medium'\n",
    "    )"
   ]
  },
  {
   "attachments": {},
   "cell_type": "markdown",
   "metadata": {},
   "source": [
    "**Third step:** Variate both outlet temperatures simultaneously"
   ]
  },
  {
   "cell_type": "code",
   "execution_count": null,
   "metadata": {
    "tags": [
     "hide-cell"
    ]
   },
   "outputs": [],
   "source": [
    "fig, axs = plt.subplots(1, 2, figsize=(10, 4))\n",
    "\n",
    "for T_out_1 in range(60, 75, 5):\n",
    "    h_out_1 = PSI('H', 'P', p_1, 'T', T_out_1+273.15, fluid_1)\n",
    "    ex_out_1 = calc_physical_exergy(p_1, h_out_1, p0, T0, fluid_1)\n",
    "\n",
    "    ex_D_range = list()\n",
    "    eta_ex_range = list()\n",
    "    T_out_2_range = list()\n",
    "    for T_out_2 in range(60, 86):\n",
    "        T_out_2_range += [T_out_2]\n",
    "        h_out_2 = PSI('H', 'P', p_2, 'T', T_out_2+273.15, fluid_2)\n",
    "        ex_out_2 = calc_physical_exergy(p_2, h_out_2, p0, T0, fluid_2)\n",
    "\n",
    "        ex_F = sum(ex_in_1) - sum(ex_out_1) + ex_in_2[1] - ex_out_2[1]\n",
    "        ex_P = ex_out_2[0] - ex_in_2[0]\n",
    "        ex_D_range += [(ex_F - ex_P) * 1e-3]\n",
    "        eta_ex_range += [ex_P / ex_F]\n",
    "\n",
    "    axs[0].plot(T_out_2_range, ex_D_range, label=f'{T_out_1:.0f} °C')\n",
    "    axs[1].plot(T_out_2_range, eta_ex_range, label=f'{T_out_1:.0f} °C')\n",
    "\n",
    "axs[0].set_ylabel('Specific exergy destruction in kJ/kg')\n",
    "axs[0].grid()\n",
    "axs[0].set_axisbelow(True)\n",
    "\n",
    "axs[1].set_ylabel('Exergetic efficiency')\n",
    "axs[1].grid()\n",
    "axs[1].set_axisbelow(True)\n",
    "axs[1].legend(title='T_out_1:', alignment='left')\n",
    "\n",
    "fig.supxlabel(\n",
    "    'Feed flow temperature of home heating system in °C',\n",
    "    fontsize='medium'\n",
    "    )"
   ]
  },
  {
   "attachments": {},
   "cell_type": "markdown",
   "metadata": {},
   "source": [
    "## Evaporator of an air-water heat pump\n",
    "\n",
    "For our next example, consider the heat exchanger used for evaporation of the refrigerant of an air-water heat pump. As the name implies, ambient air used as the heat source of the cycle. That means, that the ambient temperature {math}`T_0` occurs at the inlet of the hot side of the evaporator. As the air is supplying the heat, its temperatures decreases until it exits the heat exchanger. The evaporation of the refrigerant must occur at an even lower temperature. This means, that all temperatures lie at our below the defined ambient temperature {math}`T_0`, so that the definition of fuel and product exergy change.\n",
    "\n",
    "\n",
    "- Herleitung Richtungen der Ströme\n",
    "- Bilanzen: E_F, E_P\n",
    "- Setzen des Nullpunktes beeinflusst die Exergiebilanz\n",
    "- Was ist ein sinnvoller Nullpunkt?\n",
    "- Zusätzliche Leistung über den Verdichter um Exergieabfuhr auszugleichen"
   ]
  },
  {
   "cell_type": "markdown",
   "metadata": {},
   "source": [
    "## Lessons Learned\n",
    "\n",
    "- What did you learn?\n",
    "- What should you be able to apply yourself?"
   ]
  }
 ],
 "metadata": {
  "kernelspec": {
   "display_name": "teaching_exergy",
   "language": "python",
   "name": "python3"
  },
  "language_info": {
   "codemirror_mode": {
    "name": "ipython",
    "version": 3
   },
   "file_extension": ".py",
   "mimetype": "text/x-python",
   "name": "python",
   "nbconvert_exporter": "python",
   "pygments_lexer": "ipython3",
   "version": "3.9.13"
  },
  "vscode": {
   "interpreter": {
    "hash": "8d825165d3a9045ffdcca07a89fe83f75e78b330387598693814eaa5886acc20"
   }
  },
  "widgets": {
   "application/vnd.jupyter.widget-state+json": {
    "state": {},
    "version_major": 2,
    "version_minor": 0
   }
  }
 },
 "nbformat": 4,
 "nbformat_minor": 4
}
