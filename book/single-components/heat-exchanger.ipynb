{
 "cells": [
  {
   "attachments": {},
   "cell_type": "markdown",
   "metadata": {},
   "source": []
  },
  {
   "attachments": {},
   "cell_type": "markdown",
   "metadata": {},
   "source": [
    "# Heat Exchanger\n",
    "\n",
    "Story/Vorturnen\n",
    "\n",
    "- Adiabaten Wärmetauscher, der Wärme vollständig von Fluid a auf Fluid b transportiert\n",
    "- Wo ist da ein Energieverlust?\n",
    "- Beispiel mit Temperaturen/Temperaturniveaus, es ist nicht umkehrbar!\n",
    "- Exergieanalyse zeigt auch hier Qualitätsverlust\n",
    "- 1 kleines Beispiel für die Berechnung + Plots der Exergieverluste\n",
    "\n",
    "Übung\n",
    "\n",
    "- Berechnung von Fuel/Product/Destruction/Wirkungsgrad (Verweis auf Grundlagen) mit allen T > T0\n",
    "- Änderung von T0 aber immernoch T > T0 analysieren, Parameteranalyse?\n",
    "- Wie spielen Druckverluste eine Rolle?\n",
    "- Kondensation/Verdampfung?\n",
    "- Wärmeübetragung vollständig unter T0 berechnen, hierzu Story erzählen, was Nutzen und Aufwand sind.\n",
    "\n",
    "## Introduction\n",
    "\n",
    "A heat exchanger is used to transfer heat from one fluid to a different one. We can write the energy balance for the component assuming, that no heat is lost to the ambient.\n",
    "\n",
    "```{math}\n",
    "    :label: heat-exchanger-energy-balance\n",
    "    0 = \\dot m_1 \\cdot \\left(h_\\text{1,out} - h_\\text{1,in}\\right) + \\dot m_2 \\cdot \\left(h_\\text{2,out} - h_\\text{2,in}\\right)\n",
    "```\n",
    "\n",
    "The hot side {math}`1` transfers heat to the cold side {math}`2`. We can see, that all heat provided by the hot side is transferred to the cold side. However, in this process it is not possible to reach the same temperature level on the cold side as on the hot side. Reversing the heat transfer is for the same reason not possible: You cannot transfer heat against the direction of the temperature gradient. That obviously means, that the heat transfer incurs thermodynamic losses. To make them visible, we will again calculate the exergy of each of the flows.\n",
    "\n",
    "As an example we want to have a look at a home heating system that uses centralized distric heat as a source. To separate the district heating system from the home system, a heat exchangers is set in place. The radiator of the home system needs a feed flow temperature of {math}`70` degrees Celsius. By transfering heat to the home, its temperature reduces by {math}`15` Kelvin. The district heating system provides a flow of {math}`5 \\frac{kg}{s}` with a temperature of {math}`90` degrees Celsius. It returns back with a temperature of {math}`50` degrees Celsius.\n"
   ]
  },
  {
   "cell_type": "code",
   "execution_count": 1,
   "metadata": {},
   "outputs": [],
   "source": [
    "from CoolProp.CoolProp import PropsSI as PSI\n",
    "\n",
    "# Properties of hot side fluid\n",
    "fluid_1 = 'water'\n",
    "m_dot_1 = 1  # kg/s\n",
    "p_1 = (1.013 + 8) * 1e5  # Pa\n",
    "T_in_1 = 90 + 273.15  # K\n",
    "T_out_1 = 50 + 273.15  # K\n",
    "\n",
    "# Properties of cold side fluid\n",
    "fluid_2 = 'water'\n",
    "p_2 = 1.013 * 1e5  # Pa\n",
    "T_in_2 = 55 + 273.15  # K\n",
    "T_out_2 = 70 + 273.15  # K\n"
   ]
  },
  {
   "attachments": {},
   "cell_type": "markdown",
   "metadata": {},
   "source": [
    "Let's find out how much water is flowing through the home heating system. To employ equation {eq}`heat-exchanger-energy-balance`, we have to get the specific enthalpies of our fluids."
   ]
  },
  {
   "cell_type": "code",
   "execution_count": 2,
   "metadata": {},
   "outputs": [
    {
     "data": {
      "text/plain": [
       "2.668658947365666"
      ]
     },
     "execution_count": 2,
     "metadata": {},
     "output_type": "execute_result"
    }
   ],
   "source": [
    "h_in_1 = PSI('H', 'P', p_1, 'T', T_in_1, fluid_1)\n",
    "h_out_1 = PSI('H', 'P', p_1, 'T', T_out_1, fluid_1)\n",
    "\n",
    "h_in_2 = PSI('H', 'P', p_2, 'T', T_in_2, fluid_2)\n",
    "h_out_2 = PSI('H', 'P', p_2, 'T', T_out_2, fluid_2)\n",
    "\n",
    "m_dot_2 = m_dot_1 * (h_out_1 - h_in_1) / -(h_out_2 - h_in_2)\n",
    "m_dot_2"
   ]
  },
  {
   "cell_type": "markdown",
   "metadata": {},
   "source": [
    "\n",
    "```{tip}\n",
    "We have provided the function to calculate the exergy in a scripts folder, so we can import it from there instead of redefining it here.\n",
    "```"
   ]
  },
  {
   "cell_type": "code",
   "execution_count": 6,
   "metadata": {},
   "outputs": [
    {
     "ename": "ModuleNotFoundError",
     "evalue": "No module named 'scripts.utilities'",
     "output_type": "error",
     "traceback": [
      "\u001b[1;31m---------------------------------------------------------------------------\u001b[0m",
      "\u001b[1;31mModuleNotFoundError\u001b[0m                       Traceback (most recent call last)",
      "Cell \u001b[1;32mIn [6], line 1\u001b[0m\n\u001b[1;32m----> 1\u001b[0m \u001b[38;5;28;01mfrom\u001b[39;00m \u001b[38;5;21;01mscripts\u001b[39;00m\u001b[38;5;21;01m.\u001b[39;00m\u001b[38;5;21;01mutilities\u001b[39;00m \u001b[38;5;28;01mimport\u001b[39;00m calc_physical_exergy\n",
      "\u001b[1;31mModuleNotFoundError\u001b[0m: No module named 'scripts.utilities'"
     ]
    }
   ],
   "source": [
    "# from scripts.utilities import calc_physical_exergy\n",
    "\n",
    "\n",
    "# ex_in_1\n",
    "# ex_in_2\n",
    "# ex_out_2\n",
    "# ex_out_3"
   ]
  },
  {
   "cell_type": "code",
   "execution_count": null,
   "metadata": {},
   "outputs": [],
   "source": [
    "# from CoolProp.CoolProp import PropsSI as PSI\n",
    "\n",
    "# # Properties of hot side fluid\n",
    "# fluid_1 = 'air'\n",
    "# m_dot_1 = 10  # kg/s\n",
    "# p_1 = 1.013 * 1e5  # Pa\n",
    "# T_in_1 = 100 + 273.15  # K\n",
    "\n",
    "# # Properties of cold side fluid\n",
    "# fluid_2 = 'air'\n",
    "# m_dot_1 = 9  # kg/s\n",
    "# p_2 = 1.013 * 1e5  # Pa\n",
    "# T_in_2 = 10 + 273.15  # K\n",
    "# dT_terminal = 5  # K\n"
   ]
  },
  {
   "cell_type": "markdown",
   "metadata": {},
   "source": [
    "## Lessons Learned\n",
    "\n",
    "- What did you learn?\n",
    "- What should you be able to apply yourself?"
   ]
  }
 ],
 "metadata": {
  "kernelspec": {
   "display_name": "tespy_opt",
   "language": "python",
   "name": "python3"
  },
  "language_info": {
   "codemirror_mode": {
    "name": "ipython",
    "version": 3
   },
   "file_extension": ".py",
   "mimetype": "text/x-python",
   "name": "python",
   "nbconvert_exporter": "python",
   "pygments_lexer": "ipython3",
   "version": "3.11.0"
  },
  "vscode": {
   "interpreter": {
    "hash": "0f281374b50e679d88fcb4ad29fb1a86aa2bf4771de933c7e1627fe937943f09"
   }
  },
  "widgets": {
   "application/vnd.jupyter.widget-state+json": {
    "state": {},
    "version_major": 2,
    "version_minor": 0
   }
  }
 },
 "nbformat": 4,
 "nbformat_minor": 4
}
