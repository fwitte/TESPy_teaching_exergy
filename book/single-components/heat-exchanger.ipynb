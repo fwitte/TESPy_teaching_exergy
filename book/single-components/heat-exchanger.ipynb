{
 "cells": [
  {
   "cell_type": "markdown",
   "metadata": {},
   "source": [
    "# Heat Exchanger\n",
    "\n",
    "Story/Vorturnen\n",
    "\n",
    "- Adiabaten Wärmetauscher, der Wärme vollständig von Fluid a auf Fluid b transportiert\n",
    "- Wo ist da ein Energieverlust?\n",
    "- Beispiel mit Temperaturen/Temperaturniveaus, es ist nicht umkehrbar!\n",
    "- Exergieanalyse zeigt auch hier Qualitätsverlust\n",
    "- 1 kleines Beispiel für die Berechnung + Plots der Exergieverluste\n",
    "\n",
    "Übung\n",
    "\n",
    "- Berechnung von Fuel/Product/Destruction/Wirkungsgrad (Verweis auf Grundlagen) mit allen T > T0\n",
    "- Änderung von T0 aber immernoch T > T0 analysieren, Parameteranalyse?\n",
    "- Wie spielen Druckverluste eine Rolle?\n",
    "- Kondensation/Verdampfung?\n",
    "- Wärmeübetragung vollständig unter T0 berechnen, hierzu Story erzählen, was Nutzen und Aufwand sind.\n",
    "\n",
    "## Introduction\n",
    "\n",
    "A heat exchanger is used to transfer heat from one fluid to a different one. We can write the energy balance for the component assuming, that no heat is lost to the ambient.\n",
    "\n",
    "```{math}\n",
    "    :label: heat-exchanger-energy-balance\n",
    "    0 = \\dot m_1 \\cdot \\left(h_\\text{1,out} - h_\\text{1,in}\\right) - \\dot m_2 \\cdot \\left(h_\\text{2,out} - h_\\text{2,in}\\right)\n",
    "```\n",
    "\n",
    "The hot side {math}`1` transfers heat to the cold side {math}`2`. We can see, that all heat provided by the hot side is transferred to the cold side. However, in this process it is not possible to reach the same temperature level on the cold side as on the hot side. Reversing the heat transfer is for the same reason not possible: You cannot transfer heat against the direction of the temperature gradient. That obviously means, that the heat transfer incurs thermodynamic losses. To make them visible, we will again calculate the exergy of each of the flows.\n",
    "\n",
    "```{tip}\n",
    "We have provided the function to calculate the exergy in a scripts folder, so we can import it from there instead of redefining it here.\n",
    "```"
   ]
  },
  {
   "cell_type": "code",
   "execution_count": 6,
   "metadata": {},
   "outputs": [
    {
     "ename": "ModuleNotFoundError",
     "evalue": "No module named 'scripts.utilities'",
     "output_type": "error",
     "traceback": [
      "\u001b[1;31m---------------------------------------------------------------------------\u001b[0m",
      "\u001b[1;31mModuleNotFoundError\u001b[0m                       Traceback (most recent call last)",
      "Cell \u001b[1;32mIn [6], line 1\u001b[0m\n\u001b[1;32m----> 1\u001b[0m \u001b[38;5;28;01mfrom\u001b[39;00m \u001b[38;5;21;01mscripts\u001b[39;00m\u001b[38;5;21;01m.\u001b[39;00m\u001b[38;5;21;01mutilities\u001b[39;00m \u001b[38;5;28;01mimport\u001b[39;00m calc_physical_exergy\n",
      "\u001b[1;31mModuleNotFoundError\u001b[0m: No module named 'scripts.utilities'"
     ]
    }
   ],
   "source": [
    "# from scripts.utilities import calc_physical_exergy\n",
    "\n",
    "\n",
    "# ex_in_1\n",
    "# ex_in_2\n",
    "# ex_out_2\n",
    "# ex_out_3"
   ]
  },
  {
   "cell_type": "markdown",
   "metadata": {},
   "source": [
    "## Lessons Learned\n",
    "\n",
    "- What did you learn?\n",
    "- What should you be able to apply yourself?"
   ]
  }
 ],
 "metadata": {
  "kernelspec": {
   "display_name": "Python 3 (ipykernel)",
   "language": "python",
   "name": "python3"
  },
  "language_info": {
   "codemirror_mode": {
    "name": "ipython",
    "version": 3
   },
   "file_extension": ".py",
   "mimetype": "text/x-python",
   "name": "python",
   "nbconvert_exporter": "python",
   "pygments_lexer": "ipython3",
   "version": "3.9.13"
  },
  "widgets": {
   "application/vnd.jupyter.widget-state+json": {
    "state": {},
    "version_major": 2,
    "version_minor": 0
   }
  }
 },
 "nbformat": 4,
 "nbformat_minor": 4
}
