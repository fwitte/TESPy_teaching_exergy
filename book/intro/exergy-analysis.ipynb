{
 "cells": [
  {
   "cell_type": "markdown",
   "metadata": {},
   "source": [
    "# Fundamentals of Exergy Analysis\n",
    "\n",
    "## Physical Exergy\n",
    "\n",
    "Following the definitions in {cite}`Morosuk2019`, phyical exergy can be splitted into two shares:\n",
    "\n",
    "- the mechanical exergy, eq. {eq}`mechanical-exergy` and\n",
    "- the thermal exergy, eq. {eq}`thermal-exergy`.\n",
    "\n",
    "The physical exergy is the sum of both shares eq. {eq}`physical-exergy`.\n",
    "\n",
    "```{math}\n",
    "    :label: thermal-exergy\n",
    "    e^\\mathrm{T} = \\left( h - h \\left( p, T_0 \\right) \\right) -\n",
    "    T_0 \\cdot \\left(s - s\\left(p, T_0\\right)\\right)\n",
    "```\n",
    "\n",
    "\n",
    "```{math}\n",
    "    :label: mechanical-exergy\n",
    "    e^\\mathrm{M}=\\left(h\\left(p,T_0\\right)-h\\left(p_0,T_0\\right)\\right)\n",
    "    -T_0\\cdot\\left(s\\left(p, T_0\\right)-s\\left(p_0,T_0\\right)\\right)\n",
    "```\n",
    "\n",
    "```{math}\n",
    "    :label: physical-exergy\n",
    "    e^\\mathrm{PH} = e^\\mathrm{T} + e^\\mathrm{M}\n",
    "```\n",
    "\n",
    "## Chemical Exergy\n",
    "\n",
    "## Exergy Balances"
   ]
  }
 ],
 "metadata": {
  "kernelspec": {
   "display_name": "Python 3 (ipykernel)",
   "language": "python",
   "name": "python3"
  },
  "language_info": {
   "codemirror_mode": {
    "name": "ipython",
    "version": 3
   },
   "file_extension": ".py",
   "mimetype": "text/x-python",
   "name": "python",
   "nbconvert_exporter": "python",
   "pygments_lexer": "ipython3",
   "version": "3.9.13"
  },
  "widgets": {
   "application/vnd.jupyter.widget-state+json": {
    "state": {},
    "version_major": 2,
    "version_minor": 0
   }
  }
 },
 "nbformat": 4,
 "nbformat_minor": 4
}
