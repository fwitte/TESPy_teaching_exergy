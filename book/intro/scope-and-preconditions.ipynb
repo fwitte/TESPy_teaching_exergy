{
 "cells": [
  {
   "cell_type": "markdown",
   "metadata": {},
   "source": [
    "# Goals and Scope of the Course\n",
    "\n",
    "## Target Group of the Workshop\n",
    "\n",
    "- Is interested in the exergy concept and wants to get a hands on experience\n",
    "- Have basic programming/scrpting knowledge\n",
    "- Have thermodynamic knowledge\n",
    "- Have heard of exergy \n",
    "\n",
    "## Scope of the Course\n",
    "\n",
    "- Get a hand on experience on modeling thermodynamic proceseses\n",
    "- Build own expertise to carry out exergy analysis\n",
    "- Learn that TESPy can do a lot of work for you\n",
    "\n",
    "## Target Group of the Paper\n",
    "\n",
    "- People who teach exergy\n",
    "\n",
    "## Scope of the Paper\n",
    "\n",
    "- What kind of course do we offer? -> Target Group/Scope of the Course\n",
    "- Didactival concept\n",
    "- Why TESPy\n",
    "- Exergy and TESPy are a match\n",
    "\n",
    "(We have some stuff in the Energies paper, that we might use for this paper)\n",
    "\n",
    "\n",
    "Ziel des Kapitels:\n",
    "- Welche Vorraussetzungen werden erwartet?\n",
    "- Verweise zu anderen Literaturstellen, die notwendige Grundlagen behandeln.\n",
    "- Was wird gelehrt?\n",
    "- Schaffung einer Basis, auf der der Kurs im Alleinstudium durchgezogen werden kann.\n",
    "\n",
    "In Kürze beschreiben:\n",
    "- Aufbau und Zielen des Kurses\n",
    "- Scope der genutzten Software (CoolProp, TESPy, ...)\n",
    "- Stoffwertedaten, Komponentenbasierte Simulation, Numerik\n",
    "- Kurzeinführung in Begriffe und grundlegende Gleichungen\n"
   ]
  }
 ],
 "metadata": {
  "kernelspec": {
   "display_name": "Python 3 (ipykernel)",
   "language": "python",
   "name": "python3"
  },
  "language_info": {
   "codemirror_mode": {
    "name": "ipython",
    "version": 3
   },
   "file_extension": ".py",
   "mimetype": "text/x-python",
   "name": "python",
   "nbconvert_exporter": "python",
   "pygments_lexer": "ipython3",
   "version": "3.9.13"
  },
  "widgets": {
   "application/vnd.jupyter.widget-state+json": {
    "state": {},
    "version_major": 2,
    "version_minor": 0
   }
  }
 },
 "nbformat": 4,
 "nbformat_minor": 4
}
