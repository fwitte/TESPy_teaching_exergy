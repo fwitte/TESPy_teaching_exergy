{
 "cells": [
  {
   "cell_type": "code",
   "execution_count": null,
   "outputs": [],
   "source": [
    "# This is a Heading\n",
    "\n",
    "## This is a subheading\n",
    "\n",
    "### Subsubheading\n",
    "\n",
    "`emphasis`\n",
    "\n",
    "### Abbildungen\n",
    "\n",
    "<img\n",
    "     src=\"./figures/LaTeX.svg\"\n",
    "     alt=\"Markdown Monster icon\"\n",
    "     width=\"100\"\n",
    "/>\n",
    "\n",
    "### Gleichungen\n",
    "\n",
    "\\begin{equation}\n",
    "    \\dot E_\\text{Q} = \\dot Q \\cdot \\left(1 - \\frac{T_\\text{amb}}{T_\\text{Q}}\\right)\n",
    "\\end{equation}\n",
    "\n",
    "Referenz zu Gleichung geht leider nicht automatisch :(!\n",
    "\n",
    "### Bulletpoints\n",
    "\n",
    "- a\n",
    "- b\n",
    "- c\n",
    "\n",
    "### Numbered lists\n",
    "\n",
    "1. a\n",
    "2. b\n",
    "3. c\n"
   ],
   "metadata": {
    "collapsed": false
   }
  }
 ],
 "metadata": {
  "language_info": {
   "name": "python"
  },
  "orig_nbformat": 4
 },
 "nbformat": 4,
 "nbformat_minor": 2
}
