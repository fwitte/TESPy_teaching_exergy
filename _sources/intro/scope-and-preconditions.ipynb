{
 "cells": [
  {
   "cell_type": "markdown",
   "metadata": {},
   "source": [
    "# Goals and Scope of the Course\n",
    "\n",
    "## Target Group\n",
    "\n",
    "- Is interested in the exergy concept and wants to get a hands on experience\n",
    "- Have basic programming/scrpting knowledge\n",
    "- Have thermodynamic knowledge\n",
    "- Have heard of exergy \n",
    "\n",
    "## Scope\n",
    "\n",
    "- Get a hand on experience on modeling thermodynamic proceseses\n",
    "- Build own expertise to carry out exergy analysis\n",
    "- Learn that TESPy can do a lot of work for you\n",
    "- Schaffung einer Basis, auf der der Kurs im Alleinstudium durchgezogen werden kann.\n",
    "\n",
    "## Preconditions\n",
    "\n",
    "- Python\n",
    "- Thermodynamik...\n",
    "- Verweise zu Grundlagenliteraturstellen\n",
    "\n",
    "# Link to the Paper\n",
    "\n",
    "\n"
   ]
  }
 ],
 "metadata": {
  "kernelspec": {
   "display_name": "Python 3 (ipykernel)",
   "language": "python",
   "name": "python3"
  },
  "language_info": {
   "codemirror_mode": {
    "name": "ipython",
    "version": 3
   },
   "file_extension": ".py",
   "mimetype": "text/x-python",
   "name": "python",
   "nbconvert_exporter": "python",
   "pygments_lexer": "ipython3",
   "version": "3.9.13"
  },
  "widgets": {
   "application/vnd.jupyter.widget-state+json": {
    "state": {},
    "version_major": 2,
    "version_minor": 0
   }
  }
 },
 "nbformat": 4,
 "nbformat_minor": 4
}
