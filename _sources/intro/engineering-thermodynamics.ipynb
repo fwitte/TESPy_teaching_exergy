{
 "cells": [
  {
   "attachments": {},
   "cell_type": "markdown",
   "metadata": {},
   "source": [
    "(intro_engineering_thermodynamics)=\n",
    "\n",
    "# Engineering Thermodynamics\n",
    "\n",
    "## Introduction\n",
    "\n",
    "## Thermodynamic States\n",
    "\n",
    "- Pure fluids\n",
    "- Gaseous mixtures\n",
    "- Condensation of water\n",
    "\n",
    "## Thermodynamic Processes\n",
    "\n",
    "- Open Systems\n",
    "  - Isobaric\n",
    "  - Isenthalpic\n",
    "  - Adiabatic\n",
    "  - Isentropic\n",
    "\n",
    "## Component Energy Balances\n",
    "\n",
    "- General energy balance equation\n",
    "- Turbomachinery\n",
    "- Heat exchangers\n",
    "- Combustion processes\n",
    "\n",
    "## Excursion: Numerical Methods\n",
    "\n",
    "- Where and why?\n",
    "- Root finding methods single dimension\n",
    "- Multidimensional root finding\n"
   ]
  }
 ],
 "metadata": {
  "kernelspec": {
   "display_name": "Python 3 (ipykernel)",
   "language": "python",
   "name": "python3"
  },
  "language_info": {
   "codemirror_mode": {
    "name": "ipython",
    "version": 3
   },
   "file_extension": ".py",
   "mimetype": "text/x-python",
   "name": "python",
   "nbconvert_exporter": "python",
   "pygments_lexer": "ipython3",
   "version": "3.9.13"
  },
  "widgets": {
   "application/vnd.jupyter.widget-state+json": {
    "state": {},
    "version_major": 2,
    "version_minor": 0
   }
  }
 },
 "nbformat": 4,
 "nbformat_minor": 4
}
