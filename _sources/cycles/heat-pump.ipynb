{
 "cells": [
  {
   "attachments": {},
   "cell_type": "markdown",
   "metadata": {},
   "source": [
    "(heat-pump-label)=\n",
    "\n",
    "# Heat Pump\n",
    "\n",
    "## Introduction\n",
    "\n",
    "```{figure} /figures/heat_pump.svg\n",
    "---\n",
    "name: heat-pump-flowsheet\n",
    "---\n",
    "Flow sheet of the simplest implementation of a heat pump.\n",
    "```\n",
    "\n",
    "As the final simple thermodynamic cycle, a heat pump will be subject of the exergy analysis. Heat pumps are a promising technology in the process of climate change mitigation, because they can replace conventional fossil fuel based heating plants. As heat pumps are scalable, they can be used in households and building, as well as whole neighbourhoods and in district heating systems. A heat pump employs the well known refrigeration cycle (see {numref}`heat-pump-flowsheet`), but instead uses the heat that is transfered out of the system. For the cycle to work, heat has to be transferred into the system at a lower temperature level and through the input of work can be transferred out on a higher temperature level. The resulting energy balance of a heat pump is displayed in Eq. {eq}`heat-pump-energy-balance`.\n",
    "\n",
    "\n",
    "```{math}\n",
    "    :label: heat-pump-energy-balance\n",
    "    0 = Q_{in} + Q_{out} + W_{in}\n",
    "```\n",
    "\n",
    "As traditionally is done with heat engines, the benefit of a cycle can be put in to relation with the necessary input. Formalizing this expression yields the so called coefficient of performance of a heat pump, as is shown in Eq. {eq}`heat-pump-coefficient-of-performance`. From the energy balance {eq}`heat-pump-energy-balance` we can infer, that the outgoing heat is the sum of the work and heat put in. This means, that the $COP$ must be greater than {math}`1`, in contrast to the thermal efficiency of heat engines.\n",
    "\n",
    "```{math}\n",
    "    :label: heat-pump-coefficient-of-performance\n",
    "    COP = \\frac{Q_{out}}{W_{in}}\n",
    "```\n",
    "\n",
    "Coming from thermal efficiencies of heat engines, this can seem to be in conflict the laws of thermodynamics. We get more heat from the cycle than work needs to be put in. There only has to be an ambient heat source supply heat at a lower temperature. To reveal the thermodynamic losses occuring in this process and to show that the cycle is no perpetuum mobile, we can analyze the exergy flows.\n",
    "\n",
    "At first, we have to define the fuel and the product of the heat pump cycle. As described above, the benefit of the cycle is the heat transfered out of the system, which makes it the product. The necessary fuels logically are the heat and work inputs. Added to the compressor work are necessary supplemental work inputs like recirculation pumps. With these defined, we can start to build the heat pump model."
   ]
  },
  {
   "attachments": {},
   "cell_type": "markdown",
   "metadata": {},
   "source": [
    "(heat-pump-exercise-1)=\n",
    "\n",
    "## Exercise 1\n",
    "\n",
    "1. Build a simple heat pump model using ammonia with TESPy according to the flowsheet in {numref}`heat-pump-flowsheet`, but add a water fed heat source (the hot side of the evaporator) and a consumer cycle as the heat sink (the cold side of the condenser). Parametrize the model according to the description as shown in {numref}`heat-pump-param`.\n",
    "2. Execute the exergy analysis for the heat pump model. Visualize how each component destroyes part of the fuel exergy through a waterfall diagram. Analyze the influence of the compressors isentropic efficiency, as well as that of the heat exchangers terminal temperature differences.\n",
    "3. Analyze the impact of the ambient temperature level on the components and total efficiency.\n",
    "\n",
    "```{list-table} Parametrization of the heat pump\n",
    ":header-rows: 1\n",
    ":name: heat-pump-param\n",
    "\n",
    "* - Description\n",
    "  - Parameter\n",
    "  - Value\n",
    "  - Unit\n",
    "* - Compressor\n",
    "  - Isentropic efficiency\n",
    "  - 75\n",
    "  - \\%\n",
    "* - \n",
    "  - Motor efficiency\n",
    "  - 96\n",
    "  - \\%\n",
    "* - Pumps\n",
    "  - Isentropic efficiency\n",
    "  - 80\n",
    "  - \\%\n",
    "* - \n",
    "  - Motor efficiency\n",
    "  - 96\n",
    "  - \\%\n",
    "* - All Heat Exchangers\n",
    "  - Pressure losses\n",
    "  - 2\n",
    "  - \\%\n",
    "* - \n",
    "  - Terminal temperature difference\n",
    "  - 2\n",
    "  - K\n",
    "* - Heat Sink\n",
    "  - Nominal heat demand\n",
    "  - -500\n",
    "  - kW\n",
    "* - \n",
    "  - Feed flow temperature\n",
    "  - 70\n",
    "  - °C\n",
    "* - \n",
    "  - Back flow temperature\n",
    "  - 50\n",
    "  - °C\n",
    "* - \n",
    "  - System pressure\n",
    "  - 10\n",
    "  - bar\n",
    "* - Heat Source\n",
    "  - Incoming temperature\n",
    "  - 10\n",
    "  - °C\n",
    "* - \n",
    "  - Temperature reduction\n",
    "  - 5\n",
    "  - K\n",
    "* - \n",
    "  - System pressure\n",
    "  - 1.013\n",
    "  - bar\n",
    "```"
   ]
  },
  {
   "attachments": {},
   "cell_type": "markdown",
   "metadata": {},
   "source": [
    "```{note}\n",
    "\n",
    "If you are heaving trouble with the simulation not converging, try setting best guesses for pressures instead of terminal temperature differences and only after a succesful simulation reset the intended values (see also the TESPy tutorial on \n",
    "<a href=\"https://tespy.readthedocs.io/en/dev/tutorials/starting_values.html#tespy-tutorial-starting-values-label\">How to Generate Stable Starting Values</a>).\n",
    "```"
   ]
  },
  {
   "attachments": {},
   "cell_type": "markdown",
   "metadata": {},
   "source": [
    "```{note}\n",
    "\n",
    "If you are encountering problems with specific components during the exergy analysis, try having a look at the individual components <a href=\"https://tespy.readthedocs.io/en/latest/api.html\">API documentation</a> and their respective implementation of the `exergy_balance` method.\n",
    "```"
   ]
  },
  {
   "attachments": {},
   "cell_type": "markdown",
   "metadata": {},
   "source": [
    "### Proposed solution 1.1\n",
    "\n",
    "**First step:** Build the heat pump model topology"
   ]
  },
  {
   "cell_type": "code",
   "execution_count": 212,
   "metadata": {
    "tags": [
     "hide-cell"
    ]
   },
   "outputs": [],
   "source": [
    "from tespy.networks import Network\n",
    "from tespy.connections import Connection, Bus\n",
    "from tespy.components import (\n",
    "    CycleCloser, Source, Sink, Pump, HeatExchanger, Condenser,\n",
    "    HeatExchangerSimple, Compressor, Valve\n",
    "    )\n",
    "\n",
    "# Network\n",
    "refrigerant = 'Ammonia'\n",
    "nw = Network(\n",
    "    fluids=[refrigerant, 'water'],\n",
    "    T_unit='C', p_unit='bar', h_unit='kJ / kg', m_unit='kg / s'\n",
    ")\n",
    "\n",
    "# Components\n",
    "cycle_closer = CycleCloser('Refrigerant Cycle Closer')\n",
    "\n",
    "heatsource_ff = Source('Heat Source Feed Flow')\n",
    "evaporator = HeatExchanger('Evaporator')\n",
    "heatsource_pump = Pump('Heat Source Recirculation Pump')\n",
    "heatsource_bf = Sink('Heat Source Back Flow')\n",
    "\n",
    "compressor = Compressor('Compressor')\n",
    "\n",
    "cons_cc = CycleCloser('Consumer Cycle Closer')\n",
    "cons_pump = Pump('Heat Sink Recirculation Pump')\n",
    "condenser = Condenser('Condenser')\n",
    "cons_heatsink = HeatExchangerSimple('Heat Consumer')\n",
    "\n",
    "valve = Valve('Expansion Valve')\n",
    "\n",
    "# Connections\n",
    "cond2cc = Connection(condenser, 'out1', cycle_closer, 'in1', label='00')\n",
    "cc2valve = Connection(cycle_closer, 'out1', valve, 'in1', label='01')\n",
    "valve2eva = Connection(valve, 'out1', evaporator, 'in2', label='02')\n",
    "\n",
    "nw.add_conns(cond2cc, cc2valve, valve2eva)\n",
    "\n",
    "hs_ff2evap = Connection(heatsource_ff, 'out1', evaporator, 'in1', label='21')\n",
    "evap2hs_pump = Connection(evaporator, 'out1', heatsource_pump, 'in1', label='22')\n",
    "hs_pump2hs_bf = Connection(heatsource_pump, 'out1', heatsource_bf, 'in1', label='23')\n",
    "\n",
    "nw.add_conns(hs_ff2evap, evap2hs_pump, hs_pump2hs_bf)\n",
    "\n",
    "evap2comp = Connection(evaporator, 'out2', compressor, 'in1', label='03')\n",
    "comp2cond = Connection(compressor, 'out1', condenser, 'in1', label='04')\n",
    "\n",
    "nw.add_conns(evap2comp, comp2cond)\n",
    "\n",
    "cons_cc2cons_pump = Connection(cons_cc, 'out1', cons_pump, 'in1', label='30')\n",
    "cons_pump2cond = Connection(cons_pump, 'out1', condenser, 'in2', label='31')\n",
    "cond2cons_hs = Connection(condenser, 'out2', cons_heatsink, 'in1', label='32')\n",
    "cons_hs2cons_cc = Connection(cons_heatsink, 'out1', cons_cc, 'in1', label='33')\n",
    "\n",
    "nw.add_conns(cons_cc2cons_pump, cons_pump2cond, cond2cons_hs, cons_hs2cons_cc)"
   ]
  },
  {
   "attachments": {},
   "cell_type": "markdown",
   "metadata": {},
   "source": [
    "**Second step:** Set the heat pumps process parameters and starting values. After that define the energy busses and solve model with starting and final values."
   ]
  },
  {
   "cell_type": "code",
   "execution_count": 213,
   "metadata": {
    "tags": [
     "hide-cell"
    ]
   },
   "outputs": [
    {
     "name": "stdout",
     "output_type": "stream",
     "text": [
      "COP = 3.060\n"
     ]
    }
   ],
   "source": [
    "from CoolProp.CoolProp import PropsSI as PSI\n",
    "from tespy.tools import ExergyAnalysis\n",
    "\n",
    "# Component parameters\n",
    "compressor.set_attr(eta_s=0.75)\n",
    "cons_pump.set_attr(eta_s=0.8)\n",
    "heatsource_pump.set_attr(eta_s=0.8)\n",
    "\n",
    "evaporator.set_attr(pr1=0.98, pr2=0.98)\n",
    "condenser.set_attr(pr1=0.98, pr2=0.98)\n",
    "cons_heatsink.set_attr(pr=0.98, Q=-500e3, dissipative=False)\n",
    "\n",
    "# Connection parameters\n",
    "cond2cons_hs.set_attr(T=70, p=10, fluid={refrigerant: 0, 'water': 1})\n",
    "cons_hs2cons_cc.set_attr(T=50)\n",
    "\n",
    "hs_ff2evap.set_attr(T=10, p=1.013, fluid={refrigerant: 0, 'water': 1})\n",
    "evap2hs_pump.set_attr(T=5)\n",
    "hs_pump2hs_bf.set_attr(p=1.013)\n",
    "\n",
    "evap2comp.set_attr(x=1, fluid={refrigerant: 1, 'water': 0})\n",
    "\n",
    "# Starting values\n",
    "p_evap = PSI('P', 'Q', 1, 'T', 5 - 2 + 273.15, refrigerant)\n",
    "evap2comp.set_attr(p=p_evap*1e-5)\n",
    "\n",
    "p_cond = PSI('P', 'Q', 0, 'T', 70 + 2 + 273.15, refrigerant)\n",
    "cond2cc.set_attr(p=p_cond*1e-5)\n",
    "\n",
    "# Busses\n",
    "heat_in = Bus('Heat Input')\n",
    "heat_in.add_comps(\n",
    "    {'comp': heatsource_ff, 'base': 'bus'},\n",
    "    {'comp': heatsource_bf, 'base': 'component'}\n",
    "    )\n",
    "\n",
    "heat_out = Bus('Heat Output')\n",
    "heat_out.add_comps(\n",
    "    {'comp': cons_heatsink, 'base': 'component'})\n",
    "\n",
    "power_in = Bus('Power Input')\n",
    "power_in.add_comps(\n",
    "    {'comp': compressor, 'char': 0.96, 'base': 'bus'},\n",
    "    {'comp': heatsource_pump, 'char': 0.96, 'base': 'bus'},\n",
    "    {'comp': cons_pump, 'char': 0.96, 'base': 'bus'}\n",
    "    )\n",
    "\n",
    "nw.add_busses(heat_in, heat_out, power_in)\n",
    "\n",
    "# Initial solve with starting values\n",
    "nw.set_attr(iterinfo=False)\n",
    "nw.solve('design')\n",
    "\n",
    "# Final solve \n",
    "evap2comp.set_attr(p=None)\n",
    "evaporator.set_attr(ttd_l=2)\n",
    "\n",
    "cond2cc.set_attr(p=None)\n",
    "condenser.set_attr(ttd_u=2)\n",
    "\n",
    "nw.solve('design')\n",
    "print(f'COP = {abs(heat_out.P.val)/power_in.P.val:.3f}')\n"
   ]
  },
  {
   "attachments": {},
   "cell_type": "markdown",
   "metadata": {},
   "source": [
    "### Proposed solution 1.2\n",
    "\n",
    "**First step:** Create and execute `ExergyAnalysis` instance"
   ]
  },
  {
   "cell_type": "code",
   "execution_count": 214,
   "metadata": {
    "tags": [
     "hide-cell"
    ]
   },
   "outputs": [
    {
     "name": "stdout",
     "output_type": "stream",
     "text": [
      "##### RESULTS: Aggregation of components and busses #####\n",
      "+--------------------------------+-------------+-------------+-------------+-------------+-------------+-------------+\n",
      "|                                |         E_F |         E_P |         E_D |     epsilon |        y_Dk |       y*_Dk |\n",
      "|--------------------------------+-------------+-------------+-------------+-------------+-------------+-------------|\n",
      "| Condenser                      |   8.577e+04 |   5.238e+04 |   3.339e+04 |   6.107e-01 |   2.351e-01 |   3.725e-01 |\n",
      "| Compressor                     |   1.640e+05 |   1.316e+05 |   3.237e+04 |   8.025e-01 |   2.279e-01 |   3.612e-01 |\n",
      "| Expansion Valve                |   4.488e+04 |   2.820e+04 |   1.668e+04 |   6.284e-01 |   1.174e-01 |   1.861e-01 |\n",
      "| Evaporator                     |   2.840e+04 |   2.141e+04 |   6.989e+03 |   7.539e-01 |   4.921e-02 |   7.798e-02 |\n",
      "| Heat Consumer                  |   5.251e+04 |   5.239e+04 |   1.198e+02 |   9.977e-01 |   8.436e-04 |   1.337e-03 |\n",
      "| Heat Sink Recirculation Pump   |   3.181e+02 |   2.490e+02 |   6.906e+01 |   7.829e-01 |   4.863e-04 |   7.706e-04 |\n",
      "| Heat Source Recirculation Pump |   4.380e+01 |   3.320e+01 |   1.060e+01 |   7.581e-01 |   7.461e-05 |   1.182e-04 |\n",
      "| Refrigerant Cycle Closer       | nan         | nan         | nan         | nan         | nan         | nan         |\n",
      "| Heat Source Feed Flow          | nan         | nan         | nan         | nan         | nan         | nan         |\n",
      "| Heat Source Back Flow          | nan         | nan         | nan         | nan         | nan         | nan         |\n",
      "| Consumer Cycle Closer          | nan         | nan         | nan         | nan         | nan         | nan         |\n",
      "+--------------------------------+-------------+-------------+-------------+-------------+-------------+-------------+\n",
      "##### RESULTS: Network exergy analysis #####\n",
      "+-----------+-----------+-----------+-----------+-----------+\n",
      "|       E_F |       E_P |       E_D |       E_L |   epsilon |\n",
      "|-----------+-----------+-----------+-----------+-----------|\n",
      "| 1.420e+05 | 5.239e+04 | 8.963e+04 | 0.000e+00 | 3.689e-01 |\n",
      "+-----------+-----------+-----------+-----------+-----------+\n"
     ]
    }
   ],
   "source": [
    "from tespy.tools import ExergyAnalysis\n",
    "\n",
    "ean = ExergyAnalysis(network=nw, E_F=[heat_in, power_in], E_P=[heat_out])\n",
    "ean.analyse(pamb=1.013, Tamb=25)\n",
    "ean.print_results(groups=False, connections=False, components=False, busses=False)"
   ]
  },
  {
   "attachments": {},
   "cell_type": "markdown",
   "metadata": {},
   "source": [
    "**Second step:** Prepare data and plot waterfall diagram of the heat pump process"
   ]
  },
  {
   "cell_type": "code",
   "execution_count": 215,
   "metadata": {
    "tags": [
     "hide-cell"
    ]
   },
   "outputs": [
    {
     "data": {
      "image/png": "[encoded data removed]",
      "text/plain": [
       "<Figure size 576x432 with 1 Axes>"
      ]
     },
     "metadata": {
      "needs_background": "light"
     },
     "output_type": "display_data"
    }
   ],
   "source": [
    "import matplotlib.pyplot as plt\n",
    "import numpy as np\n",
    "\n",
    "comps = ['Fuel Exergy']\n",
    "E_F = ean.network_data.E_F\n",
    "E_D = [0]\n",
    "E_P = [E_F]\n",
    "for comp in ean.aggregation_data.index:\n",
    "    # only plot components with exergy destruction > 1 W\n",
    "    if ean.aggregation_data.E_D[comp] > 1 :\n",
    "        comps.append(comp)\n",
    "        E_D.append(ean.aggregation_data.E_D[comp])\n",
    "        E_F = E_F - ean.aggregation_data.E_D[comp]\n",
    "        E_P.append(E_F)\n",
    "comps.append('Product Exergy')\n",
    "E_D.append(0)\n",
    "E_P.append(E_F)\n",
    "\n",
    "E_D = [E * 1e-3 for E in E_D]\n",
    "E_P = [E * 1e-3 for E in E_P]\n",
    "\n",
    "colors_E_P = ['#74ADC0'] * len(comps)\n",
    "colors_E_P[0] = '#00395B'\n",
    "colors_E_P[-1] = '#B54036'\n",
    "\n",
    "fig, ax = plt.subplots(figsize=(8, 6))\n",
    "\n",
    "ax.barh(np.arange(len(comps)), E_P, align='center', color=colors_E_P)\n",
    "ax.barh(np.arange(len(comps)), E_D, align='center', left=E_P, label='E_D', color='#EC6707')\n",
    "\n",
    "ax.legend()\n",
    "ax.annotate(\n",
    "    f'$\\epsilon_{{tot}} = ${ean.network_data[\"epsilon\"]:.3f}', (0.86, 0.04),\n",
    "    xycoords='axes fraction',\n",
    "    ha='left', va='center', color='k',\n",
    "    bbox=dict(boxstyle='round,pad=0.3', fc='white')\n",
    "    )\n",
    "ax.set_xlabel('Exergy in kW')\n",
    "ax.set_yticks(np.arange(len(comps)))\n",
    "ax.set_yticklabels(comps)\n",
    "ax.set_xlim([0, 200])\n",
    "ax.set_xticks(np.linspace(0, 200, 6))\n",
    "ax.invert_yaxis()\n",
    "ax.grid(axis='x')\n",
    "ax.set_axisbelow(True)"
   ]
  },
  {
   "attachments": {},
   "cell_type": "markdown",
   "metadata": {},
   "source": [
    "**Third step:** Variate compressor isentropic efficiency and terminal temperature differences of evaporator and condenser"
   ]
  },
  {
   "cell_type": "code",
   "execution_count": 216,
   "metadata": {
    "tags": [
     "hide-cell"
    ]
   },
   "outputs": [
    {
     "data": {
      "image/png": "[encoded data removed]",
      "text/plain": [
       "<Figure size 1008x1008 with 16 Axes>"
      ]
     },
     "metadata": {
      "needs_background": "light"
     },
     "output_type": "display_data"
    }
   ],
   "source": [
    "def get_ean_results(ean, comps):\n",
    "    E_F = ean.network_data.E_F * 1e-3\n",
    "    E_D = [0]\n",
    "    E_P = [E_F]\n",
    "\n",
    "    for comp in comps[1:-1]:\n",
    "        E_D += [ean.aggregation_data.E_D[comp] * 1e-3]\n",
    "        E_F -= E_D[-1]\n",
    "        E_P += [E_F]\n",
    "\n",
    "    E_D += [0]\n",
    "    E_P += [E_F]\n",
    "\n",
    "    return E_P, E_D\n",
    "\n",
    "eta_s_range = np.linspace(0.65, 0.8, 4)\n",
    "ttd_range = np.arange(2, 10, 2)\n",
    "comps = [\n",
    "    'Fuel Exergy', 'Expansion Valve', 'Evaporator', 'Compressor', 'Condenser',\n",
    "    'Product Exergy'\n",
    "    ]\n",
    "\n",
    "fig, axs = plt.subplots(\n",
    "    len(ttd_range), len(eta_s_range),\n",
    "    sharex=True, sharey=True, figsize=(14, 14)\n",
    "    )\n",
    "axs[0, 0].invert_yaxis()\n",
    "\n",
    "for col, eta_s in enumerate(eta_s_range):\n",
    "    compressor.set_attr(eta_s=eta_s)\n",
    "    for row, ttd in enumerate(ttd_range):\n",
    "        evaporator.set_attr(ttd_l=ttd)\n",
    "        condenser.set_attr(ttd_u=ttd)\n",
    "\n",
    "        nw.solve('design')\n",
    "        ean = ExergyAnalysis(network=nw, E_F=[heat_in, power_in], E_P=[heat_out])\n",
    "        ean.analyse(pamb=1.013, Tamb=25)\n",
    "\n",
    "        E_P, E_D = get_ean_results(ean, comps)\n",
    "\n",
    "        colors_E_P = ['#74ADC0'] * len(comps)\n",
    "        colors_E_P[0] = '#00395B'\n",
    "        colors_E_P[-1] = '#B54036'\n",
    "\n",
    "        axs[row, col].barh(\n",
    "            np.arange(len(comps)), E_P, align='center', color=colors_E_P\n",
    "            )\n",
    "        axs[row, col].barh(\n",
    "            np.arange(len(comps)), E_D, align='center', left=E_P, label='E_D', color='#EC6707'\n",
    "            )\n",
    "\n",
    "        axs[row, col].set_yticks(np.arange(len(comps)))\n",
    "        axs[row, col].set_yticklabels(comps)\n",
    "        axs[row, col].grid(axis='x')\n",
    "        axs[row, col].set_axisbelow(True)\n",
    "        axs[row, col].set_xlim([0, 200])\n",
    "        axs[row, col].set_xticks(np.linspace(0, 200, 5))\n",
    "\n",
    "        axs[row, col].annotate(\n",
    "                    f'$\\epsilon_{{tot}} = ${ean.network_data[\"epsilon\"]:.3f}', (0.635, 0.07),\n",
    "                    xycoords='axes fraction',\n",
    "                    ha='left', va='center', color='k',\n",
    "                    bbox=dict(boxstyle='round,pad=0.3', fc='white')\n",
    "                    )\n",
    "\n",
    "        if row == len(ttd_range)-1:\n",
    "            axs[row, col].set_xlabel(f'Isentropic Efficiency {eta_s:.2f}')\n",
    "        if col == 0:\n",
    "            axs[row, col].set_ylabel(f'Terminal temperature difference {ttd} K')"
   ]
  },
  {
   "attachments": {},
   "cell_type": "markdown",
   "metadata": {},
   "source": [
    "```{admonition} Explanation\n",
    ":class: dropdown\n",
    "\n",
    "Hier könnte ihre Erklärung stehen\n",
    "\n",
    "```"
   ]
  },
  {
   "attachments": {},
   "cell_type": "markdown",
   "metadata": {},
   "source": [
    "### Proposed solution 1.3\n",
    "\n",
    "**First step:** Variate ambient temperature and analyse the effect on total efficiency."
   ]
  },
  {
   "cell_type": "code",
   "execution_count": 217,
   "metadata": {
    "tags": [
     "hide-cell"
    ]
   },
   "outputs": [
    {
     "data": {
      "text/plain": [
       "Text(0.5, 0, 'Exergy in kW')"
      ]
     },
     "execution_count": 217,
     "metadata": {},
     "output_type": "execute_result"
    },
    {
     "data": {
      "image/png": "[encoded data removed]",
      "text/plain": [
       "<Figure size 576x1008 with 4 Axes>"
      ]
     },
     "metadata": {
      "needs_background": "light"
     },
     "output_type": "display_data"
    }
   ],
   "source": [
    "# Reset the isentropic efficiency and terminal temperature differences\n",
    "compressor.set_attr(eta_s=0.75)\n",
    "evaporator.set_attr(ttd_l=2)\n",
    "condenser.set_attr(ttd_u=2)\n",
    "nw.solve('design')\n",
    "\n",
    "T_amb_range = np.linspace(5, 35, 4)\n",
    "comps = [\n",
    "    'Fuel Exergy', 'Expansion Valve', 'Evaporator', 'Compressor', 'Condenser',\n",
    "    'Product Exergy'\n",
    "    ]\n",
    "\n",
    "fig, axs = plt.subplots(len(T_amb_range), 1, sharex=True, sharey=True, figsize=(8, 14))\n",
    "axs[0].invert_yaxis()\n",
    "\n",
    "for row, T_amb in enumerate(T_amb_range):\n",
    "    ean = ExergyAnalysis(network=nw, E_F=[heat_in, power_in], E_P=[heat_out])\n",
    "    ean.analyse(pamb=1.013, Tamb=T_amb)\n",
    "\n",
    "    E_P, E_D = get_ean_results(ean, comps)\n",
    "\n",
    "    colors_E_P = ['#74ADC0'] * len(comps)\n",
    "    colors_E_P[0] = '#00395B'\n",
    "    colors_E_P[-1] = '#B54036'\n",
    "\n",
    "    axs[row].barh(\n",
    "        np.arange(len(comps)), E_P, align='center', color=colors_E_P\n",
    "        )\n",
    "    axs[row].barh(\n",
    "        np.arange(len(comps)), E_D, align='center', left=E_P, label='E_D', color='#EC6707'\n",
    "        )\n",
    "\n",
    "    axs[row].set_yticks(np.arange(len(comps)))\n",
    "    axs[row].set_yticklabels(comps)\n",
    "    axs[row].grid(axis='x')\n",
    "    axs[row].set_axisbelow(True)\n",
    "    axs[row].set_xlim([0, 200])\n",
    "    axs[row].set_xticks(np.linspace(0, 200, 6))\n",
    "\n",
    "    axs[row].annotate(\n",
    "                f'$\\epsilon_{{tot}} = ${ean.network_data[\"epsilon\"]:.3f}', (0.86, 0.075),\n",
    "                xycoords='axes fraction',\n",
    "                ha='left', va='center', color='k',\n",
    "                bbox=dict(boxstyle='round,pad=0.3', fc='white')\n",
    "                )\n",
    "    axs[row].set_ylabel(f'Ambient temperature {T_amb} K')\n",
    "\n",
    "axs[row].set_xlabel('Exergy in kW')"
   ]
  },
  {
   "attachments": {},
   "cell_type": "markdown",
   "metadata": {
    "tags": []
   },
   "source": [
    "**Second step:** Analyze the exergy effect on the components and compare it at different ambient temperatures."
   ]
  },
  {
   "attachments": {},
   "cell_type": "markdown",
   "metadata": {
    "tags": []
   },
   "source": [
    "````{admonition} Comparison of energy and exergy efficiency\n",
    ":class: dropdown\n",
    "\n",
    "```{list-table} Comparison of exergy efficiencies of each components at different ambient temperatures\n",
    ":header-rows: 1\n",
    ":name: result-comparison-exergy-efficiencies-components\n",
    "\n",
    "* - \n",
    "  - 5°C\n",
    "  - 15°C\n",
    "  - 25°C\n",
    "  - 35°C\n",
    "* - Expansion Valve\n",
    "  - 13.8 %\n",
    "  - 48.5 %\n",
    "  - 62.8 %\n",
    "  - 82.3 %\n",
    "* - Evaporator\n",
    "  - 0 %\n",
    "  - 57.6 %\n",
    "  - 75.4 %\n",
    "  - 70.7 %\n",
    "* - Compressor\n",
    "  - 81.2 %\n",
    "  - 80.7 %\n",
    "  - 80.3 %\n",
    "  - 79.8 %\n",
    "* - Condenser\n",
    "  - 72.6 %\n",
    "  - 67.6 %\n",
    "  - 61.1 %\n",
    "  - 52.0 %\n",
    "* - **Total Network**\n",
    "  - **49.5 %**\n",
    "  - **43.7 %**\n",
    "  - **36.9 %**\n",
    "  - **28.8 %**\n",
    "```\n",
    "\n",
    "````"
   ]
  },
  {
   "attachments": {},
   "cell_type": "markdown",
   "metadata": {},
   "source": [
    "```{admonition} Explanation\n",
    ":class: dropdown\n",
    "\n",
    "Hier könnte ihre Erklärung stehen\n",
    "\n",
    "```"
   ]
  },
  {
   "attachments": {},
   "cell_type": "markdown",
   "metadata": {},
   "source": [
    "## Process optimization\n",
    "\n",
    "There are many ways to improve a heat pumps $COP$ by changing the process through the addition of components. A popular topological improvement is the so called *Economizer*, where part of the condensate gets evaporated on an intermediate pressure level and injected between two compressor stages. This is done in order to yield a cooler mixture entering the high pressure compressor and to reduce the final output temperature of the superheated gas. The evaporation of part of the condensate is reached through subcooling of the rest of it via an internal heat exchanger. The topology of this improved heat pump cycle can be seen in the flowsheet depicted in {numref}`heat-pump-econ-flowsheet`.\n",
    "\n",
    "```{figure} /figures/heat_pump_economizer.svg\n",
    "---\n",
    "name: heat-pump-econ-flowsheet\n",
    "---\n",
    "Flow sheet of a heat pump with an economizer.\n",
    "```"
   ]
  },
  {
   "attachments": {},
   "cell_type": "markdown",
   "metadata": {},
   "source": [
    "## Exercise 2\n",
    "\n",
    "Build the heat pump model including the economizer according to the flowsheet (see Figure XX) and the parametrization of {numref}`heat-pump-param`. Additionally you need to set ... Explain the improvement of the heat pumps $COP$ by analyzing the exergy destruction of each component."
   ]
  },
  {
   "attachments": {},
   "cell_type": "markdown",
   "metadata": {},
   "source": [
    "### Proposed solution 2\n",
    "\n",
    "**First step:** Build the extenden heat pump cycle with economizer"
   ]
  },
  {
   "cell_type": "code",
   "execution_count": 218,
   "metadata": {
    "tags": [
     "hide-cell"
    ]
   },
   "outputs": [
    {
     "name": "stdout",
     "output_type": "stream",
     "text": [
      "COP = 3.178\n"
     ]
    }
   ],
   "source": [
    "from tespy.connections import Ref\n",
    "from tespy.components import Merge, Splitter\n",
    "\n",
    "# Network\n",
    "refrigerant = 'Ammonia'\n",
    "nw_econ = Network(\n",
    "    fluids=[refrigerant, 'water'],\n",
    "    T_unit='C', p_unit='bar', h_unit='kJ / kg', m_unit='kg / s'\n",
    ")\n",
    "\n",
    "# Components\n",
    "cycle_closer = CycleCloser('Refrigerant Cycle Closer')\n",
    "split = Splitter('Condensate Splitter')\n",
    "economizer = HeatExchanger('Economizer')\n",
    "valve = Valve('Main Valve')\n",
    "intermediate_valve = Valve('Intermediate Valve')\n",
    "\n",
    "heatsource_ff = Source('Heat Source Feed Flow')\n",
    "evaporator = HeatExchanger('Evaporator')\n",
    "heatsource_pump = Pump('Heat Source Recirculation Pump')\n",
    "heatsource_bf = Sink('Heat Source Back Flow')\n",
    "\n",
    "lp_compressor = Compressor('Low Pressure Compressor')\n",
    "merge = Merge('Injection')\n",
    "hp_compressor = Compressor('High Pressure Compressor')\n",
    "\n",
    "cons_cc = CycleCloser('Consumer Cycle Closer')\n",
    "cons_pump = Pump('Heat Sink Recirculation Pump')\n",
    "condenser = Condenser('Condenser')\n",
    "cons_heatsink = HeatExchangerSimple('Heat Consumer')\n",
    "\n",
    "# Connections\n",
    "cond2cc = Connection(condenser, 'out1', cycle_closer, 'in1', label='00')\n",
    "cc2split = Connection(cycle_closer, 'out1', split, 'in1', label='01')\n",
    "split2econ = Connection(split, 'out1', economizer, 'in1', label='02')\n",
    "econ2main_valve = Connection(economizer, 'out1', valve, 'in1', label='03')\n",
    "main_valve2evap = Connection(valve, 'out1', evaporator, 'in2', label='04')\n",
    "\n",
    "nw_econ.add_conns(cond2cc, cc2split, split2econ, econ2main_valve, main_valve2evap)\n",
    "\n",
    "hs_ff2evap = Connection(heatsource_ff, 'out1', evaporator, 'in1', label='21')\n",
    "evap2hs_pump = Connection(evaporator, 'out1', heatsource_pump, 'in1', label='22')\n",
    "hs_pump2hs_bf = Connection(heatsource_pump, 'out1', heatsource_bf, 'in1', label='23')\n",
    "\n",
    "nw_econ.add_conns(hs_ff2evap, evap2hs_pump, hs_pump2hs_bf)\n",
    "\n",
    "evap2lp_comp = Connection(evaporator, 'out2', lp_compressor, 'in1', label='05')\n",
    "lp_comp2merge = Connection(lp_compressor, 'out1', merge, 'in1', label='06')\n",
    "merge2hp_comp = Connection(merge, 'out1', hp_compressor, 'in1', label='07')\n",
    "hp_comp2cond = Connection(hp_compressor, 'out1', condenser, 'in1', label='08')\n",
    "\n",
    "nw_econ.add_conns(evap2lp_comp, lp_comp2merge, merge2hp_comp, hp_comp2cond)\n",
    "\n",
    "cons_cc2cons_pump = Connection(cons_cc, 'out1', cons_pump, 'in1', label='30')\n",
    "cons_pump2cond = Connection(cons_pump, 'out1', condenser, 'in2', label='31')\n",
    "cond2cons_hs = Connection(condenser, 'out2', cons_heatsink, 'in1', label='32')\n",
    "cons_hs2cons_cc = Connection(cons_heatsink, 'out1', cons_cc, 'in1', label='33')\n",
    "\n",
    "nw_econ.add_conns(cons_cc2cons_pump, cons_pump2cond, cond2cons_hs, cons_hs2cons_cc)\n",
    "\n",
    "split2inter_valve = Connection(split, 'out2', intermediate_valve, 'in1', label='09')\n",
    "inter_valve2econ = Connection(intermediate_valve, 'out1', economizer, 'in2', label='10')\n",
    "econ2merge = Connection(economizer, 'out2', merge, 'in2', label='11')\n",
    "\n",
    "nw_econ.add_conns(split2inter_valve, inter_valve2econ, econ2merge)\n",
    "\n",
    "# Component parameters\n",
    "lp_compressor.set_attr(eta_s=0.75)\n",
    "hp_compressor.set_attr(eta_s=0.75)\n",
    "cons_pump.set_attr(eta_s=0.8)\n",
    "heatsource_pump.set_attr(eta_s=0.8)\n",
    "\n",
    "evaporator.set_attr(pr1=0.98, pr2=0.98)\n",
    "condenser.set_attr(pr1=0.98, pr2=0.98)\n",
    "economizer.set_attr(pr1=0.98, pr2=0.98)\n",
    "cons_heatsink.set_attr(pr=0.98, Q=-500e3, dissipative=False)\n",
    "\n",
    "# Connection parameters\n",
    "cond2cons_hs.set_attr(T=70, p=10, fluid={refrigerant: 0, 'water': 1})\n",
    "cons_hs2cons_cc.set_attr(T=50)\n",
    "\n",
    "hs_ff2evap.set_attr(T=10, p=1.013, fluid={refrigerant: 0, 'water': 1})\n",
    "evap2hs_pump.set_attr(T=5)\n",
    "hs_pump2hs_bf.set_attr(p=1.013)\n",
    "\n",
    "evap2lp_comp.set_attr(x=1)\n",
    "cond2cc.set_attr(fluid={refrigerant: 1, 'water': 0})\n",
    "\n",
    "split2econ.set_attr(m=Ref(hp_comp2cond, 0.85, 0))\n",
    "\n",
    "# Starting values\n",
    "p_evap = PSI('P', 'Q', 1, 'T', 5 - 2 + 273.15, refrigerant) * 1e-5\n",
    "main_valve2evap.set_attr(p=p_evap)\n",
    "p_cond = PSI('P', 'Q', 0, 'T', 70 + 2 + 273.15, refrigerant) * 1e-5\n",
    "hp_comp2cond.set_attr(p=p_cond)\n",
    "p_mid = np.sqrt(p_evap * p_cond)\n",
    "econ2merge.set_attr(p=p_mid, x=1)\n",
    "\n",
    "# Busses\n",
    "heat_in = Bus('Heat Input')\n",
    "heat_in.add_comps(\n",
    "    {'comp': heatsource_ff, 'base': 'bus'},\n",
    "    {'comp': heatsource_bf, 'base': 'component'}\n",
    "    )\n",
    "\n",
    "heat_out = Bus('Heat Output')\n",
    "heat_out.add_comps(\n",
    "    {'comp': cons_heatsink, 'base': 'component'})\n",
    "\n",
    "power_in = Bus('Power Input')\n",
    "power_in.add_comps(\n",
    "    {'comp': lp_compressor, 'char': 0.96, 'base': 'bus'},\n",
    "    {'comp': hp_compressor, 'char': 0.96, 'base': 'bus'},\n",
    "    {'comp': heatsource_pump, 'char': 0.96, 'base': 'bus'},\n",
    "    {'comp': cons_pump, 'char': 0.96, 'base': 'bus'}\n",
    "    )\n",
    "\n",
    "nw_econ.add_busses(heat_in, heat_out, power_in)\n",
    "\n",
    "# # Initial solve with starting values\n",
    "nw_econ.set_attr(iterinfo=False)\n",
    "nw_econ.solve('design')\n",
    "\n",
    "# cc2evap.set_attr(p=None)\n",
    "main_valve2evap.set_attr(p=None)\n",
    "evaporator.set_attr(ttd_l=2)\n",
    "hp_comp2cond.set_attr(p=None)\n",
    "condenser.set_attr(ttd_u=2)\n",
    "\n",
    "nw_econ.solve('design')\n",
    "\n",
    "print(f'COP = {abs(heat_out.P.val)/power_in.P.val:.3f}')"
   ]
  },
  {
   "attachments": {},
   "cell_type": "markdown",
   "metadata": {},
   "source": [
    "**Second step:** Create and execute `ExergyAnalysis` instance and plot the waterfall diagram of the heat pump with economizer"
   ]
  },
  {
   "cell_type": "code",
   "execution_count": 219,
   "metadata": {
    "tags": [
     "hide-cell"
    ]
   },
   "outputs": [
    {
     "data": {
      "image/png": "[encoded data removed]",
      "text/plain": [
       "<Figure size 576x432 with 1 Axes>"
      ]
     },
     "metadata": {
      "needs_background": "light"
     },
     "output_type": "display_data"
    }
   ],
   "source": [
    "ean_econ = ExergyAnalysis(network=nw_econ, E_F=[heat_in, power_in], E_P=[heat_out])\n",
    "ean_econ.analyse(pamb=1.013, Tamb=25)\n",
    "\n",
    "comps = [\n",
    "    'Fuel Exergy', 'Economizer', 'Main Valve', 'Evaporator', 'Low Pressure Compressor', \n",
    "    'Injection', 'High Pressure Compressor', 'Condenser', 'Intermediate Valve', \n",
    "    'Product Exergy'\n",
    "    ]\n",
    "\n",
    "E_P, E_D = get_ean_results(ean_econ, comps)\n",
    "\n",
    "colors_E_P = ['#74ADC0'] * len(comps)\n",
    "colors_E_P[0] = '#00395B'\n",
    "colors_E_P[-1] = '#B54036'\n",
    "\n",
    "fig, ax = plt.subplots(figsize=(8, 6))\n",
    "\n",
    "ax.barh(np.arange(len(comps)), E_P, align='center', color=colors_E_P)\n",
    "ax.barh(np.arange(len(comps)), E_D, align='center', left=E_P, label='E_D', color='#EC6707')\n",
    "\n",
    "ax.legend(loc='lower right')\n",
    "ax.annotate(\n",
    "    f'$\\epsilon_{{tot}} = ${ean_econ.network_data[\"epsilon\"]:.3f}', (0.65, 0.05),\n",
    "    xycoords='axes fraction',\n",
    "    ha='left', va='center', color='k',\n",
    "    bbox=dict(boxstyle='round,pad=0.3', fc='white')\n",
    "    )\n",
    "ax.set_xlabel('Exergy in kW')\n",
    "ax.set_yticks(np.arange(len(comps)))\n",
    "ax.set_yticklabels(comps)\n",
    "ax.invert_yaxis()\n",
    "ax.grid(axis='x')\n",
    "ax.set_xlim([0, 200])\n",
    "ax.set_xticks(np.linspace(0, 200, 6))\n",
    "ax.set_axisbelow(True)"
   ]
  },
  {
   "attachments": {},
   "cell_type": "markdown",
   "metadata": {
    "tags": [
     "hide-cell"
    ]
   },
   "source": [
    "```{admonition} Explanation\n",
    ":class: dropdown\n",
    "\n",
    "Hier könnte ihre Erklärung stehen\n",
    "\n",
    "```"
   ]
  },
  {
   "attachments": {},
   "cell_type": "markdown",
   "metadata": {},
   "source": [
    "## Lessons Learned\n",
    "\n",
    "- Lessons Learned 1\n",
    "- Lessons Learned 2\n",
    "- Lessons Learned 3"
   ]
  }
 ],
 "metadata": {
  "kernelspec": {
   "display_name": "tespy_opt",
   "language": "python",
   "name": "python3"
  },
  "language_info": {
   "codemirror_mode": {
    "name": "ipython",
    "version": 3
   },
   "file_extension": ".py",
   "mimetype": "text/x-python",
   "name": "python",
   "nbconvert_exporter": "python",
   "pygments_lexer": "ipython3",
   "version": "3.7.6"
  },
  "vscode": {
   "interpreter": {
    "hash": "0f281374b50e679d88fcb4ad29fb1a86aa2bf4771de933c7e1627fe937943f09"
   }
  },
  "widgets": {
   "application/vnd.jupyter.widget-state+json": {
    "state": {},
    "version_major": 2,
    "version_minor": 0
   }
  }
 },
 "nbformat": 4,
 "nbformat_minor": 4
}
