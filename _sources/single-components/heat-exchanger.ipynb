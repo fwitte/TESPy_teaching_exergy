{
 "cells": [
  {
   "attachments": {},
   "cell_type": "markdown",
   "metadata": {},
   "source": [
    "(heat-exchanger-label)=\n",
    "\n",
    "- Warum machen neg. Exergien kein Sinn\n",
    "- Abbildungen anpassen\n",
    "\n",
    "# Heat Exchanger\n",
    "\n",
    "## Introduction\n",
    "\n",
    "A heat exchanger is used to transfer heat from one fluid to a different one. We can write the energy balance for the component assuming, that no heat is lost to the ambient.\n",
    "\n",
    "```{math}\n",
    "    :label: heat-exchanger-energy-balance\n",
    "    0 = \\dot m_1 \\cdot \\left(h_\\text{1,out} - h_\\text{1,in}\\right) + \\dot m_2 \\cdot \\left(h_\\text{2,out} - h_\\text{2,in}\\right)\n",
    "```\n",
    "\n",
    "The hot side {math}`1` transfers heat to the cold side {math}`2`, as shown in {numref}`heat-exchanger-schematic`. We can see, that all heat provided by the hot side is transferred to the cold side. However, in this process it is not possible to reach the same temperature level on the cold side as on the hot side. Reversing the heat transfer is for the same reason not possible: You cannot transfer heat against the direction of the temperature gradient. That obviously means, that the heat transfer incurs thermodynamic losses. To make them visible, we will again calculate the exergy of each of the flows."
   ]
  },
  {
   "attachments": {},
   "cell_type": "markdown",
   "metadata": {},
   "source": [
    "```{figure} /figures/HeatExchanger.svg\n",
    "---\n",
    "name: heat-exchanger-schematic\n",
    "---\n",
    "Schematic of a heat exchanger.\n",
    "```"
   ]
  },
  {
   "attachments": {},
   "cell_type": "markdown",
   "metadata": {},
   "source": [
    "(ref:sec:heat-ex-dhs-radiator)=\n",
    "## District heating delivery heat exchanger for radiator heating system\n",
    "\n",
    "As an example we want to have a look at a home heating system that uses centralized distric heat as a source. To separate the district heating system from the home system, a heat exchangers is set in place. The radiator of the home system needs a feed flow temperature of {math}`70` degrees Celsius. By transfering heat to the home, its temperature reduces by {math}`15` Kelvin. It operates at a pressure of roughly {math}`1.5` bar above atmospheric pressure. The district heating system provides a flow of {math}`1` kg/s with a temperature of {math}`90` degrees Celsius at {math}`8` bar above atmospheric pressure. It returns back with a temperature of {math}`60` degrees Celsius.\n"
   ]
  },
  {
   "cell_type": "code",
   "execution_count": 95,
   "metadata": {},
   "outputs": [],
   "source": [
    "from CoolProp.CoolProp import PropsSI as PSI\n",
    "\n",
    "# Properties of hot side fluid\n",
    "fluid_1 = 'water'\n",
    "m_dot_1 = 1  # kg/s\n",
    "p_1 = (1.013 + 8) * 1e5  # Pa\n",
    "T_in_1 = 90 + 273.15  # K\n",
    "T_out_1 = 60 + 273.15  # K\n",
    "\n",
    "# Properties of cold side fluid\n",
    "fluid_2 = 'water'\n",
    "p_2 = (1.013 + 1.5) * 1e5  # Pa\n",
    "T_in_2 = 55 + 273.15  # K\n",
    "T_out_2 = 70 + 273.15  # K\n"
   ]
  },
  {
   "attachments": {},
   "cell_type": "markdown",
   "metadata": {},
   "source": [
    "Let's find out how much water is flowing through the home heating system. To employ equation {eq}`heat-exchanger-energy-balance`, we have to get the specific enthalpies of our fluids."
   ]
  },
  {
   "cell_type": "code",
   "execution_count": 96,
   "metadata": {},
   "outputs": [
    {
     "data": {
      "text/plain": [
       "2.002949544810246"
      ]
     },
     "execution_count": 96,
     "metadata": {},
     "output_type": "execute_result"
    }
   ],
   "source": [
    "h_in_1 = PSI('H', 'P', p_1, 'T', T_in_1, fluid_1)\n",
    "h_out_1 = PSI('H', 'P', p_1, 'T', T_out_1, fluid_1)\n",
    "\n",
    "h_in_2 = PSI('H', 'P', p_2, 'T', T_in_2, fluid_2)\n",
    "h_out_2 = PSI('H', 'P', p_2, 'T', T_out_2, fluid_2)\n",
    "\n",
    "m_dot_2 = m_dot_1 * (h_out_1 - h_in_1) / -(h_out_2 - h_in_2)\n",
    "\n",
    "m_dot_2"
   ]
  },
  {
   "attachments": {},
   "cell_type": "markdown",
   "metadata": {},
   "source": [
    "The home heating system mass flow is about {math}`2 \\frac{kg}{s}`, which makes sense due to the temperature spread of the radiator being smaller, than that of the district heat. After this calculation, we have all the information we need to calculate the physical exergy of both flows. For that we can use the function we built within the {ref}`adiabatic-pipe-label` example. But first, we have to define an ambient state:"
   ]
  },
  {
   "cell_type": "code",
   "execution_count": 83,
   "metadata": {},
   "outputs": [],
   "source": [
    "# Ambient state\n",
    "p0 = 1.013 * 1e5  # Pa\n",
    "T0 = 20 + 273.15  # K"
   ]
  },
  {
   "attachments": {},
   "cell_type": "markdown",
   "metadata": {},
   "source": [
    "\n",
    "```{tip}\n",
    "We have provided the function to calculate the exergy in the 'utilities' file in this directory, so we can import it from there instead of redefining it here.\n",
    "```"
   ]
  },
  {
   "cell_type": "code",
   "execution_count": 84,
   "metadata": {},
   "outputs": [],
   "source": [
    "from utilities import calc_splitted_physical_exergy\n",
    "\n",
    "\n",
    "ex_in_1 = calc_splitted_physical_exergy(p_1, h_in_1, p0, T0, fluid_1)\n",
    "ex_out_1 = calc_splitted_physical_exergy(p_1, h_out_1, p0, T0, fluid_1)\n",
    "ex_in_2 = calc_splitted_physical_exergy(p_2, h_in_2, p0, T0, fluid_2)\n",
    "ex_out_2 = calc_splitted_physical_exergy(p_2, h_out_2, p0, T0, fluid_2)"
   ]
  },
  {
   "attachments": {},
   "cell_type": "markdown",
   "metadata": {},
   "source": [
    "In this specific case, all fluid temperatures are above our ambiant temperature. This means, that the following equations describe the fuel and product exergies:\n",
    "\n",
    "```{math}\n",
    "    :label: e_f-all-T-above-T0\n",
    "    \\dot{E}_F = \\dot{E}^{PH}_{in,1} - \\dot{E}^{PH}_{out,1} + \\dot{E}^{M}_{in,2} - \\dot{E}^{M}_{out,2}\n",
    "```\n",
    "\n",
    "```{math}\n",
    "    :label: e_p-all-T-above-T0\n",
    "    \\dot{E}_P = \\dot{E}^{T}_{out,2} - \\dot{E}^{T}_{in,2}\n",
    "```\n",
    "\n",
    "Let's calculate them."
   ]
  },
  {
   "cell_type": "code",
   "execution_count": 85,
   "metadata": {},
   "outputs": [
    {
     "data": {
      "text/plain": [
       "(19805.69808477821, 15906.415883022963)"
      ]
     },
     "execution_count": 85,
     "metadata": {},
     "output_type": "execute_result"
    }
   ],
   "source": [
    "Ex_dot_F = m_dot_1 * (sum(ex_in_1) - sum(ex_out_1)) + m_dot_2 * (ex_in_2[1] - ex_out_2[1])\n",
    "Ex_dot_P = m_dot_2 * (ex_out_2[0] - ex_in_2[0])\n",
    "\n",
    "Ex_dot_F, Ex_dot_P"
   ]
  },
  {
   "attachments": {},
   "cell_type": "markdown",
   "metadata": {},
   "source": [
    "The fuel exergy comes out to about {math}`19.81` kJ and the product exergy to about {math}`15.91` kJ. With these values, we can finally calculate exergy destruction, exergy destruction ratio and exergy efficiency. That works analogously as described in {ref}`adiabatic-pipe-label`."
   ]
  },
  {
   "cell_type": "code",
   "execution_count": 86,
   "metadata": {},
   "outputs": [
    {
     "data": {
      "text/plain": [
       "(3899.282201755248, 0.19687678692588295, 0.803123213074117)"
      ]
     },
     "execution_count": 86,
     "metadata": {},
     "output_type": "execute_result"
    }
   ],
   "source": [
    "Ex_dot_D = Ex_dot_F - Ex_dot_P\n",
    "y_D = Ex_dot_D / Ex_dot_F\n",
    "eta_Ex = Ex_dot_P / Ex_dot_F\n",
    "\n",
    "Ex_dot_D, y_D, eta_Ex"
   ]
  },
  {
   "attachments": {},
   "cell_type": "markdown",
   "metadata": {},
   "source": [
    "The total exergy destruction is about {math}`3.899` kJ, resulting in an exergy destruction ratio of about {math}`19.7` % and an exergy efficiency of about {math}`80.3` %."
   ]
  },
  {
   "attachments": {},
   "cell_type": "markdown",
   "metadata": {},
   "source": [
    "## District heating delivery heat exchanger for underfloor heating system\n",
    "\n",
    "Now lets compare the radiator with an underfloor heating system. Typically, these work at a feed flow temperature of {math}`40` degrees Celsius with a temperature spread of {math}`10` K."
   ]
  },
  {
   "cell_type": "code",
   "execution_count": 87,
   "metadata": {},
   "outputs": [],
   "source": [
    "T_in_2_uf = 30 + 273.15  # K\n",
    "T_out_2_uf = 40 + 273.15  # K\n",
    "\n",
    "h_in_2_uf = PSI('H', 'P', p_2, 'T', T_in_2_uf, fluid_2)\n",
    "h_out_2_uf = PSI('H', 'P', p_2, 'T', T_out_2_uf, fluid_2)\n",
    "\n",
    "m_dot_2_uf = m_dot_1 * (h_out_1 - h_in_1) / -(h_out_2_uf - h_in_2_uf)"
   ]
  },
  {
   "attachments": {},
   "cell_type": "markdown",
   "metadata": {},
   "source": [
    "What do you expect the result of the exergy analysis of the underfloor heater to be in comparison to the radiator. How do the lower system temperatures affect the fuel and product exergy? Take a guess before continuing.\n",
    "\n",
    "Let's calculate the physical, as well as the fuel and product exergies."
   ]
  },
  {
   "cell_type": "code",
   "execution_count": 88,
   "metadata": {},
   "outputs": [],
   "source": [
    "ex_in_2_uf = calc_splitted_physical_exergy(p_2, h_in_2_uf, p0, T0, fluid_2)\n",
    "ex_out_2_uf = calc_splitted_physical_exergy(p_2, h_out_2_uf, p0, T0, fluid_2)\n",
    "\n",
    "Ex_dot_F_uf = m_dot_1 * (sum(ex_in_1) - sum(ex_out_1)) + m_dot_2_uf * (ex_in_2_uf[1] - ex_out_2_uf[1])\n",
    "Ex_dot_P_uf = m_dot_2_uf * (ex_out_2_uf[0] - ex_in_2_uf[0])\n"
   ]
  },
  {
   "attachments": {},
   "cell_type": "markdown",
   "metadata": {},
   "source": [
    "With these, we can calculate exergy destruction, exergy destruction ratio and exergy efficiency again."
   ]
  },
  {
   "cell_type": "code",
   "execution_count": 89,
   "metadata": {},
   "outputs": [
    {
     "data": {
      "text/plain": [
       "(13694.426035155699, 0.6914386948915794, 0.3085613051084206)"
      ]
     },
     "execution_count": 89,
     "metadata": {},
     "output_type": "execute_result"
    }
   ],
   "source": [
    "Ex_dot_D_uf = Ex_dot_F_uf - Ex_dot_P_uf\n",
    "y_D_uf = Ex_dot_D_uf / Ex_dot_F_uf\n",
    "eta_Ex_uf = Ex_dot_P_uf / Ex_dot_F_uf\n",
    "\n",
    "Ex_dot_D_uf, y_D_uf, eta_Ex_uf"
   ]
  },
  {
   "attachments": {},
   "cell_type": "markdown",
   "metadata": {},
   "source": [
    "The total exergy destruction is about {math}`13.69 \\frac{kJ}{kg}`, resulting in an exergy destruction ratio of about {math}`69.1` % and an exergy efficiency of about {math}`30.9` %. That's an **increase** in exergy destruction of around {math}`151.2` %.\n",
    "\n",
    "Do the results match your expectations? What does this say about the process of providing heat to the underfloor system from the district heating system? How could a dhs operator reduce exergy destruction in home systems in general?"
   ]
  },
  {
   "attachments": {},
   "cell_type": "markdown",
   "metadata": {},
   "source": [
    "## Exercise 1\n",
    "\n",
    "The analysis above assumes a constant ambient state. In reality, the reference temperature for a heating system -- the temperature outside -- varies throughout the year. To find out how a varying ambient temperature influences the results of the exergy analysis above, do the following exercise for a typical temperature range of {math}`5` to {math}`30` degrees Celsius.\n",
    "\n",
    "1. Using the radiator home system example as a use case, create a plot of the exergy destruction against the ambient temperature. How do you interprete the results?"
   ]
  },
  {
   "attachments": {},
   "cell_type": "markdown",
   "metadata": {},
   "source": [
    "### Proposed solution 1"
   ]
  },
  {
   "cell_type": "code",
   "execution_count": 90,
   "metadata": {
    "tags": [
     "hide-cell"
    ]
   },
   "outputs": [
    {
     "data": {
      "image/png": "[encoded data removed]",
      "text/plain": [
       "<Figure size 576x432 with 1 Axes>"
      ]
     },
     "metadata": {
      "needs_background": "light"
     },
     "output_type": "display_data"
    }
   ],
   "source": [
    "import matplotlib.pyplot as plt\n",
    "\n",
    "T0_range = [T + 273.15 for T in range(5, 35, 5)]\n",
    "\n",
    "Ex_dot_D_range = list()\n",
    "for T0_val in T0_range:\n",
    "    ex_in_1 = calc_splitted_physical_exergy(p_1, h_in_1, p0, T0_val, fluid_1)\n",
    "    ex_out_1 = calc_splitted_physical_exergy(p_1, h_out_1, p0, T0_val, fluid_1)\n",
    "    ex_in_2 = calc_splitted_physical_exergy(p_2, h_in_2, p0, T0_val, fluid_2)\n",
    "    ex_out_2 = calc_splitted_physical_exergy(p_2, h_out_2, p0, T0_val, fluid_2)\n",
    "\n",
    "    Ex_dot_F = m_dot_1 * (sum(ex_in_1) - sum(ex_out_1)) + m_dot_2 * (ex_in_2[1] - ex_out_2[1])\n",
    "    Ex_dot_P = m_dot_2 * (ex_out_2[0] - ex_in_2[0])\n",
    "\n",
    "    Ex_dot_D_range += [(Ex_dot_F - Ex_dot_P) * 1e-3]\n",
    "\n",
    "fig, ax = plt.subplots(figsize=(8, 6))\n",
    "\n",
    "ax.plot(\n",
    "    [T - 273.15 for T in T0_range],\n",
    "    Ex_dot_D_range, color='#B54036'\n",
    "    )\n",
    "\n",
    "ax.set_ylabel('Exergy destruction in kJ')\n",
    "ax.set_xlabel('Ambient temperature in °C')\n",
    "ax.grid()\n",
    "ax.set_axisbelow(True)"
   ]
  },
  {
   "attachments": {},
   "cell_type": "markdown",
   "metadata": {},
   "source": [
    "```{admonition} Explanation\n",
    ":class: dropdown\n",
    "\n",
    "What we can gather from the resulting plot is, that the exergy destruction increases with an increase in ambient temperature. This can be counter-intuitive, as the fuel and product exergy decrease in absolute terms. This seems reasonable, as the ambient temperature approaches all other temperature levels and therefore their respective potential to extract work decreases.\n",
    "\n",
    "If we inspect fuel and product exergy, we can see, that the former decrease slower than the latter, which results in the observed increase in exergy destruction. The fuel exergy decreases slower, because it is mostly dependent on the thermal exergy of the hot side of the example heat exchanger.\n",
    "\n",
    "As the temperatures of the hot side are higher than those on the cold side and with the thermal exergy increasing disproportionately with temperature increase above the ambient temperature, even with the same temperature drop the thermal exergy difference between inlet and outlet is always bigger. This effect amplifies with a bigger distance to the ambient temperature.\n",
    "```"
   ]
  },
  {
   "attachments": {},
   "cell_type": "markdown",
   "metadata": {},
   "source": [
    "## Exercise 2\n",
    "\n",
    "To further analyze the influence of the key parameters of a heat exchanger, let's variate them and study their effects. Based on the first example (see: {ref}`ref:sec:heat-ex-dhs-radiator`) and with a constant heat flow rate from hot to cold side, implement the following variation routines and plot the resulting exergy destruction and efficiency:\n",
    "\n",
    "1. Variable inlet temperatures with constant outlet temperatures.\n",
    "2. Variable outlet temperatures with constant inlet temperatures."
   ]
  },
  {
   "attachments": {},
   "cell_type": "markdown",
   "metadata": {},
   "source": [
    "### Proposed solution 2.1\n",
    "\n",
    "**Zeroth step:** Let's create some helper functions"
   ]
  },
  {
   "cell_type": "code",
   "execution_count": 91,
   "metadata": {
    "tags": [
     "hide-cell"
    ]
   },
   "outputs": [],
   "source": [
    "def calc_massflow(which, m_dot, h_in_1, h_out_1, h_in_2, h_out_2):\n",
    "    \"\"\"Energy balance of heat exchanger that is adiabatic to surroundings.\"\"\"\n",
    "    if which == 'cold':\n",
    "        return m_dot * (h_out_1 - h_in_1) / -(h_out_2 - h_in_2)\n",
    "    elif which == 'hot':\n",
    "        return m_dot * -(h_out_2 - h_in_2) / (h_out_1 - h_in_1)\n",
    "\n",
    "def calc_ex_fuel_prod(m_dot_1, ex_in_1, ex_out_1, m_dot_2, ex_in_2, ex_out_2):\n",
    "    \"\"\"Defined for all temperatures above T0.\"\"\"\n",
    "    Ex_dot_F = (\n",
    "        m_dot_1 * (sum(ex_in_1) - sum(ex_out_1))\n",
    "        + m_dot_2 * (ex_in_2[1] - ex_out_2[1])\n",
    "        )\n",
    "    Ex_dot_P = m_dot_2 * (ex_out_2[0] - ex_in_2[0])\n",
    "    return Ex_dot_F, Ex_dot_P\n",
    "\n",
    "def plot_ex_D_eta_ex(T_range, Ex_D_range, eta_Ex_range):\n",
    "    \"\"\"Plot exergy destruction and efficiency against variable temperature.\"\"\"\n",
    "    fig, axs = plt.subplots(1, 2, figsize=(10, 4))\n",
    "\n",
    "    axs[0].plot(T_range, Ex_D_range, color='#B54036')\n",
    "    axs[1].plot(T_range, eta_Ex_range, color='#00395B')\n",
    "\n",
    "    axs[0].set_ylabel('Exergy destruction in kJ')\n",
    "    axs[0].grid()\n",
    "    axs[0].set_axisbelow(True)\n",
    "\n",
    "    axs[1].set_ylabel('Exergetic efficiency')\n",
    "    axs[1].grid()\n",
    "    axs[1].set_axisbelow(True)\n",
    "\n",
    "    return fig, axs"
   ]
  },
  {
   "cell_type": "markdown",
   "metadata": {},
   "source": [
    "\n",
    "**First step:** Variate hot side inlet temperature"
   ]
  },
  {
   "cell_type": "code",
   "execution_count": 99,
   "metadata": {
    "tags": [
     "hide-cell"
    ]
   },
   "outputs": [
    {
     "name": "stdout",
     "output_type": "stream",
     "text": [
      "3.0432654063259363\n"
     ]
    },
    {
     "data": {
      "text/plain": [
       "Text(0.5, 0.01, 'Feed flow temperature of district heating system in °C')"
      ]
     },
     "execution_count": 99,
     "metadata": {},
     "output_type": "execute_result"
    },
    {
     "data": {
      "image/png": "[encoded data removed]",
      "text/plain": [
       "<Figure size 720x288 with 2 Axes>"
      ]
     },
     "metadata": {
      "needs_background": "light"
     },
     "output_type": "display_data"
    }
   ],
   "source": [
    "Q_nominal = abs(m_dot_1 * (h_out_1 - h_in_1))\n",
    "m_dot_2 = Q_nominal / (h_out_2 - h_out_1)\n",
    "\n",
    "T_in_1_range = [*range(70, 121)]\n",
    "h_in_1_range = [PSI('H', 'P', p_1, 'T', T_in_1+273.15, fluid_1) for T_in_1 in T_in_1_range]\n",
    "ex_in_1_range = [calc_splitted_physical_exergy(p_1, h_in_1, p0, T0, fluid_1) for h_in_1 in h_in_1_range]\n",
    "\n",
    "m_dot_1_range = [\n",
    "    calc_massflow('hot', m_dot_2, h_in_1, h_out_1, h_in_2, h_out_2) for h_in_1 in h_in_1_range\n",
    "    ]\n",
    "\n",
    "Ex_dot_D_range = list()\n",
    "eta_Ex_range = list()\n",
    "Ex_dot_P_range = list()\n",
    "Ex_dot_F_range = list()\n",
    "\n",
    "for ex_in_1, m_dot_1 in zip(ex_in_1_range, m_dot_1_range):\n",
    "    Ex_dot_F, Ex_dot_P = calc_ex_fuel_prod(\n",
    "        m_dot_1, ex_in_1, ex_out_1, m_dot_2, ex_in_2, ex_out_2\n",
    "        )\n",
    "    Ex_dot_F_range += [Ex_dot_F * 1e-3]\n",
    "    Ex_dot_P_range += [Ex_dot_P * 1e-3]\n",
    "    Ex_dot_D_range += [(Ex_dot_F - Ex_dot_P) * 1e-3]\n",
    "    eta_Ex_range += [Ex_dot_P / Ex_dot_F]\n",
    "\n",
    "fig, axs = plot_ex_D_eta_ex(T_in_1_range, Ex_dot_D_range, eta_Ex_range)\n",
    "# axs[0].plot(T_in_1_range, Ex_dot_F_range, color='r')\n",
    "# axs[0].plot(T_in_1_range, Ex_dot_P_range, color='b')\n",
    "# axs[0].plot(T_in_1_range, [sum(exer) * 1e-3 for exer in ex_in_1_range], color='g')\n",
    "# axs[1].plot(T_in_1_range, m_dot_1_range, color='g')\n",
    "\n",
    "fig.supxlabel(\n",
    "    'Feed flow temperature of district heating system in °C',\n",
    "    fontsize='medium'\n",
    "    )"
   ]
  },
  {
   "attachments": {},
   "cell_type": "markdown",
   "metadata": {},
   "source": [
    "**Second step:** Variate cold side inlet temperature"
   ]
  },
  {
   "cell_type": "code",
   "execution_count": 100,
   "metadata": {
    "tags": [
     "hide-cell"
    ]
   },
   "outputs": [
    {
     "data": {
      "text/plain": [
       "Text(0.5, 0.01, 'Back flow temperature of home heating system in °C')"
      ]
     },
     "execution_count": 100,
     "metadata": {},
     "output_type": "execute_result"
    },
    {
     "data": {
      "image/png": "[encoded data removed]",
      "text/plain": [
       "<Figure size 720x288 with 2 Axes>"
      ]
     },
     "metadata": {
      "needs_background": "light"
     },
     "output_type": "display_data"
    }
   ],
   "source": [
    "# Reset hot side inlet temperature\n",
    "m_dot_1 = 1\n",
    "T_in_1 = 90\n",
    "h_in_1 = PSI('H', 'P', p_1, 'T', T_in_1+273.15, fluid_1)\n",
    "ex_in_1 = calc_splitted_physical_exergy(p_1, h_in_1, p0, T0, fluid_1)\n",
    "\n",
    "T_in_2_range = [*range(40, 56)]\n",
    "h_in_2_range = [PSI('H', 'P', p_2, 'T', T_in_2+273.15, fluid_2) for T_in_2 in T_in_2_range]\n",
    "ex_in_2_range = [calc_splitted_physical_exergy(p_2, h_in_2, p0, T0, fluid_2) for h_in_2 in h_in_2_range]\n",
    "m_dot_2_range = [\n",
    "    calc_massflow('cold', m_dot_1, h_in_1, h_out_1, h_in_2, h_out_2) for h_in_2 in h_in_2_range\n",
    "    ]\n",
    "\n",
    "Ex_dot_D_range = list()\n",
    "eta_Ex_range = list()\n",
    "for ex_in_2, m_dot_2 in zip(ex_in_2_range, m_dot_2_range):\n",
    "    Ex_dot_F, Ex_dot_P = calc_ex_fuel_prod(m_dot_1, ex_in_1, ex_out_1, m_dot_2, ex_in_2, ex_out_2)\n",
    "    Ex_dot_D_range += [(Ex_dot_F - Ex_dot_P) * 1e-3]\n",
    "    eta_Ex_range += [Ex_dot_P / Ex_dot_F]\n",
    "\n",
    "fig, axs = plot_ex_D_eta_ex(T_in_2_range, Ex_dot_D_range, eta_Ex_range)\n",
    "\n",
    "fig.supxlabel(\n",
    "    'Back flow temperature of home heating system in °C',\n",
    "    fontsize='medium'\n",
    "    )\n"
   ]
  },
  {
   "attachments": {},
   "cell_type": "markdown",
   "metadata": {},
   "source": [
    "**Third step:** Variate both inlet temperatures simultaneously"
   ]
  },
  {
   "cell_type": "code",
   "execution_count": 101,
   "metadata": {
    "tags": [
     "hide-cell"
    ]
   },
   "outputs": [
    {
     "ename": "TypeError",
     "evalue": "__init__() got an unexpected keyword argument 'alignment'",
     "output_type": "error",
     "traceback": [
      "\u001b[1;31m---------------------------------------------------------------------------\u001b[0m",
      "\u001b[1;31mTypeError\u001b[0m                                 Traceback (most recent call last)",
      "\u001b[1;32m<ipython-input-101-649db0ccac96>\u001b[0m in \u001b[0;36m<module>\u001b[1;34m\u001b[0m\n\u001b[0;32m     31\u001b[0m \u001b[0maxs\u001b[0m\u001b[1;33m[\u001b[0m\u001b[1;36m1\u001b[0m\u001b[1;33m]\u001b[0m\u001b[1;33m.\u001b[0m\u001b[0mgrid\u001b[0m\u001b[1;33m(\u001b[0m\u001b[1;33m)\u001b[0m\u001b[1;33m\u001b[0m\u001b[1;33m\u001b[0m\u001b[0m\n\u001b[0;32m     32\u001b[0m \u001b[0maxs\u001b[0m\u001b[1;33m[\u001b[0m\u001b[1;36m1\u001b[0m\u001b[1;33m]\u001b[0m\u001b[1;33m.\u001b[0m\u001b[0mset_axisbelow\u001b[0m\u001b[1;33m(\u001b[0m\u001b[1;32mTrue\u001b[0m\u001b[1;33m)\u001b[0m\u001b[1;33m\u001b[0m\u001b[1;33m\u001b[0m\u001b[0m\n\u001b[1;32m---> 33\u001b[1;33m \u001b[0maxs\u001b[0m\u001b[1;33m[\u001b[0m\u001b[1;36m1\u001b[0m\u001b[1;33m]\u001b[0m\u001b[1;33m.\u001b[0m\u001b[0mlegend\u001b[0m\u001b[1;33m(\u001b[0m\u001b[0mtitle\u001b[0m\u001b[1;33m=\u001b[0m\u001b[1;34m'T_in_1:'\u001b[0m\u001b[1;33m,\u001b[0m \u001b[0malignment\u001b[0m\u001b[1;33m=\u001b[0m\u001b[1;34m'left'\u001b[0m\u001b[1;33m)\u001b[0m\u001b[1;33m\u001b[0m\u001b[1;33m\u001b[0m\u001b[0m\n\u001b[0m\u001b[0;32m     34\u001b[0m \u001b[1;33m\u001b[0m\u001b[0m\n\u001b[0;32m     35\u001b[0m fig.supxlabel(\n",
      "\u001b[1;32mc:\\Users\\Malte Fritz\\Anaconda3\\lib\\site-packages\\matplotlib\\axes\\_axes.py\u001b[0m in \u001b[0;36mlegend\u001b[1;34m(self, *args, **kwargs)\u001b[0m\n\u001b[0;32m    303\u001b[0m         \u001b[1;32mif\u001b[0m \u001b[0mlen\u001b[0m\u001b[1;33m(\u001b[0m\u001b[0mextra_args\u001b[0m\u001b[1;33m)\u001b[0m\u001b[1;33m:\u001b[0m\u001b[1;33m\u001b[0m\u001b[1;33m\u001b[0m\u001b[0m\n\u001b[0;32m    304\u001b[0m             \u001b[1;32mraise\u001b[0m \u001b[0mTypeError\u001b[0m\u001b[1;33m(\u001b[0m\u001b[1;34m'legend only accepts two non-keyword arguments'\u001b[0m\u001b[1;33m)\u001b[0m\u001b[1;33m\u001b[0m\u001b[1;33m\u001b[0m\u001b[0m\n\u001b[1;32m--> 305\u001b[1;33m         \u001b[0mself\u001b[0m\u001b[1;33m.\u001b[0m\u001b[0mlegend_\u001b[0m \u001b[1;33m=\u001b[0m \u001b[0mmlegend\u001b[0m\u001b[1;33m.\u001b[0m\u001b[0mLegend\u001b[0m\u001b[1;33m(\u001b[0m\u001b[0mself\u001b[0m\u001b[1;33m,\u001b[0m \u001b[0mhandles\u001b[0m\u001b[1;33m,\u001b[0m \u001b[0mlabels\u001b[0m\u001b[1;33m,\u001b[0m \u001b[1;33m**\u001b[0m\u001b[0mkwargs\u001b[0m\u001b[1;33m)\u001b[0m\u001b[1;33m\u001b[0m\u001b[1;33m\u001b[0m\u001b[0m\n\u001b[0m\u001b[0;32m    306\u001b[0m         \u001b[0mself\u001b[0m\u001b[1;33m.\u001b[0m\u001b[0mlegend_\u001b[0m\u001b[1;33m.\u001b[0m\u001b[0m_remove_method\u001b[0m \u001b[1;33m=\u001b[0m \u001b[0mself\u001b[0m\u001b[1;33m.\u001b[0m\u001b[0m_remove_legend\u001b[0m\u001b[1;33m\u001b[0m\u001b[1;33m\u001b[0m\u001b[0m\n\u001b[0;32m    307\u001b[0m         \u001b[1;32mreturn\u001b[0m \u001b[0mself\u001b[0m\u001b[1;33m.\u001b[0m\u001b[0mlegend_\u001b[0m\u001b[1;33m\u001b[0m\u001b[1;33m\u001b[0m\u001b[0m\n",
      "\u001b[1;31mTypeError\u001b[0m: __init__() got an unexpected keyword argument 'alignment'"
     ]
    },
    {
     "data": {
      "image/png": "[encoded data removed]",
      "text/plain": [
       "<Figure size 720x288 with 2 Axes>"
      ]
     },
     "metadata": {
      "needs_background": "light"
     },
     "output_type": "display_data"
    }
   ],
   "source": [
    "fig, axs = plt.subplots(1, 2, figsize=(10, 4))\n",
    "\n",
    "for T_in_1 in range(70, 120, 10):\n",
    "    h_in_1 = PSI('H', 'P', p_1, 'T', T_in_1+273.15, fluid_1)\n",
    "    ex_in_1 = calc_splitted_physical_exergy(p_1, h_in_1, p0, T0, fluid_1)\n",
    "    m_dot_1 = abs(Q_nominal / (h_out_1 - h_in_1))\n",
    "\n",
    "    Ex_dot_D_range = list()\n",
    "    eta_Ex_range = list()\n",
    "    T_in_2_range = list()\n",
    "    for T_in_2 in range(42, 60, 2):\n",
    "        T_in_2_range += [T_in_2]\n",
    "        h_in_2 = PSI('H', 'P', p_2, 'T', T_in_2+273.15, fluid_2)\n",
    "        ex_in_2 = calc_splitted_physical_exergy(p_2, h_in_2, p0, T0, fluid_2)\n",
    "        m_dot_2 = calc_massflow('cold', m_dot_1, h_in_1, h_out_1, h_in_2, h_out_2)\n",
    "\n",
    "        Ex_dot_F, Ex_dot_P = calc_ex_fuel_prod(\n",
    "            m_dot_1, ex_in_1, ex_out_1, m_dot_2, ex_in_2, ex_out_2\n",
    "            )\n",
    "        Ex_dot_D_range += [(Ex_dot_F - Ex_dot_P) * 1e-3]\n",
    "        eta_Ex_range += [Ex_dot_P / Ex_dot_F]\n",
    "\n",
    "    axs[0].plot(T_in_2_range, Ex_dot_D_range, label=f'{T_in_1:.0f} °C')\n",
    "    axs[1].plot(T_in_2_range, eta_Ex_range, label=f'{T_in_1:.0f} °C')\n",
    "\n",
    "axs[0].set_ylabel('Specific exergy destruction in kJ/kg')\n",
    "axs[0].grid()\n",
    "axs[0].set_axisbelow(True)\n",
    "\n",
    "axs[1].set_ylabel('Exergetic efficiency')\n",
    "axs[1].grid()\n",
    "axs[1].set_axisbelow(True)\n",
    "axs[1].legend(title='T_in_1:', alignment='left')\n",
    "\n",
    "fig.supxlabel(\n",
    "    'Back flow temperature of home heating system in °C',\n",
    "    fontsize='medium'\n",
    "    )"
   ]
  },
  {
   "attachments": {},
   "cell_type": "markdown",
   "metadata": {},
   "source": [
    "### Proposed solution 2.2\n",
    "\n",
    "**First step:** Variate hot side outlet temperature"
   ]
  },
  {
   "cell_type": "code",
   "execution_count": null,
   "metadata": {
    "tags": [
     "hide-cell"
    ]
   },
   "outputs": [],
   "source": [
    "# Reset inlet temperatures\n",
    "T_in_1 = 90\n",
    "h_in_1 = PSI('H', 'P', p_1, 'T', T_in_1+273.15, fluid_1)\n",
    "ex_in_1 = calc_splitted_physical_exergy(p_1, h_in_1, p0, T0, fluid_1)\n",
    "T_in_2 = 55\n",
    "h_in_2 = PSI('H', 'P', p_2, 'T', T_in_2+273.15, fluid_2)\n",
    "ex_in_2 = calc_splitted_physical_exergy(p_2, h_in_2, p0, T0, fluid_2)\n",
    "\n",
    "T_out_1_range = [*range(60, 81)]\n",
    "h_out_1_range = [PSI('H', 'P', p_1, 'T', T_out_1+273.15, fluid_1) for T_out_1 in T_out_1_range]\n",
    "ex_out_1_range = [calc_splitted_physical_exergy(p_1, h_out_1, p0, T0, fluid_1) for h_out_1 in h_out_1_range]\n",
    "\n",
    "ex_D_range = list()\n",
    "eta_ex_range = list()\n",
    "for ex_out_1 in ex_out_1_range:\n",
    "    ex_F = sum(ex_in_1) - sum(ex_out_1) + ex_in_2[1] - ex_out_2[1]\n",
    "    ex_P = ex_out_2[0] - ex_in_2[0]\n",
    "    ex_D_range += [(ex_F - ex_P) * 1e-3]\n",
    "    eta_ex_range += [ex_P / ex_F]\n",
    "\n",
    "fig, axs = plot_ex_D_eta_ex(T_out_1_range, ex_D_range, eta_ex_range)\n",
    "\n",
    "fig.supxlabel(\n",
    "    'Back flow temperature of district heating system in °C',\n",
    "    fontsize='medium'\n",
    "    )"
   ]
  },
  {
   "attachments": {},
   "cell_type": "markdown",
   "metadata": {},
   "source": [
    "**Second step:** Variate cold side outlet temperature"
   ]
  },
  {
   "cell_type": "code",
   "execution_count": null,
   "metadata": {
    "tags": [
     "hide-cell"
    ]
   },
   "outputs": [],
   "source": [
    "# Reset hot side outlet temperature\n",
    "T_out_1 = 60\n",
    "h_out_1 = PSI('H', 'P', p_1, 'T', T_out_1+273.15, fluid_1)\n",
    "ex_out_1 = calc_splitted_physical_exergy(p_1, h_out_1, p0, T0, fluid_1)\n",
    "\n",
    "T_out_2_range = [*range(60, 86)]\n",
    "h_out_2_range = [PSI('H', 'P', p_2, 'T', T_out_2+273.15, fluid_2) for T_out_2 in T_out_2_range]\n",
    "ex_out_2_range = [calc_splitted_physical_exergy(p_2, h_out_2, p0, T0, fluid_2) for h_out_2 in h_out_2_range]\n",
    "\n",
    "ex_D_range = list()\n",
    "eta_ex_range = list()\n",
    "for ex_out_2 in ex_out_2_range:\n",
    "    ex_F = sum(ex_in_1) - sum(ex_out_1) + ex_in_2[1] - ex_out_2[1]\n",
    "    ex_P = ex_out_2[0] - ex_in_2[0]\n",
    "    ex_D_range += [(ex_F - ex_P) * 1e-3]\n",
    "    eta_ex_range += [ex_P / ex_F]\n",
    "\n",
    "fig, axs = plot_ex_D_eta_ex(T_out_2_range, ex_D_range, eta_ex_range)\n",
    "fig.supxlabel(\n",
    "    'Feed flow temperature of home heating system in °C',\n",
    "    fontsize='medium'\n",
    "    )"
   ]
  },
  {
   "attachments": {},
   "cell_type": "markdown",
   "metadata": {},
   "source": [
    "**Third step:** Variate both outlet temperatures simultaneously"
   ]
  },
  {
   "cell_type": "code",
   "execution_count": null,
   "metadata": {
    "tags": [
     "hide-cell"
    ]
   },
   "outputs": [],
   "source": [
    "fig, axs = plt.subplots(1, 2, figsize=(10, 4))\n",
    "\n",
    "for T_out_1 in range(60, 75, 5):\n",
    "    h_out_1 = PSI('H', 'P', p_1, 'T', T_out_1+273.15, fluid_1)\n",
    "    ex_out_1 = calc_splitted_physical_exergy(p_1, h_out_1, p0, T0, fluid_1)\n",
    "\n",
    "    ex_D_range = list()\n",
    "    eta_ex_range = list()\n",
    "    T_out_2_range = list()\n",
    "    for T_out_2 in range(60, 86):\n",
    "        T_out_2_range += [T_out_2]\n",
    "        h_out_2 = PSI('H', 'P', p_2, 'T', T_out_2+273.15, fluid_2)\n",
    "        ex_out_2 = calc_splitted_physical_exergy(p_2, h_out_2, p0, T0, fluid_2)\n",
    "\n",
    "        ex_F = sum(ex_in_1) - sum(ex_out_1) + ex_in_2[1] - ex_out_2[1]\n",
    "        ex_P = ex_out_2[0] - ex_in_2[0]\n",
    "        ex_D_range += [(ex_F - ex_P) * 1e-3]\n",
    "        eta_ex_range += [ex_P / ex_F]\n",
    "\n",
    "    axs[0].plot(T_out_2_range, ex_D_range, label=f'{T_out_1:.0f} °C')\n",
    "    axs[1].plot(T_out_2_range, eta_ex_range, label=f'{T_out_1:.0f} °C')\n",
    "\n",
    "axs[0].set_ylabel('Specific exergy destruction in kJ/kg')\n",
    "axs[0].grid()\n",
    "axs[0].set_axisbelow(True)\n",
    "\n",
    "axs[1].set_ylabel('Exergetic efficiency')\n",
    "axs[1].grid()\n",
    "axs[1].set_axisbelow(True)\n",
    "axs[1].legend(title='T_out_1:', alignment='left')\n",
    "\n",
    "fig.supxlabel(\n",
    "    'Feed flow temperature of home heating system in °C',\n",
    "    fontsize='medium'\n",
    "    )"
   ]
  },
  {
   "attachments": {},
   "cell_type": "markdown",
   "metadata": {},
   "source": [
    "## Evaporator of an air-water heat pump\n",
    "\n",
    "For our next example, consider the heat exchanger used for evaporation of the refrigerant of an air-water heat pump. As the name implies, ambient air is used as the heat source of the cycle. That means, that the ambient temperature {math}`T_0` occurs at the inlet of the hot side of the evaporator. As the air is supplying the heat, its temperatures decreases until it exits the heat exchanger. The evaporation of the refrigerant must occur at an even lower temperature. This means, that all temperatures lie at our below the defined ambient temperature {math}`T_0`.\n",
    "\n",
    "As heat must always flow from a higher to a lower temperature, the direction of the heat flow of the evaporator is from the ambient air to the evaporating refrigerant. In our preceding examples, the direction of the exergy flow aligned with the heat flow. But exergy always flows from a point of higher potential -- meaning higher distance to the ambient state -- to that of a lower one. In this case, the refrigerant is cooler and therefore exhibits a higher exergetic potential. This means, that the direction of the exergy flow is opposite to the heat flow direction: from the refrigerant to the ambient air.\n",
    "\n",
    "What does this mean for our exergy analysis? The increase in exergy, i.e. the product of the process, is the hot side of the heat exchanger. Vice versa, the thermal fuel exergy stems from the evaporating refrigerant, which approaches ambient enthalpy. Therefore, we have to adjust the equations accordingly. As you can see, Eq. {eq}`e_f-all-T-below-T0` and {eq}`e_p-all-T-below-T0` reflect the switch up between the thermal exergy of the hot and the cold side. The mechanical exergy, i.e. in case of the heat exchanger the pressure losses, both remain part of the fuel.\n",
    "\n",
    "```{math}\n",
    "    :label: e_f-all-T-below-T0\n",
    "    \\dot{E}_F = \\dot{E}^{PH}_{in,2} - \\dot{E}^{PH}_{out,2} + \\dot{E}^{M}_{in,1} - \\dot{E}^{M}_{out,1}\n",
    "```\n",
    "\n",
    "```{math}\n",
    "    :label: e_p-all-T-below-T0\n",
    "    \\dot{E}_P = \\dot{E}^{T}_{out,1} - \\dot{E}^{T}_{in,1}\n",
    "```"
   ]
  },
  {
   "attachments": {},
   "cell_type": "markdown",
   "metadata": {},
   "source": [
    "```{note}\n",
    "As you can imagine by now, the location of the ambient state has a big influence of the results of the exergy. Other constellations are possible, with the ambient temperature lying somewhere between the inlet and outlet tempereture of either side of the heat exchanger. All eqautions implemented in the exergy analysis tool of the TESPy module can be found in {cite:t}`Witte2022`.\n",
    "```"
   ]
  },
  {
   "attachments": {},
   "cell_type": "markdown",
   "metadata": {},
   "source": [
    "## Exercise 3\n",
    "\n",
    "Compare the old calculation rule with the adjusted one by calculating fuel and product exergy for a range of evaporation temperatures from 2 to 15 degrees Celsius below the hot side outlet temperature. Use Ammonia as the refrigerant. Let the hot side outlet temperature be 5 degrees cooler than the inlet temperature and a heat flow of 500 kW be exchanged. Assume an inlet enthalpy of the refrigerant of 600 kJ/kg and a full evaporation."
   ]
  },
  {
   "attachments": {},
   "cell_type": "markdown",
   "metadata": {},
   "source": [
    "### Proposed solution 3"
   ]
  },
  {
   "cell_type": "code",
   "execution_count": null,
   "metadata": {
    "tags": [
     "hide-cell"
    ]
   },
   "outputs": [],
   "source": [
    "T0 = 15 + 273.15 # Ambient and hot side inlet temperature\n",
    "p0 = 1.013e5  # Ambient and hot side pressure\n",
    "T_1_out = T0 - 5\n",
    "\n",
    "h_in_1 = PSI('H', 'P', p0, 'T', T0, 'Air')\n",
    "h_out_1 = PSI('H', 'P', p0, 'T', T_1_out, 'Air')\n",
    "ex_in_1 = calc_splitted_physical_exergy(p0, h_in_1, p0, T0, 'Air')\n",
    "ex_out_1 = calc_splitted_physical_exergy(p0, h_out_1, p0, T0, 'Air')\n",
    "m_dot_1 = 500e3 / -(h_out_1 - h_in_1)\n",
    "\n",
    "h_in_2 = 600e3\n",
    "\n",
    "T_2_range = list()\n",
    "Ex_dot_wrong = list()\n",
    "Ex_dot = list()\n",
    "for ttd in range(2, 16):\n",
    "    T_2 = T_1_out - ttd\n",
    "    T_2_range += [T_2 - 273.15]\n",
    "    p_2 = PSI('P', 'Q', 1, 'T', T_2, 'Ammonia')\n",
    "    h_out_2 = PSI('H', 'Q', 1, 'T', T_2, 'Ammonia')\n",
    "    ex_in_2 = calc_splitted_physical_exergy(p_2, h_in_2, p0, T0, 'Ammonia')\n",
    "    ex_out_2 = calc_splitted_physical_exergy(p_2, h_out_2, p0, T0, 'Ammonia')\n",
    "    m_dot_2 = 500e3 / (h_out_2 - h_in_2)\n",
    "\n",
    "    Ex_dot_F_wrong, Ex_dot_P_wrong = calc_ex_fuel_prod(\n",
    "        m_dot_1, ex_in_1, ex_out_1, m_dot_2, ex_in_2, ex_out_2\n",
    "        )\n",
    "    Ex_dot_wrong += [(Ex_dot_F_wrong*1e-3, Ex_dot_P_wrong*1e-3)]\n",
    "\n",
    "    Ex_dot_F = (\n",
    "        m_dot_2 * (sum(ex_in_2) - sum(ex_out_2))\n",
    "        + m_dot_1 * (ex_in_1[1] - ex_out_1[1])\n",
    "        )\n",
    "    Ex_dot_P = m_dot_1 * (ex_out_1[0] - ex_in_1[0])\n",
    "    Ex_dot += [(Ex_dot_F*1e-3, Ex_dot_P*1e-3)]\n",
    "\n",
    "fig, ax = plt.subplots(figsize=(8, 6))\n",
    "\n",
    "ax.plot(T_2_range, [Ex[0] for Ex in Ex_dot], color='#00395B', label='Fuel (adjusted)')\n",
    "ax.plot(T_2_range, [Ex[1] for Ex in Ex_dot], color='#00395B', ls=':', label='Product (adjusted)')\n",
    "ax.plot(T_2_range, [Ex[0] for Ex in Ex_dot_wrong], color='#B54036', label='Fuel (wrong)')\n",
    "ax.plot(T_2_range, [Ex[1] for Ex in Ex_dot_wrong], color='#B54036', ls=':', label='Product (wrong)')\n",
    "\n",
    "ax.set_xlabel('Evaporation temperature in °C')\n",
    "ax.set_ylabel('Exergy in kJ')\n",
    "ax.legend()\n",
    "ax.grid()\n",
    "ax.set_axisbelow(True)"
   ]
  },
  {
   "attachments": {},
   "cell_type": "markdown",
   "metadata": {},
   "source": [
    "```{admonition} Explanation\n",
    ":class: dropdown\n",
    "\n",
    "As you can see, with the wrong implementation of the fuel and product exergy both values become negative. This is not possible according to the definiton of exergy itself. With the adjusted equations, this rightfully is not the case. The product exergy is not changing with variation of the evaporation temperature, as the hot side is not impacted in the example case. On the other hand, the fuel exergy is higher, when the evaporation temperature is lower, i.e. further from the ambient state.\n",
    "\n",
    "If you calculate the exergy destruction of the process, both calculation rules yield the same result, as the difference of two negative numbers is same, as the difference of the same positve numbers.\n",
    "```"
   ]
  },
  {
   "attachments": {},
   "cell_type": "markdown",
   "metadata": {},
   "source": [
    "## Lessons Learned\n",
    "\n",
    "After this section you should be able to perfrom a simple exergy analysis of a heat exchanger. You should be aware of the influence of the chosen ambient state and how the underlying equations have to be arranged. On top of that, you should have learned how the key parameters of a heat exchanger, e.g. the fluids temperatures, inpact the exergy fuel and product and finally the processes exergy destruction and efficiency. "
   ]
  }
 ],
 "metadata": {
  "kernelspec": {
   "display_name": "teaching_exergy",
   "language": "python",
   "name": "python3"
  },
  "language_info": {
   "codemirror_mode": {
    "name": "ipython",
    "version": 3
   },
   "file_extension": ".py",
   "mimetype": "text/x-python",
   "name": "python",
   "nbconvert_exporter": "python",
   "pygments_lexer": "ipython3",
   "version": "3.7.6"
  },
  "vscode": {
   "interpreter": {
    "hash": "8d825165d3a9045ffdcca07a89fe83f75e78b330387598693814eaa5886acc20"
   }
  },
  "widgets": {
   "application/vnd.jupyter.widget-state+json": {
    "state": {},
    "version_major": 2,
    "version_minor": 0
   }
  }
 },
 "nbformat": 4,
 "nbformat_minor": 4
}
