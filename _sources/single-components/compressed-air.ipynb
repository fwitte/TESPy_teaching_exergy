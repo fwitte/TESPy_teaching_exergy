{
 "cells": [
  {
   "cell_type": "markdown",
   "metadata": {},
   "source": [
    "(compressed-air-label)=\n",
    "\n",
    "# Compressed Air Production\n",
    "\n",
    "```{figure} /figures/Compressor.svg\n",
    "---\n",
    "name: compressor-flowsheet\n",
    "---\n",
    "Abstract model representation of a Compressor.\n",
    "```\n",
    "\n",
    "## Introduction\n",
    "\n",
    "In this example we are investigating the provision of compressed air. Compressed air is often required in technical\n",
    "systems, e.g. for process control, or as storage medium, i.e. in Compressed Air Energy Storage (CAES). To generate\n",
    "compressed air a compressor is required, which will (in the best case) compress the air in an isentropic process. The\n",
    "isentropic process is characterized by the fact, that the entropy does not change.\n",
    "\n",
    "We can model such a process using CoolProp. For example, we want to compress 1.5 kg/s of air from the ambient state to\n",
    "a pressure of 10 bar. To calculate the energy consumed in the isentropic process, the energy balance introduced in eq.\n",
    "{eq}`pipe-flow-energy-balance` can be simplified by removing the heat transfer term:\n",
    "\n",
    "```{math}\n",
    ":label: compressor-energy-balance\n",
    "\\dot W = \\dot m \\cdot \\left( h_2 - h_1\\right)\n",
    "```"
   ]
  },
  {
   "cell_type": "code",
   "execution_count": null,
   "metadata": {},
   "outputs": [],
   "source": [
    "from CoolProp.CoolProp import PropsSI\n",
    "\n",
    "\n",
    "T_amb = 20  # °C\n",
    "p_amb = 1.01325  # bar\n",
    "fluid = \"air\"\n",
    "dot_m = 1.5\n",
    "\n",
    "h_amb = PropsSI(\"H\", \"T\", T_amb + 273.15, \"P\", p_amb * 1e5, fluid)\n",
    "s_amb = PropsSI(\"S\", \"T\", T_amb + 273.15, \"P\", p_amb * 1e5, fluid)\n",
    "\n",
    "p_1 = p_amb\n",
    "T_1 = T_amb\n",
    "\n",
    "p_2 = 10\n",
    "\n",
    "h_1 = h_amb\n",
    "s_1 = s_amb\n",
    "s_2 = s_1\n",
    "\n",
    "h_2 = PropsSI(\"H\", \"S\", s_1, \"P\", p_2 * 1e5, fluid)\n",
    "\n",
    "dot_W = dot_m * (h_2 - h_1)\n",
    "\n",
    "dot_W"
   ]
  },
  {
   "cell_type": "markdown",
   "metadata": {},
   "source": [
    "We can define the exergy balance for the compressor at temperatures above the ambient temperature in the eqs.\n",
    "{eq}`compressor-fuel-exergy` and {eq}`compressor-product-exergy`. With that definition it is possible to determine fuel,\n",
    "product and exergy destruction.\n",
    "\n",
    "```{math}\n",
    ":label: compressor-fuel-exergy\n",
    "\\dot E_\\text{F} = \\dot W\n",
    "```\n",
    "\n",
    "```{math}\n",
    ":label: compressor-product-exergy\n",
    "\\dot E_\\text{P} = \\dot{E}_\\text{out}^\\text{PH} - \\dot{E}_\\text{in}^\\text{PH}\n",
    "```"
   ]
  },
  {
   "cell_type": "code",
   "execution_count": null,
   "metadata": {},
   "outputs": [],
   "source": [
    "from utilities import calc_physical_exergy\n",
    "\n",
    "\n",
    "exergy_fuel = dot_W\n",
    "\n",
    "ex_1 = calc_physical_exergy(p_1 * 1e5, h_1, p_amb * 1e5, T_amb + 273.15, fluid)\n",
    "ex_2 = calc_physical_exergy(p_2 * 1e5, h_2, p_amb * 1e5, T_amb + 273.15, fluid)\n",
    "\n",
    "exergy_product = dot_m * (ex_2 - ex_1)\n",
    "\n",
    "exergy_destruction = exergy_fuel - exergy_product\n",
    "\n",
    "exergy_destruction"
   ]
  },
  {
   "cell_type": "markdown",
   "metadata": {},
   "source": [
    "First of all, we see that the exergy destruction is zero, which verifies our calculation: Since the isentropic process\n",
    "is adiabatic and reversible we have an thermodynamically speaking ideal process. Since such a component can only exist\n",
    "in theory, a reference figure is used to define how close an actual compressor is to the theoretical optimum: the\n",
    "isentropic efficiency {math}`\\eta_\\text{s,cmp}` in eq. {eq}`compressor-isentropic-efficiency`:\n",
    "\n",
    "```{math}\n",
    ":label: compressor-isentropic-efficiency\n",
    "\\eta_\\text{s,cmp} = \\frac{h \\left( p_2, s_1\\right) - h_1}{h_2 - h_1}\n",
    "```\n",
    "\n",
    "## Exercises 1\n",
    "\n",
    "Assume you want to compress the same amount of air to the same pressure as in the example before:\n",
    "\n",
    "- What power does a compressor with an isentropic efficiency of 85 % consume?\n",
    "- How large is the exergy destruction?\n",
    "- How and why does the product exergy change?\n",
    "- What is the overall process exergy efficiency in both cases?"
   ]
  },
  {
   "cell_type": "markdown",
   "metadata": {},
   "source": [
    "## Solution 1\n",
    "\n",
    "To calculate the outlet state of the compressor with the isentropic efficiency of 85 % we have to first reorder the eq.\n",
    "{eq}`compressor-isentropic-efficiency` in a way, that the unknown outlet enthalpy can be calculated:\n",
    "\n",
    "```{math}\n",
    ":label: compressor-isentropic-efficiency-reorder\n",
    "h_2 = \\frac{h \\left( p_2, s_1\\right) - h_1}{\\eta_\\text{s,cmp}} + h_1\n",
    "```\n",
    "\n",
    "Then we create a function to calculate the enthalpy after isentropic compression {math}`h \\left( p_2, s_1\\right)` and\n",
    "call it with the respective parameters."
   ]
  },
  {
   "cell_type": "code",
   "execution_count": null,
   "metadata": {},
   "outputs": [],
   "source": [
    "def isentropic_outlet_enthalpy(p_1, h_1, p_2, fluid):\n",
    "    s_1 = PropsSI(\"S\", \"P\", p_1 , \"H\", h_1, fluid)\n",
    "    h_2s = PropsSI(\"H\", \"P\", p_2, \"S\", s_1, fluid)\n",
    "    return h_2s\n",
    "\n",
    "\n",
    "eta_s = 0.85\n",
    "\n",
    "h_2_real = (isentropic_outlet_enthalpy(p_1 * 1e5, h_1, p_2 * 1e5, fluid) - h_1) / eta_s + h_1\n",
    "\n",
    "dot_W_real = dot_m * (h_2_real - h_1)\n",
    "\n",
    "dot_W_real / dot_W - 1"
   ]
  },
  {
   "cell_type": "code",
   "execution_count": null,
   "metadata": {},
   "outputs": [],
   "source": [
    "from myst_nb import glue\n",
    "glue(\"compressor-work-increase\", round((dot_W_real / dot_W - 1) * 100, 2), display=False)"
   ]
  },
  {
   "cell_type": "markdown",
   "metadata": {},
   "source": [
    "We can see how the work required increases by about {glue:text}`compressor-work-increase` %. Now let's have a look at\n",
    "the exergy analysis. We can calculate the balance with the updated outlet state and have a look at the exergy\n",
    "destruction:"
   ]
  },
  {
   "cell_type": "code",
   "execution_count": null,
   "metadata": {},
   "outputs": [],
   "source": [
    "exergy_fuel_real = dot_W_real\n",
    "\n",
    "ex_2_real = calc_physical_exergy(p_2 * 1e5, h_2_real, p_amb * 1e5, T_amb + 273.15, fluid)\n",
    "\n",
    "exergy_product_real = dot_m * (ex_2_real - ex_1)\n",
    "\n",
    "exergy_destruction_real = exergy_fuel_real - exergy_product_real\n",
    "\n",
    "exergy_destruction_real"
   ]
  },
  {
   "cell_type": "code",
   "execution_count": null,
   "metadata": {},
   "outputs": [],
   "source": [
    "glue(\"compressor-exergy-destruction\", round(exergy_destruction_real), display=False)\n",
    "glue(\"compressor-work-change\", round(dot_W_real - dot_W), display=False)"
   ]
  },
  {
   "cell_type": "markdown",
   "metadata": {},
   "source": [
    "The exergy destruction is at {glue:text}`compressor-exergy-destruction` W, the change of work transferred by the\n",
    "compressor (compared to the ideal compressor) is {glue:text}`compressor-work-change` W. This may seem odd at the first\n",
    "glance. If the power input to the process has increased stronger than the exergy destruction, more product exergy must\n",
    "be available than before. We can verify this:"
   ]
  },
  {
   "cell_type": "code",
   "execution_count": null,
   "metadata": {},
   "outputs": [],
   "source": [
    "exergy_product_real - exergy_product"
   ]
  },
  {
   "cell_type": "markdown",
   "metadata": {},
   "source": [
    "Looking at the exergy efficiency we can see, that the isentropic compressor provides 100 % efficiency. The real \n",
    "compressor induces exergy destruction, thus cannot have 100 % efficiency."
   ]
  },
  {
   "cell_type": "code",
   "execution_count": null,
   "metadata": {},
   "outputs": [],
   "source": [
    "epsilon = exergy_product / dot_W\n",
    "epsilon_real = exergy_product_real / dot_W_real"
   ]
  },
  {
   "cell_type": "code",
   "execution_count": null,
   "metadata": {},
   "outputs": [],
   "source": [
    "epsilon"
   ]
  },
  {
   "cell_type": "code",
   "execution_count": null,
   "metadata": {},
   "outputs": [],
   "source": [
    "epsilon_real"
   ]
  },
  {
   "cell_type": "markdown",
   "metadata": {},
   "source": [
    "## Overall process product\n",
    "\n",
    "We have learned how to run energy and exergy balances on a single compressor and found, that a less efficiency \n",
    "compressor consumes more power for the provision of the same mass flow at a specific pressure (obviously), but also that\n",
    "the product exergy increases the less efficient the compressor is.\n",
    "\n",
    "This seems very counter intuitive as we always provide 1.5 kg/s compressed air at a pressure of 10 bar. However, we have\n",
    "not yet looked at the outlet temperature of the compressor. We can do that by calculating the temperature at the outlet\n",
    "pressure and the respective enthalpy."
   ]
  },
  {
   "cell_type": "code",
   "execution_count": null,
   "metadata": {},
   "outputs": [],
   "source": [
    "T_2_is = PropsSI(\"T\", \"P\", p_2 * 1e5, \"H\", h_2, fluid)\n",
    "T_2_is - 273.15"
   ]
  },
  {
   "cell_type": "code",
   "execution_count": null,
   "metadata": {},
   "outputs": [],
   "source": [
    "T_2 = PropsSI(\"T\", \"P\", p_2 * 1e5, \"H\", h_2_real, fluid)\n",
    "T_2 - 273.15"
   ]
  },
  {
   "cell_type": "markdown",
   "metadata": {},
   "source": [
    "It becomes clear, that the outlet temperature rises with a lower isentropic efficiecy of the compressor. Obviously, our\n",
    "total exergy changes, but we want to have a look at how the shares of phyiscal and thermal exergy change.\n",
    "\n",
    "### Exercise 2\n",
    "\n",
    "Compare the mechanical and thermal exergy for the compressed air provided by the ideal and the real compressor.\n",
    "\n",
    "- Why does the mechanical exergy not change?\n",
    "\n",
    "### Solution 2\n",
    "\n",
    "We can make use of the exergy splitting to calculate thermal and mechanical exergy and specifically look at the \n",
    "mechanical exergy first: It does NOT change."
   ]
  },
  {
   "cell_type": "code",
   "execution_count": null,
   "metadata": {},
   "outputs": [],
   "source": [
    "from utilities import calc_splitted_physical_exergy\n",
    "\n",
    "\n",
    "ex_2_ideal_therm, ex_2_ideal_mech = calc_splitted_physical_exergy(p_2 * 1e5, h_2, p_amb * 1e5, T_amb + 273.15, fluid)\n",
    "ex_2_therm, ex_2_mech = calc_splitted_physical_exergy(p_2 * 1e5, h_2_real, p_amb * 1e5, T_amb + 273.15, fluid)\n",
    "\n",
    "\n",
    "ex_2_mech - ex_2_ideal_mech"
   ]
  },
  {
   "cell_type": "markdown",
   "metadata": {},
   "source": [
    "That means the change in product exergy is purely due to a change in thermal exergy:"
   ]
  },
  {
   "cell_type": "code",
   "execution_count": null,
   "metadata": {},
   "outputs": [],
   "source": [
    "dot_m * (ex_2_therm - ex_2_ideal_therm)"
   ]
  },
  {
   "cell_type": "code",
   "execution_count": null,
   "metadata": {},
   "outputs": [],
   "source": [
    "exergy_product_real - exergy_product"
   ]
  },
  {
   "cell_type": "markdown",
   "metadata": {},
   "source": [
    "What does this mean about the overall process product exergy? In our technical system we want to provide pneumatic \n",
    "energy. We cannot make use of the high temperature for this specific reason. Of course, one could use that thermal\n",
    "exergy to provide heat to other processes, but for now we want to focus on the provison of pressurized air. Thinking\n",
    "at this, the value of our process lies in the pressure of the air, not in the temperature. Therefore we want to \n",
    "investigate more on this by defining a virtual process, which cools the pressurized air back to the ambient temperature\n",
    "without changing the pressure as illustrated in {numref}`compressor-virtual-cooling-flowsheet`.\n",
    "\n",
    "```{figure} /figures/Compressor_virtual_cooling.svg\n",
    "---\n",
    "name: compressor-virtual-cooling-flowsheet\n",
    "---\n",
    "Process representation of the compressor with virtual cooling of the compressed air.\n",
    "```\n",
    "\n",
    "## Exercise 3\n",
    "\n",
    "Balance the virtual process according to the flowsheet above assuming the temperature at point 3 is at the ambient\n",
    "temperature and the pressure does not change between the states 2 and 3.\n",
    "\n",
    "- Between the states 1 and 3\n",
    "  - How does the enthalpy change?\n",
    "  - How much energy is transferred overall?\n",
    "  - How do mechanical and thermal exergy change?\n",
    "- Between the states 2 and 3\n",
    "  - How much heat is transferred?\n",
    "  - How much do mechanical and thermal exergy change?\n",
    "  - How do the heat transfer and the change in thermal exergy connect?\n",
    "\n",
    "## Solution 3\n",
    "\n",
    "We have the following constraints in the compressed air system:\n",
    "\n",
    "```{math}\n",
    "    :label: eq:compressed-air-information\n",
    "    T_3 = T_1\\\\\n",
    "    p_3 = p_2\\\\\n",
    "    p_2 > p_1\n",
    "```\n",
    "\n",
    "We have already calculated the enthalpy at the states 1 and 2. Therefore, we calculate the missing value of enthalpy at\n",
    "state 3 and find the change in enthalpy and the overall energy transfer between the states 1 and 3. Overall, the \n",
    "enthalpy changes by about 2.1 kJ/kg and the total energy transfer nets to -3.2 kW."
   ]
  },
  {
   "cell_type": "code",
   "execution_count": null,
   "metadata": {},
   "outputs": [],
   "source": [
    "T_3 = T_1\n",
    "p_3 = p_2\n",
    "h_3 = PropsSI(\"H\", \"T\", T_3 + 273.15, \"P\", p_3 * 1e5, \"air\")\n",
    "h_3 - h_1"
   ]
  },
  {
   "cell_type": "code",
   "execution_count": null,
   "metadata": {},
   "outputs": [],
   "source": [
    "dot_m * (h_3 - h_1)"
   ]
  },
  {
   "cell_type": "markdown",
   "metadata": {},
   "source": [
    "For an outside observer not knowing about the specifics of the process, it seems as if the potential of the compressed\n",
    "air at the state 3 is lower than at the state 1. By calculating the exergy change we can however find, that the \n",
    "potential has actually increased.\n",
    "\n",
    "```{note}\n",
    "For completeness, we are also calculating the exergy of the state 1, which must be equal to zero, since we are in\n",
    "ambient state in that point.\n",
    "```"
   ]
  },
  {
   "cell_type": "code",
   "execution_count": null,
   "metadata": {},
   "outputs": [],
   "source": [
    "ex_1_therm, ex_1_mech = calc_splitted_physical_exergy(p_1 * 1e5, h_1, p_amb * 1e5, T_amb +273.15, \"air\")\n",
    "ex_3_therm, ex_3_mech = calc_splitted_physical_exergy(p_3 * 1e5, h_3, p_amb * 1e5, T_amb +273.15, \"air\")\n",
    "\n",
    "(ex_3_therm + ex_3_mech) - (ex_1_therm + ex_1_mech)"
   ]
  },
  {
   "cell_type": "markdown",
   "metadata": {},
   "source": [
    "We find the changes in the individual constituents of the exergy, the thermal exergy does obviously not change, because\n",
    "we are at ambient temperature in both cases. The mechanical exergy has however increased."
   ]
  },
  {
   "cell_type": "code",
   "execution_count": null,
   "metadata": {},
   "outputs": [],
   "source": [
    "ex_3_therm - ex_1_therm"
   ]
  },
  {
   "cell_type": "code",
   "execution_count": null,
   "metadata": {},
   "outputs": [],
   "source": [
    "ex_3_mech - ex_1_mech"
   ]
  },
  {
   "cell_type": "markdown",
   "metadata": {},
   "source": [
    "Next we have a look at the process between the states 2 and 3. First, we identify the amount of heat transferred. For\n",
    "that we have to make the energy balance of that process.\n",
    "\n",
    "```{math}\n",
    "\\dot Q_\\text{2-3} = \\dot m \\cdot \\left( h_3 - h_2\\right)\n",
    "```\n",
    "\n",
    "We can compare the amount of heat withdrawn with the change in exergy, which is the exergy destruction in the virutal\n",
    "cooling process. It becomes apparent, that the exergy destruction is lower than the heat transferred, because heat does\n",
    "not consist of pure exergy. And we can see, that the exergy destruction is purely caused by destruction of thermal\n",
    "exergy. The mechanical exergy does not change, because the pressure does not change.\n",
    "\n",
    "```{math}\n",
    "\\dot E_\\text{D,2-3} = \\dot m \\cdot \\left( e_3 - e_2\\right)\n",
    "```"
   ]
  },
  {
   "cell_type": "code",
   "execution_count": null,
   "metadata": {},
   "outputs": [],
   "source": [
    "dot_Q = dot_m * (h_3 - h_2)\n",
    "dot_E_D = dot_m * (ex_3_therm + ex_3_mech - (ex_2_therm + ex_2_mech))"
   ]
  },
  {
   "cell_type": "code",
   "execution_count": null,
   "metadata": {},
   "outputs": [],
   "source": [
    "dot_Q"
   ]
  },
  {
   "cell_type": "code",
   "execution_count": null,
   "metadata": {},
   "outputs": [],
   "source": [
    "dot_E_D"
   ]
  },
  {
   "cell_type": "code",
   "execution_count": null,
   "metadata": {},
   "outputs": [],
   "source": [
    "ex_3_therm - ex_2_therm"
   ]
  },
  {
   "cell_type": "code",
   "execution_count": null,
   "metadata": {},
   "outputs": [],
   "source": [
    "ex_3_mech - ex_2_mech"
   ]
  },
  {
   "cell_type": "markdown",
   "metadata": {},
   "source": [
    "## Improving the process\n",
    "\n",
    "To thermodynamically improve the process (minimizing the exergy destruction) we subdivide our compressor into two\n",
    "separate stages with intermittent cooling as shown in {numref}`compressor-intermittent-cooling-flowsheet`.\n",
    "\n",
    "```{figure} /figures/Compressor_intermittent_cooling.svg\n",
    "---\n",
    "name: compressor-intermittent-cooling-flowsheet\n",
    "---\n",
    "Process representation of a compressor with two stages and intermittent cooling.\n",
    "```\n",
    "\n",
    "## Exercise 4\n",
    "\n",
    "Model the process of\n",
    "\n",
    "- compressing the ambient air to 3 bar,\n",
    "- cooling the air back to the ambient temperature and\n",
    "- compressing the air up to 10 bar.\n",
    "\n",
    "Assume, that the isentropic efficiency of the two compressor stages is 85 %.\n",
    "\n",
    "## Solution 4\n",
    "\n",
    "To model a compressor with intermittent cooling, we first define the overall process fuel exergy and product exergy in\n",
    "eqs. {eq}`compressor-overall-fuel-exergy` and {eq}`compressor-overall-product-exergy`. Exergy losses, e.g. by leaking\n",
    "mass flow are not considered. The exergy destruction and exergy efficiency can then be calculated according to the\n",
    "theory (eqs. {eq}`compressor-overall-exergy-destruction` and {eq}`compressor-overall-exergy-efficiency`).\n",
    "\n",
    "```{math}\n",
    ":label: compressor-overall-fuel-exergy\n",
    "\\dot E_\\text{F,tot} = \\sum \\dot W\n",
    "```\n",
    "\n",
    "```{math}\n",
    ":label: compressor-overall-product-exergy\n",
    "\\dot E_\\text{P,tot} = \\dot m \\cdot e_\\text{4}\n",
    "```\n",
    "\n",
    "```{math}\n",
    ":label: compressor-overall-exergy-destruction\n",
    "\\dot E_\\text{D,tot} = \\dot E_\\text{F,tot} - dot E_\\text{P,tot}\n",
    "```\n",
    "\n",
    "```{math}\n",
    ":label: compressor-overall-exergy-efficiency\n",
    "\\eta_\\text{tot} = \\frac{dot E_\\text{P,tot}}{\\dot E_\\text{F,tot}}\n",
    "```\n",
    "\n",
    "We define our 4 states and calculate the missing properties (all enthalpies):"
   ]
  },
  {
   "cell_type": "code",
   "execution_count": null,
   "metadata": {},
   "outputs": [],
   "source": [
    "eta_s = 0.85\n",
    "\n",
    "p_amb = 1e5\n",
    "T_amb = 25 + 273.15\n",
    "\n",
    "p_1 = 1e5\n",
    "p_2 = 3e5\n",
    "p_3 = p_2\n",
    "p_4 = 10e5\n",
    "\n",
    "T_1 = 25 + 273.15\n",
    "T_3 = T_1\n",
    "\n",
    "h_1 = PropsSI(\"H\", \"T\", T_1, \"P\", p_1, \"air\")\n",
    "h_2 = (isentropic_outlet_enthalpy(p_1, h_1, p_2, fluid) - h_1) / eta_s + h_1\n",
    "h_3 = PropsSI(\"H\", \"T\", T_3, \"P\", p_3, \"air\")\n",
    "h_4 = (isentropic_outlet_enthalpy(p_3, h_3, p_4, fluid) - h_3) / eta_s + h_3\n",
    "\n",
    "dot_W_1 = dot_m * (h_2 - h_1)\n",
    "dot_W_2 = dot_m * (h_4 - h_3)\n",
    "ex_4 = calc_physical_exergy(p_4, h_4, p_amb, T_amb, \"air\")\n",
    "\n",
    "E_F = dot_W_1 + dot_W_2\n",
    "E_P = dot_m * ex_4\n",
    "E_D = E_F - E_P\n",
    "epsilon = E_P / E_F"
   ]
  },
  {
   "cell_type": "code",
   "execution_count": null,
   "metadata": {},
   "outputs": [],
   "source": [
    "epsilon"
   ]
  },
  {
   "cell_type": "code",
   "execution_count": null,
   "metadata": {},
   "outputs": [],
   "source": [
    "dot_W_1 + dot_W_2"
   ]
  },
  {
   "cell_type": "markdown",
   "metadata": {},
   "source": [
    "## Exercise 5\n",
    "\n",
    "Balance the process with energy and exergy:\n",
    "  - How does the overall power requirement change?\n",
    "  - How does the overall exergy destruction change?\n",
    "  - Why is the overall exergy destruction smaller?\n",
    "\n",
    "## Solution 5"
   ]
  },
  {
   "cell_type": "markdown",
   "metadata": {},
   "source": [
    "## Exercise 6\n",
    "  \n",
    "6. Build a TESPy model for the same process.\n",
    "   - Run the exergy analysis.\n",
    "   - Verify the results of the models.\n",
    "   - Vary the intermediate pressure and calculate the process exergy efficiency for a pressure range of 2 bar to 9 bar.\n",
    "     Plot the results."
   ]
  },
  {
   "cell_type": "markdown",
   "metadata": {},
   "source": [
    "## Solution 3"
   ]
  },
  {
   "cell_type": "markdown",
   "metadata": {},
   "source": [
    "## Solution 4"
   ]
  },
  {
   "cell_type": "markdown",
   "metadata": {},
   "source": [
    "## Solution 5"
   ]
  },
  {
   "cell_type": "markdown",
   "metadata": {},
   "source": [
    "## Solution 6\n",
    "\n",
    "- Nur Kompressor vs. Kompressor mit Zwischenkühler:\n",
    "  - Was ist mit dem MItteldruck\n",
    "  - Nutzen der Zwischenkühlung?\n",
    "  - Wem ist die Zwischenkühlung im Vergleich zuzuordnen?\n",
    "\n",
    "- T,s/h,s-Diagramm\n",
    "- Bezug Integral v dp?"
   ]
  }
 ],
 "metadata": {
  "kernelspec": {
   "display_name": "Python 3 (ipykernel)",
   "language": "python",
   "name": "python3"
  },
  "language_info": {
   "codemirror_mode": {
    "name": "ipython",
    "version": 3
   },
   "file_extension": ".py",
   "mimetype": "text/x-python",
   "name": "python",
   "nbconvert_exporter": "python",
   "pygments_lexer": "ipython3",
   "version": "3.9.13"
  },
  "widgets": {
   "application/vnd.jupyter.widget-state+json": {
    "state": {},
    "version_major": 2,
    "version_minor": 0
   }
  }
 },
 "nbformat": 4,
 "nbformat_minor": 4
}
