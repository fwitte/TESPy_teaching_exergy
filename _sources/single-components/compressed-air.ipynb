{
 "cells": [
  {
   "cell_type": "markdown",
   "metadata": {},
   "source": [
    "(compressed-air-label)=\n",
    "\n",
    "# Compressed Air Production\n",
    "\n",
    "```{figure} /figures/Compressor.svg\n",
    "---\n",
    "name: compressor-flowsheet\n",
    "---\n",
    "Abstract model representation of a Compressor.\n",
    "```\n",
    "\n",
    "## Introduction\n",
    "\n",
    "In this example we are investigating the provision of compressed air. Compressed air is often required in technical\n",
    "systems, e.g. for process control, or as storage medium, i.e. in Compressed Air Energy Storage (CAES). To generate\n",
    "compressed air a compressor is required, which will (in the best case) compress the air in an isentropic process. The\n",
    "isentropic process is characterized by the fact, that the entropy does not change.\n",
    "\n",
    "We can model such a process using CoolProp. For example, we want to compress 1.5 kg/s of air from the ambient state to\n",
    "a pressure of 10 bar. To calculate the energy consumed in the isentropic process, the energy balance introduced in eq.\n",
    "{eq}`pipe-flow-energy-balance` can be simplified by removing the heat transfer term:\n",
    "\n",
    "```{math}\n",
    ":label: compressor-energy-balance\n",
    "\\dot W = \\dot m \\cdot \\left( h_2 - h_1\\right)\n",
    "```"
   ]
  },
  {
   "cell_type": "code",
   "execution_count": null,
   "metadata": {},
   "outputs": [],
   "source": [
    "from CoolProp.CoolProp import PropsSI\n",
    "\n",
    "\n",
    "T_amb = 20  # °C\n",
    "p_amb = 1.01325  # bar\n",
    "fluid = \"air\"\n",
    "dot_m = 1.5\n",
    "\n",
    "h_amb = PropsSI(\"H\", \"T\", T_amb + 273.15, \"P\", p_amb * 1e5, fluid)\n",
    "s_amb = PropsSI(\"S\", \"T\", T_amb + 273.15, \"P\", p_amb * 1e5, fluid)\n",
    "\n",
    "p_1 = p_amb\n",
    "T_1 = T_amb\n",
    "\n",
    "p_2 = 10\n",
    "\n",
    "h_1 = h_amb\n",
    "s_1 = s_amb\n",
    "s_2 = s_1\n",
    "\n",
    "h_2 = PropsSI(\"H\", \"S\", s_1, \"P\", p_2 * 1e5, fluid)\n",
    "\n",
    "dot_W = dot_m * (h_2 - h_1)\n",
    "\n",
    "dot_W"
   ]
  },
  {
   "cell_type": "markdown",
   "metadata": {},
   "source": [
    "We can define the exergy balance for the compressor at temperatures above the ambient temperature in the eqs.\n",
    "{eq}`compressor-fuel-exergy` and {eq}`compressor-product-exergy`. With that definition it is possible to determine fuel,\n",
    "product and exergy destruction.\n",
    "\n",
    "```{math}\n",
    ":label: compressor-fuel-exergy\n",
    "\\dot E_\\text{F} = \\dot W\n",
    "```\n",
    "\n",
    "```{math}\n",
    ":label: compressor-product-exergy\n",
    "\\dot E_\\text{P} = \\dot{E}_\\text{out}^\\text{PH} - \\dot{E}_\\text{in}^\\text{PH}\n",
    "```"
   ]
  },
  {
   "cell_type": "code",
   "execution_count": null,
   "metadata": {},
   "outputs": [],
   "source": [
    "from utilities import calc_physical_exergy\n",
    "\n",
    "\n",
    "exergy_fuel = dot_W\n",
    "\n",
    "ex_1 = calc_physical_exergy(p_1 * 1e5, h_1, p_amb * 1e5, T_amb + 273.15, fluid)\n",
    "ex_2 = calc_physical_exergy(p_2 * 1e5, h_2, p_amb * 1e5, T_amb + 273.15, fluid)\n",
    "\n",
    "exergy_product = dot_m * (ex_2 - ex_1)\n",
    "\n",
    "exergy_destruction = exergy_fuel - exergy_product\n",
    "\n",
    "exergy_destruction"
   ]
  },
  {
   "cell_type": "markdown",
   "metadata": {},
   "source": [
    "First of all, we see that the exergy destruction is zero, which verifies our calculation: Since the isentropic process\n",
    "is adiabatic and reversible we have an thermodynamically speaking ideal process. Since such a component can only exist\n",
    "in theory, a reference figure is used to define how close an actual compressor is to the theoretical optimum: the\n",
    "isentropic efficiency {math}`\\eta_\\text{s,cmp}` in eq. {eq}`compressor-isentropic-efficiency`:\n",
    "\n",
    "```{math}\n",
    ":label: compressor-isentropic-efficiency\n",
    "\\eta_\\text{s,cmp} = \\frac{h \\left( p_2, s_1\\right) - h_1}{h_2 - h_1}\n",
    "```\n",
    "\n",
    "## Exercises 1\n",
    "\n",
    "Assume you want to compress the same amount of air to the same pressure as in the example before:\n",
    "\n",
    "- What power does a compressor with an isentropic efficiency of 85 % consume?\n",
    "- How large is the exergy destruction?\n",
    "- How and why does the product exergy change?\n",
    "- What is the overall process exergy efficiency in both cases?"
   ]
  },
  {
   "cell_type": "markdown",
   "metadata": {},
   "source": [
    "## Solution 1\n",
    "\n",
    "To calculate the outlet state of the compressor with the isentropic efficiency of 85 % we have to first reorder the eq.\n",
    "{eq}`compressor-isentropic-efficiency` in a way, that the unknown outlet enthalpy can be calculated:\n",
    "\n",
    "```{math}\n",
    ":label: compressor-isentropic-efficiency-reorder\n",
    "h_2 = \\frac{h \\left( p_2, s_1\\right) - h_1}{\\eta_\\text{s,cmp}} + h_1\n",
    "```\n",
    "\n",
    "Then we create a function to calculate the enthalpy after isentropic compression {math}`h \\left( p_2, s_1\\right)` and\n",
    "call it with the respective parameters."
   ]
  },
  {
   "cell_type": "code",
   "execution_count": null,
   "metadata": {},
   "outputs": [],
   "source": [
    "def isentropic_outlet_enthalpy(p_1, h_1, p_2, fluid):\n",
    "    s_1 = PropsSI(\"S\", \"P\", p_1 , \"H\", h_1, fluid)\n",
    "    h_2s = PropsSI(\"H\", \"P\", p_2, \"S\", s_1, fluid)\n",
    "    return h_2s\n",
    "\n",
    "\n",
    "eta_s = 0.85\n",
    "\n",
    "h_2_real = (isentropic_outlet_enthalpy(p_1 * 1e5, h_1, p_2 * 1e5, fluid) - h_1) / eta_s + h_1\n",
    "\n",
    "dot_W_real = dot_m * (h_2_real - h_1)\n",
    "\n",
    "dot_W_real / dot_W - 1"
   ]
  },
  {
   "cell_type": "code",
   "execution_count": null,
   "metadata": {},
   "outputs": [],
   "source": [
    "from myst_nb import glue\n",
    "glue(\"compressor-work-increase\", round((dot_W_real / dot_W - 1) * 100, 2), display=False)"
   ]
  },
  {
   "cell_type": "markdown",
   "metadata": {},
   "source": [
    "We can see how the work required increases by about {glue:text}`compressor-work-increase` %. Now let's have a look at\n",
    "the exergy analysis. We can calculate the balance with the updated outlet state and have a look at the exergy\n",
    "destruction:"
   ]
  },
  {
   "cell_type": "code",
   "execution_count": null,
   "metadata": {},
   "outputs": [],
   "source": [
    "exergy_fuel_real = dot_W_real\n",
    "\n",
    "ex_2_real = calc_physical_exergy(p_2 * 1e5, h_2_real, p_amb * 1e5, T_amb + 273.15, fluid)\n",
    "\n",
    "exergy_product_real = dot_m * (ex_2_real - ex_1)\n",
    "\n",
    "exergy_destruction_real = exergy_fuel_real - exergy_product_real\n",
    "\n",
    "exergy_destruction_real"
   ]
  },
  {
   "cell_type": "code",
   "execution_count": null,
   "metadata": {},
   "outputs": [],
   "source": [
    "glue(\"compressor-exergy-destruction\", round(exergy_destruction_real), display=False)\n",
    "glue(\"compressor-work-change\", round(dot_W_real - dot_W), display=False)"
   ]
  },
  {
   "cell_type": "markdown",
   "metadata": {},
   "source": [
    "The exergy destruction is at {glue:text}`compressor-exergy-destruction` W, the change of work transferred by the\n",
    "compressor (compared to the ideal compressor) is {glue:text}`compressor-work-change` W. This may seem odd at the first\n",
    "glance. If the power input to the process has increased stronger than the exergy destruction, more product exergy must\n",
    "be available than before. We can verify this:"
   ]
  },
  {
   "cell_type": "code",
   "execution_count": null,
   "metadata": {},
   "outputs": [],
   "source": [
    "exergy_product_real - exergy_product"
   ]
  },
  {
   "cell_type": "markdown",
   "metadata": {},
   "source": [
    "Looking at the exergy efficiency we can see, that the isentropic compressor provides 100 % efficiency. The real \n",
    "compressor induces exergy destruction, thus cannot have 100 % efficiency."
   ]
  },
  {
   "cell_type": "code",
   "execution_count": null,
   "metadata": {},
   "outputs": [],
   "source": [
    "epsilon = exergy_product / dot_W\n",
    "epsilon_real = exergy_product_real / dot_W_real"
   ]
  },
  {
   "cell_type": "code",
   "execution_count": null,
   "metadata": {},
   "outputs": [],
   "source": [
    "epsilon"
   ]
  },
  {
   "cell_type": "code",
   "execution_count": null,
   "metadata": {},
   "outputs": [],
   "source": [
    "epsilon_real"
   ]
  },
  {
   "cell_type": "markdown",
   "metadata": {},
   "source": [
    "## Overall process product\n",
    "\n",
    "We have learned how to run energy and exergy balances on a single compressor and found, that a less efficiency \n",
    "compressor consumes more power for the provision of the same mass flow at a specific pressure (obviously), but also that\n",
    "the product exergy increases the less efficient the compressor is.\n",
    "\n",
    "This seems very counter intuitive as we always provide 1.5 kg/s compressed air at a pressure of 10 bar. However, we have\n",
    "not yet looked at the outlet temperature of the compressor. We can do that by calculating the temperature at the outlet\n",
    "pressure and the respective enthalpy."
   ]
  },
  {
   "cell_type": "code",
   "execution_count": null,
   "metadata": {},
   "outputs": [],
   "source": [
    "T_2_is = PropsSI(\"T\", \"P\", p_2 * 1e5, \"H\", h_2, fluid)\n",
    "T_2_is - 273.15"
   ]
  },
  {
   "cell_type": "code",
   "execution_count": null,
   "metadata": {},
   "outputs": [],
   "source": [
    "T_2 = PropsSI(\"T\", \"P\", p_2 * 1e5, \"H\", h_2_real, fluid)\n",
    "T_2 - 273.15"
   ]
  },
  {
   "cell_type": "markdown",
   "metadata": {},
   "source": [
    "It becomes clear, that the outlet temperature rises with a lower isentropic efficiecy of the compressor. Obviously, our\n",
    "total exergy changes, but we want to have a look at how the shares of phyiscal and thermal exergy change.\n",
    "\n",
    "### Exercise 2\n",
    "\n",
    "Compare the mechanical and thermal exergy for the compressed air provided by the ideal and the real compressor.\n",
    "\n",
    "- Why does the mechanical exergy not change?\n",
    "\n",
    "### Solution 2\n",
    "\n",
    "We can make use of the exergy splitting to calculate thermal and mechanical exergy and specifically look at the \n",
    "mechanical exergy first: It does NOT change."
   ]
  },
  {
   "cell_type": "code",
   "execution_count": null,
   "metadata": {},
   "outputs": [],
   "source": [
    "from utilities import calc_splitted_physical_exergy\n",
    "\n",
    "\n",
    "ex_2_ideal_therm, ex_2_ideal_mech = calc_splitted_physical_exergy(p_2 * 1e5, h_2, p_amb * 1e5, T_amb + 273.15, fluid)\n",
    "ex_2_therm, ex_2_mech = calc_splitted_physical_exergy(p_2 * 1e5, h_2_real, p_amb * 1e5, T_amb + 273.15, fluid)\n",
    "\n",
    "\n",
    "ex_2_mech - ex_2_ideal_mech"
   ]
  },
  {
   "cell_type": "markdown",
   "metadata": {},
   "source": [
    "That means the change in product exergy is purely due to a change in thermal exergy:"
   ]
  },
  {
   "cell_type": "code",
   "execution_count": null,
   "metadata": {},
   "outputs": [],
   "source": [
    "dot_m * (ex_2_therm - ex_2_ideal_therm)"
   ]
  },
  {
   "cell_type": "code",
   "execution_count": null,
   "metadata": {},
   "outputs": [],
   "source": [
    "exergy_product_real - exergy_product"
   ]
  },
  {
   "cell_type": "markdown",
   "metadata": {},
   "source": [
    "What does this mean about the overall process product exergy? In our technical system we want to provide pneumatic \n",
    "energy. We cannot make use of the high temperature for this specific reason. Of course, one could use that thermal\n",
    "exergy to provide heat to other processes, but for now we want to focus on the provison of pressurized air. Thinking\n",
    "at this, the value of our process lies in the pressure of the air, not in the temperature. Therefore we want to \n",
    "investigate more on this by defining a virtual process, which cools the pressurized air back to the ambient temperature\n",
    "without changing the pressure as illustrated in {numref}`compressor-virtual-cooling-flowsheet`.\n",
    "\n",
    "```{figure} /figures/Compressor_virtual_cooling.svg\n",
    "---\n",
    "name: compressor-virtual-cooling-flowsheet\n",
    "---\n",
    "Process representation of the compressor with virtual cooling of the compressed air.\n",
    "```\n",
    "\n",
    "## Exercise 3\n",
    "\n",
    "Balance the virtual process according to the flowsheet above assuming the temperature at point 3 is at the ambient\n",
    "temperature and the pressure does not change between the states 2 and 3.\n",
    "\n",
    "- Between the states 1 and 3\n",
    "  - How does the enthalpy change?\n",
    "  - How much energy is transferred overall?\n",
    "  - How do mechanical and thermal exergy change?\n",
    "- Between the states 2 and 3\n",
    "  - How much heat is transferred?\n",
    "  - How much do mechanical and thermal exergy change?\n",
    "  - How do the heat transfer and the change in thermal exergy connect?\n",
    "\n",
    "## Solution 3\n",
    "\n",
    "We have the following constraints in the compressed air system:\n",
    "\n",
    "```{math}\n",
    "    :label: eq:compressed-air-information\n",
    "    T_3 = T_1\\\\\n",
    "    p_3 = p_2\\\\\n",
    "    p_2 > p_1\n",
    "```\n",
    "\n",
    "We have already calculated the enthalpy at the states 1 and 2. Therefore, we calculate the missing value of enthalpy at\n",
    "state 3 and find the change in enthalpy and the overall energy transfer between the states 1 and 3. Overall, the \n",
    "enthalpy changes by about {glue:text}`compressor-virtual-cooling-enthalpy-difference-total` kJ/kg and the total energy\n",
    "transfer nets to {glue:text}`compressor-virtual-cooling-energy-total` kW."
   ]
  },
  {
   "cell_type": "code",
   "execution_count": null,
   "metadata": {},
   "outputs": [],
   "source": [
    "T_3 = T_1\n",
    "p_3 = p_2\n",
    "h_3 = PropsSI(\"H\", \"T\", T_3 + 273.15, \"P\", p_3 * 1e5, \"air\")\n",
    "h_3 - h_1"
   ]
  },
  {
   "cell_type": "code",
   "execution_count": null,
   "metadata": {},
   "outputs": [],
   "source": [
    "dot_m * (h_3 - h_1)"
   ]
  },
  {
   "cell_type": "code",
   "execution_count": null,
   "metadata": {},
   "outputs": [],
   "source": [
    "glue(\"compressor-virtual-cooling-enthalpy-difference-total\", round((h_3 - h_1) / 1e3, 1), display=False)\n",
    "glue(\"compressor-virtual-cooling-energy-total\", round(dot_m * (h_3 - h_1) / 1e3, 1), display=False)"
   ]
  },
  {
   "cell_type": "markdown",
   "metadata": {},
   "source": [
    "For an outside observer not knowing about the specifics of the process, it seems as if the potential of the compressed\n",
    "air at the state 3 is lower than at the state 1. By calculating the exergy change we can however find, that the \n",
    "potential has actually increased.\n",
    "\n",
    "```{note}\n",
    "For completeness, we are also calculating the exergy of the state 1, which must be equal to zero, since we are in\n",
    "ambient state in that point.\n",
    "```"
   ]
  },
  {
   "cell_type": "code",
   "execution_count": null,
   "metadata": {},
   "outputs": [],
   "source": [
    "ex_1_therm, ex_1_mech = calc_splitted_physical_exergy(p_1 * 1e5, h_1, p_amb * 1e5, T_amb +273.15, \"air\")\n",
    "ex_3_therm, ex_3_mech = calc_splitted_physical_exergy(p_3 * 1e5, h_3, p_amb * 1e5, T_amb +273.15, \"air\")\n",
    "\n",
    "(ex_3_therm + ex_3_mech) - (ex_1_therm + ex_1_mech)"
   ]
  },
  {
   "cell_type": "markdown",
   "metadata": {},
   "source": [
    "We find the changes in the individual constituents of the exergy, the thermal exergy does obviously not change, because\n",
    "we are at ambient temperature in both cases. The mechanical exergy has however increased."
   ]
  },
  {
   "cell_type": "code",
   "execution_count": null,
   "metadata": {},
   "outputs": [],
   "source": [
    "ex_3_therm - ex_1_therm"
   ]
  },
  {
   "cell_type": "code",
   "execution_count": null,
   "metadata": {},
   "outputs": [],
   "source": [
    "ex_3_mech - ex_1_mech"
   ]
  },
  {
   "cell_type": "markdown",
   "metadata": {},
   "source": [
    "Next we have a look at the process between the states 2 and 3. First, we identify the amount of heat transferred. For\n",
    "that we have to make the energy balance of that process.\n",
    "\n",
    "```{math}\n",
    "\\dot Q_\\text{2-3} = \\dot m \\cdot \\left( h_3 - h_2\\right)\n",
    "```\n",
    "\n",
    "We can compare the amount of heat withdrawn with the change in exergy, which is the exergy destruction in the virutal\n",
    "cooling process. It becomes apparent, that the exergy destruction is lower than the heat transferred, because heat does\n",
    "not consist of pure exergy. And we can see, that the exergy destruction is purely caused by destruction of thermal\n",
    "exergy. The mechanical exergy does not change, because the pressure does not change.\n",
    "\n",
    "```{math}\n",
    "\\dot E_\\text{D,2-3} = \\dot m \\cdot \\left( e_3 - e_2\\right)\n",
    "```"
   ]
  },
  {
   "cell_type": "code",
   "execution_count": null,
   "metadata": {},
   "outputs": [],
   "source": [
    "dot_Q = dot_m * (h_3 - h_2)\n",
    "dot_E_D = dot_m * (ex_3_therm + ex_3_mech - (ex_2_therm + ex_2_mech))"
   ]
  },
  {
   "cell_type": "code",
   "execution_count": null,
   "metadata": {},
   "outputs": [],
   "source": [
    "dot_Q"
   ]
  },
  {
   "cell_type": "code",
   "execution_count": null,
   "metadata": {},
   "outputs": [],
   "source": [
    "dot_E_D"
   ]
  },
  {
   "cell_type": "code",
   "execution_count": null,
   "metadata": {},
   "outputs": [],
   "source": [
    "ex_3_therm - ex_2_therm"
   ]
  },
  {
   "cell_type": "code",
   "execution_count": null,
   "metadata": {},
   "outputs": [],
   "source": [
    "ex_3_mech - ex_2_mech"
   ]
  },
  {
   "cell_type": "markdown",
   "metadata": {},
   "source": [
    "## Improving the process\n",
    "\n",
    "To thermodynamically improve the process (minimizing the exergy destruction) we subdivide our compressor into two\n",
    "separate stages with intermittent cooling as shown in {numref}`compressor-intermittent-cooling-flowsheet`.\n",
    "\n",
    "```{figure} /figures/Compressor_intermittent_cooling.svg\n",
    "---\n",
    "name: compressor-intermittent-cooling-flowsheet\n",
    "---\n",
    "Process representation of a compressor with two stages and intermittent cooling.\n",
    "```\n",
    "\n",
    "## Exercise 4\n",
    "\n",
    "Model the process of\n",
    "\n",
    "- compressing the ambient air to 3 bar,\n",
    "- cooling the air back to the ambient temperature and\n",
    "- compressing the air up to 10 bar.\n",
    "\n",
    "Assume, that the isentropic efficiency of the two compressor stages is 85 %.\n",
    "\n",
    "Then balance the process with energy and exergy:\n",
    "\n",
    "  - How does the overall power requirement change compared to single stage compression?\n",
    "  - How does the overall exergy destruction change compared to single stage compression?\n",
    "  - Why is the overall exergy efficiency smaller in the two stage compressor, while less power is consumed than the\n",
    "    single stage compression?\n",
    "\n",
    "## Solution 4\n",
    "\n",
    "To run the energy and exergy balances on the compressor with intermittent cooling, we first have to determine all \n",
    "missing values. We know the pressure in all points and the temperature at the inlet and at the outlet. With the \n",
    "isentropic efficiency definition from eq. {eq}`compressor-isentropic-efficiency` we can determine all enthalpies.\n",
    "\n",
    "Next, we can calculate the total power input as well as define the overall process fuel exergy and product exergy in\n",
    "eqs. {eq}`compressor-overall-fuel-exergy` and {eq}`compressor-overall-product-exergy`. Exergy losses, e.g. by leaking\n",
    "mass flow are not considered. The exergy destruction and exergy efficiency can then be calculated according to the\n",
    "theory (eqs. {eq}`compressor-overall-exergy-destruction` and {eq}`compressor-overall-exergy-efficiency`).\n",
    "\n",
    "```{math}\n",
    ":label: compressor-overall-fuel-exergy\n",
    "\\dot E_\\text{F,tot} = \\sum \\dot W\n",
    "```\n",
    "\n",
    "```{math}\n",
    ":label: compressor-overall-product-exergy\n",
    "\\dot E_\\text{P,tot} = \\dot m \\cdot e_\\text{4}\n",
    "```\n",
    "\n",
    "```{math}\n",
    ":label: compressor-overall-exergy-destruction\n",
    "\\dot E_\\text{D,tot} = \\dot E_\\text{F,tot} - \\dot E_\\text{P,tot}\n",
    "```\n",
    "\n",
    "```{math}\n",
    ":label: compressor-overall-exergy-efficiency\n",
    "\\epsilon_\\text{tot} = \\frac{\\dot E_\\text{P,tot}}{\\dot E_\\text{F,tot}}\n",
    "```"
   ]
  },
  {
   "cell_type": "code",
   "execution_count": null,
   "metadata": {},
   "outputs": [],
   "source": [
    "eta_s = 0.85\n",
    "\n",
    "p_amb = 1e5\n",
    "T_amb = 25 + 273.15\n",
    "\n",
    "p_1 = 1e5\n",
    "p_2 = 3e5\n",
    "p_3 = p_2\n",
    "p_4 = 10e5\n",
    "\n",
    "T_1 = 25 + 273.15\n",
    "T_3 = T_1\n",
    "\n",
    "h_1 = PropsSI(\"H\", \"T\", T_1, \"P\", p_1, \"air\")\n",
    "h_2 = (isentropic_outlet_enthalpy(p_1, h_1, p_2, fluid) - h_1) / eta_s + h_1\n",
    "h_3 = PropsSI(\"H\", \"T\", T_3, \"P\", p_3, \"air\")\n",
    "h_4 = (isentropic_outlet_enthalpy(p_3, h_3, p_4, fluid) - h_3) / eta_s + h_3"
   ]
  },
  {
   "cell_type": "markdown",
   "metadata": {},
   "source": [
    "The total electricity consumption of the compressor is achieved from the energy balance of the compressor. For the\n",
    "exergy analysis we follow the previous definitions."
   ]
  },
  {
   "cell_type": "code",
   "execution_count": null,
   "metadata": {},
   "outputs": [],
   "source": [
    "dot_W_1 = dot_m * (h_2 - h_1)\n",
    "dot_W_2 = dot_m * (h_4 - h_3)\n",
    "ex_4 = calc_physical_exergy(p_4, h_4, p_amb, T_amb, \"air\")\n",
    "\n",
    "E_F = dot_W_1 + dot_W_2\n",
    "E_P = dot_m * ex_4\n",
    "E_D = E_F - E_P\n",
    "epsilon = E_P / E_F"
   ]
  },
  {
   "cell_type": "markdown",
   "metadata": {},
   "source": [
    "We can have a look at the total power input and compare it to the single stage compressor power input. It is lower by\n",
    "about {glue:text}`single-stage-vs-two-stage-power` %."
   ]
  },
  {
   "cell_type": "code",
   "execution_count": null,
   "metadata": {},
   "outputs": [],
   "source": [
    "dot_W_1 + dot_W_2"
   ]
  },
  {
   "cell_type": "code",
   "execution_count": null,
   "metadata": {},
   "outputs": [],
   "source": [
    "dot_W_real"
   ]
  },
  {
   "cell_type": "code",
   "execution_count": null,
   "metadata": {},
   "outputs": [],
   "source": [
    "glue(\"single-stage-vs-two-stage-power\", round((1 - (dot_W_1 + dot_W_2) / dot_W_real) * 100, 2), display=False)"
   ]
  },
  {
   "cell_type": "markdown",
   "metadata": {},
   "source": [
    "Looking at the overall exergy destruction, we can see that it is higher for the intermittent cooling variant by about\n",
    "{glue:text}`compressor-exergy-destruction-comparison` W. The reason for that is, that in our single stage compressor we\n",
    "considered the thermal exergy in the outlet stream as part of the product exergy."
   ]
  },
  {
   "cell_type": "code",
   "execution_count": null,
   "metadata": {},
   "outputs": [],
   "source": [
    "E_D"
   ]
  },
  {
   "cell_type": "code",
   "execution_count": null,
   "metadata": {},
   "outputs": [],
   "source": [
    "glue(\"compressor-exergy-destruction-comparison\", round(E_D - exergy_destruction_real), display=False)"
   ]
  },
  {
   "cell_type": "markdown",
   "metadata": {},
   "source": [
    "Let us change this consideration: We add virtual cooling for both compressor variants at the end to make the product\n",
    "exergy comparable. First we implement it for the intermittent cooling variant."
   ]
  },
  {
   "cell_type": "code",
   "execution_count": null,
   "metadata": {},
   "outputs": [],
   "source": [
    "T_5 = T_1\n",
    "p_5 = p_4\n",
    "h_5 = PropsSI(\"H\", \"T\", T_5, \"P\", p_5, \"air\")\n",
    "ex_5 = calc_physical_exergy(p_5, h_5, p_amb, T_amb, \"air\")\n",
    "\n",
    "E_F = dot_W_1 + dot_W_2\n",
    "E_P = dot_m * ex_5\n",
    "E_D = E_F - E_P\n",
    "epsilon = E_P / E_F\n",
    "epsilon"
   ]
  },
  {
   "cell_type": "markdown",
   "metadata": {},
   "source": [
    "Then we can calculate the information for the single stage compression following the previous implementation."
   ]
  },
  {
   "cell_type": "code",
   "execution_count": null,
   "metadata": {},
   "outputs": [],
   "source": [
    "p_2_single_stage = 10e5\n",
    "p_3_single_stage = p_2_single_stage\n",
    "\n",
    "h_2_single_stage = (isentropic_outlet_enthalpy(p_1, h_1, p_2_single_stage, fluid) - h_1) / eta_s + h_1\n",
    "h_3_single_stage = PropsSI(\"H\", \"T\", T_3, \"P\", p_3_single_stage, \"air\")\n",
    "\n",
    "ex_3_single_stage = calc_physical_exergy(p_3_single_stage, h_3_single_stage, p_amb, T_amb, \"air\")\n",
    "\n",
    "dot_W_single_stage = dot_m * (h_2_single_stage - h_1)\n",
    "\n",
    "E_F_single_stage = dot_W_single_stage\n",
    "E_P_single_stage = dot_m * ex_3_single_stage\n",
    "E_D_single_stage = E_F_single_stage - E_P_single_stage\n",
    "epsilon_single_stage = E_P_single_stage / E_F_single_stage\n",
    "epsilon_single_stage"
   ]
  },
  {
   "cell_type": "markdown",
   "metadata": {},
   "source": [
    "We can see that the product exergy is equal."
   ]
  },
  {
   "cell_type": "code",
   "execution_count": null,
   "metadata": {},
   "outputs": [],
   "source": [
    "E_P_single_stage == E_P"
   ]
  },
  {
   "cell_type": "markdown",
   "metadata": {},
   "source": [
    "Assuming dissipative cooling for the intermittent cooling and the virtual cooling at the end of the process we can \n",
    "define the exergy balance for such components in eqs. {eq}`dissipative-cooling-fuel` and\n",
    "{eq}`dissipative-cooling-destruction`. The product exergy is not defined, since there is no usable product in\n",
    "dissipative cooling.\n",
    "\n",
    "```{math}\n",
    ":label: dissipative-cooling-fuel\n",
    "\\dot E_\\text{F} = \\dot m \\cdot e_\\text{in}^\\text{PH}\n",
    "```\n",
    "\n",
    "```{math}\n",
    ":label: dissipative-cooling-destruction\n",
    "\\dot E_\\text{D} = \\dot m \\left(\\cdot e_\\text{in}^\\text{PH} - \\cdot e_\\text{out}^\\text{PH}\\right)\n",
    "```\n",
    "\n",
    "Following this and the definitions for the single compressors, it is possible to calculate the component specific exergy\n",
    "destruction in the system and see how each component contributes to the overall exergy destruction of the system. This \n",
    "is a good starting point for process optimization, since we can determine which components have most optimization\n",
    "potential.\n",
    "\n",
    "However, this is tideous for many reasons, since we have to implement the balances for every component manually. We can\n",
    "instead use a framework, which already implemented this feature for us, i.e. TESPy.\n",
    "\n",
    "```{tip}\n",
    "A small introductory example on the concept and usage of TESPy is included in {ref}`this section <tespy-5-minutes>`.\n",
    "You will find helpful links for more educational material on TESPy in that section. We recommend you get used to the API\n",
    "of TESPy before proceeding with the next exercise.\n",
    "```\n",
    "\n",
    "We can build a TESPy model for the single stage compression with virtual cooling at the end:"
   ]
  },
  {
   "cell_type": "code",
   "execution_count": null,
   "metadata": {},
   "outputs": [],
   "source": [
    "from tespy.components import Source, Sink, Compressor, HeatExchangerSimple\n",
    "from tespy.connections import Connection, Bus\n",
    "from tespy.networks import Network\n",
    "\n",
    "\n",
    "nwk_single_stage = Network(fluids=[\"air\"], p_unit=\"bar\", T_unit=\"C\")\n",
    "\n",
    "compressor = Compressor(\"compressor\")\n",
    "cooler = HeatExchangerSimple(\"virtual cooling\")\n",
    "ambient_air = Source(\"ambient air\")\n",
    "compressed_air = Sink(\"compressed air\")\n",
    "\n",
    "c1 = Connection(ambient_air, \"out1\", compressor, \"in1\")\n",
    "c2 = Connection(compressor, \"out1\", cooler, \"in1\")\n",
    "c3 = Connection(cooler, \"out1\", compressed_air, \"in1\")\n",
    "\n",
    "nwk_single_stage.add_conns(c1, c2, c3)"
   ]
  },
  {
   "cell_type": "markdown",
   "metadata": {},
   "source": [
    "After setting up the system's topology we can specify the process and component parameters."
   ]
  },
  {
   "cell_type": "code",
   "execution_count": null,
   "metadata": {},
   "outputs": [],
   "source": [
    "c1.set_attr(fluid={\"air\": 1}, p=1, T=25, m=dot_m)\n",
    "c3.set_attr(p=10, T=25)\n",
    "\n",
    "cooler.set_attr(pr=1)\n",
    "compressor.set_attr(eta_s=eta_s)"
   ]
  },
  {
   "cell_type": "markdown",
   "metadata": {},
   "source": [
    "Then we solve the model. Results can be obtained from the `.results` attritbute of the network or directly from the\n",
    "connection and component objects."
   ]
  },
  {
   "cell_type": "code",
   "execution_count": null,
   "metadata": {},
   "outputs": [],
   "source": [
    "nwk_single_stage.solve(\"design\")"
   ]
  },
  {
   "cell_type": "markdown",
   "metadata": {},
   "source": [
    "With that, we can verify our own implementation, e.g. total enthalpy change, power input or heat extraction."
   ]
  },
  {
   "cell_type": "code",
   "execution_count": null,
   "metadata": {},
   "outputs": [],
   "source": [
    "round(dot_W_single_stage) == round(compressor.P.val)"
   ]
  },
  {
   "cell_type": "code",
   "execution_count": null,
   "metadata": {},
   "outputs": [],
   "source": [
    "round(h_3_single_stage - h_1) == round(c3.h.val_SI - c1.h.val_SI)"
   ]
  },
  {
   "cell_type": "code",
   "execution_count": null,
   "metadata": {},
   "outputs": [],
   "source": [
    "round(dot_m * (h_3_single_stage - h_2_single_stage)) == round(cooler.Q.val)"
   ]
  },
  {
   "cell_type": "markdown",
   "metadata": {},
   "source": [
    "We can set up the exergy analysis easily. Overall fuel and product exergy are defined with `Bus` objects."
   ]
  },
  {
   "cell_type": "code",
   "execution_count": null,
   "metadata": {},
   "outputs": [],
   "source": [
    "from tespy.tools import ExergyAnalysis\n",
    "\n",
    "\n",
    "fuel_exergy = Bus(\"fuel exergy\")\n",
    "fuel_exergy.add_comps({\"comp\": compressor, \"base\": \"bus\"})\n",
    "\n",
    "product_exergy = Bus(\"product exergy\")\n",
    "product_exergy.add_comps({\"comp\": compressed_air})\n",
    "\n",
    "nwk_single_stage.add_busses(fuel_exergy, product_exergy)"
   ]
  },
  {
   "cell_type": "code",
   "execution_count": null,
   "metadata": {},
   "outputs": [],
   "source": [
    "ean_single_stage = ExergyAnalysis(nwk_single_stage, E_F=[fuel_exergy], E_P=[product_exergy])\n",
    "ean_single_stage.analyse(pamb=1, Tamb=25)"
   ]
  },
  {
   "cell_type": "markdown",
   "metadata": {},
   "source": [
    "The `.network_data` attribute stores the result of the overall system. The `.connection_data` the connections' exergy\n",
    "flows and the `.component_data` the components' results. For example, we can check the overall exergy efficiency."
   ]
  },
  {
   "cell_type": "code",
   "execution_count": null,
   "metadata": {},
   "outputs": [],
   "source": [
    "round(ean_single_stage.network_data.loc[\"epsilon\"], 6) == round(epsilon_single_stage, 6)"
   ]
  },
  {
   "cell_type": "markdown",
   "metadata": {},
   "source": [
    "## Exercise 5\n",
    "  \n",
    "- Build a TESPy model for the intermittent cooling compressor process with the virtual cooling at the end.\n",
    "- Verify the results of the your own implementation with the TESPy implementation.\n",
    "- Set up and run the exergy analysis.\n",
    "- Vary the intermediate pressure and calculate the process exergy efficiency for a pressure range of 2 bar to 9 bar.\n",
    "  Make a plot that shows the exergy efficiency for every intermediate pressure value.\n",
    "\n",
    "## Solution 5\n",
    "\n",
    "We build the model in a similar way as the single stage model. First we set up the components and the connections:"
   ]
  },
  {
   "cell_type": "code",
   "execution_count": null,
   "metadata": {},
   "outputs": [],
   "source": [
    "from tespy.components import Source, Sink, Compressor, HeatExchangerSimple\n",
    "from tespy.connections import Connection, Bus\n",
    "from tespy.networks import Network\n",
    "\n",
    "\n",
    "nwk_two_stage = Network(fluids=[\"air\"], p_unit=\"bar\", T_unit=\"C\")\n",
    "\n",
    "compressor_stage_1 = Compressor(\"compressor stage 1\")\n",
    "compressor_stage_2 = Compressor(\"compressor stage 2\")\n",
    "intermittent_cooler = HeatExchangerSimple(\"intermittent cooling\")\n",
    "cooler = HeatExchangerSimple(\"virtual cooling\")\n",
    "ambient_air = Source(\"ambient air\")\n",
    "compressed_air = Sink(\"compressed air\")\n",
    "\n",
    "c1 = Connection(ambient_air, \"out1\", compressor_stage_1, \"in1\", label=\"1\")\n",
    "c2 = Connection(compressor_stage_1, \"out1\", intermittent_cooler, \"in1\", label=\"2\")\n",
    "c3 = Connection(intermittent_cooler, \"out1\", compressor_stage_2, \"in1\", label=\"3\")\n",
    "c4 = Connection(compressor_stage_2, \"out1\", cooler, \"in1\", label=\"4\")\n",
    "c5 = Connection(cooler, \"out1\", compressed_air, \"in1\", label=\"5\")\n",
    "\n",
    "nwk_two_stage.add_conns(c1, c2, c3, c4, c5)"
   ]
  },
  {
   "cell_type": "markdown",
   "metadata": {},
   "source": [
    "The next step is to specify the process and component information."
   ]
  },
  {
   "cell_type": "code",
   "execution_count": null,
   "metadata": {},
   "outputs": [],
   "source": [
    "c1.set_attr(fluid={\"air\": 1}, p=1, T=25, m=dot_m)\n",
    "c3.set_attr(p=3, T=25)\n",
    "c5.set_attr(p=10, T=25)\n",
    "\n",
    "intermittent_cooler.set_attr(pr=1)\n",
    "cooler.set_attr(pr=1)\n",
    "\n",
    "compressor_stage_1.set_attr(eta_s=eta_s)\n",
    "compressor_stage_2.set_attr(eta_s=eta_s)"
   ]
  },
  {
   "cell_type": "markdown",
   "metadata": {},
   "source": [
    "We can solve the model and then verify if the total compression power consumption is identical in our TESPy model and\n",
    "the previous manual implementation."
   ]
  },
  {
   "cell_type": "code",
   "execution_count": null,
   "metadata": {},
   "outputs": [],
   "source": [
    "nwk_two_stage.solve(\"design\")"
   ]
  },
  {
   "cell_type": "code",
   "execution_count": null,
   "metadata": {},
   "outputs": [],
   "source": [
    "round(dot_W_1 + dot_W_2) == round(compressor_stage_1.P.val + compressor_stage_2.P.val)"
   ]
  },
  {
   "cell_type": "markdown",
   "metadata": {},
   "source": [
    "The exergy analysis setup is straight forward again:\n",
    "\n",
    "- Define the busses for fuel and product exergy\n",
    "- Add them to the network\n",
    "- Run the analysis\n",
    "\n",
    "Then we can again verify if our TESPy model computes the same output as the manual implementation."
   ]
  },
  {
   "cell_type": "code",
   "execution_count": null,
   "metadata": {},
   "outputs": [],
   "source": [
    "fuel_exergy = Bus(\"fuel exergy\")\n",
    "fuel_exergy.add_comps(\n",
    "    {\"comp\": compressor_stage_1, \"base\": \"bus\"},\n",
    "    {\"comp\": compressor_stage_2, \"base\": \"bus\"},\n",
    ")\n",
    "\n",
    "product_exergy = Bus(\"product exergy\")\n",
    "product_exergy.add_comps({\"comp\": compressed_air})\n",
    "\n",
    "nwk_two_stage.add_busses(fuel_exergy, product_exergy)"
   ]
  },
  {
   "cell_type": "code",
   "execution_count": null,
   "metadata": {},
   "outputs": [],
   "source": [
    "ean_two_stage = ExergyAnalysis(nwk_two_stage, E_F=[fuel_exergy], E_P=[product_exergy])\n",
    "ean_two_stage.analyse(pamb=1, Tamb=25)"
   ]
  },
  {
   "cell_type": "code",
   "execution_count": null,
   "metadata": {},
   "outputs": [],
   "source": [
    "round(ean_two_stage.network_data.loc[\"epsilon\"], 6) == round(epsilon, 6)"
   ]
  },
  {
   "cell_type": "markdown",
   "metadata": {},
   "source": [
    "To investigate the effect of the intermediate pressure value on the exergy efficiency of the overall process we create a\n",
    "loop over the defined pressure range in which\n",
    "\n",
    "- we set the intermediate pressure on the respective connection,\n",
    "- solve the model,\n",
    "- reanalyse the network and\n",
    "- and store the exergy efficiency result.\n",
    "\n",
    "Then we can plot the result in {numref}`exergy-efficiency-intermediate-pressure`. We can see, that there is a clear\n",
    "optimum at around {glue:text}`exergy-efficiency-intermediate-pressure-max` bar.\n",
    "\n",
    "```{glue:figure} exergy-efficiency-intermediate-pressure\n",
    ":name: \"exergy-efficiency-intermediate-pressure\"\n",
    "\n",
    "Exergy efficiency of the overall process as function of the intermediate pressure.\n",
    "```"
   ]
  },
  {
   "cell_type": "code",
   "execution_count": null,
   "metadata": {},
   "outputs": [],
   "source": [
    "import numpy as np\n",
    "\n",
    "\n",
    "p_range = np.linspace(2, 9)\n",
    "epsilon_range = []\n",
    "nwk_two_stage.set_attr(iterinfo=False)\n",
    "\n",
    "for p in p_range:\n",
    "    c3.set_attr(p=p)\n",
    "    nwk_two_stage.solve(\"design\")\n",
    "    ean_two_stage.analyse(pamb=1, Tamb=25)\n",
    "\n",
    "    epsilon_range += [ean_two_stage.network_data.loc[\"epsilon\"] * 100]"
   ]
  },
  {
   "cell_type": "code",
   "execution_count": null,
   "metadata": {},
   "outputs": [],
   "source": [
    "from matplotlib import pyplot as plt\n",
    "\n",
    "\n",
    "fig, ax = plt.subplots(1)\n",
    "\n",
    "ax.plot(p_range, epsilon_range)\n",
    "\n",
    "ax.set_ylabel(\"exergy efficiency in %\")\n",
    "ax.set_xlabel(\"intermediate pressure in bar\")\n",
    "\n",
    "ax.grid()\n",
    "ax.set_axisbelow(True)\n",
    "\n",
    "plt.close()"
   ]
  },
  {
   "cell_type": "code",
   "execution_count": null,
   "metadata": {},
   "outputs": [],
   "source": [
    "glue(\"exergy-efficiency-intermediate-pressure\", fig, display=False)\n",
    "glue(\"exergy-efficiency-intermediate-pressure-max\", round(p_range[np.array(epsilon_range).argmax()], 2), display=False)"
   ]
  }
 ],
 "metadata": {
  "kernelspec": {
   "display_name": "Python 3 (ipykernel)",
   "language": "python",
   "name": "python3"
  },
  "language_info": {
   "codemirror_mode": {
    "name": "ipython",
    "version": 3
   },
   "file_extension": ".py",
   "mimetype": "text/x-python",
   "name": "python",
   "nbconvert_exporter": "python",
   "pygments_lexer": "ipython3",
   "version": "3.9.13"
  },
  "widgets": {
   "application/vnd.jupyter.widget-state+json": {
    "state": {},
    "version_major": 2,
    "version_minor": 0
   }
  }
 },
 "nbformat": 4,
 "nbformat_minor": 4
}
