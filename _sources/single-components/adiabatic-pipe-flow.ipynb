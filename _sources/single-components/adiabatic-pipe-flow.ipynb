{
 "cells": [
  {
   "attachments": {},
   "cell_type": "markdown",
   "metadata": {},
   "source": [
    "(adiabatic-pipe-label)=\n",
    "\n",
    "# Adiabatic Pipe Flow\n",
    "\n",
    "In this section we will have a look at an adiabatic pipe with pressure losses ocourring. With the first law of\n",
    "thermodynamics we cannot see a change in energy, exergy analysis can reveal the thermodynamic losses.\n",
    "\n",
    "## Introduction\n",
    "\n",
    "Consider a well insulated pipeline transporting steam as shown in the figure below.\n",
    "\n",
    "```{figure} /figures/Pipe.svg\n",
    "---\n",
    "name: pipeline-flowsheet\n",
    "---\n",
    "Abstract model of the well insulated steam pipeline.\n",
    "```\n",
    "\n",
    "Measurement data are obtained at the inlet and the outlet of the pipeline:\n",
    "\n",
    "| Parameter | Location | Value | Unit |\n",
    "|:--------- |:-------- | -----:| ---- |\n",
    "| Temperature | Inlet | 195 | °C |\n",
    "|  | Outlet | 184.4 | °C |\n",
    "| Pressure | Inlet | 10 | bar |\n",
    "|  | Outlet | 6 | bar |\n",
    "| Mass flow | Inlet | 1.2 | kg/s |\n",
    "\n",
    "First, we can set up the energy balance equation of the thermodynamic open system, where the work $\\dot W$ and heat\n",
    "$\\dot Q$ transferred change the enthalpy $h$ of a mass flow $\\dot m$ from a state 1 to a different state 2:\n",
    "\n",
    "```{math}\n",
    "    :label: pipe-flow-energy-balance\n",
    "    \\dot W + \\dot Q = \\dot m \\cdot \\left(h_2 - h_1\\right)\n",
    "```\n",
    "\n",
    "Since a pipe does not transfer work to the fluid, work transferred can be considered equal to zero. Therefore the \n",
    "specific heat transferred can be calculated by the change of enthalpy. Since the pipeline is well insulated, the value\n",
    "should be rather small.\n",
    "\n",
    "```{math}\n",
    "    :label: pipe-flow-energy-balance-simplified\n",
    "    \\frac{\\dot Q}{\\dot m} = h_2 - h_1\\\\\n",
    "```\n",
    "\n",
    "To do that computationally, we first import the `PropsSI` function from `CoolProp` and then insert the values from the\n",
    "table above."
   ]
  },
  {
   "cell_type": "code",
   "execution_count": null,
   "metadata": {},
   "outputs": [],
   "source": [
    "from CoolProp.CoolProp import PropsSI as PSI\n",
    "\n",
    "\n",
    "fluid = \"water\"\n",
    "\n",
    "p_in = 10 * 1e5\n",
    "T_in = 195 + 273.15\n",
    "h_in = PSI(\"H\", \"P\", p_in, \"T\", T_in, fluid)\n",
    "\n",
    "p_out = 6 * 1e5\n",
    "T_out = 184.4 + 273.15\n",
    "h_out = PSI(\"H\", \"P\", p_out, \"T\", T_out, fluid)\n",
    "\n",
    "q = h_out - h_in\n",
    "q"
   ]
  },
  {
   "cell_type": "markdown",
   "metadata": {},
   "source": [
    "````{attention}\n",
    "As we expected the specific heat transferred is very low. Therefore we will make an assumption, that the pipeline can be\n",
    "considered adiabatic for further calculations. If transferred work and heat are both zero, the change in enthalpy will\n",
    "therefore be zero as well:\n",
    "\n",
    "```{math}\n",
    "    h_2 = h_1\n",
    "```\n",
    "````\n",
    "\n",
    "We can also double check this, by calculating the outlet temperature at the measured outlet pressure and with the\n",
    "assumption of non-changing enthalpy. Note that it is only slighty different:"
   ]
  },
  {
   "cell_type": "code",
   "execution_count": null,
   "metadata": {},
   "outputs": [],
   "source": [
    "h_out = h_in\n",
    "PSI(\"T\", \"P\", p_out, \"H\", h_out, fluid) - 273.15"
   ]
  },
  {
   "cell_type": "markdown",
   "metadata": {},
   "source": [
    "We have seen, that no energy has been transferred from the pipe to the ambient. Does that mean, we can revert the \n",
    "process? Obviously, that does not seem natural, as you cannot change the pressure of the fluid at the outlet back to the\n",
    "inlet pressure without adding any energy. That means, while we have not lost any energy to the ambient, the energy must\n",
    "have become less valuable.\n",
    "\n",
    "## Exergy Analysis\n",
    "\n",
    "In this chapter, we will learn, how the described change in quality of energy can be made visible using Second Law\n",
    "analysis. To do that, we calculate the exergy of the fluid at the inlet and at the outlet of the pipe. First, we define\n",
    "a function, that follows the definition of phyiscal exergy in eq. {eq}`physical-exergy-total` without splitting physical\n",
    "exergy into mechanical and thermal share. Chemical exergy can be ignored in this application, since no chemical reaction\n",
    "processes take place.\n",
    "\n",
    "The function `calc_physical_exergy` will take pressure and enthalpy of a fluid and calculate the thermal and the\n",
    "mechanical part of the physical exergy."
   ]
  },
  {
   "cell_type": "code",
   "execution_count": null,
   "metadata": {},
   "outputs": [],
   "source": [
    "def calc_physical_exergy(p, h, p0, T0, fluid):\n",
    "    r\"\"\"Calculate specific physical exergy.\"\"\"\n",
    "    s = PSI(\"S\", \"P\", p, \"H\", h, fluid)    \n",
    "    h0 = PSI(\"H\", \"P\", p0, \"T\", T0, fluid)\n",
    "    s0 = PSI(\"S\", \"P\", p0, \"T\", T0, fluid)\n",
    "    \n",
    "    ex = (h - h0) - T0 * (s - s0)\n",
    "    return ex"
   ]
  },
  {
   "cell_type": "markdown",
   "metadata": {},
   "source": [
    "Then, we can define an (arbitrary) ambient state and calculate the exergy and the inlet and the outlet state."
   ]
  },
  {
   "cell_type": "code",
   "execution_count": null,
   "metadata": {},
   "outputs": [],
   "source": [
    "p0 = 1.01325 * 1e5\n",
    "T0 = 20 + 273.15\n",
    "m = 1\n",
    "\n",
    "ex_in = calc_physical_exergy(p_in, h_in, p0, T0, fluid) * m\n",
    "ex_in"
   ]
  },
  {
   "cell_type": "code",
   "execution_count": null,
   "metadata": {},
   "outputs": [],
   "source": [
    "ex_out = calc_physical_exergy(p_out, h_out, p0, T0, fluid) * m\n",
    "ex_out"
   ]
  },
  {
   "cell_type": "markdown",
   "metadata": {},
   "source": [
    "With that, we can set up the exergy balance equation (eq. {eq}`exergy-balance-adiabatic-pipe`). The adiabatic pipe component does not serve any other purpose\n",
    "than transporting a fluid from one place to another. Energetically, the adiabatic pipe is a \"useless\" component, which\n",
    "means, that the exergy product is not defined. The fuel exergy is then the inlet exergy, the exergy destruction the\n",
    "difference between inlet and outlet exergy:\n",
    "\n",
    "```{math}\n",
    "    :label: exergy-balance-adiabatic-pipe\n",
    "    \\dot E_F=\\dot m \\cdot e^\\text{PH}_\\text{in}\\\\\n",
    "    \\dot E_D=\\dot m \\cdot \\left(e^\\text{PH}_\\text{in} - e^\\text{PH}_\\text{out}\\right)\n",
    "```"
   ]
  },
  {
   "cell_type": "code",
   "execution_count": null,
   "metadata": {},
   "outputs": [],
   "source": [
    "exergy_destruction = ex_in - ex_out\n",
    "exergy_destruction"
   ]
  },
  {
   "cell_type": "code",
   "execution_count": null,
   "metadata": {},
   "outputs": [],
   "source": [
    "exergy_destruction_rate = exergy_destruction / ex_in\n",
    "exergy_destruction_rate"
   ]
  },
  {
   "cell_type": "code",
   "execution_count": null,
   "metadata": {
    "tags": [
     "remove-cell"
    ]
   },
   "outputs": [],
   "source": [
    "from myst_nb import glue\n",
    "glue(\"exergy_destruction\", exergy_destruction, display=False)\n",
    "glue(\"exergy_destruction_rate\", exergy_destruction_rate * 100, display=False)"
   ]
  },
  {
   "cell_type": "markdown",
   "metadata": {},
   "source": [
    "We see that a total of {glue:text}`exergy_destruction:.0f` J/kg is destroyed, which corresponds to an exergy destruction rate of about {glue:text}`exergy_destruction_rate:.2f` %."
   ]
  },
  {
   "cell_type": "markdown",
   "metadata": {},
   "source": [
    "## Exercises part 1\n",
    "\n",
    "With the information from the sections above:\n",
    "\n",
    "1. Calculate the total exergy destruction and the exergy efficiency of the pipe flow for varying outlet pressures in a\n",
    "   range from the ambient pressure to the inlet pressure.\n",
    "   - As a function of the pipe pressure drop (x-axis) plot the:\n",
    "     - exergy destruction (y-axis).\n",
    "     - exergy destruction ratio (y-axis).\n",
    "2. What could be the reason, the exergy destruction ratio not equal to 100 %, when the pressure at the pipeline outlet\n",
    "   is equal to the ambient pressure? What are the relevant equations in the theory\n",
    "   (section {ref}`exergy analysis <intro_fundamentals>`)?\n"
   ]
  },
  {
   "cell_type": "markdown",
   "metadata": {},
   "source": [
    "### Solution 1\n",
    "\n",
    "We can use numpy to create a vector of outlet pressure values and then calculate the outlet exergy vector. The inlet\n",
    "exergy does not change for all values. Then with matplotlib we can create two subplots sharing the same x-axis (i.e. the\n",
    "pressure range) and plot the exergy destruction and the exergy efficiency."
   ]
  },
  {
   "cell_type": "code",
   "execution_count": null,
   "metadata": {
    "tags": [
     "hide-cell"
    ]
   },
   "outputs": [],
   "source": [
    "import numpy as np\n",
    "from matplotlib import pyplot as plt\n",
    "\n",
    "outlet_pressure_range = np.linspace(10, p0 / 1e5) * 1e5\n",
    "pressure_difference_range = p_in - outlet_pressure_range\n",
    "ex_out = calc_physical_exergy(outlet_pressure_range, h_out, p0, T0, fluid) * m\n",
    "ex_in = calc_physical_exergy(p_in, h_in, p0, T0, fluid) * m\n",
    "\n",
    "\n",
    "fig, ax = plt.subplots(2, sharex=True)\n",
    "\n",
    "ax[0].plot(pressure_difference_range / 1e5, (ex_in - ex_out) / 1e3)\n",
    "ax[1].plot(pressure_difference_range / 1e5, (ex_in - ex_out) / ex_in * 100)\n",
    "\n",
    "ax[0].set_ylabel(\"Exergy destruction in kW\")\n",
    "ax[1].set_ylabel(\"Exergy destruction ratio in %\")\n",
    "ax[1].set_xlabel(\"Pipe pressure loss in bar\")\n",
    "\n",
    "_ = [(a.grid(), a.set_axisbelow(True)) for a in ax]\n",
    "\n",
    "plt.close()"
   ]
  },
  {
   "cell_type": "code",
   "execution_count": null,
   "metadata": {
    "tags": [
     "remove-cell"
    ]
   },
   "outputs": [],
   "source": [
    "glue(\"fig-exergy-destruction-steam-pressure-range\", fig, display=False)"
   ]
  },
  {
   "cell_type": "markdown",
   "metadata": {},
   "source": [
    "````{admonition} Result\n",
    ":class: dropdown\n",
    "\n",
    "From {numref}`fig-exergy-destruction-steam-pressure-range` we can see, that the destruction of exergy obviously depends\n",
    "on the change of pressure in the pipe. The higher the pressure loss, the higher the destruction of exergy. The change\n",
    "in exergy destruction does increase the higher the pressure loss is.\n",
    "\n",
    "```{glue:figure} fig-exergy-destruction-steam-pressure-range\n",
    ":name: \"fig-exergy-destruction-steam-pressure-range\"\n",
    "\n",
    "Exergy destruction and exergy destruction ratio as function of the pipe's outlet pressure.\n",
    "```\n",
    "\n",
    "````"
   ]
  },
  {
   "cell_type": "markdown",
   "metadata": {},
   "source": [
    "### Solution 2\n",
    "\n",
    "From {numref}`fig-exergy-destruction-steam-pressure-range` we can also see, that at a pressure loss of about 9 bars,\n",
    "i.e. when the outlet pressure is at the ambient state, the exergy destruction rate is not at 100 %. This means there\n",
    "must still be exergy in the outlet flow. We can check that, by looking at the last value in the `ex_out` vector."
   ]
  },
  {
   "cell_type": "code",
   "execution_count": null,
   "metadata": {
    "tags": [
     "hide-cell"
    ]
   },
   "outputs": [],
   "source": [
    "ex_out_p_ambient = ex_out[-1]\n",
    "ex_out_p_ambient"
   ]
  },
  {
   "cell_type": "markdown",
   "metadata": {},
   "source": [
    "Exergy is a function of pressure and temperature (difference to ambient state), we can have a look at the outlet temperature, when the steam is throttled to the ambient pressure without changing enthalpy:"
   ]
  },
  {
   "cell_type": "code",
   "execution_count": null,
   "metadata": {
    "tags": [
     "hide-cell"
    ]
   },
   "outputs": [],
   "source": [
    "T_out_at_p_ambient = PSI(\"T\", \"P\", p0, \"H\", h_out, fluid) - 273.15\n",
    "T_out_at_p_ambient"
   ]
  },
  {
   "cell_type": "markdown",
   "metadata": {},
   "source": [
    "The temperature is higher than the ambient state, thus we can expect that there is still some exergy remaining in the temperature of the fluid. With the learnings from the {ref}`introduction chapter <intro_fundamentals>`, i.e. that\n",
    "physical exergy consists of the two components\n",
    "\n",
    "- mechanical exergy and\n",
    "- thermal exergy,\n",
    "\n",
    "we find, that either the thermal or the mechanical exergy (or both) is not zero at the outlet."
   ]
  },
  {
   "cell_type": "markdown",
   "metadata": {},
   "source": [
    "## Exercises part 2\n",
    "\n",
    "3. Create a function that splits the physical exergy in its thermal and mechanical shares according to eq. {eq}`thermal-exergy` and eq. {eq}`mechanical-exergy`.\n",
    "   - Verify that your function produces the same result as the function defined earlier.\n",
    "   - Create a plot that shows, how thermal and mechanical exergy are affected by the pressure change within the\n",
    "     specified pressure range.\n",
    "   - What is the thermal and what is the mechanical exergy of the steam, when the pressure at the outlet is at ambient\n",
    "     state?\n",
    "4. Instead of a steam flow consider flow of hot air:\n",
    "   - Create a plot with exergy destruction and exergy destruction ratio of both air and water inside the same subplots.\n",
    "   - Why is the influence of the pressure on the exergy destruction ratio of the air flow much higher than on the exergy\n",
    "     efficiency of the steam flow?"
   ]
  },
  {
   "cell_type": "markdown",
   "metadata": {},
   "source": [
    "### Solution 3\n",
    "\n",
    "First we define a new function that returns the thermal and the mechanical share of exergy according the the equations\n",
    "{eq}`thermal-exergy`, {eq}`mechanical-exergy` and {eq}`physical-exergy`. Then we can calculate the share of thermal and\n",
    "mechanical exergy at the inlet state of the air pipe and validate, if the sum of both shares is equal to the result\n",
    "from our first implementation of the physical exergy:"
   ]
  },
  {
   "cell_type": "code",
   "execution_count": null,
   "metadata": {
    "tags": [
     "hide-cell"
    ]
   },
   "outputs": [],
   "source": [
    "def calc_splitted_physical_exergy(p, h, p0, T0, fluid):\n",
    "    r\"\"\"Calculate specific physical exergy according to splitting rule.\"\"\"\n",
    "    s = PSI(\"S\", \"P\", p, \"H\", h, fluid)\n",
    "    \n",
    "    h_T0_p = PSI(\"H\", \"P\", p, \"T\", T0, fluid)\n",
    "    s_T0_p = PSI(\"S\", \"P\", p, \"T\", T0, fluid)\n",
    "    \n",
    "    ex_therm = (h - h_T0_p) - T0 * (s - s_T0_p)\n",
    "    \n",
    "    h0 = PSI(\"H\", \"P\", p0, \"T\", T0, fluid)\n",
    "    s0 = PSI(\"S\", \"P\", p0, \"T\", T0, fluid)\n",
    "    \n",
    "    ex_mech = (h_T0_p - h0) - T0 * (s_T0_p - s0)\n",
    "    return ex_therm, ex_mech\n",
    "\n",
    "ex_T_in, ex_M_in = calc_splitted_physical_exergy(p_in, h_in, p0, T0, \"water\")\n",
    "\n",
    "round(ex_T_in + ex_M_in, 3) == round(calc_physical_exergy(p_in, h_in, p0, T0, \"water\"), 3)  # should return True"
   ]
  },
  {
   "cell_type": "markdown",
   "metadata": {},
   "source": [
    "In the next step we calculate the thermal and mechanical exergy for all pressure range for the outlet state as we did\n",
    "before. Then, we can make two subplots, which show the change in thermal exergy and the change in mechanical exergy."
   ]
  },
  {
   "cell_type": "code",
   "execution_count": null,
   "metadata": {
    "tags": [
     "hide-cell"
    ]
   },
   "outputs": [],
   "source": [
    "ex_T_out, ex_M_out = calc_splitted_physical_exergy(outlet_pressure_range, h_out, p0, T0, \"water\") * m\n",
    "\n",
    "\n",
    "fig, ax = plt.subplots(2, sharex=True)\n",
    "\n",
    "ax[0].plot(pressure_difference_range / 1e5, (ex_T_in - ex_T_out) / 1e3)\n",
    "ax[1].plot(pressure_difference_range / 1e5, (ex_M_in - ex_M_out) / 1e3)\n",
    "\n",
    "ax[0].set_ylabel(\"$\\Delta \\\\mathrm{Ex}^\\\\mathrm{T}$ in kW\")\n",
    "ax[1].set_ylabel(\"$\\Delta \\\\mathrm{Ex}^\\\\mathrm{M}$ in kW\")\n",
    "ax[1].set_xlabel(\"Pipe pressure loss in bar\")\n",
    "\n",
    "_ = [(a.grid(), a.set_axisbelow(True)) for a in ax]\n",
    "\n",
    "plt.close()"
   ]
  },
  {
   "cell_type": "code",
   "execution_count": null,
   "metadata": {
    "tags": [
     "remove-cell"
    ]
   },
   "outputs": [],
   "source": [
    "glue(\"fig-exergy-change-thermal-mechanical-water\", fig, display=False)"
   ]
  },
  {
   "cell_type": "markdown",
   "metadata": {},
   "source": [
    "```{glue:figure} fig-exergy-change-thermal-mechanical-water\n",
    ":name: \"fig-exergy-change-thermal-mechanical-water\"\n",
    "\n",
    "Change in thermal and mechanical exergy of the steam pipe flow depending on the pressure change.\n",
    "```\n",
    "\n",
    "In {numref}`fig-exergy-change-thermal-mechanical-water` we can see the change of thermal and of mechanical exergy in\n",
    "the pipe flow at the different pressure losses. Note, the different scales:\n",
    "\n",
    "- The thermal exergy changes by up to 300 kW.\n",
    "- The mechanical exergy changes only by about 0.9 kW at maximum.\n",
    "\n",
    "Obviously, the much more thermal exergy is destroyed in the process than mechanical exergy, although only the pressure changes. This is because expansion of the steam causes a drop in temperature as well (as we have seen in the solution 2). The reason, why we see such a small change in mechanical exergy can be seen, when we have a look at the shares of\n",
    "thermal and mechanical exergies in the inlet state and the outlet state at ambient pressure. We can create a bar\n",
    "diagram for both states in {numref}`fig-exergy-shares-water-bar`. The exergy is nearly pure thermal exergy.\n",
    "\n",
    "```{glue:figure} fig-exergy-shares-water-bar\n",
    ":name: \"fig-exergy-shares-water-bar\"\n",
    "\n",
    "Shares of thermal and mechanical exergy at the inlet and the outlet state at ambient pressure.\n",
    "```"
   ]
  },
  {
   "cell_type": "code",
   "execution_count": null,
   "metadata": {
    "tags": [
     "hide-cell"
    ]
   },
   "outputs": [],
   "source": [
    "fig, ax = plt.subplots(1)\n",
    "\n",
    "thermal = np.array([ex_T_in / ex_in, ex_T_out[-1] / ex_out[-1]]) * 100\n",
    "mechanical = np.array([ex_M_in / ex_in, ex_M_out[-1] / ex_out[-1]]) * 100\n",
    "\n",
    "ax.bar([\"inlet\", \"outlet\"], thermal, 0.5, label=\"thermal\")\n",
    "ax.bar([\"inlet\", \"outlet\"], mechanical, 0.5, label=\"mechanical\", bottom=thermal)\n",
    "ax.legend(loc=9)\n",
    "\n",
    "ax.set_ylabel(\"Share of exergies in %\")\n",
    "\n",
    "plt.close()"
   ]
  },
  {
   "cell_type": "code",
   "execution_count": null,
   "metadata": {
    "tags": [
     "remove-cell"
    ]
   },
   "outputs": [],
   "source": [
    "glue(\"fig-exergy-shares-water-bar\", fig, display=False)"
   ]
  },
  {
   "cell_type": "markdown",
   "metadata": {},
   "source": [
    "Finally, we can verify the value of mechanical exergy of the steam at ambient pressure:"
   ]
  },
  {
   "cell_type": "code",
   "execution_count": null,
   "metadata": {
    "tags": [
     "hide-cell"
    ]
   },
   "outputs": [],
   "source": [
    "ex_M_out[-1]"
   ]
  },
  {
   "cell_type": "markdown",
   "metadata": {},
   "source": [
    "### Solution 4\n",
    "\n",
    "We can build the same setup for the air flow using the defined inlet state. Since the enthalpy at the inlet is not the\n",
    "same as the enthalpy of water, we need to recalculate that value.\n",
    "\n",
    "In the plots we plot the air and steam exergy destruction and efficiency into the same subplots and label them for the\n",
    "legend."
   ]
  },
  {
   "cell_type": "code",
   "execution_count": null,
   "metadata": {
    "tags": [
     "hide-cell"
    ]
   },
   "outputs": [],
   "source": [
    "fluid = \"air\"\n",
    "h_in_air = PSI(\"H\", \"T\", T_in, \"P\", p_in, fluid)\n",
    "h_out_air = h_in_air\n",
    "\n",
    "ex_out_air = calc_physical_exergy(outlet_pressure_range, h_out_air, p0, T0, fluid)\n",
    "ex_in_air = calc_physical_exergy(p_in, h_in_air, p0, T0, fluid)\n",
    "\n",
    "\n",
    "fig, ax = plt.subplots(2, sharex=True)\n",
    "\n",
    "ax[0].plot(pressure_difference_range / 1e5, (ex_in - ex_out) / 1e3, label=\"water\")\n",
    "ax[0].plot(pressure_difference_range / 1e5, (ex_in_air - ex_out_air) / 1e3, label=\"air\")\n",
    "\n",
    "ax[1].plot(pressure_difference_range / 1e5, (ex_in - ex_out) / ex_in * 100)\n",
    "ax[1].plot(pressure_difference_range / 1e5, (ex_in_air - ex_out_air) / ex_in_air * 100)\n",
    "\n",
    "ax[0].set_ylabel(\"Exergy destruction in kW\")\n",
    "ax[1].set_ylabel(\"Exergy destruction rate in %\")\n",
    "ax[1].set_xlabel(\"Pressure drop in bar\")\n",
    "\n",
    "ax[0].legend()\n",
    "_ = [(a.grid(), a.set_axisbelow(True)) for a in ax]\n",
    "\n",
    "plt.close()"
   ]
  },
  {
   "cell_type": "code",
   "execution_count": null,
   "metadata": {
    "tags": [
     "remove-cell"
    ]
   },
   "outputs": [],
   "source": [
    "glue(\"fig-exergy-destruction-steam-vs-air-pressure-range\", fig, display=False)"
   ]
  },
  {
   "cell_type": "markdown",
   "metadata": {},
   "source": [
    "In the first subplot of {numref}`fig-exergy-destruction-steam-vs-air-pressure-range` we can see that in the steam flow\n",
    "the exergy destruction is higher by a factor of about 1.5. This ratio can be verified by checking \n",
    "{numref}`fig-exergy-destruction-steam-vs-air-ratio`. This displays the ratio over the pressure range and we\n",
    "can see, the ratio is merely affected by pressure.\n",
    "\n",
    "\n",
    "```{glue:figure} fig-exergy-destruction-steam-vs-air-pressure-range\n",
    ":name: \"fig-exergy-destruction-steam-vs-air-pressure-range\"\n",
    "\n",
    "Exergy destruction and exergy destruction share for the adiabatic steam and air flows.\n",
    "```\n",
    "\n",
    "```{glue:figure} fig-exergy-destruction-steam-vs-air-ratio\n",
    ":name: \"fig-exergy-destruction-steam-vs-air-ratio\"\n",
    "\n",
    "Ratio of exergy destruction of steam to exergy destruction of air.\n",
    "```\n",
    "\n",
    "While the exergy destruction is higher for the steam flow, we see in the second subplot of\n",
    "{numref}`fig-exergy-destruction-steam-vs-air-pressure-range` that the exergy destruction as share of the inlet exergy\n",
    "is much higher for air. When the pressure drops to ambient state pressure, more than 80 % of exergy of the air are\n",
    "destroyed. To understand why this is the case, we can again have a look at the shares of mechanical and thermal exergy\n",
    "for the air stream. We do this for the \"extreme\" case with the outlet pressure at ambient state, i.e. when all mechanical exergy is lost. The {numref}`fig-exergy-shares-water-bar` displays the result."
   ]
  },
  {
   "cell_type": "code",
   "execution_count": null,
   "metadata": {
    "tags": [
     "hide-cell"
    ]
   },
   "outputs": [],
   "source": [
    "fig, ax = plt.subplots(1)\n",
    "\n",
    "ax.plot(pressure_difference_range / 1e5, (ex_in - ex_out) / (ex_in_air - ex_out_air))\n",
    "\n",
    "ax.set_ylim([0, 2])\n",
    "ax.set_ylabel(\"Steam to air exergy destruction ratio\")\n",
    "ax.set_xlabel(\"Pressure drop in bar\")\n",
    "\n",
    "_ = ax.grid(), ax.set_axisbelow(True)\n",
    "\n",
    "plt.close()"
   ]
  },
  {
   "cell_type": "code",
   "execution_count": null,
   "metadata": {
    "tags": [
     "remove-cell"
    ]
   },
   "outputs": [],
   "source": [
    "glue(\"fig-exergy-destruction-steam-vs-air-ratio\", fig, display=False)"
   ]
  },
  {
   "cell_type": "code",
   "execution_count": null,
   "metadata": {
    "tags": [
     "hide-cell"
    ]
   },
   "outputs": [],
   "source": [
    "ex_T_in_air, ex_M_in_air = calc_splitted_physical_exergy(p_in, h_in_air, p0, T0, fluid)\n",
    "ex_T_out_air, ex_M_out_air = calc_splitted_physical_exergy(outlet_pressure_range, h_out_air, p0, T0, fluid)\n",
    "\n",
    "fig, ax = plt.subplots(1)\n",
    "\n",
    "thermal = np.array([ex_T_in_air / ex_in_air, ex_T_out_air[-1] / ex_out_air[-1]]) * 100\n",
    "mechanical = np.array([ex_M_in_air / ex_in_air, ex_M_out_air[-1] / ex_out_air[-1]]) * 100\n",
    "\n",
    "ax.bar([\"inlet\", \"outlet\"], thermal, 0.5, label=\"thermal\")\n",
    "ax.bar([\"inlet\", \"outlet\"], mechanical, 0.5, label=\"mechanical\", bottom=thermal)\n",
    "ax.legend(loc=9)\n",
    "\n",
    "ax.set_ylabel(\"Share of exergies in %\")\n",
    "\n",
    "plt.close()"
   ]
  },
  {
   "cell_type": "code",
   "execution_count": null,
   "metadata": {
    "tags": [
     "remove-cell"
    ]
   },
   "outputs": [],
   "source": [
    "glue(\"fig-exergy-shares-air-bar\", fig, display=False)"
   ]
  },
  {
   "cell_type": "markdown",
   "metadata": {},
   "source": [
    "```{glue:figure} fig-exergy-shares-air-bar\n",
    ":name: \"fig-exergy-shares-air-bar\"\n",
    "\n",
    "Change in thermal and mechanical exergy of the air pipe flow depending on the pressure change.\n",
    "```\n",
    "\n",
    "In the figure above we can see that\n",
    "\n",
    "- all mechanical exergy is destroyed when expanding to ambient pressure (as expected)\n",
    "- the share of mechanical exergy at the air pipe inlet is about 87 %, thus a higher share of exergy of the inlet exergy\n",
    "  is destroyed in the air stream.\n",
    "\n",
    "Finally, we can check, how thermal exergy changes in case of the air flow and see, that only 0.5 kW of thermal exergy\n",
    "is lost."
   ]
  },
  {
   "cell_type": "code",
   "execution_count": null,
   "metadata": {
    "tags": [
     "hide-cell"
    ]
   },
   "outputs": [],
   "source": [
    "ex_T_in_air - ex_T_out_air[-1]"
   ]
  },
  {
   "cell_type": "markdown",
   "metadata": {},
   "source": [
    "## Lessons Learned\n",
    "\n",
    "- Physical exergy of a mass flow can be splitted into a thermal and a mechanical share.\n",
    "- At the same pressure and temperature, the shares of the exergy depend on the working fluid.\n",
    "- At ambient pressure mechanical exergy is equal to zero."
   ]
  }
 ],
 "metadata": {
  "kernelspec": {
   "display_name": "tespy_opt",
   "language": "python",
   "name": "python3"
  },
  "language_info": {
   "codemirror_mode": {
    "name": "ipython",
    "version": 3
   },
   "file_extension": ".py",
   "mimetype": "text/x-python",
   "name": "python",
   "nbconvert_exporter": "python",
   "pygments_lexer": "ipython3",
   "version": "3.9.13"
  },
  "vscode": {
   "interpreter": {
    "hash": "0f281374b50e679d88fcb4ad29fb1a86aa2bf4771de933c7e1627fe937943f09"
   }
  },
  "widgets": {
   "application/vnd.jupyter.widget-state+json": {
    "state": {},
    "version_major": 2,
    "version_minor": 0
   }
  }
 },
 "nbformat": 4,
 "nbformat_minor": 4
}
